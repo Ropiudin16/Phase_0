{
  "nbformat": 4,
  "nbformat_minor": 0,
  "metadata": {
    "colab": {
      "provenance": [],
      "collapsed_sections": [
        "KaoeZRMbaRwK"
      ]
    },
    "kernelspec": {
      "name": "python3",
      "display_name": "Python 3"
    },
    "language_info": {
      "name": "python"
    }
  },
  "cells": [
    {
      "cell_type": "markdown",
      "source": [
        "# **Live Code 2**\n",
        "### **HACTIV8 Full Time Data Science Phase 0**"
      ],
      "metadata": {
        "id": "tuYfm14daKZy"
      }
    },
    {
      "cell_type": "markdown",
      "source": [
        "# **1. Perkenalan** "
      ],
      "metadata": {
        "id": "KaoeZRMbaRwK"
      }
    },
    {
      "cell_type": "markdown",
      "source": [
        "## **1.1 Identitas**\n",
        "\n",
        "> Nama  : Ropiudin\n",
        "\n",
        "> Batch : FTDS OO2-HCK\n",
        "\n",
        "> Live Code : Live Code 2"
      ],
      "metadata": {
        "id": "SpDyzAhNaifw"
      }
    },
    {
      "cell_type": "markdown",
      "source": [
        "# **2 Problem Statement**\n",
        "\n",
        "> **Problem 1**\n",
        "> 1. Apakah kedua rumah mirip? jika iya, mengapa dan jika tidak, mengapa (jawab berdasarkan hasil perhitungan cosine similaritynya)? Dan keputusan yang akhirnya kamu pilih, rumah 1 atau rumah 2? apa pertimbangannya?\n",
        "> 2. Jika meninjau dua buah vektor dan dihitung cosine similaritynya (cos theta), jelaskan secara singkat, jelas, padat apa makna cosine similarity yang bernilai 0 dan 1 (tinjau dari posisi dua vektor di koordinat kartesian)?\n",
        "> 3. Mengapa cosine similarity harus melibatkan vektor bukan matriks?\n",
        "\n",
        "> **Problem 2**\n",
        "> 1. Berapa rata-rata, median, dan modus dari data tersebut sebelum dihilangkan outliernya? Bagaimana kecerendungan pemusatan datanya? jelaskan jawabanmu!\n",
        "> 2. Sebelum melakukan extreme value analysis, kamu harus melakukan pengecekan skewness dari distribusi datanya. Apakah datanya skew atau normal? jelaskan jawabanmu!\n",
        "> 3. Ada dua teknik untuk melakukan extreme value analysis, teknik yang mana yang kamu pakai? berikan alasanmu berdasarkan data!"
      ],
      "metadata": {
        "id": "pEdhNMIVayD0"
      }
    },
    {
      "cell_type": "markdown",
      "source": [
        "# **3. Pustaka yang digunakan** \n",
        "> Pada Live Code ini, saya menggunakan 2 *library* yaitu pandas dan matplotlib"
      ],
      "metadata": {
        "id": "psfZOlzYbhAM"
      }
    },
    {
      "cell_type": "code",
      "execution_count": 111,
      "metadata": {
        "id": "mqqinGbPYGaY"
      },
      "outputs": [],
      "source": [
        "import pandas as pd\n",
        "import numpy as np\n",
        "import scipy.stats as stats\n",
        "import matplotlib.pyplot as plt"
      ]
    },
    {
      "cell_type": "markdown",
      "source": [
        "# **4. Data Loading** "
      ],
      "metadata": {
        "id": "AEI9j95Ab3W2"
      }
    },
    {
      "cell_type": "markdown",
      "source": [
        "## **Problem 1**"
      ],
      "metadata": {
        "id": "t2moQiGtg2Yk"
      }
    },
    {
      "cell_type": "code",
      "source": [
        "def plot_vector2d(vector2d, origin=[0, 0], **options):\n",
        "    return plt.arrow(origin[0], origin[1], vector2d[0], vector2d[1],\n",
        "              head_width=0.2, head_length=0.3, length_includes_head=True,\n",
        "              **options)"
      ],
      "metadata": {
        "id": "wcWkpEsfcBDm"
      },
      "execution_count": 112,
      "outputs": []
    },
    {
      "cell_type": "code",
      "source": [
        "v_rumah1 = np.array([100,240, 3, 3, 2, 0, 1, 1])\n",
        "v_rumah2 = np.array([120, 200, 2, 2, 2, 1, 1, 1])"
      ],
      "metadata": {
        "id": "wufxhXg8dWCk"
      },
      "execution_count": 113,
      "outputs": []
    },
    {
      "cell_type": "markdown",
      "source": [
        "> Code di atas merupakan code untuk merepresentasikan data menjadi sebuah vector, dimana disetiap elemen pada vector diatas merupakan nilai dari setiap kolom pada tabel"
      ],
      "metadata": {
        "id": "uwpGWAx9tSXy"
      }
    },
    {
      "cell_type": "code",
      "source": [
        "v_rumah1"
      ],
      "metadata": {
        "colab": {
          "base_uri": "https://localhost:8080/"
        },
        "id": "4vIv_ZMIeg9o",
        "outputId": "64ea674d-2ffd-4f98-f05b-d08ce1c01d6d"
      },
      "execution_count": 114,
      "outputs": [
        {
          "output_type": "execute_result",
          "data": {
            "text/plain": [
              "array([100, 240,   3,   3,   2,   0,   1,   1])"
            ]
          },
          "metadata": {},
          "execution_count": 114
        }
      ]
    },
    {
      "cell_type": "code",
      "source": [
        "v_rumah2"
      ],
      "metadata": {
        "colab": {
          "base_uri": "https://localhost:8080/"
        },
        "id": "QAT6-0noejf5",
        "outputId": "746bf8f1-d205-4906-c94f-46652f738975"
      },
      "execution_count": 115,
      "outputs": [
        {
          "output_type": "execute_result",
          "data": {
            "text/plain": [
              "array([120, 200,   2,   2,   2,   1,   1,   1])"
            ]
          },
          "metadata": {},
          "execution_count": 115
        }
      ]
    },
    {
      "cell_type": "markdown",
      "source": [
        "## **Problem 2**"
      ],
      "metadata": {
        "id": "cFolN82mhB4P"
      }
    },
    {
      "cell_type": "markdown",
      "source": [
        "Pada Live Code ini, SQL Query yang di gunakan untuk mengakses datanya adalah sebagai berikut:\n",
        "\n",
        "SELECT price,\n",
        "      operation,\n",
        "      property_type\n",
        "FROM `bigquery-public-data.properati_properties_ar.properties_rent_201501`\n",
        "WHERE operation = 'rent' AND property_type = 'apartment'"
      ],
      "metadata": {
        "id": "IT_hu062syg6"
      }
    },
    {
      "cell_type": "code",
      "source": [
        "df = pd.read_csv('h8dsft_P0LC3_Ropiudin.csv')\n",
        "df"
      ],
      "metadata": {
        "colab": {
          "base_uri": "https://localhost:8080/",
          "height": 423
        },
        "id": "XzzP9WY3k7xI",
        "outputId": "317b59ed-22b9-4928-f1c7-af7f1f3144bb"
      },
      "execution_count": 116,
      "outputs": [
        {
          "output_type": "execute_result",
          "data": {
            "text/plain": [
              "       price operation property_type\n",
              "0     2500.0      rent     apartment\n",
              "1     3500.0      rent     apartment\n",
              "2     2850.0      rent     apartment\n",
              "3     1850.0      rent     apartment\n",
              "4     1000.0      rent     apartment\n",
              "...      ...       ...           ...\n",
              "1767   500.0      rent     apartment\n",
              "1768   500.0      rent     apartment\n",
              "1769   500.0      rent     apartment\n",
              "1770   500.0      rent     apartment\n",
              "1771   500.0      rent     apartment\n",
              "\n",
              "[1772 rows x 3 columns]"
            ],
            "text/html": [
              "\n",
              "  <div id=\"df-5fbffa8b-6229-4065-9973-5ab2a83bc11d\">\n",
              "    <div class=\"colab-df-container\">\n",
              "      <div>\n",
              "<style scoped>\n",
              "    .dataframe tbody tr th:only-of-type {\n",
              "        vertical-align: middle;\n",
              "    }\n",
              "\n",
              "    .dataframe tbody tr th {\n",
              "        vertical-align: top;\n",
              "    }\n",
              "\n",
              "    .dataframe thead th {\n",
              "        text-align: right;\n",
              "    }\n",
              "</style>\n",
              "<table border=\"1\" class=\"dataframe\">\n",
              "  <thead>\n",
              "    <tr style=\"text-align: right;\">\n",
              "      <th></th>\n",
              "      <th>price</th>\n",
              "      <th>operation</th>\n",
              "      <th>property_type</th>\n",
              "    </tr>\n",
              "  </thead>\n",
              "  <tbody>\n",
              "    <tr>\n",
              "      <th>0</th>\n",
              "      <td>2500.0</td>\n",
              "      <td>rent</td>\n",
              "      <td>apartment</td>\n",
              "    </tr>\n",
              "    <tr>\n",
              "      <th>1</th>\n",
              "      <td>3500.0</td>\n",
              "      <td>rent</td>\n",
              "      <td>apartment</td>\n",
              "    </tr>\n",
              "    <tr>\n",
              "      <th>2</th>\n",
              "      <td>2850.0</td>\n",
              "      <td>rent</td>\n",
              "      <td>apartment</td>\n",
              "    </tr>\n",
              "    <tr>\n",
              "      <th>3</th>\n",
              "      <td>1850.0</td>\n",
              "      <td>rent</td>\n",
              "      <td>apartment</td>\n",
              "    </tr>\n",
              "    <tr>\n",
              "      <th>4</th>\n",
              "      <td>1000.0</td>\n",
              "      <td>rent</td>\n",
              "      <td>apartment</td>\n",
              "    </tr>\n",
              "    <tr>\n",
              "      <th>...</th>\n",
              "      <td>...</td>\n",
              "      <td>...</td>\n",
              "      <td>...</td>\n",
              "    </tr>\n",
              "    <tr>\n",
              "      <th>1767</th>\n",
              "      <td>500.0</td>\n",
              "      <td>rent</td>\n",
              "      <td>apartment</td>\n",
              "    </tr>\n",
              "    <tr>\n",
              "      <th>1768</th>\n",
              "      <td>500.0</td>\n",
              "      <td>rent</td>\n",
              "      <td>apartment</td>\n",
              "    </tr>\n",
              "    <tr>\n",
              "      <th>1769</th>\n",
              "      <td>500.0</td>\n",
              "      <td>rent</td>\n",
              "      <td>apartment</td>\n",
              "    </tr>\n",
              "    <tr>\n",
              "      <th>1770</th>\n",
              "      <td>500.0</td>\n",
              "      <td>rent</td>\n",
              "      <td>apartment</td>\n",
              "    </tr>\n",
              "    <tr>\n",
              "      <th>1771</th>\n",
              "      <td>500.0</td>\n",
              "      <td>rent</td>\n",
              "      <td>apartment</td>\n",
              "    </tr>\n",
              "  </tbody>\n",
              "</table>\n",
              "<p>1772 rows × 3 columns</p>\n",
              "</div>\n",
              "      <button class=\"colab-df-convert\" onclick=\"convertToInteractive('df-5fbffa8b-6229-4065-9973-5ab2a83bc11d')\"\n",
              "              title=\"Convert this dataframe to an interactive table.\"\n",
              "              style=\"display:none;\">\n",
              "        \n",
              "  <svg xmlns=\"http://www.w3.org/2000/svg\" height=\"24px\"viewBox=\"0 0 24 24\"\n",
              "       width=\"24px\">\n",
              "    <path d=\"M0 0h24v24H0V0z\" fill=\"none\"/>\n",
              "    <path d=\"M18.56 5.44l.94 2.06.94-2.06 2.06-.94-2.06-.94-.94-2.06-.94 2.06-2.06.94zm-11 1L8.5 8.5l.94-2.06 2.06-.94-2.06-.94L8.5 2.5l-.94 2.06-2.06.94zm10 10l.94 2.06.94-2.06 2.06-.94-2.06-.94-.94-2.06-.94 2.06-2.06.94z\"/><path d=\"M17.41 7.96l-1.37-1.37c-.4-.4-.92-.59-1.43-.59-.52 0-1.04.2-1.43.59L10.3 9.45l-7.72 7.72c-.78.78-.78 2.05 0 2.83L4 21.41c.39.39.9.59 1.41.59.51 0 1.02-.2 1.41-.59l7.78-7.78 2.81-2.81c.8-.78.8-2.07 0-2.86zM5.41 20L4 18.59l7.72-7.72 1.47 1.35L5.41 20z\"/>\n",
              "  </svg>\n",
              "      </button>\n",
              "      \n",
              "  <style>\n",
              "    .colab-df-container {\n",
              "      display:flex;\n",
              "      flex-wrap:wrap;\n",
              "      gap: 12px;\n",
              "    }\n",
              "\n",
              "    .colab-df-convert {\n",
              "      background-color: #E8F0FE;\n",
              "      border: none;\n",
              "      border-radius: 50%;\n",
              "      cursor: pointer;\n",
              "      display: none;\n",
              "      fill: #1967D2;\n",
              "      height: 32px;\n",
              "      padding: 0 0 0 0;\n",
              "      width: 32px;\n",
              "    }\n",
              "\n",
              "    .colab-df-convert:hover {\n",
              "      background-color: #E2EBFA;\n",
              "      box-shadow: 0px 1px 2px rgba(60, 64, 67, 0.3), 0px 1px 3px 1px rgba(60, 64, 67, 0.15);\n",
              "      fill: #174EA6;\n",
              "    }\n",
              "\n",
              "    [theme=dark] .colab-df-convert {\n",
              "      background-color: #3B4455;\n",
              "      fill: #D2E3FC;\n",
              "    }\n",
              "\n",
              "    [theme=dark] .colab-df-convert:hover {\n",
              "      background-color: #434B5C;\n",
              "      box-shadow: 0px 1px 3px 1px rgba(0, 0, 0, 0.15);\n",
              "      filter: drop-shadow(0px 1px 2px rgba(0, 0, 0, 0.3));\n",
              "      fill: #FFFFFF;\n",
              "    }\n",
              "  </style>\n",
              "\n",
              "      <script>\n",
              "        const buttonEl =\n",
              "          document.querySelector('#df-5fbffa8b-6229-4065-9973-5ab2a83bc11d button.colab-df-convert');\n",
              "        buttonEl.style.display =\n",
              "          google.colab.kernel.accessAllowed ? 'block' : 'none';\n",
              "\n",
              "        async function convertToInteractive(key) {\n",
              "          const element = document.querySelector('#df-5fbffa8b-6229-4065-9973-5ab2a83bc11d');\n",
              "          const dataTable =\n",
              "            await google.colab.kernel.invokeFunction('convertToInteractive',\n",
              "                                                     [key], {});\n",
              "          if (!dataTable) return;\n",
              "\n",
              "          const docLinkHtml = 'Like what you see? Visit the ' +\n",
              "            '<a target=\"_blank\" href=https://colab.research.google.com/notebooks/data_table.ipynb>data table notebook</a>'\n",
              "            + ' to learn more about interactive tables.';\n",
              "          element.innerHTML = '';\n",
              "          dataTable['output_type'] = 'display_data';\n",
              "          await google.colab.output.renderOutput(dataTable, element);\n",
              "          const docLink = document.createElement('div');\n",
              "          docLink.innerHTML = docLinkHtml;\n",
              "          element.appendChild(docLink);\n",
              "        }\n",
              "      </script>\n",
              "    </div>\n",
              "  </div>\n",
              "  "
            ]
          },
          "metadata": {},
          "execution_count": 116
        }
      ]
    },
    {
      "cell_type": "markdown",
      "source": [
        "> Code di atas merupakan code untuk import data atau membaca data dari tabel yang akan digunakan"
      ],
      "metadata": {
        "id": "SZdpSojQtDFh"
      }
    },
    {
      "cell_type": "code",
      "source": [
        "df.head()"
      ],
      "metadata": {
        "colab": {
          "base_uri": "https://localhost:8080/",
          "height": 206
        },
        "id": "sACPA2TylaAh",
        "outputId": "79023e7d-9847-4185-9ea8-a43f7fedd84b"
      },
      "execution_count": 117,
      "outputs": [
        {
          "output_type": "execute_result",
          "data": {
            "text/plain": [
              "    price operation property_type\n",
              "0  2500.0      rent     apartment\n",
              "1  3500.0      rent     apartment\n",
              "2  2850.0      rent     apartment\n",
              "3  1850.0      rent     apartment\n",
              "4  1000.0      rent     apartment"
            ],
            "text/html": [
              "\n",
              "  <div id=\"df-64e73910-6fe3-449e-9e92-c81950e5ec03\">\n",
              "    <div class=\"colab-df-container\">\n",
              "      <div>\n",
              "<style scoped>\n",
              "    .dataframe tbody tr th:only-of-type {\n",
              "        vertical-align: middle;\n",
              "    }\n",
              "\n",
              "    .dataframe tbody tr th {\n",
              "        vertical-align: top;\n",
              "    }\n",
              "\n",
              "    .dataframe thead th {\n",
              "        text-align: right;\n",
              "    }\n",
              "</style>\n",
              "<table border=\"1\" class=\"dataframe\">\n",
              "  <thead>\n",
              "    <tr style=\"text-align: right;\">\n",
              "      <th></th>\n",
              "      <th>price</th>\n",
              "      <th>operation</th>\n",
              "      <th>property_type</th>\n",
              "    </tr>\n",
              "  </thead>\n",
              "  <tbody>\n",
              "    <tr>\n",
              "      <th>0</th>\n",
              "      <td>2500.0</td>\n",
              "      <td>rent</td>\n",
              "      <td>apartment</td>\n",
              "    </tr>\n",
              "    <tr>\n",
              "      <th>1</th>\n",
              "      <td>3500.0</td>\n",
              "      <td>rent</td>\n",
              "      <td>apartment</td>\n",
              "    </tr>\n",
              "    <tr>\n",
              "      <th>2</th>\n",
              "      <td>2850.0</td>\n",
              "      <td>rent</td>\n",
              "      <td>apartment</td>\n",
              "    </tr>\n",
              "    <tr>\n",
              "      <th>3</th>\n",
              "      <td>1850.0</td>\n",
              "      <td>rent</td>\n",
              "      <td>apartment</td>\n",
              "    </tr>\n",
              "    <tr>\n",
              "      <th>4</th>\n",
              "      <td>1000.0</td>\n",
              "      <td>rent</td>\n",
              "      <td>apartment</td>\n",
              "    </tr>\n",
              "  </tbody>\n",
              "</table>\n",
              "</div>\n",
              "      <button class=\"colab-df-convert\" onclick=\"convertToInteractive('df-64e73910-6fe3-449e-9e92-c81950e5ec03')\"\n",
              "              title=\"Convert this dataframe to an interactive table.\"\n",
              "              style=\"display:none;\">\n",
              "        \n",
              "  <svg xmlns=\"http://www.w3.org/2000/svg\" height=\"24px\"viewBox=\"0 0 24 24\"\n",
              "       width=\"24px\">\n",
              "    <path d=\"M0 0h24v24H0V0z\" fill=\"none\"/>\n",
              "    <path d=\"M18.56 5.44l.94 2.06.94-2.06 2.06-.94-2.06-.94-.94-2.06-.94 2.06-2.06.94zm-11 1L8.5 8.5l.94-2.06 2.06-.94-2.06-.94L8.5 2.5l-.94 2.06-2.06.94zm10 10l.94 2.06.94-2.06 2.06-.94-2.06-.94-.94-2.06-.94 2.06-2.06.94z\"/><path d=\"M17.41 7.96l-1.37-1.37c-.4-.4-.92-.59-1.43-.59-.52 0-1.04.2-1.43.59L10.3 9.45l-7.72 7.72c-.78.78-.78 2.05 0 2.83L4 21.41c.39.39.9.59 1.41.59.51 0 1.02-.2 1.41-.59l7.78-7.78 2.81-2.81c.8-.78.8-2.07 0-2.86zM5.41 20L4 18.59l7.72-7.72 1.47 1.35L5.41 20z\"/>\n",
              "  </svg>\n",
              "      </button>\n",
              "      \n",
              "  <style>\n",
              "    .colab-df-container {\n",
              "      display:flex;\n",
              "      flex-wrap:wrap;\n",
              "      gap: 12px;\n",
              "    }\n",
              "\n",
              "    .colab-df-convert {\n",
              "      background-color: #E8F0FE;\n",
              "      border: none;\n",
              "      border-radius: 50%;\n",
              "      cursor: pointer;\n",
              "      display: none;\n",
              "      fill: #1967D2;\n",
              "      height: 32px;\n",
              "      padding: 0 0 0 0;\n",
              "      width: 32px;\n",
              "    }\n",
              "\n",
              "    .colab-df-convert:hover {\n",
              "      background-color: #E2EBFA;\n",
              "      box-shadow: 0px 1px 2px rgba(60, 64, 67, 0.3), 0px 1px 3px 1px rgba(60, 64, 67, 0.15);\n",
              "      fill: #174EA6;\n",
              "    }\n",
              "\n",
              "    [theme=dark] .colab-df-convert {\n",
              "      background-color: #3B4455;\n",
              "      fill: #D2E3FC;\n",
              "    }\n",
              "\n",
              "    [theme=dark] .colab-df-convert:hover {\n",
              "      background-color: #434B5C;\n",
              "      box-shadow: 0px 1px 3px 1px rgba(0, 0, 0, 0.15);\n",
              "      filter: drop-shadow(0px 1px 2px rgba(0, 0, 0, 0.3));\n",
              "      fill: #FFFFFF;\n",
              "    }\n",
              "  </style>\n",
              "\n",
              "      <script>\n",
              "        const buttonEl =\n",
              "          document.querySelector('#df-64e73910-6fe3-449e-9e92-c81950e5ec03 button.colab-df-convert');\n",
              "        buttonEl.style.display =\n",
              "          google.colab.kernel.accessAllowed ? 'block' : 'none';\n",
              "\n",
              "        async function convertToInteractive(key) {\n",
              "          const element = document.querySelector('#df-64e73910-6fe3-449e-9e92-c81950e5ec03');\n",
              "          const dataTable =\n",
              "            await google.colab.kernel.invokeFunction('convertToInteractive',\n",
              "                                                     [key], {});\n",
              "          if (!dataTable) return;\n",
              "\n",
              "          const docLinkHtml = 'Like what you see? Visit the ' +\n",
              "            '<a target=\"_blank\" href=https://colab.research.google.com/notebooks/data_table.ipynb>data table notebook</a>'\n",
              "            + ' to learn more about interactive tables.';\n",
              "          element.innerHTML = '';\n",
              "          dataTable['output_type'] = 'display_data';\n",
              "          await google.colab.output.renderOutput(dataTable, element);\n",
              "          const docLink = document.createElement('div');\n",
              "          docLink.innerHTML = docLinkHtml;\n",
              "          element.appendChild(docLink);\n",
              "        }\n",
              "      </script>\n",
              "    </div>\n",
              "  </div>\n",
              "  "
            ]
          },
          "metadata": {},
          "execution_count": 117
        }
      ]
    },
    {
      "cell_type": "markdown",
      "source": [
        "> Code df.head() di atas merupakan code untuk menampilkan tabel teratas yang bisa di tentukan jumlah baris yang mau di tampilkan pada variabel df"
      ],
      "metadata": {
        "id": "ry-4xbfBt4Ki"
      }
    },
    {
      "cell_type": "code",
      "source": [
        "df.tail()"
      ],
      "metadata": {
        "colab": {
          "base_uri": "https://localhost:8080/",
          "height": 206
        },
        "id": "Hn0LS31hlege",
        "outputId": "e4ba3f87-8116-489e-ae14-398a3fa82b26"
      },
      "execution_count": 118,
      "outputs": [
        {
          "output_type": "execute_result",
          "data": {
            "text/plain": [
              "      price operation property_type\n",
              "1767  500.0      rent     apartment\n",
              "1768  500.0      rent     apartment\n",
              "1769  500.0      rent     apartment\n",
              "1770  500.0      rent     apartment\n",
              "1771  500.0      rent     apartment"
            ],
            "text/html": [
              "\n",
              "  <div id=\"df-8fc63e19-2b4c-4886-8bfb-4998a1a9bd18\">\n",
              "    <div class=\"colab-df-container\">\n",
              "      <div>\n",
              "<style scoped>\n",
              "    .dataframe tbody tr th:only-of-type {\n",
              "        vertical-align: middle;\n",
              "    }\n",
              "\n",
              "    .dataframe tbody tr th {\n",
              "        vertical-align: top;\n",
              "    }\n",
              "\n",
              "    .dataframe thead th {\n",
              "        text-align: right;\n",
              "    }\n",
              "</style>\n",
              "<table border=\"1\" class=\"dataframe\">\n",
              "  <thead>\n",
              "    <tr style=\"text-align: right;\">\n",
              "      <th></th>\n",
              "      <th>price</th>\n",
              "      <th>operation</th>\n",
              "      <th>property_type</th>\n",
              "    </tr>\n",
              "  </thead>\n",
              "  <tbody>\n",
              "    <tr>\n",
              "      <th>1767</th>\n",
              "      <td>500.0</td>\n",
              "      <td>rent</td>\n",
              "      <td>apartment</td>\n",
              "    </tr>\n",
              "    <tr>\n",
              "      <th>1768</th>\n",
              "      <td>500.0</td>\n",
              "      <td>rent</td>\n",
              "      <td>apartment</td>\n",
              "    </tr>\n",
              "    <tr>\n",
              "      <th>1769</th>\n",
              "      <td>500.0</td>\n",
              "      <td>rent</td>\n",
              "      <td>apartment</td>\n",
              "    </tr>\n",
              "    <tr>\n",
              "      <th>1770</th>\n",
              "      <td>500.0</td>\n",
              "      <td>rent</td>\n",
              "      <td>apartment</td>\n",
              "    </tr>\n",
              "    <tr>\n",
              "      <th>1771</th>\n",
              "      <td>500.0</td>\n",
              "      <td>rent</td>\n",
              "      <td>apartment</td>\n",
              "    </tr>\n",
              "  </tbody>\n",
              "</table>\n",
              "</div>\n",
              "      <button class=\"colab-df-convert\" onclick=\"convertToInteractive('df-8fc63e19-2b4c-4886-8bfb-4998a1a9bd18')\"\n",
              "              title=\"Convert this dataframe to an interactive table.\"\n",
              "              style=\"display:none;\">\n",
              "        \n",
              "  <svg xmlns=\"http://www.w3.org/2000/svg\" height=\"24px\"viewBox=\"0 0 24 24\"\n",
              "       width=\"24px\">\n",
              "    <path d=\"M0 0h24v24H0V0z\" fill=\"none\"/>\n",
              "    <path d=\"M18.56 5.44l.94 2.06.94-2.06 2.06-.94-2.06-.94-.94-2.06-.94 2.06-2.06.94zm-11 1L8.5 8.5l.94-2.06 2.06-.94-2.06-.94L8.5 2.5l-.94 2.06-2.06.94zm10 10l.94 2.06.94-2.06 2.06-.94-2.06-.94-.94-2.06-.94 2.06-2.06.94z\"/><path d=\"M17.41 7.96l-1.37-1.37c-.4-.4-.92-.59-1.43-.59-.52 0-1.04.2-1.43.59L10.3 9.45l-7.72 7.72c-.78.78-.78 2.05 0 2.83L4 21.41c.39.39.9.59 1.41.59.51 0 1.02-.2 1.41-.59l7.78-7.78 2.81-2.81c.8-.78.8-2.07 0-2.86zM5.41 20L4 18.59l7.72-7.72 1.47 1.35L5.41 20z\"/>\n",
              "  </svg>\n",
              "      </button>\n",
              "      \n",
              "  <style>\n",
              "    .colab-df-container {\n",
              "      display:flex;\n",
              "      flex-wrap:wrap;\n",
              "      gap: 12px;\n",
              "    }\n",
              "\n",
              "    .colab-df-convert {\n",
              "      background-color: #E8F0FE;\n",
              "      border: none;\n",
              "      border-radius: 50%;\n",
              "      cursor: pointer;\n",
              "      display: none;\n",
              "      fill: #1967D2;\n",
              "      height: 32px;\n",
              "      padding: 0 0 0 0;\n",
              "      width: 32px;\n",
              "    }\n",
              "\n",
              "    .colab-df-convert:hover {\n",
              "      background-color: #E2EBFA;\n",
              "      box-shadow: 0px 1px 2px rgba(60, 64, 67, 0.3), 0px 1px 3px 1px rgba(60, 64, 67, 0.15);\n",
              "      fill: #174EA6;\n",
              "    }\n",
              "\n",
              "    [theme=dark] .colab-df-convert {\n",
              "      background-color: #3B4455;\n",
              "      fill: #D2E3FC;\n",
              "    }\n",
              "\n",
              "    [theme=dark] .colab-df-convert:hover {\n",
              "      background-color: #434B5C;\n",
              "      box-shadow: 0px 1px 3px 1px rgba(0, 0, 0, 0.15);\n",
              "      filter: drop-shadow(0px 1px 2px rgba(0, 0, 0, 0.3));\n",
              "      fill: #FFFFFF;\n",
              "    }\n",
              "  </style>\n",
              "\n",
              "      <script>\n",
              "        const buttonEl =\n",
              "          document.querySelector('#df-8fc63e19-2b4c-4886-8bfb-4998a1a9bd18 button.colab-df-convert');\n",
              "        buttonEl.style.display =\n",
              "          google.colab.kernel.accessAllowed ? 'block' : 'none';\n",
              "\n",
              "        async function convertToInteractive(key) {\n",
              "          const element = document.querySelector('#df-8fc63e19-2b4c-4886-8bfb-4998a1a9bd18');\n",
              "          const dataTable =\n",
              "            await google.colab.kernel.invokeFunction('convertToInteractive',\n",
              "                                                     [key], {});\n",
              "          if (!dataTable) return;\n",
              "\n",
              "          const docLinkHtml = 'Like what you see? Visit the ' +\n",
              "            '<a target=\"_blank\" href=https://colab.research.google.com/notebooks/data_table.ipynb>data table notebook</a>'\n",
              "            + ' to learn more about interactive tables.';\n",
              "          element.innerHTML = '';\n",
              "          dataTable['output_type'] = 'display_data';\n",
              "          await google.colab.output.renderOutput(dataTable, element);\n",
              "          const docLink = document.createElement('div');\n",
              "          docLink.innerHTML = docLinkHtml;\n",
              "          element.appendChild(docLink);\n",
              "        }\n",
              "      </script>\n",
              "    </div>\n",
              "  </div>\n",
              "  "
            ]
          },
          "metadata": {},
          "execution_count": 118
        }
      ]
    },
    {
      "cell_type": "markdown",
      "source": [
        "> Code df.tail() di atas merupakan code untuk menampilkan tabel terbawah yang bisa di tentukan jumlah baris yang mau di tampilkan pada variabel df"
      ],
      "metadata": {
        "id": "fSRasbL1t9NV"
      }
    },
    {
      "cell_type": "code",
      "source": [
        "df.info()"
      ],
      "metadata": {
        "colab": {
          "base_uri": "https://localhost:8080/"
        },
        "id": "fK1knVT2ljlA",
        "outputId": "abedbbec-1128-43ff-a1d2-5f2ae62b02b6"
      },
      "execution_count": 119,
      "outputs": [
        {
          "output_type": "stream",
          "name": "stdout",
          "text": [
            "<class 'pandas.core.frame.DataFrame'>\n",
            "RangeIndex: 1772 entries, 0 to 1771\n",
            "Data columns (total 3 columns):\n",
            " #   Column         Non-Null Count  Dtype  \n",
            "---  ------         --------------  -----  \n",
            " 0   price          1658 non-null   float64\n",
            " 1   operation      1772 non-null   object \n",
            " 2   property_type  1772 non-null   object \n",
            "dtypes: float64(1), object(2)\n",
            "memory usage: 41.7+ KB\n"
          ]
        }
      ]
    },
    {
      "cell_type": "markdown",
      "source": [
        "> Code df.info() merupakan code untuk menampil kan informasi terkait data yang kita punya, yang berisikan jumlah baris dan kolom pada data serta nama - nama kolom yang terdapat pada data. Dan terdapat pula informasi missing values di setiap kolom pada data. \n",
        "\n",
        "> Pada kolom price jumlah barisnya tidak sama dengan jumlah baris pada data, yang berarti pada kolom price terdapat missing value"
      ],
      "metadata": {
        "id": "R-_OaFuduOx8"
      }
    },
    {
      "cell_type": "code",
      "source": [
        "df.isnull().sum()"
      ],
      "metadata": {
        "colab": {
          "base_uri": "https://localhost:8080/"
        },
        "id": "kANGOqIwuEP2",
        "outputId": "a4a20cd7-ae5c-4764-872c-2c3dbbe29a86"
      },
      "execution_count": 120,
      "outputs": [
        {
          "output_type": "execute_result",
          "data": {
            "text/plain": [
              "price            114\n",
              "operation          0\n",
              "property_type      0\n",
              "dtype: int64"
            ]
          },
          "metadata": {},
          "execution_count": 120
        }
      ]
    },
    {
      "cell_type": "markdown",
      "source": [
        "> Code df.isnull().sum() di atas merupakan code untuk menampilkan jumlah missing value di setiap kolom yang mana hanya terdapat missing value pada kolom price yaitu sebanyak 114"
      ],
      "metadata": {
        "id": "3hP9C20iuaL6"
      }
    },
    {
      "cell_type": "code",
      "source": [
        "df['price'].fillna(0, inplace=True)"
      ],
      "metadata": {
        "id": "uyFQdfQhl4A7"
      },
      "execution_count": 121,
      "outputs": []
    },
    {
      "cell_type": "markdown",
      "source": [
        "> Code di atas merupakan code untuk merubah missing value di kolom price, perubahan valus harus disesuai kan dengan tipe data pada kolomnya, seperti pada kolom price merubah missing value dangan value 0 karna pada kolom price memiliki tipe data float"
      ],
      "metadata": {
        "id": "hNlpGbFpumPw"
      }
    },
    {
      "cell_type": "code",
      "source": [
        "df.info()"
      ],
      "metadata": {
        "colab": {
          "base_uri": "https://localhost:8080/"
        },
        "id": "dsT9XAq-l_jj",
        "outputId": "d2bae037-b6ae-4471-d933-9302c90e667b"
      },
      "execution_count": 122,
      "outputs": [
        {
          "output_type": "stream",
          "name": "stdout",
          "text": [
            "<class 'pandas.core.frame.DataFrame'>\n",
            "RangeIndex: 1772 entries, 0 to 1771\n",
            "Data columns (total 3 columns):\n",
            " #   Column         Non-Null Count  Dtype  \n",
            "---  ------         --------------  -----  \n",
            " 0   price          1772 non-null   float64\n",
            " 1   operation      1772 non-null   object \n",
            " 2   property_type  1772 non-null   object \n",
            "dtypes: float64(1), object(2)\n",
            "memory usage: 41.7+ KB\n"
          ]
        }
      ]
    },
    {
      "cell_type": "markdown",
      "source": [
        "> Code df.info() untuk menampilkan informasi dan memastikan kembali bahwa di setiap kolom tidak terdapat missing value"
      ],
      "metadata": {
        "id": "M9DLvD-UvFCT"
      }
    },
    {
      "cell_type": "markdown",
      "source": [
        "# **5. Mathematical Calculations**"
      ],
      "metadata": {
        "id": "Ub2lImogcH3X"
      }
    },
    {
      "cell_type": "markdown",
      "source": [
        "## **Problem 1**"
      ],
      "metadata": {
        "id": "85yNkjX9g-Y5"
      }
    },
    {
      "cell_type": "code",
      "source": [
        "v_rumah1 = np.array([100,240, 3, 3, 2, 0, 1, 1])\n",
        "v_rumah2 = np.array([120, 200, 2, 2, 2, 1, 1, 1])\n",
        "\n",
        "plot_vector2d(v_rumah1, color='r')\n",
        "plot_vector2d(v_rumah2, color='g')\n",
        "\n",
        "plt.axis([-250, 250, 0, 300])  \n",
        "plt.axvline(0)              \n",
        "plt.axhline(0)              \n",
        "plt.grid()\n",
        "plt.show()"
      ],
      "metadata": {
        "colab": {
          "base_uri": "https://localhost:8080/",
          "height": 269
        },
        "id": "apv-UPMEdSC2",
        "outputId": "c9b7f063-3b0e-479d-c6b0-ecd8e72b3f4f"
      },
      "execution_count": 123,
      "outputs": [
        {
          "output_type": "display_data",
          "data": {
            "text/plain": [
              "<Figure size 432x288 with 1 Axes>"
            ],
            "image/png": "[encoded data removed]"
          },
          "metadata": {
            "needs_background": "light"
          }
        }
      ]
    },
    {
      "cell_type": "markdown",
      "source": [
        "> Code di atas merupakan code untuk menampilkan plot dari vector rumah 1 dan vector rumah 2, yang mana berdasarkan hasil plot di atas terlihat bahwa vector rumah 1 dan vector rumah 2 memiliki sudut yang kecil, yang artinya antara vector rumah 1 dan vector rumah 2 kemungkinan memiliki kemiripan\n",
        "\n",
        "> Untuk mengetahui kemiripan antara kedua vector dapat di ketahui dengan melihat cosine similarity"
      ],
      "metadata": {
        "id": "ENfOGaj_vh3u"
      }
    },
    {
      "cell_type": "code",
      "source": [
        "cos_theta = v_rumah1 @ v_rumah2 / (np.linalg.norm(v_rumah1) * np.linalg.norm(v_rumah2))\n",
        "cos_theta"
      ],
      "metadata": {
        "colab": {
          "base_uri": "https://localhost:8080/"
        },
        "id": "GUAL33E-e8XB",
        "outputId": "5b0910bf-5bfb-43b9-f38b-dcd6a609f73d"
      },
      "execution_count": 124,
      "outputs": [
        {
          "output_type": "execute_result",
          "data": {
            "text/plain": [
              "0.9893997002438046"
            ]
          },
          "metadata": {},
          "execution_count": 124
        }
      ]
    },
    {
      "cell_type": "markdown",
      "source": [
        "> Code di atas merupakan code untuk melihat nilai dari cosine similarity atau nilai dari cos theta dari kedua vector, yang mana jika cos theta bernilai 0 yang berarti memiliki sudut 90 derajat, sehingga dapat disimpulkan dari kedua vector tidak ada kemiripan dan jika cos theta bernilai 1 yang berarti memilik sudut 0 derajat dapat disimpulkan bahwa kedua vektor terdapat kemiripan atau identik sama\n",
        "\n",
        "> Dari hasil diatas diketahu bahwa nilai cos theta sebesar 0.9893997002438046 yang dapat di artikan bahwa antara vector rumah 1 dan vector rumah 2 sangat mirip"
      ],
      "metadata": {
        "id": "MDXJe7k8v-K8"
      }
    },
    {
      "cell_type": "code",
      "source": [
        "# convert to radian\n",
        "rad = np.arccos(cos_theta)\n",
        "rad"
      ],
      "metadata": {
        "colab": {
          "base_uri": "https://localhost:8080/"
        },
        "id": "OqPGWv-BfgQE",
        "outputId": "66391fe1-d4da-4baa-8457-86aff8c64d3b"
      },
      "execution_count": 125,
      "outputs": [
        {
          "output_type": "execute_result",
          "data": {
            "text/plain": [
              "0.14573318497588464"
            ]
          },
          "metadata": {},
          "execution_count": 125
        }
      ]
    },
    {
      "cell_type": "code",
      "source": [
        "# convert to degree\n",
        "degree = np.degrees(rad)\n",
        "degree"
      ],
      "metadata": {
        "colab": {
          "base_uri": "https://localhost:8080/"
        },
        "id": "Zj4ZXAu4fhfw",
        "outputId": "7d7590bd-3226-4c2f-dd9a-f11cf9caeac0"
      },
      "execution_count": 126,
      "outputs": [
        {
          "output_type": "execute_result",
          "data": {
            "text/plain": [
              "8.349896434117527"
            ]
          },
          "metadata": {},
          "execution_count": 126
        }
      ]
    },
    {
      "cell_type": "markdown",
      "source": [
        "> Kita juga dapat mengetahu berapa derajat sudut yang terbentuk dari ke dua vektor, dari code di atas di peroleh hasil sudut antara vector rumah 1 dan rumah 2 adalah sebesar 8.35 derajat"
      ],
      "metadata": {
        "id": "H1AOrnPcxQbA"
      }
    },
    {
      "cell_type": "markdown",
      "source": [
        "## **Problem 2**"
      ],
      "metadata": {
        "id": "2nf6iSZchEpC"
      }
    },
    {
      "cell_type": "code",
      "source": [
        "df"
      ],
      "metadata": {
        "colab": {
          "base_uri": "https://localhost:8080/",
          "height": 423
        },
        "id": "UBxw-jlpmy6p",
        "outputId": "6c95330d-adc0-4018-fc36-796890fbc99a"
      },
      "execution_count": 127,
      "outputs": [
        {
          "output_type": "execute_result",
          "data": {
            "text/plain": [
              "       price operation property_type\n",
              "0     2500.0      rent     apartment\n",
              "1     3500.0      rent     apartment\n",
              "2     2850.0      rent     apartment\n",
              "3     1850.0      rent     apartment\n",
              "4     1000.0      rent     apartment\n",
              "...      ...       ...           ...\n",
              "1767   500.0      rent     apartment\n",
              "1768   500.0      rent     apartment\n",
              "1769   500.0      rent     apartment\n",
              "1770   500.0      rent     apartment\n",
              "1771   500.0      rent     apartment\n",
              "\n",
              "[1772 rows x 3 columns]"
            ],
            "text/html": [
              "\n",
              "  <div id=\"df-4c830871-f114-40a5-a440-e2976bf39e78\">\n",
              "    <div class=\"colab-df-container\">\n",
              "      <div>\n",
              "<style scoped>\n",
              "    .dataframe tbody tr th:only-of-type {\n",
              "        vertical-align: middle;\n",
              "    }\n",
              "\n",
              "    .dataframe tbody tr th {\n",
              "        vertical-align: top;\n",
              "    }\n",
              "\n",
              "    .dataframe thead th {\n",
              "        text-align: right;\n",
              "    }\n",
              "</style>\n",
              "<table border=\"1\" class=\"dataframe\">\n",
              "  <thead>\n",
              "    <tr style=\"text-align: right;\">\n",
              "      <th></th>\n",
              "      <th>price</th>\n",
              "      <th>operation</th>\n",
              "      <th>property_type</th>\n",
              "    </tr>\n",
              "  </thead>\n",
              "  <tbody>\n",
              "    <tr>\n",
              "      <th>0</th>\n",
              "      <td>2500.0</td>\n",
              "      <td>rent</td>\n",
              "      <td>apartment</td>\n",
              "    </tr>\n",
              "    <tr>\n",
              "      <th>1</th>\n",
              "      <td>3500.0</td>\n",
              "      <td>rent</td>\n",
              "      <td>apartment</td>\n",
              "    </tr>\n",
              "    <tr>\n",
              "      <th>2</th>\n",
              "      <td>2850.0</td>\n",
              "      <td>rent</td>\n",
              "      <td>apartment</td>\n",
              "    </tr>\n",
              "    <tr>\n",
              "      <th>3</th>\n",
              "      <td>1850.0</td>\n",
              "      <td>rent</td>\n",
              "      <td>apartment</td>\n",
              "    </tr>\n",
              "    <tr>\n",
              "      <th>4</th>\n",
              "      <td>1000.0</td>\n",
              "      <td>rent</td>\n",
              "      <td>apartment</td>\n",
              "    </tr>\n",
              "    <tr>\n",
              "      <th>...</th>\n",
              "      <td>...</td>\n",
              "      <td>...</td>\n",
              "      <td>...</td>\n",
              "    </tr>\n",
              "    <tr>\n",
              "      <th>1767</th>\n",
              "      <td>500.0</td>\n",
              "      <td>rent</td>\n",
              "      <td>apartment</td>\n",
              "    </tr>\n",
              "    <tr>\n",
              "      <th>1768</th>\n",
              "      <td>500.0</td>\n",
              "      <td>rent</td>\n",
              "      <td>apartment</td>\n",
              "    </tr>\n",
              "    <tr>\n",
              "      <th>1769</th>\n",
              "      <td>500.0</td>\n",
              "      <td>rent</td>\n",
              "      <td>apartment</td>\n",
              "    </tr>\n",
              "    <tr>\n",
              "      <th>1770</th>\n",
              "      <td>500.0</td>\n",
              "      <td>rent</td>\n",
              "      <td>apartment</td>\n",
              "    </tr>\n",
              "    <tr>\n",
              "      <th>1771</th>\n",
              "      <td>500.0</td>\n",
              "      <td>rent</td>\n",
              "      <td>apartment</td>\n",
              "    </tr>\n",
              "  </tbody>\n",
              "</table>\n",
              "<p>1772 rows × 3 columns</p>\n",
              "</div>\n",
              "      <button class=\"colab-df-convert\" onclick=\"convertToInteractive('df-4c830871-f114-40a5-a440-e2976bf39e78')\"\n",
              "              title=\"Convert this dataframe to an interactive table.\"\n",
              "              style=\"display:none;\">\n",
              "        \n",
              "  <svg xmlns=\"http://www.w3.org/2000/svg\" height=\"24px\"viewBox=\"0 0 24 24\"\n",
              "       width=\"24px\">\n",
              "    <path d=\"M0 0h24v24H0V0z\" fill=\"none\"/>\n",
              "    <path d=\"M18.56 5.44l.94 2.06.94-2.06 2.06-.94-2.06-.94-.94-2.06-.94 2.06-2.06.94zm-11 1L8.5 8.5l.94-2.06 2.06-.94-2.06-.94L8.5 2.5l-.94 2.06-2.06.94zm10 10l.94 2.06.94-2.06 2.06-.94-2.06-.94-.94-2.06-.94 2.06-2.06.94z\"/><path d=\"M17.41 7.96l-1.37-1.37c-.4-.4-.92-.59-1.43-.59-.52 0-1.04.2-1.43.59L10.3 9.45l-7.72 7.72c-.78.78-.78 2.05 0 2.83L4 21.41c.39.39.9.59 1.41.59.51 0 1.02-.2 1.41-.59l7.78-7.78 2.81-2.81c.8-.78.8-2.07 0-2.86zM5.41 20L4 18.59l7.72-7.72 1.47 1.35L5.41 20z\"/>\n",
              "  </svg>\n",
              "      </button>\n",
              "      \n",
              "  <style>\n",
              "    .colab-df-container {\n",
              "      display:flex;\n",
              "      flex-wrap:wrap;\n",
              "      gap: 12px;\n",
              "    }\n",
              "\n",
              "    .colab-df-convert {\n",
              "      background-color: #E8F0FE;\n",
              "      border: none;\n",
              "      border-radius: 50%;\n",
              "      cursor: pointer;\n",
              "      display: none;\n",
              "      fill: #1967D2;\n",
              "      height: 32px;\n",
              "      padding: 0 0 0 0;\n",
              "      width: 32px;\n",
              "    }\n",
              "\n",
              "    .colab-df-convert:hover {\n",
              "      background-color: #E2EBFA;\n",
              "      box-shadow: 0px 1px 2px rgba(60, 64, 67, 0.3), 0px 1px 3px 1px rgba(60, 64, 67, 0.15);\n",
              "      fill: #174EA6;\n",
              "    }\n",
              "\n",
              "    [theme=dark] .colab-df-convert {\n",
              "      background-color: #3B4455;\n",
              "      fill: #D2E3FC;\n",
              "    }\n",
              "\n",
              "    [theme=dark] .colab-df-convert:hover {\n",
              "      background-color: #434B5C;\n",
              "      box-shadow: 0px 1px 3px 1px rgba(0, 0, 0, 0.15);\n",
              "      filter: drop-shadow(0px 1px 2px rgba(0, 0, 0, 0.3));\n",
              "      fill: #FFFFFF;\n",
              "    }\n",
              "  </style>\n",
              "\n",
              "      <script>\n",
              "        const buttonEl =\n",
              "          document.querySelector('#df-4c830871-f114-40a5-a440-e2976bf39e78 button.colab-df-convert');\n",
              "        buttonEl.style.display =\n",
              "          google.colab.kernel.accessAllowed ? 'block' : 'none';\n",
              "\n",
              "        async function convertToInteractive(key) {\n",
              "          const element = document.querySelector('#df-4c830871-f114-40a5-a440-e2976bf39e78');\n",
              "          const dataTable =\n",
              "            await google.colab.kernel.invokeFunction('convertToInteractive',\n",
              "                                                     [key], {});\n",
              "          if (!dataTable) return;\n",
              "\n",
              "          const docLinkHtml = 'Like what you see? Visit the ' +\n",
              "            '<a target=\"_blank\" href=https://colab.research.google.com/notebooks/data_table.ipynb>data table notebook</a>'\n",
              "            + ' to learn more about interactive tables.';\n",
              "          element.innerHTML = '';\n",
              "          dataTable['output_type'] = 'display_data';\n",
              "          await google.colab.output.renderOutput(dataTable, element);\n",
              "          const docLink = document.createElement('div');\n",
              "          docLink.innerHTML = docLinkHtml;\n",
              "          element.appendChild(docLink);\n",
              "        }\n",
              "      </script>\n",
              "    </div>\n",
              "  </div>\n",
              "  "
            ]
          },
          "metadata": {},
          "execution_count": 127
        }
      ]
    },
    {
      "cell_type": "code",
      "source": [
        "df['price'].mean()"
      ],
      "metadata": {
        "colab": {
          "base_uri": "https://localhost:8080/"
        },
        "id": "T9BEIYKMmDu2",
        "outputId": "5c22cc91-81f9-4b18-e64a-77194dfb093c"
      },
      "execution_count": 128,
      "outputs": [
        {
          "output_type": "execute_result",
          "data": {
            "text/plain": [
              "4833.982505643341"
            ]
          },
          "metadata": {},
          "execution_count": 128
        }
      ]
    },
    {
      "cell_type": "markdown",
      "source": [
        "> Code di atas merupakan code untuk melihat rata - rata dari kolom price. Dari hasil diatas di peroleh informasi bahwa nilai rata - rata pada kolom price sebesar 4833.982505643341"
      ],
      "metadata": {
        "id": "QCI8ct3DxvoY"
      }
    },
    {
      "cell_type": "code",
      "source": [
        "df['price'].median()"
      ],
      "metadata": {
        "colab": {
          "base_uri": "https://localhost:8080/"
        },
        "id": "ndk6ZD3wm64c",
        "outputId": "9e6c3808-1a65-4f18-a8c5-27c790e7e459"
      },
      "execution_count": 129,
      "outputs": [
        {
          "output_type": "execute_result",
          "data": {
            "text/plain": [
              "2500.0"
            ]
          },
          "metadata": {},
          "execution_count": 129
        }
      ]
    },
    {
      "cell_type": "markdown",
      "source": [
        "> Code di atas merupakan code untuk melihat median atau nilai tengah yang sudah diurutkan datanya dari data pada kolom price, dari hasil di atas diperoleh informasi bahwa nilai median pada kolom price sebesar 2500.0"
      ],
      "metadata": {
        "id": "5zZIZzCDyGNx"
      }
    },
    {
      "cell_type": "code",
      "source": [
        "df['price'].mode()"
      ],
      "metadata": {
        "colab": {
          "base_uri": "https://localhost:8080/"
        },
        "id": "QxEHeckjnAYG",
        "outputId": "12519845-8660-4648-d116-1f7deac26b2e"
      },
      "execution_count": 130,
      "outputs": [
        {
          "output_type": "execute_result",
          "data": {
            "text/plain": [
              "0    0.0\n",
              "dtype: float64"
            ]
          },
          "metadata": {},
          "execution_count": 130
        }
      ]
    },
    {
      "cell_type": "markdown",
      "source": [
        "> Code di atas merupakan code untuk melihat modus atau data yang sering kali muncul dari dataframe, yang mana dari hasil di atas di peroleh nilai modus 0"
      ],
      "metadata": {
        "id": "HMrzFgvbyaJy"
      }
    },
    {
      "cell_type": "code",
      "source": [
        "df[\n",
        "    (df['price'] == 0)\n",
        "]"
      ],
      "metadata": {
        "colab": {
          "base_uri": "https://localhost:8080/",
          "height": 423
        },
        "id": "wQDiUYdfoe2S",
        "outputId": "25274369-cc95-4fea-e16d-fbfe8526cb86"
      },
      "execution_count": 131,
      "outputs": [
        {
          "output_type": "execute_result",
          "data": {
            "text/plain": [
              "      price operation property_type\n",
              "1193    0.0      rent     apartment\n",
              "1194    0.0      rent     apartment\n",
              "1195    0.0      rent     apartment\n",
              "1196    0.0      rent     apartment\n",
              "1197    0.0      rent     apartment\n",
              "...     ...       ...           ...\n",
              "1755    0.0      rent     apartment\n",
              "1756    0.0      rent     apartment\n",
              "1757    0.0      rent     apartment\n",
              "1758    0.0      rent     apartment\n",
              "1759    0.0      rent     apartment\n",
              "\n",
              "[567 rows x 3 columns]"
            ],
            "text/html": [
              "\n",
              "  <div id=\"df-5b934914-5c42-4fef-b591-506ae36f4cf3\">\n",
              "    <div class=\"colab-df-container\">\n",
              "      <div>\n",
              "<style scoped>\n",
              "    .dataframe tbody tr th:only-of-type {\n",
              "        vertical-align: middle;\n",
              "    }\n",
              "\n",
              "    .dataframe tbody tr th {\n",
              "        vertical-align: top;\n",
              "    }\n",
              "\n",
              "    .dataframe thead th {\n",
              "        text-align: right;\n",
              "    }\n",
              "</style>\n",
              "<table border=\"1\" class=\"dataframe\">\n",
              "  <thead>\n",
              "    <tr style=\"text-align: right;\">\n",
              "      <th></th>\n",
              "      <th>price</th>\n",
              "      <th>operation</th>\n",
              "      <th>property_type</th>\n",
              "    </tr>\n",
              "  </thead>\n",
              "  <tbody>\n",
              "    <tr>\n",
              "      <th>1193</th>\n",
              "      <td>0.0</td>\n",
              "      <td>rent</td>\n",
              "      <td>apartment</td>\n",
              "    </tr>\n",
              "    <tr>\n",
              "      <th>1194</th>\n",
              "      <td>0.0</td>\n",
              "      <td>rent</td>\n",
              "      <td>apartment</td>\n",
              "    </tr>\n",
              "    <tr>\n",
              "      <th>1195</th>\n",
              "      <td>0.0</td>\n",
              "      <td>rent</td>\n",
              "      <td>apartment</td>\n",
              "    </tr>\n",
              "    <tr>\n",
              "      <th>1196</th>\n",
              "      <td>0.0</td>\n",
              "      <td>rent</td>\n",
              "      <td>apartment</td>\n",
              "    </tr>\n",
              "    <tr>\n",
              "      <th>1197</th>\n",
              "      <td>0.0</td>\n",
              "      <td>rent</td>\n",
              "      <td>apartment</td>\n",
              "    </tr>\n",
              "    <tr>\n",
              "      <th>...</th>\n",
              "      <td>...</td>\n",
              "      <td>...</td>\n",
              "      <td>...</td>\n",
              "    </tr>\n",
              "    <tr>\n",
              "      <th>1755</th>\n",
              "      <td>0.0</td>\n",
              "      <td>rent</td>\n",
              "      <td>apartment</td>\n",
              "    </tr>\n",
              "    <tr>\n",
              "      <th>1756</th>\n",
              "      <td>0.0</td>\n",
              "      <td>rent</td>\n",
              "      <td>apartment</td>\n",
              "    </tr>\n",
              "    <tr>\n",
              "      <th>1757</th>\n",
              "      <td>0.0</td>\n",
              "      <td>rent</td>\n",
              "      <td>apartment</td>\n",
              "    </tr>\n",
              "    <tr>\n",
              "      <th>1758</th>\n",
              "      <td>0.0</td>\n",
              "      <td>rent</td>\n",
              "      <td>apartment</td>\n",
              "    </tr>\n",
              "    <tr>\n",
              "      <th>1759</th>\n",
              "      <td>0.0</td>\n",
              "      <td>rent</td>\n",
              "      <td>apartment</td>\n",
              "    </tr>\n",
              "  </tbody>\n",
              "</table>\n",
              "<p>567 rows × 3 columns</p>\n",
              "</div>\n",
              "      <button class=\"colab-df-convert\" onclick=\"convertToInteractive('df-5b934914-5c42-4fef-b591-506ae36f4cf3')\"\n",
              "              title=\"Convert this dataframe to an interactive table.\"\n",
              "              style=\"display:none;\">\n",
              "        \n",
              "  <svg xmlns=\"http://www.w3.org/2000/svg\" height=\"24px\"viewBox=\"0 0 24 24\"\n",
              "       width=\"24px\">\n",
              "    <path d=\"M0 0h24v24H0V0z\" fill=\"none\"/>\n",
              "    <path d=\"M18.56 5.44l.94 2.06.94-2.06 2.06-.94-2.06-.94-.94-2.06-.94 2.06-2.06.94zm-11 1L8.5 8.5l.94-2.06 2.06-.94-2.06-.94L8.5 2.5l-.94 2.06-2.06.94zm10 10l.94 2.06.94-2.06 2.06-.94-2.06-.94-.94-2.06-.94 2.06-2.06.94z\"/><path d=\"M17.41 7.96l-1.37-1.37c-.4-.4-.92-.59-1.43-.59-.52 0-1.04.2-1.43.59L10.3 9.45l-7.72 7.72c-.78.78-.78 2.05 0 2.83L4 21.41c.39.39.9.59 1.41.59.51 0 1.02-.2 1.41-.59l7.78-7.78 2.81-2.81c.8-.78.8-2.07 0-2.86zM5.41 20L4 18.59l7.72-7.72 1.47 1.35L5.41 20z\"/>\n",
              "  </svg>\n",
              "      </button>\n",
              "      \n",
              "  <style>\n",
              "    .colab-df-container {\n",
              "      display:flex;\n",
              "      flex-wrap:wrap;\n",
              "      gap: 12px;\n",
              "    }\n",
              "\n",
              "    .colab-df-convert {\n",
              "      background-color: #E8F0FE;\n",
              "      border: none;\n",
              "      border-radius: 50%;\n",
              "      cursor: pointer;\n",
              "      display: none;\n",
              "      fill: #1967D2;\n",
              "      height: 32px;\n",
              "      padding: 0 0 0 0;\n",
              "      width: 32px;\n",
              "    }\n",
              "\n",
              "    .colab-df-convert:hover {\n",
              "      background-color: #E2EBFA;\n",
              "      box-shadow: 0px 1px 2px rgba(60, 64, 67, 0.3), 0px 1px 3px 1px rgba(60, 64, 67, 0.15);\n",
              "      fill: #174EA6;\n",
              "    }\n",
              "\n",
              "    [theme=dark] .colab-df-convert {\n",
              "      background-color: #3B4455;\n",
              "      fill: #D2E3FC;\n",
              "    }\n",
              "\n",
              "    [theme=dark] .colab-df-convert:hover {\n",
              "      background-color: #434B5C;\n",
              "      box-shadow: 0px 1px 3px 1px rgba(0, 0, 0, 0.15);\n",
              "      filter: drop-shadow(0px 1px 2px rgba(0, 0, 0, 0.3));\n",
              "      fill: #FFFFFF;\n",
              "    }\n",
              "  </style>\n",
              "\n",
              "      <script>\n",
              "        const buttonEl =\n",
              "          document.querySelector('#df-5b934914-5c42-4fef-b591-506ae36f4cf3 button.colab-df-convert');\n",
              "        buttonEl.style.display =\n",
              "          google.colab.kernel.accessAllowed ? 'block' : 'none';\n",
              "\n",
              "        async function convertToInteractive(key) {\n",
              "          const element = document.querySelector('#df-5b934914-5c42-4fef-b591-506ae36f4cf3');\n",
              "          const dataTable =\n",
              "            await google.colab.kernel.invokeFunction('convertToInteractive',\n",
              "                                                     [key], {});\n",
              "          if (!dataTable) return;\n",
              "\n",
              "          const docLinkHtml = 'Like what you see? Visit the ' +\n",
              "            '<a target=\"_blank\" href=https://colab.research.google.com/notebooks/data_table.ipynb>data table notebook</a>'\n",
              "            + ' to learn more about interactive tables.';\n",
              "          element.innerHTML = '';\n",
              "          dataTable['output_type'] = 'display_data';\n",
              "          await google.colab.output.renderOutput(dataTable, element);\n",
              "          const docLink = document.createElement('div');\n",
              "          docLink.innerHTML = docLinkHtml;\n",
              "          element.appendChild(docLink);\n",
              "        }\n",
              "      </script>\n",
              "    </div>\n",
              "  </div>\n",
              "  "
            ]
          },
          "metadata": {},
          "execution_count": 131
        }
      ]
    },
    {
      "cell_type": "markdown",
      "source": [
        "> Dengan code diatas kita juga bisa melihat seberapa banyak nilai modus itu keluar pada data, yang mana dari hasil di atas kita mengetahui bahwa nilai 0 muncul sebanyak 567 kali pada data"
      ],
      "metadata": {
        "id": "t_u-rf_ayrDL"
      }
    },
    {
      "cell_type": "code",
      "source": [
        "df['price'].plot(kind='box', title='price Distribution', figsize=(10,8))\n",
        "plt.show()"
      ],
      "metadata": {
        "colab": {
          "base_uri": "https://localhost:8080/",
          "height": 499
        },
        "id": "svWAy-xKnXge",
        "outputId": "0233f7b2-79a0-4590-b7d5-e912f3171c62"
      },
      "execution_count": 132,
      "outputs": [
        {
          "output_type": "display_data",
          "data": {
            "text/plain": [
              "<Figure size 720x576 with 1 Axes>"
            ],
            "image/png": "[encoded data removed]"
          },
          "metadata": {
            "needs_background": "light"
          }
        }
      ]
    },
    {
      "cell_type": "markdown",
      "source": [
        "> Code di atas merupakan code untuk membuat grafik berupa boxplot. Dari boxplot kita bisa melihat apakah pada data terdapat outlier atau tidak. Berdasarkan hasil boxplot di atas terdapat outlier pada data yaitu data yang menjauh dari penyebaran data, sehingga perlu di lakukan handling outlier"
      ],
      "metadata": {
        "id": "yjYaCADby66L"
      }
    },
    {
      "cell_type": "code",
      "source": [
        "price = df['price']\n",
        "density = stats.gaussian_kde(price)\n",
        "n, x, _ = plt.hist(price, histtype='step', bins=50)  \n",
        "plt.plot(x, density(x)*10**6.87)\n",
        "plt.axvline(price.mean(), color='magenta', linestyle='dashed', linewidth=2)\n",
        "plt.axvline(price.median(), color='green', linestyle='dashed', linewidth=2)\n",
        "plt.show()"
      ],
      "metadata": {
        "colab": {
          "base_uri": "https://localhost:8080/",
          "height": 265
        },
        "id": "rmeCWpmtnk9B",
        "outputId": "c8897a74-54b7-4c56-cbb2-063d78af2fbc"
      },
      "execution_count": 133,
      "outputs": [
        {
          "output_type": "display_data",
          "data": {
            "text/plain": [
              "<Figure size 432x288 with 1 Axes>"
            ],
            "image/png": "[encoded data removed]"
          },
          "metadata": {
            "needs_background": "light"
          }
        }
      ]
    },
    {
      "cell_type": "markdown",
      "source": [
        "> Code di atas merupakan code untuk melihat grafik distribusi dari data, yang nantinya akan menentukan handling outlier yang di gunakan. Sebelum melakukan handling outlier kita harus mengetahui terlebih dahulu distibusi dari data.\n",
        "\n",
        "> Jika data **berdistribusi normal**, handling outlier yang digunakan adalah **Z score** dan apabila data **berdistribusi berbentuk skew** baik kekiri maupun kekanan, handling outlier yang digunakan adalah **Tukey**\n",
        "\n",
        "> Dari hasil di atas, diketahui bahwa data yang kita punya miliki distribusi berbentuk skew ke kanan, sehingga handling outlier yang digunakan adalah **Tukey**"
      ],
      "metadata": {
        "id": "CGvk1i4nzCq7"
      }
    },
    {
      "cell_type": "code",
      "source": [
        "quartiles = np.percentile(df['price'], [25, 50, 75])\n",
        "\n",
        "print('Q1: %.3f' % quartiles[0])\n",
        "print('Median: %.3f' % quartiles[1])\n",
        "print('Q3: %.3f' % quartiles[2])"
      ],
      "metadata": {
        "colab": {
          "base_uri": "https://localhost:8080/"
        },
        "id": "yHjVtK-doupD",
        "outputId": "7902ee3e-5de5-40df-fb3e-7b3261ca0369"
      },
      "execution_count": 134,
      "outputs": [
        {
          "output_type": "stream",
          "name": "stdout",
          "text": [
            "Q1: 0.000\n",
            "Median: 2500.000\n",
            "Q3: 5000.000\n"
          ]
        }
      ]
    },
    {
      "cell_type": "code",
      "source": [
        "Q1 = quartiles[0]\n",
        "Q3 = quartiles[2]\n",
        "IQR = quartiles[2] - quartiles[0]"
      ],
      "metadata": {
        "id": "tYSES6imo9-f"
      },
      "execution_count": 135,
      "outputs": []
    },
    {
      "cell_type": "markdown",
      "source": [
        "> Untuk menggunakan Tukey pada handling outlier, kita harus menentukan terlebih dahulu quartil pada data supaya bisa mencari batas atas dan batas bawah pada aturan Tukey, yang mana pada Tukey memiliki rumus untuk mendeteksi adanya outlier sebagai berikut:\n",
        "\n",
        "> ${Q_{3}+1.5*IQR}$ => sebagai batas atas\n",
        "\n",
        "> ${Q_{1}-1.5*IQR}$ => sebagai batas bawah\n",
        "\n",
        "> Pada aturan Tukey, jika terdapat data yang berada di luar batas bawah dan batas atas, maka data tersebut dudeteksi sebagai data outlier"
      ],
      "metadata": {
        "id": "u_ZglR5fzNFj"
      }
    },
    {
      "cell_type": "markdown",
      "source": [
        "> Dari code di atas, diperolah Q1, Q3 dan IQR yang nanti di gunakan untuk mencari nilai batas bawah dan batas atas"
      ],
      "metadata": {
        "id": "Jc9-7e_kzPXb"
      }
    },
    {
      "cell_type": "code",
      "source": [
        "Q1 - (1.5*IQR)"
      ],
      "metadata": {
        "colab": {
          "base_uri": "https://localhost:8080/"
        },
        "id": "ig4onUMMpCbV",
        "outputId": "952ccb8a-e614-4b90-cb19-36f87e6512ea"
      },
      "execution_count": 136,
      "outputs": [
        {
          "output_type": "execute_result",
          "data": {
            "text/plain": [
              "-7500.0"
            ]
          },
          "metadata": {},
          "execution_count": 136
        }
      ]
    },
    {
      "cell_type": "markdown",
      "source": [
        "> Code di atas merupakan code untuk menghitung batas bawah pada aturan Tukey, dari hasil code di atas diperoleh nilai batas bawah adalah -7500.0"
      ],
      "metadata": {
        "id": "9uKte24AzYG0"
      }
    },
    {
      "cell_type": "code",
      "source": [
        "Q3 + (1.5*IQR)"
      ],
      "metadata": {
        "colab": {
          "base_uri": "https://localhost:8080/"
        },
        "id": "-FcvRdXPpGIH",
        "outputId": "8813c988-49e4-4f6e-9fdb-99822d42218d"
      },
      "execution_count": 137,
      "outputs": [
        {
          "output_type": "execute_result",
          "data": {
            "text/plain": [
              "12500.0"
            ]
          },
          "metadata": {},
          "execution_count": 137
        }
      ]
    },
    {
      "cell_type": "markdown",
      "source": [
        "> Code di atas merupakan code untuk menghitung batas atas pada aturan Tukey, dari hasil code di atas diperoleh nilai batas atas adalah 12500.0"
      ],
      "metadata": {
        "id": "X84y1gVJzTEd"
      }
    },
    {
      "cell_type": "code",
      "source": [
        "df[\n",
        "    (df['price'] > 12500.0)\n",
        "    ]"
      ],
      "metadata": {
        "colab": {
          "base_uri": "https://localhost:8080/",
          "height": 423
        },
        "id": "iJw2JGhxpLIk",
        "outputId": "6cb6837d-5f48-41c2-8f44-6510b77beb13"
      },
      "execution_count": 138,
      "outputs": [
        {
          "output_type": "execute_result",
          "data": {
            "text/plain": [
              "       price operation property_type\n",
              "21   15000.0      rent     apartment\n",
              "26   19000.0      rent     apartment\n",
              "27   30000.0      rent     apartment\n",
              "29   13500.0      rent     apartment\n",
              "33   45000.0      rent     apartment\n",
              "..       ...       ...           ...\n",
              "928  25000.0      rent     apartment\n",
              "933  15000.0      rent     apartment\n",
              "952  24000.0      rent     apartment\n",
              "986  13000.0      rent     apartment\n",
              "993  16000.0      rent     apartment\n",
              "\n",
              "[177 rows x 3 columns]"
            ],
            "text/html": [
              "\n",
              "  <div id=\"df-528b6ad5-08a6-42c8-beb2-c8988a5ce5d1\">\n",
              "    <div class=\"colab-df-container\">\n",
              "      <div>\n",
              "<style scoped>\n",
              "    .dataframe tbody tr th:only-of-type {\n",
              "        vertical-align: middle;\n",
              "    }\n",
              "\n",
              "    .dataframe tbody tr th {\n",
              "        vertical-align: top;\n",
              "    }\n",
              "\n",
              "    .dataframe thead th {\n",
              "        text-align: right;\n",
              "    }\n",
              "</style>\n",
              "<table border=\"1\" class=\"dataframe\">\n",
              "  <thead>\n",
              "    <tr style=\"text-align: right;\">\n",
              "      <th></th>\n",
              "      <th>price</th>\n",
              "      <th>operation</th>\n",
              "      <th>property_type</th>\n",
              "    </tr>\n",
              "  </thead>\n",
              "  <tbody>\n",
              "    <tr>\n",
              "      <th>21</th>\n",
              "      <td>15000.0</td>\n",
              "      <td>rent</td>\n",
              "      <td>apartment</td>\n",
              "    </tr>\n",
              "    <tr>\n",
              "      <th>26</th>\n",
              "      <td>19000.0</td>\n",
              "      <td>rent</td>\n",
              "      <td>apartment</td>\n",
              "    </tr>\n",
              "    <tr>\n",
              "      <th>27</th>\n",
              "      <td>30000.0</td>\n",
              "      <td>rent</td>\n",
              "      <td>apartment</td>\n",
              "    </tr>\n",
              "    <tr>\n",
              "      <th>29</th>\n",
              "      <td>13500.0</td>\n",
              "      <td>rent</td>\n",
              "      <td>apartment</td>\n",
              "    </tr>\n",
              "    <tr>\n",
              "      <th>33</th>\n",
              "      <td>45000.0</td>\n",
              "      <td>rent</td>\n",
              "      <td>apartment</td>\n",
              "    </tr>\n",
              "    <tr>\n",
              "      <th>...</th>\n",
              "      <td>...</td>\n",
              "      <td>...</td>\n",
              "      <td>...</td>\n",
              "    </tr>\n",
              "    <tr>\n",
              "      <th>928</th>\n",
              "      <td>25000.0</td>\n",
              "      <td>rent</td>\n",
              "      <td>apartment</td>\n",
              "    </tr>\n",
              "    <tr>\n",
              "      <th>933</th>\n",
              "      <td>15000.0</td>\n",
              "      <td>rent</td>\n",
              "      <td>apartment</td>\n",
              "    </tr>\n",
              "    <tr>\n",
              "      <th>952</th>\n",
              "      <td>24000.0</td>\n",
              "      <td>rent</td>\n",
              "      <td>apartment</td>\n",
              "    </tr>\n",
              "    <tr>\n",
              "      <th>986</th>\n",
              "      <td>13000.0</td>\n",
              "      <td>rent</td>\n",
              "      <td>apartment</td>\n",
              "    </tr>\n",
              "    <tr>\n",
              "      <th>993</th>\n",
              "      <td>16000.0</td>\n",
              "      <td>rent</td>\n",
              "      <td>apartment</td>\n",
              "    </tr>\n",
              "  </tbody>\n",
              "</table>\n",
              "<p>177 rows × 3 columns</p>\n",
              "</div>\n",
              "      <button class=\"colab-df-convert\" onclick=\"convertToInteractive('df-528b6ad5-08a6-42c8-beb2-c8988a5ce5d1')\"\n",
              "              title=\"Convert this dataframe to an interactive table.\"\n",
              "              style=\"display:none;\">\n",
              "        \n",
              "  <svg xmlns=\"http://www.w3.org/2000/svg\" height=\"24px\"viewBox=\"0 0 24 24\"\n",
              "       width=\"24px\">\n",
              "    <path d=\"M0 0h24v24H0V0z\" fill=\"none\"/>\n",
              "    <path d=\"M18.56 5.44l.94 2.06.94-2.06 2.06-.94-2.06-.94-.94-2.06-.94 2.06-2.06.94zm-11 1L8.5 8.5l.94-2.06 2.06-.94-2.06-.94L8.5 2.5l-.94 2.06-2.06.94zm10 10l.94 2.06.94-2.06 2.06-.94-2.06-.94-.94-2.06-.94 2.06-2.06.94z\"/><path d=\"M17.41 7.96l-1.37-1.37c-.4-.4-.92-.59-1.43-.59-.52 0-1.04.2-1.43.59L10.3 9.45l-7.72 7.72c-.78.78-.78 2.05 0 2.83L4 21.41c.39.39.9.59 1.41.59.51 0 1.02-.2 1.41-.59l7.78-7.78 2.81-2.81c.8-.78.8-2.07 0-2.86zM5.41 20L4 18.59l7.72-7.72 1.47 1.35L5.41 20z\"/>\n",
              "  </svg>\n",
              "      </button>\n",
              "      \n",
              "  <style>\n",
              "    .colab-df-container {\n",
              "      display:flex;\n",
              "      flex-wrap:wrap;\n",
              "      gap: 12px;\n",
              "    }\n",
              "\n",
              "    .colab-df-convert {\n",
              "      background-color: #E8F0FE;\n",
              "      border: none;\n",
              "      border-radius: 50%;\n",
              "      cursor: pointer;\n",
              "      display: none;\n",
              "      fill: #1967D2;\n",
              "      height: 32px;\n",
              "      padding: 0 0 0 0;\n",
              "      width: 32px;\n",
              "    }\n",
              "\n",
              "    .colab-df-convert:hover {\n",
              "      background-color: #E2EBFA;\n",
              "      box-shadow: 0px 1px 2px rgba(60, 64, 67, 0.3), 0px 1px 3px 1px rgba(60, 64, 67, 0.15);\n",
              "      fill: #174EA6;\n",
              "    }\n",
              "\n",
              "    [theme=dark] .colab-df-convert {\n",
              "      background-color: #3B4455;\n",
              "      fill: #D2E3FC;\n",
              "    }\n",
              "\n",
              "    [theme=dark] .colab-df-convert:hover {\n",
              "      background-color: #434B5C;\n",
              "      box-shadow: 0px 1px 3px 1px rgba(0, 0, 0, 0.15);\n",
              "      filter: drop-shadow(0px 1px 2px rgba(0, 0, 0, 0.3));\n",
              "      fill: #FFFFFF;\n",
              "    }\n",
              "  </style>\n",
              "\n",
              "      <script>\n",
              "        const buttonEl =\n",
              "          document.querySelector('#df-528b6ad5-08a6-42c8-beb2-c8988a5ce5d1 button.colab-df-convert');\n",
              "        buttonEl.style.display =\n",
              "          google.colab.kernel.accessAllowed ? 'block' : 'none';\n",
              "\n",
              "        async function convertToInteractive(key) {\n",
              "          const element = document.querySelector('#df-528b6ad5-08a6-42c8-beb2-c8988a5ce5d1');\n",
              "          const dataTable =\n",
              "            await google.colab.kernel.invokeFunction('convertToInteractive',\n",
              "                                                     [key], {});\n",
              "          if (!dataTable) return;\n",
              "\n",
              "          const docLinkHtml = 'Like what you see? Visit the ' +\n",
              "            '<a target=\"_blank\" href=https://colab.research.google.com/notebooks/data_table.ipynb>data table notebook</a>'\n",
              "            + ' to learn more about interactive tables.';\n",
              "          element.innerHTML = '';\n",
              "          dataTable['output_type'] = 'display_data';\n",
              "          await google.colab.output.renderOutput(dataTable, element);\n",
              "          const docLink = document.createElement('div');\n",
              "          docLink.innerHTML = docLinkHtml;\n",
              "          element.appendChild(docLink);\n",
              "        }\n",
              "      </script>\n",
              "    </div>\n",
              "  </div>\n",
              "  "
            ]
          },
          "metadata": {},
          "execution_count": 138
        }
      ]
    },
    {
      "cell_type": "code",
      "source": [
        "df[\n",
        "    (df['price'] < -7500.0)\n",
        "    ]"
      ],
      "metadata": {
        "colab": {
          "base_uri": "https://localhost:8080/",
          "height": 49
        },
        "id": "4oth0DVMpZSy",
        "outputId": "ac17432c-b284-4d9b-f547-91392601870e"
      },
      "execution_count": 139,
      "outputs": [
        {
          "output_type": "execute_result",
          "data": {
            "text/plain": [
              "Empty DataFrame\n",
              "Columns: [price, operation, property_type]\n",
              "Index: []"
            ],
            "text/html": [
              "\n",
              "  <div id=\"df-9500b530-191d-4ab1-a416-0c7a6d79c2df\">\n",
              "    <div class=\"colab-df-container\">\n",
              "      <div>\n",
              "<style scoped>\n",
              "    .dataframe tbody tr th:only-of-type {\n",
              "        vertical-align: middle;\n",
              "    }\n",
              "\n",
              "    .dataframe tbody tr th {\n",
              "        vertical-align: top;\n",
              "    }\n",
              "\n",
              "    .dataframe thead th {\n",
              "        text-align: right;\n",
              "    }\n",
              "</style>\n",
              "<table border=\"1\" class=\"dataframe\">\n",
              "  <thead>\n",
              "    <tr style=\"text-align: right;\">\n",
              "      <th></th>\n",
              "      <th>price</th>\n",
              "      <th>operation</th>\n",
              "      <th>property_type</th>\n",
              "    </tr>\n",
              "  </thead>\n",
              "  <tbody>\n",
              "  </tbody>\n",
              "</table>\n",
              "</div>\n",
              "      <button class=\"colab-df-convert\" onclick=\"convertToInteractive('df-9500b530-191d-4ab1-a416-0c7a6d79c2df')\"\n",
              "              title=\"Convert this dataframe to an interactive table.\"\n",
              "              style=\"display:none;\">\n",
              "        \n",
              "  <svg xmlns=\"http://www.w3.org/2000/svg\" height=\"24px\"viewBox=\"0 0 24 24\"\n",
              "       width=\"24px\">\n",
              "    <path d=\"M0 0h24v24H0V0z\" fill=\"none\"/>\n",
              "    <path d=\"M18.56 5.44l.94 2.06.94-2.06 2.06-.94-2.06-.94-.94-2.06-.94 2.06-2.06.94zm-11 1L8.5 8.5l.94-2.06 2.06-.94-2.06-.94L8.5 2.5l-.94 2.06-2.06.94zm10 10l.94 2.06.94-2.06 2.06-.94-2.06-.94-.94-2.06-.94 2.06-2.06.94z\"/><path d=\"M17.41 7.96l-1.37-1.37c-.4-.4-.92-.59-1.43-.59-.52 0-1.04.2-1.43.59L10.3 9.45l-7.72 7.72c-.78.78-.78 2.05 0 2.83L4 21.41c.39.39.9.59 1.41.59.51 0 1.02-.2 1.41-.59l7.78-7.78 2.81-2.81c.8-.78.8-2.07 0-2.86zM5.41 20L4 18.59l7.72-7.72 1.47 1.35L5.41 20z\"/>\n",
              "  </svg>\n",
              "      </button>\n",
              "      \n",
              "  <style>\n",
              "    .colab-df-container {\n",
              "      display:flex;\n",
              "      flex-wrap:wrap;\n",
              "      gap: 12px;\n",
              "    }\n",
              "\n",
              "    .colab-df-convert {\n",
              "      background-color: #E8F0FE;\n",
              "      border: none;\n",
              "      border-radius: 50%;\n",
              "      cursor: pointer;\n",
              "      display: none;\n",
              "      fill: #1967D2;\n",
              "      height: 32px;\n",
              "      padding: 0 0 0 0;\n",
              "      width: 32px;\n",
              "    }\n",
              "\n",
              "    .colab-df-convert:hover {\n",
              "      background-color: #E2EBFA;\n",
              "      box-shadow: 0px 1px 2px rgba(60, 64, 67, 0.3), 0px 1px 3px 1px rgba(60, 64, 67, 0.15);\n",
              "      fill: #174EA6;\n",
              "    }\n",
              "\n",
              "    [theme=dark] .colab-df-convert {\n",
              "      background-color: #3B4455;\n",
              "      fill: #D2E3FC;\n",
              "    }\n",
              "\n",
              "    [theme=dark] .colab-df-convert:hover {\n",
              "      background-color: #434B5C;\n",
              "      box-shadow: 0px 1px 3px 1px rgba(0, 0, 0, 0.15);\n",
              "      filter: drop-shadow(0px 1px 2px rgba(0, 0, 0, 0.3));\n",
              "      fill: #FFFFFF;\n",
              "    }\n",
              "  </style>\n",
              "\n",
              "      <script>\n",
              "        const buttonEl =\n",
              "          document.querySelector('#df-9500b530-191d-4ab1-a416-0c7a6d79c2df button.colab-df-convert');\n",
              "        buttonEl.style.display =\n",
              "          google.colab.kernel.accessAllowed ? 'block' : 'none';\n",
              "\n",
              "        async function convertToInteractive(key) {\n",
              "          const element = document.querySelector('#df-9500b530-191d-4ab1-a416-0c7a6d79c2df');\n",
              "          const dataTable =\n",
              "            await google.colab.kernel.invokeFunction('convertToInteractive',\n",
              "                                                     [key], {});\n",
              "          if (!dataTable) return;\n",
              "\n",
              "          const docLinkHtml = 'Like what you see? Visit the ' +\n",
              "            '<a target=\"_blank\" href=https://colab.research.google.com/notebooks/data_table.ipynb>data table notebook</a>'\n",
              "            + ' to learn more about interactive tables.';\n",
              "          element.innerHTML = '';\n",
              "          dataTable['output_type'] = 'display_data';\n",
              "          await google.colab.output.renderOutput(dataTable, element);\n",
              "          const docLink = document.createElement('div');\n",
              "          docLink.innerHTML = docLinkHtml;\n",
              "          element.appendChild(docLink);\n",
              "        }\n",
              "      </script>\n",
              "    </div>\n",
              "  </div>\n",
              "  "
            ]
          },
          "metadata": {},
          "execution_count": 139
        }
      ]
    },
    {
      "cell_type": "markdown",
      "source": [
        "> > Setelah kita mengetahui batas atas dan batas bawah, selanjutnya kita melihat apakah ada data yang berada di luar batas atas dan batas bawah. Dari hasil code di atas, diketahui bahwa terdapat data yang berada di luar batas atas, yaitu sebanyak 7 data. Sehingga dapat disimpulkan bahwa pada data pembuangan sampah di tempat pembuangan sampah TDS LANDFILL terdapat data outlier sebanyak 7 data"
      ],
      "metadata": {
        "id": "iX75mjNez5gZ"
      }
    },
    {
      "cell_type": "code",
      "source": [
        "New_df = df.drop(df[df.price > 12500.0].index)\n",
        "New_df"
      ],
      "metadata": {
        "colab": {
          "base_uri": "https://localhost:8080/",
          "height": 423
        },
        "id": "P16zlVRDprTr",
        "outputId": "d06f4a7e-8302-431a-fee6-e13c6e34afba"
      },
      "execution_count": 144,
      "outputs": [
        {
          "output_type": "execute_result",
          "data": {
            "text/plain": [
              "       price operation property_type\n",
              "0     2500.0      rent     apartment\n",
              "1     3500.0      rent     apartment\n",
              "2     2850.0      rent     apartment\n",
              "3     1850.0      rent     apartment\n",
              "4     1000.0      rent     apartment\n",
              "...      ...       ...           ...\n",
              "1767   500.0      rent     apartment\n",
              "1768   500.0      rent     apartment\n",
              "1769   500.0      rent     apartment\n",
              "1770   500.0      rent     apartment\n",
              "1771   500.0      rent     apartment\n",
              "\n",
              "[1595 rows x 3 columns]"
            ],
            "text/html": [
              "\n",
              "  <div id=\"df-2e41850a-2d01-4950-aa27-3fb443d87205\">\n",
              "    <div class=\"colab-df-container\">\n",
              "      <div>\n",
              "<style scoped>\n",
              "    .dataframe tbody tr th:only-of-type {\n",
              "        vertical-align: middle;\n",
              "    }\n",
              "\n",
              "    .dataframe tbody tr th {\n",
              "        vertical-align: top;\n",
              "    }\n",
              "\n",
              "    .dataframe thead th {\n",
              "        text-align: right;\n",
              "    }\n",
              "</style>\n",
              "<table border=\"1\" class=\"dataframe\">\n",
              "  <thead>\n",
              "    <tr style=\"text-align: right;\">\n",
              "      <th></th>\n",
              "      <th>price</th>\n",
              "      <th>operation</th>\n",
              "      <th>property_type</th>\n",
              "    </tr>\n",
              "  </thead>\n",
              "  <tbody>\n",
              "    <tr>\n",
              "      <th>0</th>\n",
              "      <td>2500.0</td>\n",
              "      <td>rent</td>\n",
              "      <td>apartment</td>\n",
              "    </tr>\n",
              "    <tr>\n",
              "      <th>1</th>\n",
              "      <td>3500.0</td>\n",
              "      <td>rent</td>\n",
              "      <td>apartment</td>\n",
              "    </tr>\n",
              "    <tr>\n",
              "      <th>2</th>\n",
              "      <td>2850.0</td>\n",
              "      <td>rent</td>\n",
              "      <td>apartment</td>\n",
              "    </tr>\n",
              "    <tr>\n",
              "      <th>3</th>\n",
              "      <td>1850.0</td>\n",
              "      <td>rent</td>\n",
              "      <td>apartment</td>\n",
              "    </tr>\n",
              "    <tr>\n",
              "      <th>4</th>\n",
              "      <td>1000.0</td>\n",
              "      <td>rent</td>\n",
              "      <td>apartment</td>\n",
              "    </tr>\n",
              "    <tr>\n",
              "      <th>...</th>\n",
              "      <td>...</td>\n",
              "      <td>...</td>\n",
              "      <td>...</td>\n",
              "    </tr>\n",
              "    <tr>\n",
              "      <th>1767</th>\n",
              "      <td>500.0</td>\n",
              "      <td>rent</td>\n",
              "      <td>apartment</td>\n",
              "    </tr>\n",
              "    <tr>\n",
              "      <th>1768</th>\n",
              "      <td>500.0</td>\n",
              "      <td>rent</td>\n",
              "      <td>apartment</td>\n",
              "    </tr>\n",
              "    <tr>\n",
              "      <th>1769</th>\n",
              "      <td>500.0</td>\n",
              "      <td>rent</td>\n",
              "      <td>apartment</td>\n",
              "    </tr>\n",
              "    <tr>\n",
              "      <th>1770</th>\n",
              "      <td>500.0</td>\n",
              "      <td>rent</td>\n",
              "      <td>apartment</td>\n",
              "    </tr>\n",
              "    <tr>\n",
              "      <th>1771</th>\n",
              "      <td>500.0</td>\n",
              "      <td>rent</td>\n",
              "      <td>apartment</td>\n",
              "    </tr>\n",
              "  </tbody>\n",
              "</table>\n",
              "<p>1595 rows × 3 columns</p>\n",
              "</div>\n",
              "      <button class=\"colab-df-convert\" onclick=\"convertToInteractive('df-2e41850a-2d01-4950-aa27-3fb443d87205')\"\n",
              "              title=\"Convert this dataframe to an interactive table.\"\n",
              "              style=\"display:none;\">\n",
              "        \n",
              "  <svg xmlns=\"http://www.w3.org/2000/svg\" height=\"24px\"viewBox=\"0 0 24 24\"\n",
              "       width=\"24px\">\n",
              "    <path d=\"M0 0h24v24H0V0z\" fill=\"none\"/>\n",
              "    <path d=\"M18.56 5.44l.94 2.06.94-2.06 2.06-.94-2.06-.94-.94-2.06-.94 2.06-2.06.94zm-11 1L8.5 8.5l.94-2.06 2.06-.94-2.06-.94L8.5 2.5l-.94 2.06-2.06.94zm10 10l.94 2.06.94-2.06 2.06-.94-2.06-.94-.94-2.06-.94 2.06-2.06.94z\"/><path d=\"M17.41 7.96l-1.37-1.37c-.4-.4-.92-.59-1.43-.59-.52 0-1.04.2-1.43.59L10.3 9.45l-7.72 7.72c-.78.78-.78 2.05 0 2.83L4 21.41c.39.39.9.59 1.41.59.51 0 1.02-.2 1.41-.59l7.78-7.78 2.81-2.81c.8-.78.8-2.07 0-2.86zM5.41 20L4 18.59l7.72-7.72 1.47 1.35L5.41 20z\"/>\n",
              "  </svg>\n",
              "      </button>\n",
              "      \n",
              "  <style>\n",
              "    .colab-df-container {\n",
              "      display:flex;\n",
              "      flex-wrap:wrap;\n",
              "      gap: 12px;\n",
              "    }\n",
              "\n",
              "    .colab-df-convert {\n",
              "      background-color: #E8F0FE;\n",
              "      border: none;\n",
              "      border-radius: 50%;\n",
              "      cursor: pointer;\n",
              "      display: none;\n",
              "      fill: #1967D2;\n",
              "      height: 32px;\n",
              "      padding: 0 0 0 0;\n",
              "      width: 32px;\n",
              "    }\n",
              "\n",
              "    .colab-df-convert:hover {\n",
              "      background-color: #E2EBFA;\n",
              "      box-shadow: 0px 1px 2px rgba(60, 64, 67, 0.3), 0px 1px 3px 1px rgba(60, 64, 67, 0.15);\n",
              "      fill: #174EA6;\n",
              "    }\n",
              "\n",
              "    [theme=dark] .colab-df-convert {\n",
              "      background-color: #3B4455;\n",
              "      fill: #D2E3FC;\n",
              "    }\n",
              "\n",
              "    [theme=dark] .colab-df-convert:hover {\n",
              "      background-color: #434B5C;\n",
              "      box-shadow: 0px 1px 3px 1px rgba(0, 0, 0, 0.15);\n",
              "      filter: drop-shadow(0px 1px 2px rgba(0, 0, 0, 0.3));\n",
              "      fill: #FFFFFF;\n",
              "    }\n",
              "  </style>\n",
              "\n",
              "      <script>\n",
              "        const buttonEl =\n",
              "          document.querySelector('#df-2e41850a-2d01-4950-aa27-3fb443d87205 button.colab-df-convert');\n",
              "        buttonEl.style.display =\n",
              "          google.colab.kernel.accessAllowed ? 'block' : 'none';\n",
              "\n",
              "        async function convertToInteractive(key) {\n",
              "          const element = document.querySelector('#df-2e41850a-2d01-4950-aa27-3fb443d87205');\n",
              "          const dataTable =\n",
              "            await google.colab.kernel.invokeFunction('convertToInteractive',\n",
              "                                                     [key], {});\n",
              "          if (!dataTable) return;\n",
              "\n",
              "          const docLinkHtml = 'Like what you see? Visit the ' +\n",
              "            '<a target=\"_blank\" href=https://colab.research.google.com/notebooks/data_table.ipynb>data table notebook</a>'\n",
              "            + ' to learn more about interactive tables.';\n",
              "          element.innerHTML = '';\n",
              "          dataTable['output_type'] = 'display_data';\n",
              "          await google.colab.output.renderOutput(dataTable, element);\n",
              "          const docLink = document.createElement('div');\n",
              "          docLink.innerHTML = docLinkHtml;\n",
              "          element.appendChild(docLink);\n",
              "        }\n",
              "      </script>\n",
              "    </div>\n",
              "  </div>\n",
              "  "
            ]
          },
          "metadata": {},
          "execution_count": 144
        }
      ]
    },
    {
      "cell_type": "markdown",
      "source": [
        "> Code di atas merupakan code untuk menghapus atau drop data outlier yang berada pada kolom price. Sehingga diperoleh data baru yang sudah dihapus outliernya"
      ],
      "metadata": {
        "id": "VBbCH6pwz-qj"
      }
    },
    {
      "cell_type": "code",
      "source": [
        "New_df[\n",
        "    (New_df['price'] > 12500.0)\n",
        "    ]"
      ],
      "metadata": {
        "colab": {
          "base_uri": "https://localhost:8080/",
          "height": 49
        },
        "id": "Q2qHlMhorXk6",
        "outputId": "0c9c006e-e474-4f74-d967-62e83f824dc4"
      },
      "execution_count": 141,
      "outputs": [
        {
          "output_type": "execute_result",
          "data": {
            "text/plain": [
              "Empty DataFrame\n",
              "Columns: [price, operation, property_type]\n",
              "Index: []"
            ],
            "text/html": [
              "\n",
              "  <div id=\"df-4d835cf3-583c-4dea-afcf-484fff672770\">\n",
              "    <div class=\"colab-df-container\">\n",
              "      <div>\n",
              "<style scoped>\n",
              "    .dataframe tbody tr th:only-of-type {\n",
              "        vertical-align: middle;\n",
              "    }\n",
              "\n",
              "    .dataframe tbody tr th {\n",
              "        vertical-align: top;\n",
              "    }\n",
              "\n",
              "    .dataframe thead th {\n",
              "        text-align: right;\n",
              "    }\n",
              "</style>\n",
              "<table border=\"1\" class=\"dataframe\">\n",
              "  <thead>\n",
              "    <tr style=\"text-align: right;\">\n",
              "      <th></th>\n",
              "      <th>price</th>\n",
              "      <th>operation</th>\n",
              "      <th>property_type</th>\n",
              "    </tr>\n",
              "  </thead>\n",
              "  <tbody>\n",
              "  </tbody>\n",
              "</table>\n",
              "</div>\n",
              "      <button class=\"colab-df-convert\" onclick=\"convertToInteractive('df-4d835cf3-583c-4dea-afcf-484fff672770')\"\n",
              "              title=\"Convert this dataframe to an interactive table.\"\n",
              "              style=\"display:none;\">\n",
              "        \n",
              "  <svg xmlns=\"http://www.w3.org/2000/svg\" height=\"24px\"viewBox=\"0 0 24 24\"\n",
              "       width=\"24px\">\n",
              "    <path d=\"M0 0h24v24H0V0z\" fill=\"none\"/>\n",
              "    <path d=\"M18.56 5.44l.94 2.06.94-2.06 2.06-.94-2.06-.94-.94-2.06-.94 2.06-2.06.94zm-11 1L8.5 8.5l.94-2.06 2.06-.94-2.06-.94L8.5 2.5l-.94 2.06-2.06.94zm10 10l.94 2.06.94-2.06 2.06-.94-2.06-.94-.94-2.06-.94 2.06-2.06.94z\"/><path d=\"M17.41 7.96l-1.37-1.37c-.4-.4-.92-.59-1.43-.59-.52 0-1.04.2-1.43.59L10.3 9.45l-7.72 7.72c-.78.78-.78 2.05 0 2.83L4 21.41c.39.39.9.59 1.41.59.51 0 1.02-.2 1.41-.59l7.78-7.78 2.81-2.81c.8-.78.8-2.07 0-2.86zM5.41 20L4 18.59l7.72-7.72 1.47 1.35L5.41 20z\"/>\n",
              "  </svg>\n",
              "      </button>\n",
              "      \n",
              "  <style>\n",
              "    .colab-df-container {\n",
              "      display:flex;\n",
              "      flex-wrap:wrap;\n",
              "      gap: 12px;\n",
              "    }\n",
              "\n",
              "    .colab-df-convert {\n",
              "      background-color: #E8F0FE;\n",
              "      border: none;\n",
              "      border-radius: 50%;\n",
              "      cursor: pointer;\n",
              "      display: none;\n",
              "      fill: #1967D2;\n",
              "      height: 32px;\n",
              "      padding: 0 0 0 0;\n",
              "      width: 32px;\n",
              "    }\n",
              "\n",
              "    .colab-df-convert:hover {\n",
              "      background-color: #E2EBFA;\n",
              "      box-shadow: 0px 1px 2px rgba(60, 64, 67, 0.3), 0px 1px 3px 1px rgba(60, 64, 67, 0.15);\n",
              "      fill: #174EA6;\n",
              "    }\n",
              "\n",
              "    [theme=dark] .colab-df-convert {\n",
              "      background-color: #3B4455;\n",
              "      fill: #D2E3FC;\n",
              "    }\n",
              "\n",
              "    [theme=dark] .colab-df-convert:hover {\n",
              "      background-color: #434B5C;\n",
              "      box-shadow: 0px 1px 3px 1px rgba(0, 0, 0, 0.15);\n",
              "      filter: drop-shadow(0px 1px 2px rgba(0, 0, 0, 0.3));\n",
              "      fill: #FFFFFF;\n",
              "    }\n",
              "  </style>\n",
              "\n",
              "      <script>\n",
              "        const buttonEl =\n",
              "          document.querySelector('#df-4d835cf3-583c-4dea-afcf-484fff672770 button.colab-df-convert');\n",
              "        buttonEl.style.display =\n",
              "          google.colab.kernel.accessAllowed ? 'block' : 'none';\n",
              "\n",
              "        async function convertToInteractive(key) {\n",
              "          const element = document.querySelector('#df-4d835cf3-583c-4dea-afcf-484fff672770');\n",
              "          const dataTable =\n",
              "            await google.colab.kernel.invokeFunction('convertToInteractive',\n",
              "                                                     [key], {});\n",
              "          if (!dataTable) return;\n",
              "\n",
              "          const docLinkHtml = 'Like what you see? Visit the ' +\n",
              "            '<a target=\"_blank\" href=https://colab.research.google.com/notebooks/data_table.ipynb>data table notebook</a>'\n",
              "            + ' to learn more about interactive tables.';\n",
              "          element.innerHTML = '';\n",
              "          dataTable['output_type'] = 'display_data';\n",
              "          await google.colab.output.renderOutput(dataTable, element);\n",
              "          const docLink = document.createElement('div');\n",
              "          docLink.innerHTML = docLinkHtml;\n",
              "          element.appendChild(docLink);\n",
              "        }\n",
              "      </script>\n",
              "    </div>\n",
              "  </div>\n",
              "  "
            ]
          },
          "metadata": {},
          "execution_count": 141
        }
      ]
    },
    {
      "cell_type": "code",
      "source": [
        "New_df['price'].plot(kind='box', title='price Distribution', figsize=(10,8))\n",
        "plt.show()"
      ],
      "metadata": {
        "colab": {
          "base_uri": "https://localhost:8080/",
          "height": 499
        },
        "id": "MxrJUYKiriAm",
        "outputId": "2040b485-8bde-4fff-9e02-4687663dae2a"
      },
      "execution_count": 142,
      "outputs": [
        {
          "output_type": "display_data",
          "data": {
            "text/plain": [
              "<Figure size 720x576 with 1 Axes>"
            ],
            "image/png": "[encoded data removed]"
          },
          "metadata": {
            "needs_background": "light"
          }
        }
      ]
    },
    {
      "cell_type": "code",
      "source": [
        "price = New_df['price']\n",
        "density = stats.gaussian_kde(price)\n",
        "n, x, _ = plt.hist(price, histtype='step', bins=50)  \n",
        "plt.plot(x, density(x)*10**5.6)\n",
        "plt.axvline(price.mean(), color='magenta', linestyle='dashed', linewidth=2)\n",
        "plt.axvline(price.median(), color='green', linestyle='dashed', linewidth=2)\n",
        "plt.show()"
      ],
      "metadata": {
        "colab": {
          "base_uri": "https://localhost:8080/",
          "height": 265
        },
        "id": "QPMDK_1grr4e",
        "outputId": "ba7bef3e-570b-4b31-c30b-be06362c7d25"
      },
      "execution_count": 143,
      "outputs": [
        {
          "output_type": "display_data",
          "data": {
            "text/plain": [
              "<Figure size 432x288 with 1 Axes>"
            ],
            "image/png": "[encoded data removed]"
          },
          "metadata": {
            "needs_background": "light"
          }
        }
      ]
    },
    {
      "cell_type": "markdown",
      "source": [
        "> Code di atas merupakan code untuk melihat apakah data outlier sudah terhapus atau belum. Berdasarkan hasil code di atas diketahui bahwa sudah tidak terdapat data outlier pada kolom price yang diliat dari screening data dan dari grafik boxplot serta distribusi data"
      ],
      "metadata": {
        "id": "Zb2GglqZ0H7F"
      }
    },
    {
      "cell_type": "markdown",
      "source": [
        "# **6. Hasil**"
      ],
      "metadata": {
        "id": "nYSwxD_VcMbD"
      }
    },
    {
      "cell_type": "markdown",
      "source": [
        "## **Problem 1**"
      ],
      "metadata": {
        "id": "d_NQR3k9cSBG"
      }
    },
    {
      "cell_type": "markdown",
      "source": [
        "### 1. Apakah kedua rumah mirip? jika iya, mengapa dan jika tidak, mengapa (jawab berdasarkan hasil perhitungan cosine similaritynya)? Dan keputusan yang akhirnya kamu pilih, rumah 1 atau rumah 2? apa pertimbangannya?"
      ],
      "metadata": {
        "id": "ZBywgVlggKjX"
      }
    },
    {
      "cell_type": "markdown",
      "source": [
        "> Mirip, dikarnakan dari hasil cosine similarity miliki nilai cos theta sebesar  0.9893997002438046 yang dapat di artikan bahwa antara vector rumah 1 dan vector rumah 2 sangat mirip"
      ],
      "metadata": {
        "id": "uHsMxg3M0OFw"
      }
    },
    {
      "cell_type": "markdown",
      "source": [
        "### 2. Jika meninjau dua buah vektor dan dihitung cosine similaritynya (cos theta), jelaskan secara singkat, jelas, padat apa makna cosine similarity yang bernilai 0 dan 1 (tinjau dari posisi dua vektor di koordinat kartesian)?"
      ],
      "metadata": {
        "id": "Z0s4g0ohgQ4M"
      }
    },
    {
      "cell_type": "markdown",
      "source": [
        "> cosine similarity atau nilai dari cos theta dari kedua vector, yang mana jika cos theta bernilai 0 yang berarti memiliki sudut 90 derajat, sehingga dapat disimpulkan dari kedua vector tidak ada kemiripan dan jika cos theta bernilai 1 yang berarti memilik sudut 0 derajat dapat disimpulkan bahwa kedua vektor terdapat kemiripan atau identik sama"
      ],
      "metadata": {
        "id": "mRsrrKCw0ktm"
      }
    },
    {
      "cell_type": "markdown",
      "source": [
        "### 3. Mengapa cosine similarity harus melibatkan vektor bukan matriks?"
      ],
      "metadata": {
        "id": "WEsaiNLugX4A"
      }
    },
    {
      "cell_type": "markdown",
      "source": [
        "> Karna vectoe memiliki 1 dimensi sehingga di bandingan dengan vector yang lain akan menghasilkan sudut"
      ],
      "metadata": {
        "id": "JdQ3-N6V0yvJ"
      }
    },
    {
      "cell_type": "markdown",
      "source": [
        "## **Problem 2**"
      ],
      "metadata": {
        "id": "NscT6JoLgeEH"
      }
    },
    {
      "cell_type": "markdown",
      "source": [
        "### 1. Berapa rata-rata, median, dan modus dari data tersebut sebelum dihilangkan outliernya? Bagaimana kecerendungan pemusatan datanya? jelaskan jawabanmu!"
      ],
      "metadata": {
        "id": "SB7I6cNIgfeR"
      }
    },
    {
      "cell_type": "markdown",
      "source": [
        "> Mean = 4833,98\n",
        "\n",
        "> Median = 2500\n",
        "\n",
        "> Modus = 0\n",
        "\n",
        "Dari hasil central tendency di atas diperoleh nilai mean > median yang berarti data memiliki distribusi yang tidak normal atau memiliki distribusi skew"
      ],
      "metadata": {
        "id": "dlepDmQf0-R3"
      }
    },
    {
      "cell_type": "markdown",
      "source": [
        "### 2. Sebelum melakukan extreme value analysis, kamu harus melakukan pengecekan skewness dari distribusi datanya. Apakah datanya skew atau normal? jelaskan jawabanmu!"
      ],
      "metadata": {
        "id": "BaW5NmrkgkJJ"
      }
    },
    {
      "cell_type": "markdown",
      "source": [
        "> Pada analisa di atas yang menggunakan data pada kolom price data memiliki distribusi skew ke kanan,karna dapat di lihat dari plot yang sudah dibuat, garis density menjolor ke arah kanan"
      ],
      "metadata": {
        "id": "rrp7CX961QyY"
      }
    },
    {
      "cell_type": "markdown",
      "source": [
        "### 3. Ada dua teknik untuk melakukan extreme value analysis, teknik yang mana yang kamu pakai? berikan alasanmu berdasarkan data!"
      ],
      "metadata": {
        "id": "mOt1oNuFgqy4"
      }
    },
    {
      "cell_type": "markdown",
      "source": [
        "> Teknik yang saya pakai pada analisa di atas adalah Tukey, dikarnakan berdasarkan distribusi dari data yaitu memiliki distribusi skew"
      ],
      "metadata": {
        "id": "xWUeH37M1kp4"
      }
    }
  ]
}