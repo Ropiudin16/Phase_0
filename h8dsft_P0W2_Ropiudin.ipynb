{
  "nbformat": 4,
  "nbformat_minor": 0,
  "metadata": {
    "colab": {
      "provenance": [],
      "collapsed_sections": [
        "bblZ1ercl7r9"
      ]
    },
    "kernelspec": {
      "name": "python3",
      "display_name": "Python 3"
    },
    "language_info": {
      "name": "python"
    }
  },
  "cells": [
    {
      "cell_type": "markdown",
      "source": [
        "# **Grade Challenge 2**\n",
        "### **HACTIV8 Full Time Data Science Phase 0**\n",
        "Nama  : Ropiudin\n",
        "\n",
        "Batch : FTDS OO2-HCK\n",
        "\n",
        "Grade Challenge : Grade Challeng 2"
      ],
      "metadata": {
        "id": "EtBrGWNJlrSi"
      }
    },
    {
      "cell_type": "markdown",
      "source": [
        "# **Description**"
      ],
      "metadata": {
        "id": "bblZ1ercl7r9"
      }
    },
    {
      "cell_type": "markdown",
      "source": [
        "## **Objectiv**"
      ],
      "metadata": {
        "id": "O_9mng4QmCV_"
      }
    },
    {
      "cell_type": "markdown",
      "source": [
        "Graded Challenge ini dibuat guna mengevaluasi pembelajaran pada Hacktiv8 Data Science Fulltime Program khususnya pada Mathematics and Statistics. Pada Graded challenge ini menggunakanckumpulan data yang di ambil dari *bigquery-public-data* pada tabel *waste_and_diversion* di dataset *austin_waste*."
      ],
      "metadata": {
        "id": "y4kU9nw0nPan"
      }
    },
    {
      "cell_type": "markdown",
      "source": [
        "## **Problem Statement**"
      ],
      "metadata": {
        "id": "AE4X2VGFmIHj"
      }
    },
    {
      "cell_type": "markdown",
      "source": [
        "Disuatu Kota Austin Smart City akan menganalisa sistem pembuangan dan pengolahan sampah di kota tersebut berdasarkan data yang tersedia. Analisa sistem pembuangan dan pengelolaan sampah dapat menggunakan statistik deskriptif dan inferensial sehingga hasil dari analisa tersebut dapat memberikan masukan atau insight kepada pemerintah kota Austin mengenai kondisi sistem pembuangan dan pengelolaan sampah. Pada graded challenge kali ini, saya akan menganalisa sistem pembuangan dan pengelolaan sampah di kota Austin berdasarkan data yang tersedia."
      ],
      "metadata": {
        "id": "MCOOjyqpo3Tc"
      }
    },
    {
      "cell_type": "markdown",
      "source": [
        "# **Working Area**"
      ],
      "metadata": {
        "id": "hkMRwgbNmTqP"
      }
    },
    {
      "cell_type": "markdown",
      "source": [
        "Pada Grade Challenge ini, SQL Query yang di gunakan untuk mengakses datanya adalah sebagai berikut:\n",
        "> \n",
        "SELECT report_date,\n",
        "      load_time,\n",
        "      load_type,\n",
        "      load_weight,\n",
        "      dropoff_site\n",
        "FROM `bigquery-public-data.austin_waste.waste_and_diversion`\n",
        "WHERE CAST(report_date AS STRING) LIKE '%2021%'\n",
        "ORDER BY report_date ASC\n",
        ">\n",
        "Untuk library yang digunakan pada graded challenge, yang menggunakan library pandas, numpy, scipy, seaborn dan matplotlib"
      ],
      "metadata": {
        "id": "v9-rpD1uqaIs"
      }
    },
    {
      "cell_type": "code",
      "source": [
        "import pandas as pd\n",
        "import numpy as np\n",
        "import scipy.stats as stats\n",
        "import seaborn as sns\n",
        "import matplotlib.pyplot as plt\n",
        "%matplotlib inline"
      ],
      "metadata": {
        "id": "7DDab8OOr-gc"
      },
      "execution_count": 81,
      "outputs": []
    },
    {
      "cell_type": "markdown",
      "source": [
        "## **Problem 1 (Stats)**"
      ],
      "metadata": {
        "id": "qoUv3xYGkIbQ"
      }
    },
    {
      "cell_type": "code",
      "source": [
        "df = pd.read_csv('h8dsft_P0GC2_Ropiudin.csv')\n",
        "pd.set_option(\"display.precision\", 2)\n",
        "df"
      ],
      "metadata": {
        "colab": {
          "base_uri": "https://localhost:8080/",
          "height": 424
        },
        "id": "7XpDYHiPkORu",
        "outputId": "49b9df91-2727-468d-83cf-fcb9008b7246"
      },
      "execution_count": 82,
      "outputs": [
        {
          "output_type": "execute_result",
          "data": {
            "text/plain": [
              "      report_date                load_time load_type  load_weight  \\\n",
              "0      2021-01-01  2021-01-01 12:00:00 UTC  SWEEPING          NaN   \n",
              "1      2021-01-01  2021-01-01 12:00:00 UTC  SWEEPING          NaN   \n",
              "2      2021-01-01  2021-01-01 12:00:00 UTC  SWEEPING          NaN   \n",
              "3      2021-01-01  2021-01-01 12:00:00 UTC  SWEEPING          NaN   \n",
              "4      2021-01-02  2021-01-02 09:24:00 UTC     TIRES       1640.0   \n",
              "...           ...                      ...       ...          ...   \n",
              "26152  2021-07-09  2021-07-09 09:48:00 UTC     BRUSH       8240.0   \n",
              "26153  2021-07-09  2021-07-09 12:02:00 UTC     BRUSH       4160.0   \n",
              "26154  2021-07-09  2021-07-09 11:55:00 UTC     BRUSH       4340.0   \n",
              "26155  2021-07-09  2021-07-09 12:00:00 UTC    LITTER       1900.0   \n",
              "26156  2021-07-09  2021-07-09 12:00:00 UTC    LITTER       3040.0   \n",
              "\n",
              "       dropoff_site  \n",
              "0       ONION CREEK  \n",
              "1       ONION CREEK  \n",
              "2       ONION CREEK  \n",
              "3       ONION CREEK  \n",
              "4               MRF  \n",
              "...             ...  \n",
              "26152  HORNSBY BEND  \n",
              "26153  HORNSBY BEND  \n",
              "26154  HORNSBY BEND  \n",
              "26155  TDS LANDFILL  \n",
              "26156  TDS LANDFILL  \n",
              "\n",
              "[26157 rows x 5 columns]"
            ],
            "text/html": [
              "\n",
              "  <div id=\"df-cf4c07f0-60db-4da0-838f-8c90580bcba5\">\n",
              "    <div class=\"colab-df-container\">\n",
              "      <div>\n",
              "<style scoped>\n",
              "    .dataframe tbody tr th:only-of-type {\n",
              "        vertical-align: middle;\n",
              "    }\n",
              "\n",
              "    .dataframe tbody tr th {\n",
              "        vertical-align: top;\n",
              "    }\n",
              "\n",
              "    .dataframe thead th {\n",
              "        text-align: right;\n",
              "    }\n",
              "</style>\n",
              "<table border=\"1\" class=\"dataframe\">\n",
              "  <thead>\n",
              "    <tr style=\"text-align: right;\">\n",
              "      <th></th>\n",
              "      <th>report_date</th>\n",
              "      <th>load_time</th>\n",
              "      <th>load_type</th>\n",
              "      <th>load_weight</th>\n",
              "      <th>dropoff_site</th>\n",
              "    </tr>\n",
              "  </thead>\n",
              "  <tbody>\n",
              "    <tr>\n",
              "      <th>0</th>\n",
              "      <td>2021-01-01</td>\n",
              "      <td>2021-01-01 12:00:00 UTC</td>\n",
              "      <td>SWEEPING</td>\n",
              "      <td>NaN</td>\n",
              "      <td>ONION CREEK</td>\n",
              "    </tr>\n",
              "    <tr>\n",
              "      <th>1</th>\n",
              "      <td>2021-01-01</td>\n",
              "      <td>2021-01-01 12:00:00 UTC</td>\n",
              "      <td>SWEEPING</td>\n",
              "      <td>NaN</td>\n",
              "      <td>ONION CREEK</td>\n",
              "    </tr>\n",
              "    <tr>\n",
              "      <th>2</th>\n",
              "      <td>2021-01-01</td>\n",
              "      <td>2021-01-01 12:00:00 UTC</td>\n",
              "      <td>SWEEPING</td>\n",
              "      <td>NaN</td>\n",
              "      <td>ONION CREEK</td>\n",
              "    </tr>\n",
              "    <tr>\n",
              "      <th>3</th>\n",
              "      <td>2021-01-01</td>\n",
              "      <td>2021-01-01 12:00:00 UTC</td>\n",
              "      <td>SWEEPING</td>\n",
              "      <td>NaN</td>\n",
              "      <td>ONION CREEK</td>\n",
              "    </tr>\n",
              "    <tr>\n",
              "      <th>4</th>\n",
              "      <td>2021-01-02</td>\n",
              "      <td>2021-01-02 09:24:00 UTC</td>\n",
              "      <td>TIRES</td>\n",
              "      <td>1640.0</td>\n",
              "      <td>MRF</td>\n",
              "    </tr>\n",
              "    <tr>\n",
              "      <th>...</th>\n",
              "      <td>...</td>\n",
              "      <td>...</td>\n",
              "      <td>...</td>\n",
              "      <td>...</td>\n",
              "      <td>...</td>\n",
              "    </tr>\n",
              "    <tr>\n",
              "      <th>26152</th>\n",
              "      <td>2021-07-09</td>\n",
              "      <td>2021-07-09 09:48:00 UTC</td>\n",
              "      <td>BRUSH</td>\n",
              "      <td>8240.0</td>\n",
              "      <td>HORNSBY BEND</td>\n",
              "    </tr>\n",
              "    <tr>\n",
              "      <th>26153</th>\n",
              "      <td>2021-07-09</td>\n",
              "      <td>2021-07-09 12:02:00 UTC</td>\n",
              "      <td>BRUSH</td>\n",
              "      <td>4160.0</td>\n",
              "      <td>HORNSBY BEND</td>\n",
              "    </tr>\n",
              "    <tr>\n",
              "      <th>26154</th>\n",
              "      <td>2021-07-09</td>\n",
              "      <td>2021-07-09 11:55:00 UTC</td>\n",
              "      <td>BRUSH</td>\n",
              "      <td>4340.0</td>\n",
              "      <td>HORNSBY BEND</td>\n",
              "    </tr>\n",
              "    <tr>\n",
              "      <th>26155</th>\n",
              "      <td>2021-07-09</td>\n",
              "      <td>2021-07-09 12:00:00 UTC</td>\n",
              "      <td>LITTER</td>\n",
              "      <td>1900.0</td>\n",
              "      <td>TDS LANDFILL</td>\n",
              "    </tr>\n",
              "    <tr>\n",
              "      <th>26156</th>\n",
              "      <td>2021-07-09</td>\n",
              "      <td>2021-07-09 12:00:00 UTC</td>\n",
              "      <td>LITTER</td>\n",
              "      <td>3040.0</td>\n",
              "      <td>TDS LANDFILL</td>\n",
              "    </tr>\n",
              "  </tbody>\n",
              "</table>\n",
              "<p>26157 rows × 5 columns</p>\n",
              "</div>\n",
              "      <button class=\"colab-df-convert\" onclick=\"convertToInteractive('df-cf4c07f0-60db-4da0-838f-8c90580bcba5')\"\n",
              "              title=\"Convert this dataframe to an interactive table.\"\n",
              "              style=\"display:none;\">\n",
              "        \n",
              "  <svg xmlns=\"http://www.w3.org/2000/svg\" height=\"24px\"viewBox=\"0 0 24 24\"\n",
              "       width=\"24px\">\n",
              "    <path d=\"M0 0h24v24H0V0z\" fill=\"none\"/>\n",
              "    <path d=\"M18.56 5.44l.94 2.06.94-2.06 2.06-.94-2.06-.94-.94-2.06-.94 2.06-2.06.94zm-11 1L8.5 8.5l.94-2.06 2.06-.94-2.06-.94L8.5 2.5l-.94 2.06-2.06.94zm10 10l.94 2.06.94-2.06 2.06-.94-2.06-.94-.94-2.06-.94 2.06-2.06.94z\"/><path d=\"M17.41 7.96l-1.37-1.37c-.4-.4-.92-.59-1.43-.59-.52 0-1.04.2-1.43.59L10.3 9.45l-7.72 7.72c-.78.78-.78 2.05 0 2.83L4 21.41c.39.39.9.59 1.41.59.51 0 1.02-.2 1.41-.59l7.78-7.78 2.81-2.81c.8-.78.8-2.07 0-2.86zM5.41 20L4 18.59l7.72-7.72 1.47 1.35L5.41 20z\"/>\n",
              "  </svg>\n",
              "      </button>\n",
              "      \n",
              "  <style>\n",
              "    .colab-df-container {\n",
              "      display:flex;\n",
              "      flex-wrap:wrap;\n",
              "      gap: 12px;\n",
              "    }\n",
              "\n",
              "    .colab-df-convert {\n",
              "      background-color: #E8F0FE;\n",
              "      border: none;\n",
              "      border-radius: 50%;\n",
              "      cursor: pointer;\n",
              "      display: none;\n",
              "      fill: #1967D2;\n",
              "      height: 32px;\n",
              "      padding: 0 0 0 0;\n",
              "      width: 32px;\n",
              "    }\n",
              "\n",
              "    .colab-df-convert:hover {\n",
              "      background-color: #E2EBFA;\n",
              "      box-shadow: 0px 1px 2px rgba(60, 64, 67, 0.3), 0px 1px 3px 1px rgba(60, 64, 67, 0.15);\n",
              "      fill: #174EA6;\n",
              "    }\n",
              "\n",
              "    [theme=dark] .colab-df-convert {\n",
              "      background-color: #3B4455;\n",
              "      fill: #D2E3FC;\n",
              "    }\n",
              "\n",
              "    [theme=dark] .colab-df-convert:hover {\n",
              "      background-color: #434B5C;\n",
              "      box-shadow: 0px 1px 3px 1px rgba(0, 0, 0, 0.15);\n",
              "      filter: drop-shadow(0px 1px 2px rgba(0, 0, 0, 0.3));\n",
              "      fill: #FFFFFF;\n",
              "    }\n",
              "  </style>\n",
              "\n",
              "      <script>\n",
              "        const buttonEl =\n",
              "          document.querySelector('#df-cf4c07f0-60db-4da0-838f-8c90580bcba5 button.colab-df-convert');\n",
              "        buttonEl.style.display =\n",
              "          google.colab.kernel.accessAllowed ? 'block' : 'none';\n",
              "\n",
              "        async function convertToInteractive(key) {\n",
              "          const element = document.querySelector('#df-cf4c07f0-60db-4da0-838f-8c90580bcba5');\n",
              "          const dataTable =\n",
              "            await google.colab.kernel.invokeFunction('convertToInteractive',\n",
              "                                                     [key], {});\n",
              "          if (!dataTable) return;\n",
              "\n",
              "          const docLinkHtml = 'Like what you see? Visit the ' +\n",
              "            '<a target=\"_blank\" href=https://colab.research.google.com/notebooks/data_table.ipynb>data table notebook</a>'\n",
              "            + ' to learn more about interactive tables.';\n",
              "          element.innerHTML = '';\n",
              "          dataTable['output_type'] = 'display_data';\n",
              "          await google.colab.output.renderOutput(dataTable, element);\n",
              "          const docLink = document.createElement('div');\n",
              "          docLink.innerHTML = docLinkHtml;\n",
              "          element.appendChild(docLink);\n",
              "        }\n",
              "      </script>\n",
              "    </div>\n",
              "  </div>\n",
              "  "
            ]
          },
          "metadata": {},
          "execution_count": 82
        }
      ]
    },
    {
      "cell_type": "markdown",
      "source": [
        "> Code di atas merupakan code untuk import data atau membaca data dari tabel yang akan digunakan, pd.set_optoin digunakan untuk menentukan banyaknya angka dibelakang koma pada data float dan df merupakan variabel untuk memanggil data yang di import"
      ],
      "metadata": {
        "id": "jEEXn3Y88K1l"
      }
    },
    {
      "cell_type": "code",
      "source": [
        "df.head()"
      ],
      "metadata": {
        "colab": {
          "base_uri": "https://localhost:8080/",
          "height": 206
        },
        "id": "4rXLkQolk--K",
        "outputId": "14c03dda-4e2d-4839-b2b0-a08efc7d5bf9"
      },
      "execution_count": 83,
      "outputs": [
        {
          "output_type": "execute_result",
          "data": {
            "text/plain": [
              "  report_date                load_time load_type  load_weight dropoff_site\n",
              "0  2021-01-01  2021-01-01 12:00:00 UTC  SWEEPING          NaN  ONION CREEK\n",
              "1  2021-01-01  2021-01-01 12:00:00 UTC  SWEEPING          NaN  ONION CREEK\n",
              "2  2021-01-01  2021-01-01 12:00:00 UTC  SWEEPING          NaN  ONION CREEK\n",
              "3  2021-01-01  2021-01-01 12:00:00 UTC  SWEEPING          NaN  ONION CREEK\n",
              "4  2021-01-02  2021-01-02 09:24:00 UTC     TIRES       1640.0          MRF"
            ],
            "text/html": [
              "\n",
              "  <div id=\"df-259fcf29-920c-416b-a5ee-177eee4b8db2\">\n",
              "    <div class=\"colab-df-container\">\n",
              "      <div>\n",
              "<style scoped>\n",
              "    .dataframe tbody tr th:only-of-type {\n",
              "        vertical-align: middle;\n",
              "    }\n",
              "\n",
              "    .dataframe tbody tr th {\n",
              "        vertical-align: top;\n",
              "    }\n",
              "\n",
              "    .dataframe thead th {\n",
              "        text-align: right;\n",
              "    }\n",
              "</style>\n",
              "<table border=\"1\" class=\"dataframe\">\n",
              "  <thead>\n",
              "    <tr style=\"text-align: right;\">\n",
              "      <th></th>\n",
              "      <th>report_date</th>\n",
              "      <th>load_time</th>\n",
              "      <th>load_type</th>\n",
              "      <th>load_weight</th>\n",
              "      <th>dropoff_site</th>\n",
              "    </tr>\n",
              "  </thead>\n",
              "  <tbody>\n",
              "    <tr>\n",
              "      <th>0</th>\n",
              "      <td>2021-01-01</td>\n",
              "      <td>2021-01-01 12:00:00 UTC</td>\n",
              "      <td>SWEEPING</td>\n",
              "      <td>NaN</td>\n",
              "      <td>ONION CREEK</td>\n",
              "    </tr>\n",
              "    <tr>\n",
              "      <th>1</th>\n",
              "      <td>2021-01-01</td>\n",
              "      <td>2021-01-01 12:00:00 UTC</td>\n",
              "      <td>SWEEPING</td>\n",
              "      <td>NaN</td>\n",
              "      <td>ONION CREEK</td>\n",
              "    </tr>\n",
              "    <tr>\n",
              "      <th>2</th>\n",
              "      <td>2021-01-01</td>\n",
              "      <td>2021-01-01 12:00:00 UTC</td>\n",
              "      <td>SWEEPING</td>\n",
              "      <td>NaN</td>\n",
              "      <td>ONION CREEK</td>\n",
              "    </tr>\n",
              "    <tr>\n",
              "      <th>3</th>\n",
              "      <td>2021-01-01</td>\n",
              "      <td>2021-01-01 12:00:00 UTC</td>\n",
              "      <td>SWEEPING</td>\n",
              "      <td>NaN</td>\n",
              "      <td>ONION CREEK</td>\n",
              "    </tr>\n",
              "    <tr>\n",
              "      <th>4</th>\n",
              "      <td>2021-01-02</td>\n",
              "      <td>2021-01-02 09:24:00 UTC</td>\n",
              "      <td>TIRES</td>\n",
              "      <td>1640.0</td>\n",
              "      <td>MRF</td>\n",
              "    </tr>\n",
              "  </tbody>\n",
              "</table>\n",
              "</div>\n",
              "      <button class=\"colab-df-convert\" onclick=\"convertToInteractive('df-259fcf29-920c-416b-a5ee-177eee4b8db2')\"\n",
              "              title=\"Convert this dataframe to an interactive table.\"\n",
              "              style=\"display:none;\">\n",
              "        \n",
              "  <svg xmlns=\"http://www.w3.org/2000/svg\" height=\"24px\"viewBox=\"0 0 24 24\"\n",
              "       width=\"24px\">\n",
              "    <path d=\"M0 0h24v24H0V0z\" fill=\"none\"/>\n",
              "    <path d=\"M18.56 5.44l.94 2.06.94-2.06 2.06-.94-2.06-.94-.94-2.06-.94 2.06-2.06.94zm-11 1L8.5 8.5l.94-2.06 2.06-.94-2.06-.94L8.5 2.5l-.94 2.06-2.06.94zm10 10l.94 2.06.94-2.06 2.06-.94-2.06-.94-.94-2.06-.94 2.06-2.06.94z\"/><path d=\"M17.41 7.96l-1.37-1.37c-.4-.4-.92-.59-1.43-.59-.52 0-1.04.2-1.43.59L10.3 9.45l-7.72 7.72c-.78.78-.78 2.05 0 2.83L4 21.41c.39.39.9.59 1.41.59.51 0 1.02-.2 1.41-.59l7.78-7.78 2.81-2.81c.8-.78.8-2.07 0-2.86zM5.41 20L4 18.59l7.72-7.72 1.47 1.35L5.41 20z\"/>\n",
              "  </svg>\n",
              "      </button>\n",
              "      \n",
              "  <style>\n",
              "    .colab-df-container {\n",
              "      display:flex;\n",
              "      flex-wrap:wrap;\n",
              "      gap: 12px;\n",
              "    }\n",
              "\n",
              "    .colab-df-convert {\n",
              "      background-color: #E8F0FE;\n",
              "      border: none;\n",
              "      border-radius: 50%;\n",
              "      cursor: pointer;\n",
              "      display: none;\n",
              "      fill: #1967D2;\n",
              "      height: 32px;\n",
              "      padding: 0 0 0 0;\n",
              "      width: 32px;\n",
              "    }\n",
              "\n",
              "    .colab-df-convert:hover {\n",
              "      background-color: #E2EBFA;\n",
              "      box-shadow: 0px 1px 2px rgba(60, 64, 67, 0.3), 0px 1px 3px 1px rgba(60, 64, 67, 0.15);\n",
              "      fill: #174EA6;\n",
              "    }\n",
              "\n",
              "    [theme=dark] .colab-df-convert {\n",
              "      background-color: #3B4455;\n",
              "      fill: #D2E3FC;\n",
              "    }\n",
              "\n",
              "    [theme=dark] .colab-df-convert:hover {\n",
              "      background-color: #434B5C;\n",
              "      box-shadow: 0px 1px 3px 1px rgba(0, 0, 0, 0.15);\n",
              "      filter: drop-shadow(0px 1px 2px rgba(0, 0, 0, 0.3));\n",
              "      fill: #FFFFFF;\n",
              "    }\n",
              "  </style>\n",
              "\n",
              "      <script>\n",
              "        const buttonEl =\n",
              "          document.querySelector('#df-259fcf29-920c-416b-a5ee-177eee4b8db2 button.colab-df-convert');\n",
              "        buttonEl.style.display =\n",
              "          google.colab.kernel.accessAllowed ? 'block' : 'none';\n",
              "\n",
              "        async function convertToInteractive(key) {\n",
              "          const element = document.querySelector('#df-259fcf29-920c-416b-a5ee-177eee4b8db2');\n",
              "          const dataTable =\n",
              "            await google.colab.kernel.invokeFunction('convertToInteractive',\n",
              "                                                     [key], {});\n",
              "          if (!dataTable) return;\n",
              "\n",
              "          const docLinkHtml = 'Like what you see? Visit the ' +\n",
              "            '<a target=\"_blank\" href=https://colab.research.google.com/notebooks/data_table.ipynb>data table notebook</a>'\n",
              "            + ' to learn more about interactive tables.';\n",
              "          element.innerHTML = '';\n",
              "          dataTable['output_type'] = 'display_data';\n",
              "          await google.colab.output.renderOutput(dataTable, element);\n",
              "          const docLink = document.createElement('div');\n",
              "          docLink.innerHTML = docLinkHtml;\n",
              "          element.appendChild(docLink);\n",
              "        }\n",
              "      </script>\n",
              "    </div>\n",
              "  </div>\n",
              "  "
            ]
          },
          "metadata": {},
          "execution_count": 83
        }
      ]
    },
    {
      "cell_type": "markdown",
      "source": [
        "> Code df.head() di atas merupakan code untuk menampilkan tabel teratas yang bisa di tentukan jumlah baris yang mau di tampilkan pada variabel df"
      ],
      "metadata": {
        "id": "oFe1hexW8T2G"
      }
    },
    {
      "cell_type": "code",
      "source": [
        "df.tail()"
      ],
      "metadata": {
        "colab": {
          "base_uri": "https://localhost:8080/",
          "height": 206
        },
        "id": "SeaioDvPlN98",
        "outputId": "d42c26ee-93dc-4ee0-ae27-a66547840173"
      },
      "execution_count": 84,
      "outputs": [
        {
          "output_type": "execute_result",
          "data": {
            "text/plain": [
              "      report_date                load_time load_type  load_weight  \\\n",
              "26152  2021-07-09  2021-07-09 09:48:00 UTC     BRUSH       8240.0   \n",
              "26153  2021-07-09  2021-07-09 12:02:00 UTC     BRUSH       4160.0   \n",
              "26154  2021-07-09  2021-07-09 11:55:00 UTC     BRUSH       4340.0   \n",
              "26155  2021-07-09  2021-07-09 12:00:00 UTC    LITTER       1900.0   \n",
              "26156  2021-07-09  2021-07-09 12:00:00 UTC    LITTER       3040.0   \n",
              "\n",
              "       dropoff_site  \n",
              "26152  HORNSBY BEND  \n",
              "26153  HORNSBY BEND  \n",
              "26154  HORNSBY BEND  \n",
              "26155  TDS LANDFILL  \n",
              "26156  TDS LANDFILL  "
            ],
            "text/html": [
              "\n",
              "  <div id=\"df-a564910b-f6c1-444c-8766-a06271cba494\">\n",
              "    <div class=\"colab-df-container\">\n",
              "      <div>\n",
              "<style scoped>\n",
              "    .dataframe tbody tr th:only-of-type {\n",
              "        vertical-align: middle;\n",
              "    }\n",
              "\n",
              "    .dataframe tbody tr th {\n",
              "        vertical-align: top;\n",
              "    }\n",
              "\n",
              "    .dataframe thead th {\n",
              "        text-align: right;\n",
              "    }\n",
              "</style>\n",
              "<table border=\"1\" class=\"dataframe\">\n",
              "  <thead>\n",
              "    <tr style=\"text-align: right;\">\n",
              "      <th></th>\n",
              "      <th>report_date</th>\n",
              "      <th>load_time</th>\n",
              "      <th>load_type</th>\n",
              "      <th>load_weight</th>\n",
              "      <th>dropoff_site</th>\n",
              "    </tr>\n",
              "  </thead>\n",
              "  <tbody>\n",
              "    <tr>\n",
              "      <th>26152</th>\n",
              "      <td>2021-07-09</td>\n",
              "      <td>2021-07-09 09:48:00 UTC</td>\n",
              "      <td>BRUSH</td>\n",
              "      <td>8240.0</td>\n",
              "      <td>HORNSBY BEND</td>\n",
              "    </tr>\n",
              "    <tr>\n",
              "      <th>26153</th>\n",
              "      <td>2021-07-09</td>\n",
              "      <td>2021-07-09 12:02:00 UTC</td>\n",
              "      <td>BRUSH</td>\n",
              "      <td>4160.0</td>\n",
              "      <td>HORNSBY BEND</td>\n",
              "    </tr>\n",
              "    <tr>\n",
              "      <th>26154</th>\n",
              "      <td>2021-07-09</td>\n",
              "      <td>2021-07-09 11:55:00 UTC</td>\n",
              "      <td>BRUSH</td>\n",
              "      <td>4340.0</td>\n",
              "      <td>HORNSBY BEND</td>\n",
              "    </tr>\n",
              "    <tr>\n",
              "      <th>26155</th>\n",
              "      <td>2021-07-09</td>\n",
              "      <td>2021-07-09 12:00:00 UTC</td>\n",
              "      <td>LITTER</td>\n",
              "      <td>1900.0</td>\n",
              "      <td>TDS LANDFILL</td>\n",
              "    </tr>\n",
              "    <tr>\n",
              "      <th>26156</th>\n",
              "      <td>2021-07-09</td>\n",
              "      <td>2021-07-09 12:00:00 UTC</td>\n",
              "      <td>LITTER</td>\n",
              "      <td>3040.0</td>\n",
              "      <td>TDS LANDFILL</td>\n",
              "    </tr>\n",
              "  </tbody>\n",
              "</table>\n",
              "</div>\n",
              "      <button class=\"colab-df-convert\" onclick=\"convertToInteractive('df-a564910b-f6c1-444c-8766-a06271cba494')\"\n",
              "              title=\"Convert this dataframe to an interactive table.\"\n",
              "              style=\"display:none;\">\n",
              "        \n",
              "  <svg xmlns=\"http://www.w3.org/2000/svg\" height=\"24px\"viewBox=\"0 0 24 24\"\n",
              "       width=\"24px\">\n",
              "    <path d=\"M0 0h24v24H0V0z\" fill=\"none\"/>\n",
              "    <path d=\"M18.56 5.44l.94 2.06.94-2.06 2.06-.94-2.06-.94-.94-2.06-.94 2.06-2.06.94zm-11 1L8.5 8.5l.94-2.06 2.06-.94-2.06-.94L8.5 2.5l-.94 2.06-2.06.94zm10 10l.94 2.06.94-2.06 2.06-.94-2.06-.94-.94-2.06-.94 2.06-2.06.94z\"/><path d=\"M17.41 7.96l-1.37-1.37c-.4-.4-.92-.59-1.43-.59-.52 0-1.04.2-1.43.59L10.3 9.45l-7.72 7.72c-.78.78-.78 2.05 0 2.83L4 21.41c.39.39.9.59 1.41.59.51 0 1.02-.2 1.41-.59l7.78-7.78 2.81-2.81c.8-.78.8-2.07 0-2.86zM5.41 20L4 18.59l7.72-7.72 1.47 1.35L5.41 20z\"/>\n",
              "  </svg>\n",
              "      </button>\n",
              "      \n",
              "  <style>\n",
              "    .colab-df-container {\n",
              "      display:flex;\n",
              "      flex-wrap:wrap;\n",
              "      gap: 12px;\n",
              "    }\n",
              "\n",
              "    .colab-df-convert {\n",
              "      background-color: #E8F0FE;\n",
              "      border: none;\n",
              "      border-radius: 50%;\n",
              "      cursor: pointer;\n",
              "      display: none;\n",
              "      fill: #1967D2;\n",
              "      height: 32px;\n",
              "      padding: 0 0 0 0;\n",
              "      width: 32px;\n",
              "    }\n",
              "\n",
              "    .colab-df-convert:hover {\n",
              "      background-color: #E2EBFA;\n",
              "      box-shadow: 0px 1px 2px rgba(60, 64, 67, 0.3), 0px 1px 3px 1px rgba(60, 64, 67, 0.15);\n",
              "      fill: #174EA6;\n",
              "    }\n",
              "\n",
              "    [theme=dark] .colab-df-convert {\n",
              "      background-color: #3B4455;\n",
              "      fill: #D2E3FC;\n",
              "    }\n",
              "\n",
              "    [theme=dark] .colab-df-convert:hover {\n",
              "      background-color: #434B5C;\n",
              "      box-shadow: 0px 1px 3px 1px rgba(0, 0, 0, 0.15);\n",
              "      filter: drop-shadow(0px 1px 2px rgba(0, 0, 0, 0.3));\n",
              "      fill: #FFFFFF;\n",
              "    }\n",
              "  </style>\n",
              "\n",
              "      <script>\n",
              "        const buttonEl =\n",
              "          document.querySelector('#df-a564910b-f6c1-444c-8766-a06271cba494 button.colab-df-convert');\n",
              "        buttonEl.style.display =\n",
              "          google.colab.kernel.accessAllowed ? 'block' : 'none';\n",
              "\n",
              "        async function convertToInteractive(key) {\n",
              "          const element = document.querySelector('#df-a564910b-f6c1-444c-8766-a06271cba494');\n",
              "          const dataTable =\n",
              "            await google.colab.kernel.invokeFunction('convertToInteractive',\n",
              "                                                     [key], {});\n",
              "          if (!dataTable) return;\n",
              "\n",
              "          const docLinkHtml = 'Like what you see? Visit the ' +\n",
              "            '<a target=\"_blank\" href=https://colab.research.google.com/notebooks/data_table.ipynb>data table notebook</a>'\n",
              "            + ' to learn more about interactive tables.';\n",
              "          element.innerHTML = '';\n",
              "          dataTable['output_type'] = 'display_data';\n",
              "          await google.colab.output.renderOutput(dataTable, element);\n",
              "          const docLink = document.createElement('div');\n",
              "          docLink.innerHTML = docLinkHtml;\n",
              "          element.appendChild(docLink);\n",
              "        }\n",
              "      </script>\n",
              "    </div>\n",
              "  </div>\n",
              "  "
            ]
          },
          "metadata": {},
          "execution_count": 84
        }
      ]
    },
    {
      "cell_type": "markdown",
      "source": [
        "> Code df.tail() di atas merupakan code untuk menampilkan tabel terbawah yang bisa di tentukan jumlah baris yang mau di tampilkan pada variabel df"
      ],
      "metadata": {
        "id": "ag0f-zXX8btl"
      }
    },
    {
      "cell_type": "markdown",
      "source": [
        "### 1. Sebelum melakukan perhitungan dan analisa statistik, lakukan pembersihan data terlebih dahulu. Pastikan tidak ada missing value, dsb."
      ],
      "metadata": {
        "id": "qNjPLwylljzR"
      }
    },
    {
      "cell_type": "code",
      "source": [
        "df.info()"
      ],
      "metadata": {
        "colab": {
          "base_uri": "https://localhost:8080/"
        },
        "id": "CGcGfkzalrUN",
        "outputId": "52168d60-e273-4d12-b543-dde6eb471214"
      },
      "execution_count": 85,
      "outputs": [
        {
          "output_type": "stream",
          "name": "stdout",
          "text": [
            "<class 'pandas.core.frame.DataFrame'>\n",
            "RangeIndex: 26157 entries, 0 to 26156\n",
            "Data columns (total 5 columns):\n",
            " #   Column        Non-Null Count  Dtype  \n",
            "---  ------        --------------  -----  \n",
            " 0   report_date   26157 non-null  object \n",
            " 1   load_time     26157 non-null  object \n",
            " 2   load_type     26157 non-null  object \n",
            " 3   load_weight   25109 non-null  float64\n",
            " 4   dropoff_site  26157 non-null  object \n",
            "dtypes: float64(1), object(4)\n",
            "memory usage: 1021.9+ KB\n"
          ]
        }
      ]
    },
    {
      "cell_type": "markdown",
      "source": [
        "> Code df.info() merupakan code untuk menampil kan informasi terkait data yang kita punya, yang berisikan jumlah baris dan kolom pada data serta nama - nama kolom yang terdapat pada data. Dan terdapat pula informasi missing values di setiap kolom pada data. \n",
        "\n",
        "> Pada kolom load_weight jumlah barisnya tidak sama dengan jumlah baris pada data, yang berarti pada kolom load_weight terdapat missing value"
      ],
      "metadata": {
        "id": "Rahn5_a-8sMV"
      }
    },
    {
      "cell_type": "code",
      "source": [
        "df.isnull().sum()"
      ],
      "metadata": {
        "colab": {
          "base_uri": "https://localhost:8080/"
        },
        "id": "-800TjfFmFQN",
        "outputId": "64f771a4-582a-4942-99b6-c6468fca4394"
      },
      "execution_count": 86,
      "outputs": [
        {
          "output_type": "execute_result",
          "data": {
            "text/plain": [
              "report_date        0\n",
              "load_time          0\n",
              "load_type          0\n",
              "load_weight     1048\n",
              "dropoff_site       0\n",
              "dtype: int64"
            ]
          },
          "metadata": {},
          "execution_count": 86
        }
      ]
    },
    {
      "cell_type": "markdown",
      "source": [
        "> Code df.isnull().sum() di atas merupakan code untuk menampilkan jumlah missing value di setiap kolom yang mana hanya terdapat missing value pada kolom load_weight yaitu sebanyak 1048"
      ],
      "metadata": {
        "id": "JzzmX-O_9ir5"
      }
    },
    {
      "cell_type": "code",
      "source": [
        "df.dropna(inplace=True)"
      ],
      "metadata": {
        "id": "uD-GkOo6mK0A"
      },
      "execution_count": 87,
      "outputs": []
    },
    {
      "cell_type": "code",
      "source": [
        "df"
      ],
      "metadata": {
        "colab": {
          "base_uri": "https://localhost:8080/",
          "height": 424
        },
        "id": "viJ8f_2qnOyp",
        "outputId": "ea337b85-9c0b-46f4-a511-fa4b4dd6c89f"
      },
      "execution_count": 88,
      "outputs": [
        {
          "output_type": "execute_result",
          "data": {
            "text/plain": [
              "      report_date                load_time                  load_type  \\\n",
              "4      2021-01-02  2021-01-02 09:24:00 UTC                      TIRES   \n",
              "5      2021-01-02  2021-01-02 11:47:00 UTC                      TIRES   \n",
              "6      2021-01-02  2021-01-02 12:00:00 UTC  RECYCLING - SINGLE STREAM   \n",
              "7      2021-01-02  2021-01-02 09:02:00 UTC  RECYCLING - SINGLE STREAM   \n",
              "11     2021-01-02  2021-01-02 05:44:00 UTC              YARD TRIMMING   \n",
              "...           ...                      ...                        ...   \n",
              "26152  2021-07-09  2021-07-09 09:48:00 UTC                      BRUSH   \n",
              "26153  2021-07-09  2021-07-09 12:02:00 UTC                      BRUSH   \n",
              "26154  2021-07-09  2021-07-09 11:55:00 UTC                      BRUSH   \n",
              "26155  2021-07-09  2021-07-09 12:00:00 UTC                     LITTER   \n",
              "26156  2021-07-09  2021-07-09 12:00:00 UTC                     LITTER   \n",
              "\n",
              "       load_weight  dropoff_site  \n",
              "4           1640.0           MRF  \n",
              "5            940.0           MRF  \n",
              "6            320.0     TDS - MRF  \n",
              "7            520.0     TDS - MRF  \n",
              "11         17660.0  HORNSBY BEND  \n",
              "...            ...           ...  \n",
              "26152       8240.0  HORNSBY BEND  \n",
              "26153       4160.0  HORNSBY BEND  \n",
              "26154       4340.0  HORNSBY BEND  \n",
              "26155       1900.0  TDS LANDFILL  \n",
              "26156       3040.0  TDS LANDFILL  \n",
              "\n",
              "[25109 rows x 5 columns]"
            ],
            "text/html": [
              "\n",
              "  <div id=\"df-29f08937-e826-425f-b785-d3e05c4f358a\">\n",
              "    <div class=\"colab-df-container\">\n",
              "      <div>\n",
              "<style scoped>\n",
              "    .dataframe tbody tr th:only-of-type {\n",
              "        vertical-align: middle;\n",
              "    }\n",
              "\n",
              "    .dataframe tbody tr th {\n",
              "        vertical-align: top;\n",
              "    }\n",
              "\n",
              "    .dataframe thead th {\n",
              "        text-align: right;\n",
              "    }\n",
              "</style>\n",
              "<table border=\"1\" class=\"dataframe\">\n",
              "  <thead>\n",
              "    <tr style=\"text-align: right;\">\n",
              "      <th></th>\n",
              "      <th>report_date</th>\n",
              "      <th>load_time</th>\n",
              "      <th>load_type</th>\n",
              "      <th>load_weight</th>\n",
              "      <th>dropoff_site</th>\n",
              "    </tr>\n",
              "  </thead>\n",
              "  <tbody>\n",
              "    <tr>\n",
              "      <th>4</th>\n",
              "      <td>2021-01-02</td>\n",
              "      <td>2021-01-02 09:24:00 UTC</td>\n",
              "      <td>TIRES</td>\n",
              "      <td>1640.0</td>\n",
              "      <td>MRF</td>\n",
              "    </tr>\n",
              "    <tr>\n",
              "      <th>5</th>\n",
              "      <td>2021-01-02</td>\n",
              "      <td>2021-01-02 11:47:00 UTC</td>\n",
              "      <td>TIRES</td>\n",
              "      <td>940.0</td>\n",
              "      <td>MRF</td>\n",
              "    </tr>\n",
              "    <tr>\n",
              "      <th>6</th>\n",
              "      <td>2021-01-02</td>\n",
              "      <td>2021-01-02 12:00:00 UTC</td>\n",
              "      <td>RECYCLING - SINGLE STREAM</td>\n",
              "      <td>320.0</td>\n",
              "      <td>TDS - MRF</td>\n",
              "    </tr>\n",
              "    <tr>\n",
              "      <th>7</th>\n",
              "      <td>2021-01-02</td>\n",
              "      <td>2021-01-02 09:02:00 UTC</td>\n",
              "      <td>RECYCLING - SINGLE STREAM</td>\n",
              "      <td>520.0</td>\n",
              "      <td>TDS - MRF</td>\n",
              "    </tr>\n",
              "    <tr>\n",
              "      <th>11</th>\n",
              "      <td>2021-01-02</td>\n",
              "      <td>2021-01-02 05:44:00 UTC</td>\n",
              "      <td>YARD TRIMMING</td>\n",
              "      <td>17660.0</td>\n",
              "      <td>HORNSBY BEND</td>\n",
              "    </tr>\n",
              "    <tr>\n",
              "      <th>...</th>\n",
              "      <td>...</td>\n",
              "      <td>...</td>\n",
              "      <td>...</td>\n",
              "      <td>...</td>\n",
              "      <td>...</td>\n",
              "    </tr>\n",
              "    <tr>\n",
              "      <th>26152</th>\n",
              "      <td>2021-07-09</td>\n",
              "      <td>2021-07-09 09:48:00 UTC</td>\n",
              "      <td>BRUSH</td>\n",
              "      <td>8240.0</td>\n",
              "      <td>HORNSBY BEND</td>\n",
              "    </tr>\n",
              "    <tr>\n",
              "      <th>26153</th>\n",
              "      <td>2021-07-09</td>\n",
              "      <td>2021-07-09 12:02:00 UTC</td>\n",
              "      <td>BRUSH</td>\n",
              "      <td>4160.0</td>\n",
              "      <td>HORNSBY BEND</td>\n",
              "    </tr>\n",
              "    <tr>\n",
              "      <th>26154</th>\n",
              "      <td>2021-07-09</td>\n",
              "      <td>2021-07-09 11:55:00 UTC</td>\n",
              "      <td>BRUSH</td>\n",
              "      <td>4340.0</td>\n",
              "      <td>HORNSBY BEND</td>\n",
              "    </tr>\n",
              "    <tr>\n",
              "      <th>26155</th>\n",
              "      <td>2021-07-09</td>\n",
              "      <td>2021-07-09 12:00:00 UTC</td>\n",
              "      <td>LITTER</td>\n",
              "      <td>1900.0</td>\n",
              "      <td>TDS LANDFILL</td>\n",
              "    </tr>\n",
              "    <tr>\n",
              "      <th>26156</th>\n",
              "      <td>2021-07-09</td>\n",
              "      <td>2021-07-09 12:00:00 UTC</td>\n",
              "      <td>LITTER</td>\n",
              "      <td>3040.0</td>\n",
              "      <td>TDS LANDFILL</td>\n",
              "    </tr>\n",
              "  </tbody>\n",
              "</table>\n",
              "<p>25109 rows × 5 columns</p>\n",
              "</div>\n",
              "      <button class=\"colab-df-convert\" onclick=\"convertToInteractive('df-29f08937-e826-425f-b785-d3e05c4f358a')\"\n",
              "              title=\"Convert this dataframe to an interactive table.\"\n",
              "              style=\"display:none;\">\n",
              "        \n",
              "  <svg xmlns=\"http://www.w3.org/2000/svg\" height=\"24px\"viewBox=\"0 0 24 24\"\n",
              "       width=\"24px\">\n",
              "    <path d=\"M0 0h24v24H0V0z\" fill=\"none\"/>\n",
              "    <path d=\"M18.56 5.44l.94 2.06.94-2.06 2.06-.94-2.06-.94-.94-2.06-.94 2.06-2.06.94zm-11 1L8.5 8.5l.94-2.06 2.06-.94-2.06-.94L8.5 2.5l-.94 2.06-2.06.94zm10 10l.94 2.06.94-2.06 2.06-.94-2.06-.94-.94-2.06-.94 2.06-2.06.94z\"/><path d=\"M17.41 7.96l-1.37-1.37c-.4-.4-.92-.59-1.43-.59-.52 0-1.04.2-1.43.59L10.3 9.45l-7.72 7.72c-.78.78-.78 2.05 0 2.83L4 21.41c.39.39.9.59 1.41.59.51 0 1.02-.2 1.41-.59l7.78-7.78 2.81-2.81c.8-.78.8-2.07 0-2.86zM5.41 20L4 18.59l7.72-7.72 1.47 1.35L5.41 20z\"/>\n",
              "  </svg>\n",
              "      </button>\n",
              "      \n",
              "  <style>\n",
              "    .colab-df-container {\n",
              "      display:flex;\n",
              "      flex-wrap:wrap;\n",
              "      gap: 12px;\n",
              "    }\n",
              "\n",
              "    .colab-df-convert {\n",
              "      background-color: #E8F0FE;\n",
              "      border: none;\n",
              "      border-radius: 50%;\n",
              "      cursor: pointer;\n",
              "      display: none;\n",
              "      fill: #1967D2;\n",
              "      height: 32px;\n",
              "      padding: 0 0 0 0;\n",
              "      width: 32px;\n",
              "    }\n",
              "\n",
              "    .colab-df-convert:hover {\n",
              "      background-color: #E2EBFA;\n",
              "      box-shadow: 0px 1px 2px rgba(60, 64, 67, 0.3), 0px 1px 3px 1px rgba(60, 64, 67, 0.15);\n",
              "      fill: #174EA6;\n",
              "    }\n",
              "\n",
              "    [theme=dark] .colab-df-convert {\n",
              "      background-color: #3B4455;\n",
              "      fill: #D2E3FC;\n",
              "    }\n",
              "\n",
              "    [theme=dark] .colab-df-convert:hover {\n",
              "      background-color: #434B5C;\n",
              "      box-shadow: 0px 1px 3px 1px rgba(0, 0, 0, 0.15);\n",
              "      filter: drop-shadow(0px 1px 2px rgba(0, 0, 0, 0.3));\n",
              "      fill: #FFFFFF;\n",
              "    }\n",
              "  </style>\n",
              "\n",
              "      <script>\n",
              "        const buttonEl =\n",
              "          document.querySelector('#df-29f08937-e826-425f-b785-d3e05c4f358a button.colab-df-convert');\n",
              "        buttonEl.style.display =\n",
              "          google.colab.kernel.accessAllowed ? 'block' : 'none';\n",
              "\n",
              "        async function convertToInteractive(key) {\n",
              "          const element = document.querySelector('#df-29f08937-e826-425f-b785-d3e05c4f358a');\n",
              "          const dataTable =\n",
              "            await google.colab.kernel.invokeFunction('convertToInteractive',\n",
              "                                                     [key], {});\n",
              "          if (!dataTable) return;\n",
              "\n",
              "          const docLinkHtml = 'Like what you see? Visit the ' +\n",
              "            '<a target=\"_blank\" href=https://colab.research.google.com/notebooks/data_table.ipynb>data table notebook</a>'\n",
              "            + ' to learn more about interactive tables.';\n",
              "          element.innerHTML = '';\n",
              "          dataTable['output_type'] = 'display_data';\n",
              "          await google.colab.output.renderOutput(dataTable, element);\n",
              "          const docLink = document.createElement('div');\n",
              "          docLink.innerHTML = docLinkHtml;\n",
              "          element.appendChild(docLink);\n",
              "        }\n",
              "      </script>\n",
              "    </div>\n",
              "  </div>\n",
              "  "
            ]
          },
          "metadata": {},
          "execution_count": 88
        }
      ]
    },
    {
      "cell_type": "markdown",
      "source": [
        "> Pada kasus ini, untuk handling missing value saya gunakan code df.dropna(inplace=True) untuk menghapus missing value yang terdapat pada data"
      ],
      "metadata": {
        "id": "dG1sqZoz94jO"
      }
    },
    {
      "cell_type": "code",
      "source": [
        "df.info()"
      ],
      "metadata": {
        "colab": {
          "base_uri": "https://localhost:8080/"
        },
        "id": "-NH96L2OnbLu",
        "outputId": "bffa5bc7-7da7-4d4a-c4bb-0b6a13f8e98e"
      },
      "execution_count": 89,
      "outputs": [
        {
          "output_type": "stream",
          "name": "stdout",
          "text": [
            "<class 'pandas.core.frame.DataFrame'>\n",
            "Int64Index: 25109 entries, 4 to 26156\n",
            "Data columns (total 5 columns):\n",
            " #   Column        Non-Null Count  Dtype  \n",
            "---  ------        --------------  -----  \n",
            " 0   report_date   25109 non-null  object \n",
            " 1   load_time     25109 non-null  object \n",
            " 2   load_type     25109 non-null  object \n",
            " 3   load_weight   25109 non-null  float64\n",
            " 4   dropoff_site  25109 non-null  object \n",
            "dtypes: float64(1), object(4)\n",
            "memory usage: 1.1+ MB\n"
          ]
        }
      ]
    },
    {
      "cell_type": "markdown",
      "source": [
        "> Sehingga apabila dilakukan df.info() untuk melihat informasi pada data, sudah tidak terdapat missing value lagi di setiap kolom pada data"
      ],
      "metadata": {
        "id": "VuLjUJz6-MWv"
      }
    },
    {
      "cell_type": "markdown",
      "source": [
        "### 2. Selanjutnya, lakukan eksplorasi data sederhana guna mengetahui dan mengenali data yang kamu punya. Kamu bisa lakukan hal-hal berikut untuk mengeksplorasi data kamu.\n",
        "\n",
        " - Melihat rentang waktu pengambilan data\n",
        " - Ada apa saja tipe load sampah di kota Austin berdasarkan data\n",
        " - Mengetahui tempat pembuangan sampah ada dimana saja\n",
        " - dsb."
      ],
      "metadata": {
        "id": "560jjT5snpr5"
      }
    },
    {
      "cell_type": "code",
      "source": [
        "df.loc[:, 'report_date'].min()"
      ],
      "metadata": {
        "colab": {
          "base_uri": "https://localhost:8080/",
          "height": 35
        },
        "id": "8PK7tY9-nwqJ",
        "outputId": "8bdce6cb-4a04-428d-f409-0abcac232783"
      },
      "execution_count": 90,
      "outputs": [
        {
          "output_type": "execute_result",
          "data": {
            "text/plain": [
              "'2021-01-02'"
            ],
            "application/vnd.google.colaboratory.intrinsic+json": {
              "type": "string"
            }
          },
          "metadata": {},
          "execution_count": 90
        }
      ]
    },
    {
      "cell_type": "markdown",
      "source": [
        "> Code di atas merupakan code untuk menampilkan tanggal awal pengambilan data, yang mana pada tabel data di atas, awal pengambilan datanya yaitu pada tanggal 2021-01-02 "
      ],
      "metadata": {
        "id": "zouW_rJbLeAH"
      }
    },
    {
      "cell_type": "code",
      "source": [
        "df.loc[:, 'report_date'].max()"
      ],
      "metadata": {
        "colab": {
          "base_uri": "https://localhost:8080/",
          "height": 35
        },
        "id": "tGJ-Ehwco6pC",
        "outputId": "d43ca3a2-6cf3-42a1-8527-a7835724577d"
      },
      "execution_count": 91,
      "outputs": [
        {
          "output_type": "execute_result",
          "data": {
            "text/plain": [
              "'2021-07-09'"
            ],
            "application/vnd.google.colaboratory.intrinsic+json": {
              "type": "string"
            }
          },
          "metadata": {},
          "execution_count": 91
        }
      ]
    },
    {
      "cell_type": "markdown",
      "source": [
        "> Code di atas merupakan code untuk menampilkan tanggal akhir pengambilan data, yang mana pada tabel data di atas, terahil pengambilan datanya yaitu pada tanggal 2021-07-09 "
      ],
      "metadata": {
        "id": "DMxQ8SvkL8c-"
      }
    },
    {
      "cell_type": "code",
      "source": [
        "df.loc[:, 'load_weight'].min()"
      ],
      "metadata": {
        "colab": {
          "base_uri": "https://localhost:8080/"
        },
        "id": "fSrCwO1m9gzR",
        "outputId": "332ab00f-4e9d-4b63-cc28-ef0f5b61ab07"
      },
      "execution_count": 92,
      "outputs": [
        {
          "output_type": "execute_result",
          "data": {
            "text/plain": [
              "0.0"
            ]
          },
          "metadata": {},
          "execution_count": 92
        }
      ]
    },
    {
      "cell_type": "markdown",
      "source": [
        "> Code di atas merupakan code untuk melihat load_weight terkecil dari data, yang mana load_weight terkecil di setiap kali pembuangan sampah yaitu seberat 0 kg"
      ],
      "metadata": {
        "id": "evu0eeXnM7y8"
      }
    },
    {
      "cell_type": "code",
      "source": [
        "df.loc[:, 'load_weight'].max()"
      ],
      "metadata": {
        "colab": {
          "base_uri": "https://localhost:8080/"
        },
        "id": "rqVkT5KNGELf",
        "outputId": "4085403d-1269-4ea4-a35d-1dfc24839c07"
      },
      "execution_count": 93,
      "outputs": [
        {
          "output_type": "execute_result",
          "data": {
            "text/plain": [
              "245540.0"
            ]
          },
          "metadata": {},
          "execution_count": 93
        }
      ]
    },
    {
      "cell_type": "markdown",
      "source": [
        "> Code di atas merupakan code untuk melihat load_weight terbesar dari data, yang mana load_weight terbesar di setiap kali pembuangan sampah yaitu seberat 245540 kg"
      ],
      "metadata": {
        "id": "dHzqzGE_NYV5"
      }
    },
    {
      "cell_type": "code",
      "source": [
        "df.groupby(['load_type'])['load_weight'].count().sort_values(ascending=False).reset_index()"
      ],
      "metadata": {
        "colab": {
          "base_uri": "https://localhost:8080/",
          "height": 488
        },
        "id": "ZbKkGIaUus0Q",
        "outputId": "ed85bc71-6a79-427f-98ea-83b02fe3d72e"
      },
      "execution_count": 94,
      "outputs": [
        {
          "output_type": "execute_result",
          "data": {
            "text/plain": [
              "                    load_type  load_weight\n",
              "0         GARBAGE COLLECTIONS         8241\n",
              "1   RECYCLING - SINGLE STREAM         6760\n",
              "2                    ORGANICS         5749\n",
              "3                        BULK         1594\n",
              "4                       BRUSH         1514\n",
              "5                    SWEEPING          360\n",
              "6                MIXED LITTER          329\n",
              "7                       TIRES          175\n",
              "8                 DEAD ANIMAL          150\n",
              "9               YARD TRIMMING          137\n",
              "10             RECYCLED METAL           57\n",
              "11                     LITTER           41\n",
              "12      CONTAMINATED ORGANICS            1\n",
              "13     CONTAMINATED RECYCLING            1"
            ],
            "text/html": [
              "\n",
              "  <div id=\"df-65bd0f5c-a260-4936-8b2e-7e6ddfc219b1\">\n",
              "    <div class=\"colab-df-container\">\n",
              "      <div>\n",
              "<style scoped>\n",
              "    .dataframe tbody tr th:only-of-type {\n",
              "        vertical-align: middle;\n",
              "    }\n",
              "\n",
              "    .dataframe tbody tr th {\n",
              "        vertical-align: top;\n",
              "    }\n",
              "\n",
              "    .dataframe thead th {\n",
              "        text-align: right;\n",
              "    }\n",
              "</style>\n",
              "<table border=\"1\" class=\"dataframe\">\n",
              "  <thead>\n",
              "    <tr style=\"text-align: right;\">\n",
              "      <th></th>\n",
              "      <th>load_type</th>\n",
              "      <th>load_weight</th>\n",
              "    </tr>\n",
              "  </thead>\n",
              "  <tbody>\n",
              "    <tr>\n",
              "      <th>0</th>\n",
              "      <td>GARBAGE COLLECTIONS</td>\n",
              "      <td>8241</td>\n",
              "    </tr>\n",
              "    <tr>\n",
              "      <th>1</th>\n",
              "      <td>RECYCLING - SINGLE STREAM</td>\n",
              "      <td>6760</td>\n",
              "    </tr>\n",
              "    <tr>\n",
              "      <th>2</th>\n",
              "      <td>ORGANICS</td>\n",
              "      <td>5749</td>\n",
              "    </tr>\n",
              "    <tr>\n",
              "      <th>3</th>\n",
              "      <td>BULK</td>\n",
              "      <td>1594</td>\n",
              "    </tr>\n",
              "    <tr>\n",
              "      <th>4</th>\n",
              "      <td>BRUSH</td>\n",
              "      <td>1514</td>\n",
              "    </tr>\n",
              "    <tr>\n",
              "      <th>5</th>\n",
              "      <td>SWEEPING</td>\n",
              "      <td>360</td>\n",
              "    </tr>\n",
              "    <tr>\n",
              "      <th>6</th>\n",
              "      <td>MIXED LITTER</td>\n",
              "      <td>329</td>\n",
              "    </tr>\n",
              "    <tr>\n",
              "      <th>7</th>\n",
              "      <td>TIRES</td>\n",
              "      <td>175</td>\n",
              "    </tr>\n",
              "    <tr>\n",
              "      <th>8</th>\n",
              "      <td>DEAD ANIMAL</td>\n",
              "      <td>150</td>\n",
              "    </tr>\n",
              "    <tr>\n",
              "      <th>9</th>\n",
              "      <td>YARD TRIMMING</td>\n",
              "      <td>137</td>\n",
              "    </tr>\n",
              "    <tr>\n",
              "      <th>10</th>\n",
              "      <td>RECYCLED METAL</td>\n",
              "      <td>57</td>\n",
              "    </tr>\n",
              "    <tr>\n",
              "      <th>11</th>\n",
              "      <td>LITTER</td>\n",
              "      <td>41</td>\n",
              "    </tr>\n",
              "    <tr>\n",
              "      <th>12</th>\n",
              "      <td>CONTAMINATED ORGANICS</td>\n",
              "      <td>1</td>\n",
              "    </tr>\n",
              "    <tr>\n",
              "      <th>13</th>\n",
              "      <td>CONTAMINATED RECYCLING</td>\n",
              "      <td>1</td>\n",
              "    </tr>\n",
              "  </tbody>\n",
              "</table>\n",
              "</div>\n",
              "      <button class=\"colab-df-convert\" onclick=\"convertToInteractive('df-65bd0f5c-a260-4936-8b2e-7e6ddfc219b1')\"\n",
              "              title=\"Convert this dataframe to an interactive table.\"\n",
              "              style=\"display:none;\">\n",
              "        \n",
              "  <svg xmlns=\"http://www.w3.org/2000/svg\" height=\"24px\"viewBox=\"0 0 24 24\"\n",
              "       width=\"24px\">\n",
              "    <path d=\"M0 0h24v24H0V0z\" fill=\"none\"/>\n",
              "    <path d=\"M18.56 5.44l.94 2.06.94-2.06 2.06-.94-2.06-.94-.94-2.06-.94 2.06-2.06.94zm-11 1L8.5 8.5l.94-2.06 2.06-.94-2.06-.94L8.5 2.5l-.94 2.06-2.06.94zm10 10l.94 2.06.94-2.06 2.06-.94-2.06-.94-.94-2.06-.94 2.06-2.06.94z\"/><path d=\"M17.41 7.96l-1.37-1.37c-.4-.4-.92-.59-1.43-.59-.52 0-1.04.2-1.43.59L10.3 9.45l-7.72 7.72c-.78.78-.78 2.05 0 2.83L4 21.41c.39.39.9.59 1.41.59.51 0 1.02-.2 1.41-.59l7.78-7.78 2.81-2.81c.8-.78.8-2.07 0-2.86zM5.41 20L4 18.59l7.72-7.72 1.47 1.35L5.41 20z\"/>\n",
              "  </svg>\n",
              "      </button>\n",
              "      \n",
              "  <style>\n",
              "    .colab-df-container {\n",
              "      display:flex;\n",
              "      flex-wrap:wrap;\n",
              "      gap: 12px;\n",
              "    }\n",
              "\n",
              "    .colab-df-convert {\n",
              "      background-color: #E8F0FE;\n",
              "      border: none;\n",
              "      border-radius: 50%;\n",
              "      cursor: pointer;\n",
              "      display: none;\n",
              "      fill: #1967D2;\n",
              "      height: 32px;\n",
              "      padding: 0 0 0 0;\n",
              "      width: 32px;\n",
              "    }\n",
              "\n",
              "    .colab-df-convert:hover {\n",
              "      background-color: #E2EBFA;\n",
              "      box-shadow: 0px 1px 2px rgba(60, 64, 67, 0.3), 0px 1px 3px 1px rgba(60, 64, 67, 0.15);\n",
              "      fill: #174EA6;\n",
              "    }\n",
              "\n",
              "    [theme=dark] .colab-df-convert {\n",
              "      background-color: #3B4455;\n",
              "      fill: #D2E3FC;\n",
              "    }\n",
              "\n",
              "    [theme=dark] .colab-df-convert:hover {\n",
              "      background-color: #434B5C;\n",
              "      box-shadow: 0px 1px 3px 1px rgba(0, 0, 0, 0.15);\n",
              "      filter: drop-shadow(0px 1px 2px rgba(0, 0, 0, 0.3));\n",
              "      fill: #FFFFFF;\n",
              "    }\n",
              "  </style>\n",
              "\n",
              "      <script>\n",
              "        const buttonEl =\n",
              "          document.querySelector('#df-65bd0f5c-a260-4936-8b2e-7e6ddfc219b1 button.colab-df-convert');\n",
              "        buttonEl.style.display =\n",
              "          google.colab.kernel.accessAllowed ? 'block' : 'none';\n",
              "\n",
              "        async function convertToInteractive(key) {\n",
              "          const element = document.querySelector('#df-65bd0f5c-a260-4936-8b2e-7e6ddfc219b1');\n",
              "          const dataTable =\n",
              "            await google.colab.kernel.invokeFunction('convertToInteractive',\n",
              "                                                     [key], {});\n",
              "          if (!dataTable) return;\n",
              "\n",
              "          const docLinkHtml = 'Like what you see? Visit the ' +\n",
              "            '<a target=\"_blank\" href=https://colab.research.google.com/notebooks/data_table.ipynb>data table notebook</a>'\n",
              "            + ' to learn more about interactive tables.';\n",
              "          element.innerHTML = '';\n",
              "          dataTable['output_type'] = 'display_data';\n",
              "          await google.colab.output.renderOutput(dataTable, element);\n",
              "          const docLink = document.createElement('div');\n",
              "          docLink.innerHTML = docLinkHtml;\n",
              "          element.appendChild(docLink);\n",
              "        }\n",
              "      </script>\n",
              "    </div>\n",
              "  </div>\n",
              "  "
            ]
          },
          "metadata": {},
          "execution_count": 94
        }
      ]
    },
    {
      "cell_type": "markdown",
      "source": [
        "> Code di atas merupakan code untuk melihat ada berapa banyak tipe load sampah yang terdapat pada data, dan kita juga bisa melihat seberapa kali di setiap tipe load sampah yang dibuang ke tempat pembuangan sampah"
      ],
      "metadata": {
        "id": "btXxnA57Noqi"
      }
    },
    {
      "cell_type": "code",
      "source": [
        "df.groupby(['dropoff_site'])['load_weight'].count().sort_values(ascending=False).reset_index()"
      ],
      "metadata": {
        "colab": {
          "base_uri": "https://localhost:8080/",
          "height": 488
        },
        "id": "lbFk1WRovz5W",
        "outputId": "a277fc48-ec9b-4ddc-fcca-127f0c5056ab"
      },
      "execution_count": 95,
      "outputs": [
        {
          "output_type": "execute_result",
          "data": {
            "text/plain": [
              "             dropoff_site  load_weight\n",
              "0            TDS LANDFILL        10691\n",
              "1        ORGANICS BY GOSH         5741\n",
              "2      BALCONES RECYCLING         3837\n",
              "3               TDS - MRF         2948\n",
              "4            HORNSBY BEND         1652\n",
              "5                     MRF          168\n",
              "6   AUSTIN IRON AND METAL           50\n",
              "7      ON ROUTE HIGH DUMP            7\n",
              "8          GREAT NORTHERN            6\n",
              "9               PARK BEND            4\n",
              "10  AUSTIN WOOD RECYCLING            2\n",
              "11         BALCONES WOODS            1\n",
              "12       STEINER LANDFILL            1\n",
              "13              WESTFIELD            1"
            ],
            "text/html": [
              "\n",
              "  <div id=\"df-dd62db91-f39a-4a03-9243-c6b1feb470c2\">\n",
              "    <div class=\"colab-df-container\">\n",
              "      <div>\n",
              "<style scoped>\n",
              "    .dataframe tbody tr th:only-of-type {\n",
              "        vertical-align: middle;\n",
              "    }\n",
              "\n",
              "    .dataframe tbody tr th {\n",
              "        vertical-align: top;\n",
              "    }\n",
              "\n",
              "    .dataframe thead th {\n",
              "        text-align: right;\n",
              "    }\n",
              "</style>\n",
              "<table border=\"1\" class=\"dataframe\">\n",
              "  <thead>\n",
              "    <tr style=\"text-align: right;\">\n",
              "      <th></th>\n",
              "      <th>dropoff_site</th>\n",
              "      <th>load_weight</th>\n",
              "    </tr>\n",
              "  </thead>\n",
              "  <tbody>\n",
              "    <tr>\n",
              "      <th>0</th>\n",
              "      <td>TDS LANDFILL</td>\n",
              "      <td>10691</td>\n",
              "    </tr>\n",
              "    <tr>\n",
              "      <th>1</th>\n",
              "      <td>ORGANICS BY GOSH</td>\n",
              "      <td>5741</td>\n",
              "    </tr>\n",
              "    <tr>\n",
              "      <th>2</th>\n",
              "      <td>BALCONES RECYCLING</td>\n",
              "      <td>3837</td>\n",
              "    </tr>\n",
              "    <tr>\n",
              "      <th>3</th>\n",
              "      <td>TDS - MRF</td>\n",
              "      <td>2948</td>\n",
              "    </tr>\n",
              "    <tr>\n",
              "      <th>4</th>\n",
              "      <td>HORNSBY BEND</td>\n",
              "      <td>1652</td>\n",
              "    </tr>\n",
              "    <tr>\n",
              "      <th>5</th>\n",
              "      <td>MRF</td>\n",
              "      <td>168</td>\n",
              "    </tr>\n",
              "    <tr>\n",
              "      <th>6</th>\n",
              "      <td>AUSTIN IRON AND METAL</td>\n",
              "      <td>50</td>\n",
              "    </tr>\n",
              "    <tr>\n",
              "      <th>7</th>\n",
              "      <td>ON ROUTE HIGH DUMP</td>\n",
              "      <td>7</td>\n",
              "    </tr>\n",
              "    <tr>\n",
              "      <th>8</th>\n",
              "      <td>GREAT NORTHERN</td>\n",
              "      <td>6</td>\n",
              "    </tr>\n",
              "    <tr>\n",
              "      <th>9</th>\n",
              "      <td>PARK BEND</td>\n",
              "      <td>4</td>\n",
              "    </tr>\n",
              "    <tr>\n",
              "      <th>10</th>\n",
              "      <td>AUSTIN WOOD RECYCLING</td>\n",
              "      <td>2</td>\n",
              "    </tr>\n",
              "    <tr>\n",
              "      <th>11</th>\n",
              "      <td>BALCONES WOODS</td>\n",
              "      <td>1</td>\n",
              "    </tr>\n",
              "    <tr>\n",
              "      <th>12</th>\n",
              "      <td>STEINER LANDFILL</td>\n",
              "      <td>1</td>\n",
              "    </tr>\n",
              "    <tr>\n",
              "      <th>13</th>\n",
              "      <td>WESTFIELD</td>\n",
              "      <td>1</td>\n",
              "    </tr>\n",
              "  </tbody>\n",
              "</table>\n",
              "</div>\n",
              "      <button class=\"colab-df-convert\" onclick=\"convertToInteractive('df-dd62db91-f39a-4a03-9243-c6b1feb470c2')\"\n",
              "              title=\"Convert this dataframe to an interactive table.\"\n",
              "              style=\"display:none;\">\n",
              "        \n",
              "  <svg xmlns=\"http://www.w3.org/2000/svg\" height=\"24px\"viewBox=\"0 0 24 24\"\n",
              "       width=\"24px\">\n",
              "    <path d=\"M0 0h24v24H0V0z\" fill=\"none\"/>\n",
              "    <path d=\"M18.56 5.44l.94 2.06.94-2.06 2.06-.94-2.06-.94-.94-2.06-.94 2.06-2.06.94zm-11 1L8.5 8.5l.94-2.06 2.06-.94-2.06-.94L8.5 2.5l-.94 2.06-2.06.94zm10 10l.94 2.06.94-2.06 2.06-.94-2.06-.94-.94-2.06-.94 2.06-2.06.94z\"/><path d=\"M17.41 7.96l-1.37-1.37c-.4-.4-.92-.59-1.43-.59-.52 0-1.04.2-1.43.59L10.3 9.45l-7.72 7.72c-.78.78-.78 2.05 0 2.83L4 21.41c.39.39.9.59 1.41.59.51 0 1.02-.2 1.41-.59l7.78-7.78 2.81-2.81c.8-.78.8-2.07 0-2.86zM5.41 20L4 18.59l7.72-7.72 1.47 1.35L5.41 20z\"/>\n",
              "  </svg>\n",
              "      </button>\n",
              "      \n",
              "  <style>\n",
              "    .colab-df-container {\n",
              "      display:flex;\n",
              "      flex-wrap:wrap;\n",
              "      gap: 12px;\n",
              "    }\n",
              "\n",
              "    .colab-df-convert {\n",
              "      background-color: #E8F0FE;\n",
              "      border: none;\n",
              "      border-radius: 50%;\n",
              "      cursor: pointer;\n",
              "      display: none;\n",
              "      fill: #1967D2;\n",
              "      height: 32px;\n",
              "      padding: 0 0 0 0;\n",
              "      width: 32px;\n",
              "    }\n",
              "\n",
              "    .colab-df-convert:hover {\n",
              "      background-color: #E2EBFA;\n",
              "      box-shadow: 0px 1px 2px rgba(60, 64, 67, 0.3), 0px 1px 3px 1px rgba(60, 64, 67, 0.15);\n",
              "      fill: #174EA6;\n",
              "    }\n",
              "\n",
              "    [theme=dark] .colab-df-convert {\n",
              "      background-color: #3B4455;\n",
              "      fill: #D2E3FC;\n",
              "    }\n",
              "\n",
              "    [theme=dark] .colab-df-convert:hover {\n",
              "      background-color: #434B5C;\n",
              "      box-shadow: 0px 1px 3px 1px rgba(0, 0, 0, 0.15);\n",
              "      filter: drop-shadow(0px 1px 2px rgba(0, 0, 0, 0.3));\n",
              "      fill: #FFFFFF;\n",
              "    }\n",
              "  </style>\n",
              "\n",
              "      <script>\n",
              "        const buttonEl =\n",
              "          document.querySelector('#df-dd62db91-f39a-4a03-9243-c6b1feb470c2 button.colab-df-convert');\n",
              "        buttonEl.style.display =\n",
              "          google.colab.kernel.accessAllowed ? 'block' : 'none';\n",
              "\n",
              "        async function convertToInteractive(key) {\n",
              "          const element = document.querySelector('#df-dd62db91-f39a-4a03-9243-c6b1feb470c2');\n",
              "          const dataTable =\n",
              "            await google.colab.kernel.invokeFunction('convertToInteractive',\n",
              "                                                     [key], {});\n",
              "          if (!dataTable) return;\n",
              "\n",
              "          const docLinkHtml = 'Like what you see? Visit the ' +\n",
              "            '<a target=\"_blank\" href=https://colab.research.google.com/notebooks/data_table.ipynb>data table notebook</a>'\n",
              "            + ' to learn more about interactive tables.';\n",
              "          element.innerHTML = '';\n",
              "          dataTable['output_type'] = 'display_data';\n",
              "          await google.colab.output.renderOutput(dataTable, element);\n",
              "          const docLink = document.createElement('div');\n",
              "          docLink.innerHTML = docLinkHtml;\n",
              "          element.appendChild(docLink);\n",
              "        }\n",
              "      </script>\n",
              "    </div>\n",
              "  </div>\n",
              "  "
            ]
          },
          "metadata": {},
          "execution_count": 95
        }
      ]
    },
    {
      "cell_type": "markdown",
      "source": [
        "> Code di atas merupakan code untuk melihat ada berapa banyak tempat pembuangan sampah yang terdapat pada data, dan kita juga bisa melihat seberapa kali tempat pembuangan sampah itu yang muncul pada data"
      ],
      "metadata": {
        "id": "ZPqeydtzOrOU"
      }
    },
    {
      "cell_type": "code",
      "source": [
        "df[\n",
        "    (df['dropoff_site'] == 'TDS LANDFILL')\n",
        "].groupby(['dropoff_site', 'load_type'])['load_weight'].count().sort_values(ascending=False).reset_index()"
      ],
      "metadata": {
        "colab": {
          "base_uri": "https://localhost:8080/",
          "height": 457
        },
        "id": "9x21WCl8SACM",
        "outputId": "4a035f23-1657-44d9-d789-927240b9aa86"
      },
      "execution_count": 96,
      "outputs": [
        {
          "output_type": "execute_result",
          "data": {
            "text/plain": [
              "    dropoff_site                  load_type  load_weight\n",
              "0   TDS LANDFILL        GARBAGE COLLECTIONS         8203\n",
              "1   TDS LANDFILL                       BULK         1590\n",
              "2   TDS LANDFILL                   SWEEPING          358\n",
              "3   TDS LANDFILL               MIXED LITTER          329\n",
              "4   TDS LANDFILL                DEAD ANIMAL          131\n",
              "5   TDS LANDFILL                     LITTER           40\n",
              "6   TDS LANDFILL                   ORGANICS           22\n",
              "7   TDS LANDFILL                      TIRES           10\n",
              "8   TDS LANDFILL  RECYCLING - SINGLE STREAM            3\n",
              "9   TDS LANDFILL                      BRUSH            2\n",
              "10  TDS LANDFILL      CONTAMINATED ORGANICS            1\n",
              "11  TDS LANDFILL     CONTAMINATED RECYCLING            1\n",
              "12  TDS LANDFILL             RECYCLED METAL            1"
            ],
            "text/html": [
              "\n",
              "  <div id=\"df-2db80ede-dc91-4527-b4cc-6c843a41cc5f\">\n",
              "    <div class=\"colab-df-container\">\n",
              "      <div>\n",
              "<style scoped>\n",
              "    .dataframe tbody tr th:only-of-type {\n",
              "        vertical-align: middle;\n",
              "    }\n",
              "\n",
              "    .dataframe tbody tr th {\n",
              "        vertical-align: top;\n",
              "    }\n",
              "\n",
              "    .dataframe thead th {\n",
              "        text-align: right;\n",
              "    }\n",
              "</style>\n",
              "<table border=\"1\" class=\"dataframe\">\n",
              "  <thead>\n",
              "    <tr style=\"text-align: right;\">\n",
              "      <th></th>\n",
              "      <th>dropoff_site</th>\n",
              "      <th>load_type</th>\n",
              "      <th>load_weight</th>\n",
              "    </tr>\n",
              "  </thead>\n",
              "  <tbody>\n",
              "    <tr>\n",
              "      <th>0</th>\n",
              "      <td>TDS LANDFILL</td>\n",
              "      <td>GARBAGE COLLECTIONS</td>\n",
              "      <td>8203</td>\n",
              "    </tr>\n",
              "    <tr>\n",
              "      <th>1</th>\n",
              "      <td>TDS LANDFILL</td>\n",
              "      <td>BULK</td>\n",
              "      <td>1590</td>\n",
              "    </tr>\n",
              "    <tr>\n",
              "      <th>2</th>\n",
              "      <td>TDS LANDFILL</td>\n",
              "      <td>SWEEPING</td>\n",
              "      <td>358</td>\n",
              "    </tr>\n",
              "    <tr>\n",
              "      <th>3</th>\n",
              "      <td>TDS LANDFILL</td>\n",
              "      <td>MIXED LITTER</td>\n",
              "      <td>329</td>\n",
              "    </tr>\n",
              "    <tr>\n",
              "      <th>4</th>\n",
              "      <td>TDS LANDFILL</td>\n",
              "      <td>DEAD ANIMAL</td>\n",
              "      <td>131</td>\n",
              "    </tr>\n",
              "    <tr>\n",
              "      <th>5</th>\n",
              "      <td>TDS LANDFILL</td>\n",
              "      <td>LITTER</td>\n",
              "      <td>40</td>\n",
              "    </tr>\n",
              "    <tr>\n",
              "      <th>6</th>\n",
              "      <td>TDS LANDFILL</td>\n",
              "      <td>ORGANICS</td>\n",
              "      <td>22</td>\n",
              "    </tr>\n",
              "    <tr>\n",
              "      <th>7</th>\n",
              "      <td>TDS LANDFILL</td>\n",
              "      <td>TIRES</td>\n",
              "      <td>10</td>\n",
              "    </tr>\n",
              "    <tr>\n",
              "      <th>8</th>\n",
              "      <td>TDS LANDFILL</td>\n",
              "      <td>RECYCLING - SINGLE STREAM</td>\n",
              "      <td>3</td>\n",
              "    </tr>\n",
              "    <tr>\n",
              "      <th>9</th>\n",
              "      <td>TDS LANDFILL</td>\n",
              "      <td>BRUSH</td>\n",
              "      <td>2</td>\n",
              "    </tr>\n",
              "    <tr>\n",
              "      <th>10</th>\n",
              "      <td>TDS LANDFILL</td>\n",
              "      <td>CONTAMINATED ORGANICS</td>\n",
              "      <td>1</td>\n",
              "    </tr>\n",
              "    <tr>\n",
              "      <th>11</th>\n",
              "      <td>TDS LANDFILL</td>\n",
              "      <td>CONTAMINATED RECYCLING</td>\n",
              "      <td>1</td>\n",
              "    </tr>\n",
              "    <tr>\n",
              "      <th>12</th>\n",
              "      <td>TDS LANDFILL</td>\n",
              "      <td>RECYCLED METAL</td>\n",
              "      <td>1</td>\n",
              "    </tr>\n",
              "  </tbody>\n",
              "</table>\n",
              "</div>\n",
              "      <button class=\"colab-df-convert\" onclick=\"convertToInteractive('df-2db80ede-dc91-4527-b4cc-6c843a41cc5f')\"\n",
              "              title=\"Convert this dataframe to an interactive table.\"\n",
              "              style=\"display:none;\">\n",
              "        \n",
              "  <svg xmlns=\"http://www.w3.org/2000/svg\" height=\"24px\"viewBox=\"0 0 24 24\"\n",
              "       width=\"24px\">\n",
              "    <path d=\"M0 0h24v24H0V0z\" fill=\"none\"/>\n",
              "    <path d=\"M18.56 5.44l.94 2.06.94-2.06 2.06-.94-2.06-.94-.94-2.06-.94 2.06-2.06.94zm-11 1L8.5 8.5l.94-2.06 2.06-.94-2.06-.94L8.5 2.5l-.94 2.06-2.06.94zm10 10l.94 2.06.94-2.06 2.06-.94-2.06-.94-.94-2.06-.94 2.06-2.06.94z\"/><path d=\"M17.41 7.96l-1.37-1.37c-.4-.4-.92-.59-1.43-.59-.52 0-1.04.2-1.43.59L10.3 9.45l-7.72 7.72c-.78.78-.78 2.05 0 2.83L4 21.41c.39.39.9.59 1.41.59.51 0 1.02-.2 1.41-.59l7.78-7.78 2.81-2.81c.8-.78.8-2.07 0-2.86zM5.41 20L4 18.59l7.72-7.72 1.47 1.35L5.41 20z\"/>\n",
              "  </svg>\n",
              "      </button>\n",
              "      \n",
              "  <style>\n",
              "    .colab-df-container {\n",
              "      display:flex;\n",
              "      flex-wrap:wrap;\n",
              "      gap: 12px;\n",
              "    }\n",
              "\n",
              "    .colab-df-convert {\n",
              "      background-color: #E8F0FE;\n",
              "      border: none;\n",
              "      border-radius: 50%;\n",
              "      cursor: pointer;\n",
              "      display: none;\n",
              "      fill: #1967D2;\n",
              "      height: 32px;\n",
              "      padding: 0 0 0 0;\n",
              "      width: 32px;\n",
              "    }\n",
              "\n",
              "    .colab-df-convert:hover {\n",
              "      background-color: #E2EBFA;\n",
              "      box-shadow: 0px 1px 2px rgba(60, 64, 67, 0.3), 0px 1px 3px 1px rgba(60, 64, 67, 0.15);\n",
              "      fill: #174EA6;\n",
              "    }\n",
              "\n",
              "    [theme=dark] .colab-df-convert {\n",
              "      background-color: #3B4455;\n",
              "      fill: #D2E3FC;\n",
              "    }\n",
              "\n",
              "    [theme=dark] .colab-df-convert:hover {\n",
              "      background-color: #434B5C;\n",
              "      box-shadow: 0px 1px 3px 1px rgba(0, 0, 0, 0.15);\n",
              "      filter: drop-shadow(0px 1px 2px rgba(0, 0, 0, 0.3));\n",
              "      fill: #FFFFFF;\n",
              "    }\n",
              "  </style>\n",
              "\n",
              "      <script>\n",
              "        const buttonEl =\n",
              "          document.querySelector('#df-2db80ede-dc91-4527-b4cc-6c843a41cc5f button.colab-df-convert');\n",
              "        buttonEl.style.display =\n",
              "          google.colab.kernel.accessAllowed ? 'block' : 'none';\n",
              "\n",
              "        async function convertToInteractive(key) {\n",
              "          const element = document.querySelector('#df-2db80ede-dc91-4527-b4cc-6c843a41cc5f');\n",
              "          const dataTable =\n",
              "            await google.colab.kernel.invokeFunction('convertToInteractive',\n",
              "                                                     [key], {});\n",
              "          if (!dataTable) return;\n",
              "\n",
              "          const docLinkHtml = 'Like what you see? Visit the ' +\n",
              "            '<a target=\"_blank\" href=https://colab.research.google.com/notebooks/data_table.ipynb>data table notebook</a>'\n",
              "            + ' to learn more about interactive tables.';\n",
              "          element.innerHTML = '';\n",
              "          dataTable['output_type'] = 'display_data';\n",
              "          await google.colab.output.renderOutput(dataTable, element);\n",
              "          const docLink = document.createElement('div');\n",
              "          docLink.innerHTML = docLinkHtml;\n",
              "          element.appendChild(docLink);\n",
              "        }\n",
              "      </script>\n",
              "    </div>\n",
              "  </div>\n",
              "  "
            ]
          },
          "metadata": {},
          "execution_count": 96
        }
      ]
    },
    {
      "cell_type": "markdown",
      "source": [
        "> Code di atas merupakan code untuk melihat ada berapa banyak tipe load sampah yang terdapat pada tempat pembuangan sampah TDS LANDFILL, dan kita juga bisa melihat seberapa kali di setiap tipe load sampah yang dibuang ke tempat pembuangan sampah TDS LANDFILL"
      ],
      "metadata": {
        "id": "Acu8YoUVPQT-"
      }
    },
    {
      "cell_type": "code",
      "source": [
        "df[\n",
        "    (df['dropoff_site'] == 'TDS LANDFILL')\n",
        "].reset_index()"
      ],
      "metadata": {
        "colab": {
          "base_uri": "https://localhost:8080/",
          "height": 424
        },
        "id": "hNIW-CEqRFtC",
        "outputId": "6b8a829f-d704-49e1-f859-43fe0685cfe5"
      },
      "execution_count": 97,
      "outputs": [
        {
          "output_type": "execute_result",
          "data": {
            "text/plain": [
              "       index report_date                load_time            load_type  \\\n",
              "0         16  2021-01-02  2021-01-02 02:16:00 UTC                 BULK   \n",
              "1         17  2021-01-02  2021-01-02 12:25:00 UTC                 BULK   \n",
              "2         18  2021-01-02  2021-01-02 02:13:00 UTC                 BULK   \n",
              "3         19  2021-01-02  2021-01-02 04:27:00 UTC          DEAD ANIMAL   \n",
              "4         20  2021-01-02  2021-01-02 02:44:00 UTC  GARBAGE COLLECTIONS   \n",
              "...      ...         ...                      ...                  ...   \n",
              "10686  26097  2021-07-08  2021-07-08 02:04:00 UTC  GARBAGE COLLECTIONS   \n",
              "10687  26098  2021-07-08  2021-07-08 02:27:00 UTC                 BULK   \n",
              "10688  26099  2021-07-08  2021-07-08 11:07:00 UTC                 BULK   \n",
              "10689  26155  2021-07-09  2021-07-09 12:00:00 UTC               LITTER   \n",
              "10690  26156  2021-07-09  2021-07-09 12:00:00 UTC               LITTER   \n",
              "\n",
              "       load_weight  dropoff_site  \n",
              "0          12480.0  TDS LANDFILL  \n",
              "1          10200.0  TDS LANDFILL  \n",
              "2           5440.0  TDS LANDFILL  \n",
              "3            140.0  TDS LANDFILL  \n",
              "4          24580.0  TDS LANDFILL  \n",
              "...            ...           ...  \n",
              "10686       8380.0  TDS LANDFILL  \n",
              "10687       2100.0  TDS LANDFILL  \n",
              "10688       3500.0  TDS LANDFILL  \n",
              "10689       1900.0  TDS LANDFILL  \n",
              "10690       3040.0  TDS LANDFILL  \n",
              "\n",
              "[10691 rows x 6 columns]"
            ],
            "text/html": [
              "\n",
              "  <div id=\"df-815ae8e5-1d89-4146-8404-19bdaaf2a393\">\n",
              "    <div class=\"colab-df-container\">\n",
              "      <div>\n",
              "<style scoped>\n",
              "    .dataframe tbody tr th:only-of-type {\n",
              "        vertical-align: middle;\n",
              "    }\n",
              "\n",
              "    .dataframe tbody tr th {\n",
              "        vertical-align: top;\n",
              "    }\n",
              "\n",
              "    .dataframe thead th {\n",
              "        text-align: right;\n",
              "    }\n",
              "</style>\n",
              "<table border=\"1\" class=\"dataframe\">\n",
              "  <thead>\n",
              "    <tr style=\"text-align: right;\">\n",
              "      <th></th>\n",
              "      <th>index</th>\n",
              "      <th>report_date</th>\n",
              "      <th>load_time</th>\n",
              "      <th>load_type</th>\n",
              "      <th>load_weight</th>\n",
              "      <th>dropoff_site</th>\n",
              "    </tr>\n",
              "  </thead>\n",
              "  <tbody>\n",
              "    <tr>\n",
              "      <th>0</th>\n",
              "      <td>16</td>\n",
              "      <td>2021-01-02</td>\n",
              "      <td>2021-01-02 02:16:00 UTC</td>\n",
              "      <td>BULK</td>\n",
              "      <td>12480.0</td>\n",
              "      <td>TDS LANDFILL</td>\n",
              "    </tr>\n",
              "    <tr>\n",
              "      <th>1</th>\n",
              "      <td>17</td>\n",
              "      <td>2021-01-02</td>\n",
              "      <td>2021-01-02 12:25:00 UTC</td>\n",
              "      <td>BULK</td>\n",
              "      <td>10200.0</td>\n",
              "      <td>TDS LANDFILL</td>\n",
              "    </tr>\n",
              "    <tr>\n",
              "      <th>2</th>\n",
              "      <td>18</td>\n",
              "      <td>2021-01-02</td>\n",
              "      <td>2021-01-02 02:13:00 UTC</td>\n",
              "      <td>BULK</td>\n",
              "      <td>5440.0</td>\n",
              "      <td>TDS LANDFILL</td>\n",
              "    </tr>\n",
              "    <tr>\n",
              "      <th>3</th>\n",
              "      <td>19</td>\n",
              "      <td>2021-01-02</td>\n",
              "      <td>2021-01-02 04:27:00 UTC</td>\n",
              "      <td>DEAD ANIMAL</td>\n",
              "      <td>140.0</td>\n",
              "      <td>TDS LANDFILL</td>\n",
              "    </tr>\n",
              "    <tr>\n",
              "      <th>4</th>\n",
              "      <td>20</td>\n",
              "      <td>2021-01-02</td>\n",
              "      <td>2021-01-02 02:44:00 UTC</td>\n",
              "      <td>GARBAGE COLLECTIONS</td>\n",
              "      <td>24580.0</td>\n",
              "      <td>TDS LANDFILL</td>\n",
              "    </tr>\n",
              "    <tr>\n",
              "      <th>...</th>\n",
              "      <td>...</td>\n",
              "      <td>...</td>\n",
              "      <td>...</td>\n",
              "      <td>...</td>\n",
              "      <td>...</td>\n",
              "      <td>...</td>\n",
              "    </tr>\n",
              "    <tr>\n",
              "      <th>10686</th>\n",
              "      <td>26097</td>\n",
              "      <td>2021-07-08</td>\n",
              "      <td>2021-07-08 02:04:00 UTC</td>\n",
              "      <td>GARBAGE COLLECTIONS</td>\n",
              "      <td>8380.0</td>\n",
              "      <td>TDS LANDFILL</td>\n",
              "    </tr>\n",
              "    <tr>\n",
              "      <th>10687</th>\n",
              "      <td>26098</td>\n",
              "      <td>2021-07-08</td>\n",
              "      <td>2021-07-08 02:27:00 UTC</td>\n",
              "      <td>BULK</td>\n",
              "      <td>2100.0</td>\n",
              "      <td>TDS LANDFILL</td>\n",
              "    </tr>\n",
              "    <tr>\n",
              "      <th>10688</th>\n",
              "      <td>26099</td>\n",
              "      <td>2021-07-08</td>\n",
              "      <td>2021-07-08 11:07:00 UTC</td>\n",
              "      <td>BULK</td>\n",
              "      <td>3500.0</td>\n",
              "      <td>TDS LANDFILL</td>\n",
              "    </tr>\n",
              "    <tr>\n",
              "      <th>10689</th>\n",
              "      <td>26155</td>\n",
              "      <td>2021-07-09</td>\n",
              "      <td>2021-07-09 12:00:00 UTC</td>\n",
              "      <td>LITTER</td>\n",
              "      <td>1900.0</td>\n",
              "      <td>TDS LANDFILL</td>\n",
              "    </tr>\n",
              "    <tr>\n",
              "      <th>10690</th>\n",
              "      <td>26156</td>\n",
              "      <td>2021-07-09</td>\n",
              "      <td>2021-07-09 12:00:00 UTC</td>\n",
              "      <td>LITTER</td>\n",
              "      <td>3040.0</td>\n",
              "      <td>TDS LANDFILL</td>\n",
              "    </tr>\n",
              "  </tbody>\n",
              "</table>\n",
              "<p>10691 rows × 6 columns</p>\n",
              "</div>\n",
              "      <button class=\"colab-df-convert\" onclick=\"convertToInteractive('df-815ae8e5-1d89-4146-8404-19bdaaf2a393')\"\n",
              "              title=\"Convert this dataframe to an interactive table.\"\n",
              "              style=\"display:none;\">\n",
              "        \n",
              "  <svg xmlns=\"http://www.w3.org/2000/svg\" height=\"24px\"viewBox=\"0 0 24 24\"\n",
              "       width=\"24px\">\n",
              "    <path d=\"M0 0h24v24H0V0z\" fill=\"none\"/>\n",
              "    <path d=\"M18.56 5.44l.94 2.06.94-2.06 2.06-.94-2.06-.94-.94-2.06-.94 2.06-2.06.94zm-11 1L8.5 8.5l.94-2.06 2.06-.94-2.06-.94L8.5 2.5l-.94 2.06-2.06.94zm10 10l.94 2.06.94-2.06 2.06-.94-2.06-.94-.94-2.06-.94 2.06-2.06.94z\"/><path d=\"M17.41 7.96l-1.37-1.37c-.4-.4-.92-.59-1.43-.59-.52 0-1.04.2-1.43.59L10.3 9.45l-7.72 7.72c-.78.78-.78 2.05 0 2.83L4 21.41c.39.39.9.59 1.41.59.51 0 1.02-.2 1.41-.59l7.78-7.78 2.81-2.81c.8-.78.8-2.07 0-2.86zM5.41 20L4 18.59l7.72-7.72 1.47 1.35L5.41 20z\"/>\n",
              "  </svg>\n",
              "      </button>\n",
              "      \n",
              "  <style>\n",
              "    .colab-df-container {\n",
              "      display:flex;\n",
              "      flex-wrap:wrap;\n",
              "      gap: 12px;\n",
              "    }\n",
              "\n",
              "    .colab-df-convert {\n",
              "      background-color: #E8F0FE;\n",
              "      border: none;\n",
              "      border-radius: 50%;\n",
              "      cursor: pointer;\n",
              "      display: none;\n",
              "      fill: #1967D2;\n",
              "      height: 32px;\n",
              "      padding: 0 0 0 0;\n",
              "      width: 32px;\n",
              "    }\n",
              "\n",
              "    .colab-df-convert:hover {\n",
              "      background-color: #E2EBFA;\n",
              "      box-shadow: 0px 1px 2px rgba(60, 64, 67, 0.3), 0px 1px 3px 1px rgba(60, 64, 67, 0.15);\n",
              "      fill: #174EA6;\n",
              "    }\n",
              "\n",
              "    [theme=dark] .colab-df-convert {\n",
              "      background-color: #3B4455;\n",
              "      fill: #D2E3FC;\n",
              "    }\n",
              "\n",
              "    [theme=dark] .colab-df-convert:hover {\n",
              "      background-color: #434B5C;\n",
              "      box-shadow: 0px 1px 3px 1px rgba(0, 0, 0, 0.15);\n",
              "      filter: drop-shadow(0px 1px 2px rgba(0, 0, 0, 0.3));\n",
              "      fill: #FFFFFF;\n",
              "    }\n",
              "  </style>\n",
              "\n",
              "      <script>\n",
              "        const buttonEl =\n",
              "          document.querySelector('#df-815ae8e5-1d89-4146-8404-19bdaaf2a393 button.colab-df-convert');\n",
              "        buttonEl.style.display =\n",
              "          google.colab.kernel.accessAllowed ? 'block' : 'none';\n",
              "\n",
              "        async function convertToInteractive(key) {\n",
              "          const element = document.querySelector('#df-815ae8e5-1d89-4146-8404-19bdaaf2a393');\n",
              "          const dataTable =\n",
              "            await google.colab.kernel.invokeFunction('convertToInteractive',\n",
              "                                                     [key], {});\n",
              "          if (!dataTable) return;\n",
              "\n",
              "          const docLinkHtml = 'Like what you see? Visit the ' +\n",
              "            '<a target=\"_blank\" href=https://colab.research.google.com/notebooks/data_table.ipynb>data table notebook</a>'\n",
              "            + ' to learn more about interactive tables.';\n",
              "          element.innerHTML = '';\n",
              "          dataTable['output_type'] = 'display_data';\n",
              "          await google.colab.output.renderOutput(dataTable, element);\n",
              "          const docLink = document.createElement('div');\n",
              "          docLink.innerHTML = docLinkHtml;\n",
              "          element.appendChild(docLink);\n",
              "        }\n",
              "      </script>\n",
              "    </div>\n",
              "  </div>\n",
              "  "
            ]
          },
          "metadata": {},
          "execution_count": 97
        }
      ]
    },
    {
      "cell_type": "markdown",
      "source": [
        "> Code di atas merupakan code untuk melihat banyaknya data pada tempat pembuangan sampah TDS LANDFILL, yang mana pada tempat pembuangan sampah TDS LANDFILL terdapat data sebanyak 10691 baris"
      ],
      "metadata": {
        "id": "6SMfLmp0Rz98"
      }
    },
    {
      "cell_type": "markdown",
      "source": [
        "### 3. Berdasarkan central tendency (mean, median, dan modus) untuk masing-masing site, insight/informasi apa yang bisa kamu sampaikan kepada pemerintah kota? (Caution: Jangan gunakan pd.DataFrame.describe())"
      ],
      "metadata": {
        "id": "W9RDUNPyzq2R"
      }
    },
    {
      "cell_type": "code",
      "source": [
        "# rata - rata setiap kali membuang sampah bukan rata - rata per hari membuang sampah\n",
        "df.groupby(['dropoff_site'])['load_weight'].mean().sort_values(ascending=False).reset_index() "
      ],
      "metadata": {
        "colab": {
          "base_uri": "https://localhost:8080/",
          "height": 488
        },
        "id": "Jq0zGpE3zDfp",
        "outputId": "ef0e7799-f760-46bf-d74e-74976f1c4b06"
      },
      "execution_count": 98,
      "outputs": [
        {
          "output_type": "execute_result",
          "data": {
            "text/plain": [
              "             dropoff_site  load_weight\n",
              "0          GREAT NORTHERN     19153.33\n",
              "1               WESTFIELD     16020.00\n",
              "2            TDS LANDFILL     15169.41\n",
              "3               PARK BEND     13385.00\n",
              "4      ON ROUTE HIGH DUMP     12525.71\n",
              "5        ORGANICS BY GOSH     11818.48\n",
              "6               TDS - MRF      9872.55\n",
              "7      BALCONES RECYCLING      9464.65\n",
              "8          BALCONES WOODS      8460.00\n",
              "9            HORNSBY BEND      6628.64\n",
              "10  AUSTIN WOOD RECYCLING      4050.00\n",
              "11                    MRF      1799.98\n",
              "12       STEINER LANDFILL       780.00\n",
              "13  AUSTIN IRON AND METAL       451.20"
            ],
            "text/html": [
              "\n",
              "  <div id=\"df-0b714651-bd7a-42bb-9bc0-b6f68292c619\">\n",
              "    <div class=\"colab-df-container\">\n",
              "      <div>\n",
              "<style scoped>\n",
              "    .dataframe tbody tr th:only-of-type {\n",
              "        vertical-align: middle;\n",
              "    }\n",
              "\n",
              "    .dataframe tbody tr th {\n",
              "        vertical-align: top;\n",
              "    }\n",
              "\n",
              "    .dataframe thead th {\n",
              "        text-align: right;\n",
              "    }\n",
              "</style>\n",
              "<table border=\"1\" class=\"dataframe\">\n",
              "  <thead>\n",
              "    <tr style=\"text-align: right;\">\n",
              "      <th></th>\n",
              "      <th>dropoff_site</th>\n",
              "      <th>load_weight</th>\n",
              "    </tr>\n",
              "  </thead>\n",
              "  <tbody>\n",
              "    <tr>\n",
              "      <th>0</th>\n",
              "      <td>GREAT NORTHERN</td>\n",
              "      <td>19153.33</td>\n",
              "    </tr>\n",
              "    <tr>\n",
              "      <th>1</th>\n",
              "      <td>WESTFIELD</td>\n",
              "      <td>16020.00</td>\n",
              "    </tr>\n",
              "    <tr>\n",
              "      <th>2</th>\n",
              "      <td>TDS LANDFILL</td>\n",
              "      <td>15169.41</td>\n",
              "    </tr>\n",
              "    <tr>\n",
              "      <th>3</th>\n",
              "      <td>PARK BEND</td>\n",
              "      <td>13385.00</td>\n",
              "    </tr>\n",
              "    <tr>\n",
              "      <th>4</th>\n",
              "      <td>ON ROUTE HIGH DUMP</td>\n",
              "      <td>12525.71</td>\n",
              "    </tr>\n",
              "    <tr>\n",
              "      <th>5</th>\n",
              "      <td>ORGANICS BY GOSH</td>\n",
              "      <td>11818.48</td>\n",
              "    </tr>\n",
              "    <tr>\n",
              "      <th>6</th>\n",
              "      <td>TDS - MRF</td>\n",
              "      <td>9872.55</td>\n",
              "    </tr>\n",
              "    <tr>\n",
              "      <th>7</th>\n",
              "      <td>BALCONES RECYCLING</td>\n",
              "      <td>9464.65</td>\n",
              "    </tr>\n",
              "    <tr>\n",
              "      <th>8</th>\n",
              "      <td>BALCONES WOODS</td>\n",
              "      <td>8460.00</td>\n",
              "    </tr>\n",
              "    <tr>\n",
              "      <th>9</th>\n",
              "      <td>HORNSBY BEND</td>\n",
              "      <td>6628.64</td>\n",
              "    </tr>\n",
              "    <tr>\n",
              "      <th>10</th>\n",
              "      <td>AUSTIN WOOD RECYCLING</td>\n",
              "      <td>4050.00</td>\n",
              "    </tr>\n",
              "    <tr>\n",
              "      <th>11</th>\n",
              "      <td>MRF</td>\n",
              "      <td>1799.98</td>\n",
              "    </tr>\n",
              "    <tr>\n",
              "      <th>12</th>\n",
              "      <td>STEINER LANDFILL</td>\n",
              "      <td>780.00</td>\n",
              "    </tr>\n",
              "    <tr>\n",
              "      <th>13</th>\n",
              "      <td>AUSTIN IRON AND METAL</td>\n",
              "      <td>451.20</td>\n",
              "    </tr>\n",
              "  </tbody>\n",
              "</table>\n",
              "</div>\n",
              "      <button class=\"colab-df-convert\" onclick=\"convertToInteractive('df-0b714651-bd7a-42bb-9bc0-b6f68292c619')\"\n",
              "              title=\"Convert this dataframe to an interactive table.\"\n",
              "              style=\"display:none;\">\n",
              "        \n",
              "  <svg xmlns=\"http://www.w3.org/2000/svg\" height=\"24px\"viewBox=\"0 0 24 24\"\n",
              "       width=\"24px\">\n",
              "    <path d=\"M0 0h24v24H0V0z\" fill=\"none\"/>\n",
              "    <path d=\"M18.56 5.44l.94 2.06.94-2.06 2.06-.94-2.06-.94-.94-2.06-.94 2.06-2.06.94zm-11 1L8.5 8.5l.94-2.06 2.06-.94-2.06-.94L8.5 2.5l-.94 2.06-2.06.94zm10 10l.94 2.06.94-2.06 2.06-.94-2.06-.94-.94-2.06-.94 2.06-2.06.94z\"/><path d=\"M17.41 7.96l-1.37-1.37c-.4-.4-.92-.59-1.43-.59-.52 0-1.04.2-1.43.59L10.3 9.45l-7.72 7.72c-.78.78-.78 2.05 0 2.83L4 21.41c.39.39.9.59 1.41.59.51 0 1.02-.2 1.41-.59l7.78-7.78 2.81-2.81c.8-.78.8-2.07 0-2.86zM5.41 20L4 18.59l7.72-7.72 1.47 1.35L5.41 20z\"/>\n",
              "  </svg>\n",
              "      </button>\n",
              "      \n",
              "  <style>\n",
              "    .colab-df-container {\n",
              "      display:flex;\n",
              "      flex-wrap:wrap;\n",
              "      gap: 12px;\n",
              "    }\n",
              "\n",
              "    .colab-df-convert {\n",
              "      background-color: #E8F0FE;\n",
              "      border: none;\n",
              "      border-radius: 50%;\n",
              "      cursor: pointer;\n",
              "      display: none;\n",
              "      fill: #1967D2;\n",
              "      height: 32px;\n",
              "      padding: 0 0 0 0;\n",
              "      width: 32px;\n",
              "    }\n",
              "\n",
              "    .colab-df-convert:hover {\n",
              "      background-color: #E2EBFA;\n",
              "      box-shadow: 0px 1px 2px rgba(60, 64, 67, 0.3), 0px 1px 3px 1px rgba(60, 64, 67, 0.15);\n",
              "      fill: #174EA6;\n",
              "    }\n",
              "\n",
              "    [theme=dark] .colab-df-convert {\n",
              "      background-color: #3B4455;\n",
              "      fill: #D2E3FC;\n",
              "    }\n",
              "\n",
              "    [theme=dark] .colab-df-convert:hover {\n",
              "      background-color: #434B5C;\n",
              "      box-shadow: 0px 1px 3px 1px rgba(0, 0, 0, 0.15);\n",
              "      filter: drop-shadow(0px 1px 2px rgba(0, 0, 0, 0.3));\n",
              "      fill: #FFFFFF;\n",
              "    }\n",
              "  </style>\n",
              "\n",
              "      <script>\n",
              "        const buttonEl =\n",
              "          document.querySelector('#df-0b714651-bd7a-42bb-9bc0-b6f68292c619 button.colab-df-convert');\n",
              "        buttonEl.style.display =\n",
              "          google.colab.kernel.accessAllowed ? 'block' : 'none';\n",
              "\n",
              "        async function convertToInteractive(key) {\n",
              "          const element = document.querySelector('#df-0b714651-bd7a-42bb-9bc0-b6f68292c619');\n",
              "          const dataTable =\n",
              "            await google.colab.kernel.invokeFunction('convertToInteractive',\n",
              "                                                     [key], {});\n",
              "          if (!dataTable) return;\n",
              "\n",
              "          const docLinkHtml = 'Like what you see? Visit the ' +\n",
              "            '<a target=\"_blank\" href=https://colab.research.google.com/notebooks/data_table.ipynb>data table notebook</a>'\n",
              "            + ' to learn more about interactive tables.';\n",
              "          element.innerHTML = '';\n",
              "          dataTable['output_type'] = 'display_data';\n",
              "          await google.colab.output.renderOutput(dataTable, element);\n",
              "          const docLink = document.createElement('div');\n",
              "          docLink.innerHTML = docLinkHtml;\n",
              "          element.appendChild(docLink);\n",
              "        }\n",
              "      </script>\n",
              "    </div>\n",
              "  </div>\n",
              "  "
            ]
          },
          "metadata": {},
          "execution_count": 98
        }
      ]
    },
    {
      "cell_type": "markdown",
      "source": [
        "> Code di atas merupakan code untuk melihat rata - rata setiap kali membuang sampah di setiap tempat pembuangan sampah. Dari hasil di atas kita memperoleh informasi bahwa pada tempat pembuangan sampah GREAT NORTHERN memiliki rata - rata setiap kali membuang sampah yaitu sebesar 19153.33 kg"
      ],
      "metadata": {
        "id": "QWabx3OJStwY"
      }
    },
    {
      "cell_type": "code",
      "source": [
        "df.groupby(['dropoff_site'])['load_weight'].median().sort_values(ascending=False).reset_index()"
      ],
      "metadata": {
        "colab": {
          "base_uri": "https://localhost:8080/",
          "height": 488
        },
        "id": "j-XFmeQ92pzo",
        "outputId": "49bd49c2-f42b-4da4-b814-e050bfc7c490"
      },
      "execution_count": 99,
      "outputs": [
        {
          "output_type": "execute_result",
          "data": {
            "text/plain": [
              "             dropoff_site  load_weight\n",
              "0          GREAT NORTHERN      21110.0\n",
              "1               WESTFIELD      16020.0\n",
              "2      ON ROUTE HIGH DUMP      14940.0\n",
              "3            TDS LANDFILL      14920.0\n",
              "4               PARK BEND      12330.0\n",
              "5        ORGANICS BY GOSH      11920.0\n",
              "6               TDS - MRF      10330.0\n",
              "7      BALCONES RECYCLING       9840.0\n",
              "8          BALCONES WOODS       8460.0\n",
              "9            HORNSBY BEND       6390.0\n",
              "10  AUSTIN WOOD RECYCLING       4050.0\n",
              "11                    MRF       1360.0\n",
              "12       STEINER LANDFILL        780.0\n",
              "13  AUSTIN IRON AND METAL        400.0"
            ],
            "text/html": [
              "\n",
              "  <div id=\"df-86a27796-fc21-4da1-9fc8-73efd93791c4\">\n",
              "    <div class=\"colab-df-container\">\n",
              "      <div>\n",
              "<style scoped>\n",
              "    .dataframe tbody tr th:only-of-type {\n",
              "        vertical-align: middle;\n",
              "    }\n",
              "\n",
              "    .dataframe tbody tr th {\n",
              "        vertical-align: top;\n",
              "    }\n",
              "\n",
              "    .dataframe thead th {\n",
              "        text-align: right;\n",
              "    }\n",
              "</style>\n",
              "<table border=\"1\" class=\"dataframe\">\n",
              "  <thead>\n",
              "    <tr style=\"text-align: right;\">\n",
              "      <th></th>\n",
              "      <th>dropoff_site</th>\n",
              "      <th>load_weight</th>\n",
              "    </tr>\n",
              "  </thead>\n",
              "  <tbody>\n",
              "    <tr>\n",
              "      <th>0</th>\n",
              "      <td>GREAT NORTHERN</td>\n",
              "      <td>21110.0</td>\n",
              "    </tr>\n",
              "    <tr>\n",
              "      <th>1</th>\n",
              "      <td>WESTFIELD</td>\n",
              "      <td>16020.0</td>\n",
              "    </tr>\n",
              "    <tr>\n",
              "      <th>2</th>\n",
              "      <td>ON ROUTE HIGH DUMP</td>\n",
              "      <td>14940.0</td>\n",
              "    </tr>\n",
              "    <tr>\n",
              "      <th>3</th>\n",
              "      <td>TDS LANDFILL</td>\n",
              "      <td>14920.0</td>\n",
              "    </tr>\n",
              "    <tr>\n",
              "      <th>4</th>\n",
              "      <td>PARK BEND</td>\n",
              "      <td>12330.0</td>\n",
              "    </tr>\n",
              "    <tr>\n",
              "      <th>5</th>\n",
              "      <td>ORGANICS BY GOSH</td>\n",
              "      <td>11920.0</td>\n",
              "    </tr>\n",
              "    <tr>\n",
              "      <th>6</th>\n",
              "      <td>TDS - MRF</td>\n",
              "      <td>10330.0</td>\n",
              "    </tr>\n",
              "    <tr>\n",
              "      <th>7</th>\n",
              "      <td>BALCONES RECYCLING</td>\n",
              "      <td>9840.0</td>\n",
              "    </tr>\n",
              "    <tr>\n",
              "      <th>8</th>\n",
              "      <td>BALCONES WOODS</td>\n",
              "      <td>8460.0</td>\n",
              "    </tr>\n",
              "    <tr>\n",
              "      <th>9</th>\n",
              "      <td>HORNSBY BEND</td>\n",
              "      <td>6390.0</td>\n",
              "    </tr>\n",
              "    <tr>\n",
              "      <th>10</th>\n",
              "      <td>AUSTIN WOOD RECYCLING</td>\n",
              "      <td>4050.0</td>\n",
              "    </tr>\n",
              "    <tr>\n",
              "      <th>11</th>\n",
              "      <td>MRF</td>\n",
              "      <td>1360.0</td>\n",
              "    </tr>\n",
              "    <tr>\n",
              "      <th>12</th>\n",
              "      <td>STEINER LANDFILL</td>\n",
              "      <td>780.0</td>\n",
              "    </tr>\n",
              "    <tr>\n",
              "      <th>13</th>\n",
              "      <td>AUSTIN IRON AND METAL</td>\n",
              "      <td>400.0</td>\n",
              "    </tr>\n",
              "  </tbody>\n",
              "</table>\n",
              "</div>\n",
              "      <button class=\"colab-df-convert\" onclick=\"convertToInteractive('df-86a27796-fc21-4da1-9fc8-73efd93791c4')\"\n",
              "              title=\"Convert this dataframe to an interactive table.\"\n",
              "              style=\"display:none;\">\n",
              "        \n",
              "  <svg xmlns=\"http://www.w3.org/2000/svg\" height=\"24px\"viewBox=\"0 0 24 24\"\n",
              "       width=\"24px\">\n",
              "    <path d=\"M0 0h24v24H0V0z\" fill=\"none\"/>\n",
              "    <path d=\"M18.56 5.44l.94 2.06.94-2.06 2.06-.94-2.06-.94-.94-2.06-.94 2.06-2.06.94zm-11 1L8.5 8.5l.94-2.06 2.06-.94-2.06-.94L8.5 2.5l-.94 2.06-2.06.94zm10 10l.94 2.06.94-2.06 2.06-.94-2.06-.94-.94-2.06-.94 2.06-2.06.94z\"/><path d=\"M17.41 7.96l-1.37-1.37c-.4-.4-.92-.59-1.43-.59-.52 0-1.04.2-1.43.59L10.3 9.45l-7.72 7.72c-.78.78-.78 2.05 0 2.83L4 21.41c.39.39.9.59 1.41.59.51 0 1.02-.2 1.41-.59l7.78-7.78 2.81-2.81c.8-.78.8-2.07 0-2.86zM5.41 20L4 18.59l7.72-7.72 1.47 1.35L5.41 20z\"/>\n",
              "  </svg>\n",
              "      </button>\n",
              "      \n",
              "  <style>\n",
              "    .colab-df-container {\n",
              "      display:flex;\n",
              "      flex-wrap:wrap;\n",
              "      gap: 12px;\n",
              "    }\n",
              "\n",
              "    .colab-df-convert {\n",
              "      background-color: #E8F0FE;\n",
              "      border: none;\n",
              "      border-radius: 50%;\n",
              "      cursor: pointer;\n",
              "      display: none;\n",
              "      fill: #1967D2;\n",
              "      height: 32px;\n",
              "      padding: 0 0 0 0;\n",
              "      width: 32px;\n",
              "    }\n",
              "\n",
              "    .colab-df-convert:hover {\n",
              "      background-color: #E2EBFA;\n",
              "      box-shadow: 0px 1px 2px rgba(60, 64, 67, 0.3), 0px 1px 3px 1px rgba(60, 64, 67, 0.15);\n",
              "      fill: #174EA6;\n",
              "    }\n",
              "\n",
              "    [theme=dark] .colab-df-convert {\n",
              "      background-color: #3B4455;\n",
              "      fill: #D2E3FC;\n",
              "    }\n",
              "\n",
              "    [theme=dark] .colab-df-convert:hover {\n",
              "      background-color: #434B5C;\n",
              "      box-shadow: 0px 1px 3px 1px rgba(0, 0, 0, 0.15);\n",
              "      filter: drop-shadow(0px 1px 2px rgba(0, 0, 0, 0.3));\n",
              "      fill: #FFFFFF;\n",
              "    }\n",
              "  </style>\n",
              "\n",
              "      <script>\n",
              "        const buttonEl =\n",
              "          document.querySelector('#df-86a27796-fc21-4da1-9fc8-73efd93791c4 button.colab-df-convert');\n",
              "        buttonEl.style.display =\n",
              "          google.colab.kernel.accessAllowed ? 'block' : 'none';\n",
              "\n",
              "        async function convertToInteractive(key) {\n",
              "          const element = document.querySelector('#df-86a27796-fc21-4da1-9fc8-73efd93791c4');\n",
              "          const dataTable =\n",
              "            await google.colab.kernel.invokeFunction('convertToInteractive',\n",
              "                                                     [key], {});\n",
              "          if (!dataTable) return;\n",
              "\n",
              "          const docLinkHtml = 'Like what you see? Visit the ' +\n",
              "            '<a target=\"_blank\" href=https://colab.research.google.com/notebooks/data_table.ipynb>data table notebook</a>'\n",
              "            + ' to learn more about interactive tables.';\n",
              "          element.innerHTML = '';\n",
              "          dataTable['output_type'] = 'display_data';\n",
              "          await google.colab.output.renderOutput(dataTable, element);\n",
              "          const docLink = document.createElement('div');\n",
              "          docLink.innerHTML = docLinkHtml;\n",
              "          element.appendChild(docLink);\n",
              "        }\n",
              "      </script>\n",
              "    </div>\n",
              "  </div>\n",
              "  "
            ]
          },
          "metadata": {},
          "execution_count": 99
        }
      ]
    },
    {
      "cell_type": "markdown",
      "source": [
        "> Code di atas merupakan code untuk melihat median atau nilai tengah yang sudah diurutkan datanya setiap kali membuang sampah di setiap tempat pembuangan sampah. Dari hasil di atas kita memperoleh informasi bahwa pada tempat pembuangan sampah GREAT NORTHERN memiliki nilai median setiap kali membuang sampah yaitu sebesar 21110.0 kg"
      ],
      "metadata": {
        "id": "uNOk3-85URJH"
      }
    },
    {
      "cell_type": "code",
      "source": [
        "df1 = pd.DataFrame({'dropoff_site':df['dropoff_site'],\n",
        "                    'load_weight': df['load_weight']})\n",
        "\n",
        "df1"
      ],
      "metadata": {
        "colab": {
          "base_uri": "https://localhost:8080/",
          "height": 424
        },
        "id": "Jj21zBAU4aPN",
        "outputId": "4fe9b4a2-97d3-455f-f670-7105d1f1328d"
      },
      "execution_count": 100,
      "outputs": [
        {
          "output_type": "execute_result",
          "data": {
            "text/plain": [
              "       dropoff_site  load_weight\n",
              "4               MRF       1640.0\n",
              "5               MRF        940.0\n",
              "6         TDS - MRF        320.0\n",
              "7         TDS - MRF        520.0\n",
              "11     HORNSBY BEND      17660.0\n",
              "...             ...          ...\n",
              "26152  HORNSBY BEND       8240.0\n",
              "26153  HORNSBY BEND       4160.0\n",
              "26154  HORNSBY BEND       4340.0\n",
              "26155  TDS LANDFILL       1900.0\n",
              "26156  TDS LANDFILL       3040.0\n",
              "\n",
              "[25109 rows x 2 columns]"
            ],
            "text/html": [
              "\n",
              "  <div id=\"df-2305e890-55a9-437d-be6b-238659d3f620\">\n",
              "    <div class=\"colab-df-container\">\n",
              "      <div>\n",
              "<style scoped>\n",
              "    .dataframe tbody tr th:only-of-type {\n",
              "        vertical-align: middle;\n",
              "    }\n",
              "\n",
              "    .dataframe tbody tr th {\n",
              "        vertical-align: top;\n",
              "    }\n",
              "\n",
              "    .dataframe thead th {\n",
              "        text-align: right;\n",
              "    }\n",
              "</style>\n",
              "<table border=\"1\" class=\"dataframe\">\n",
              "  <thead>\n",
              "    <tr style=\"text-align: right;\">\n",
              "      <th></th>\n",
              "      <th>dropoff_site</th>\n",
              "      <th>load_weight</th>\n",
              "    </tr>\n",
              "  </thead>\n",
              "  <tbody>\n",
              "    <tr>\n",
              "      <th>4</th>\n",
              "      <td>MRF</td>\n",
              "      <td>1640.0</td>\n",
              "    </tr>\n",
              "    <tr>\n",
              "      <th>5</th>\n",
              "      <td>MRF</td>\n",
              "      <td>940.0</td>\n",
              "    </tr>\n",
              "    <tr>\n",
              "      <th>6</th>\n",
              "      <td>TDS - MRF</td>\n",
              "      <td>320.0</td>\n",
              "    </tr>\n",
              "    <tr>\n",
              "      <th>7</th>\n",
              "      <td>TDS - MRF</td>\n",
              "      <td>520.0</td>\n",
              "    </tr>\n",
              "    <tr>\n",
              "      <th>11</th>\n",
              "      <td>HORNSBY BEND</td>\n",
              "      <td>17660.0</td>\n",
              "    </tr>\n",
              "    <tr>\n",
              "      <th>...</th>\n",
              "      <td>...</td>\n",
              "      <td>...</td>\n",
              "    </tr>\n",
              "    <tr>\n",
              "      <th>26152</th>\n",
              "      <td>HORNSBY BEND</td>\n",
              "      <td>8240.0</td>\n",
              "    </tr>\n",
              "    <tr>\n",
              "      <th>26153</th>\n",
              "      <td>HORNSBY BEND</td>\n",
              "      <td>4160.0</td>\n",
              "    </tr>\n",
              "    <tr>\n",
              "      <th>26154</th>\n",
              "      <td>HORNSBY BEND</td>\n",
              "      <td>4340.0</td>\n",
              "    </tr>\n",
              "    <tr>\n",
              "      <th>26155</th>\n",
              "      <td>TDS LANDFILL</td>\n",
              "      <td>1900.0</td>\n",
              "    </tr>\n",
              "    <tr>\n",
              "      <th>26156</th>\n",
              "      <td>TDS LANDFILL</td>\n",
              "      <td>3040.0</td>\n",
              "    </tr>\n",
              "  </tbody>\n",
              "</table>\n",
              "<p>25109 rows × 2 columns</p>\n",
              "</div>\n",
              "      <button class=\"colab-df-convert\" onclick=\"convertToInteractive('df-2305e890-55a9-437d-be6b-238659d3f620')\"\n",
              "              title=\"Convert this dataframe to an interactive table.\"\n",
              "              style=\"display:none;\">\n",
              "        \n",
              "  <svg xmlns=\"http://www.w3.org/2000/svg\" height=\"24px\"viewBox=\"0 0 24 24\"\n",
              "       width=\"24px\">\n",
              "    <path d=\"M0 0h24v24H0V0z\" fill=\"none\"/>\n",
              "    <path d=\"M18.56 5.44l.94 2.06.94-2.06 2.06-.94-2.06-.94-.94-2.06-.94 2.06-2.06.94zm-11 1L8.5 8.5l.94-2.06 2.06-.94-2.06-.94L8.5 2.5l-.94 2.06-2.06.94zm10 10l.94 2.06.94-2.06 2.06-.94-2.06-.94-.94-2.06-.94 2.06-2.06.94z\"/><path d=\"M17.41 7.96l-1.37-1.37c-.4-.4-.92-.59-1.43-.59-.52 0-1.04.2-1.43.59L10.3 9.45l-7.72 7.72c-.78.78-.78 2.05 0 2.83L4 21.41c.39.39.9.59 1.41.59.51 0 1.02-.2 1.41-.59l7.78-7.78 2.81-2.81c.8-.78.8-2.07 0-2.86zM5.41 20L4 18.59l7.72-7.72 1.47 1.35L5.41 20z\"/>\n",
              "  </svg>\n",
              "      </button>\n",
              "      \n",
              "  <style>\n",
              "    .colab-df-container {\n",
              "      display:flex;\n",
              "      flex-wrap:wrap;\n",
              "      gap: 12px;\n",
              "    }\n",
              "\n",
              "    .colab-df-convert {\n",
              "      background-color: #E8F0FE;\n",
              "      border: none;\n",
              "      border-radius: 50%;\n",
              "      cursor: pointer;\n",
              "      display: none;\n",
              "      fill: #1967D2;\n",
              "      height: 32px;\n",
              "      padding: 0 0 0 0;\n",
              "      width: 32px;\n",
              "    }\n",
              "\n",
              "    .colab-df-convert:hover {\n",
              "      background-color: #E2EBFA;\n",
              "      box-shadow: 0px 1px 2px rgba(60, 64, 67, 0.3), 0px 1px 3px 1px rgba(60, 64, 67, 0.15);\n",
              "      fill: #174EA6;\n",
              "    }\n",
              "\n",
              "    [theme=dark] .colab-df-convert {\n",
              "      background-color: #3B4455;\n",
              "      fill: #D2E3FC;\n",
              "    }\n",
              "\n",
              "    [theme=dark] .colab-df-convert:hover {\n",
              "      background-color: #434B5C;\n",
              "      box-shadow: 0px 1px 3px 1px rgba(0, 0, 0, 0.15);\n",
              "      filter: drop-shadow(0px 1px 2px rgba(0, 0, 0, 0.3));\n",
              "      fill: #FFFFFF;\n",
              "    }\n",
              "  </style>\n",
              "\n",
              "      <script>\n",
              "        const buttonEl =\n",
              "          document.querySelector('#df-2305e890-55a9-437d-be6b-238659d3f620 button.colab-df-convert');\n",
              "        buttonEl.style.display =\n",
              "          google.colab.kernel.accessAllowed ? 'block' : 'none';\n",
              "\n",
              "        async function convertToInteractive(key) {\n",
              "          const element = document.querySelector('#df-2305e890-55a9-437d-be6b-238659d3f620');\n",
              "          const dataTable =\n",
              "            await google.colab.kernel.invokeFunction('convertToInteractive',\n",
              "                                                     [key], {});\n",
              "          if (!dataTable) return;\n",
              "\n",
              "          const docLinkHtml = 'Like what you see? Visit the ' +\n",
              "            '<a target=\"_blank\" href=https://colab.research.google.com/notebooks/data_table.ipynb>data table notebook</a>'\n",
              "            + ' to learn more about interactive tables.';\n",
              "          element.innerHTML = '';\n",
              "          dataTable['output_type'] = 'display_data';\n",
              "          await google.colab.output.renderOutput(dataTable, element);\n",
              "          const docLink = document.createElement('div');\n",
              "          docLink.innerHTML = docLinkHtml;\n",
              "          element.appendChild(docLink);\n",
              "        }\n",
              "      </script>\n",
              "    </div>\n",
              "  </div>\n",
              "  "
            ]
          },
          "metadata": {},
          "execution_count": 100
        }
      ]
    },
    {
      "cell_type": "markdown",
      "source": [
        "> Code di atas merupakan code untuk membuat dataframe yang akan digunakan untuk melihat modus pada data. karna apa bila kita ingin melihat modus, data yang kita gunakan adalah data dalam bentuk dataframe"
      ],
      "metadata": {
        "id": "nxHRAZP8VRLA"
      }
    },
    {
      "cell_type": "code",
      "source": [
        "df1['load_weight'].mode()"
      ],
      "metadata": {
        "colab": {
          "base_uri": "https://localhost:8080/"
        },
        "id": "6n9ZZkuA8LTC",
        "outputId": "2fb1b39a-95cf-4b33-b37b-26d5beb7f8ba"
      },
      "execution_count": 101,
      "outputs": [
        {
          "output_type": "execute_result",
          "data": {
            "text/plain": [
              "0    5500.0\n",
              "dtype: float64"
            ]
          },
          "metadata": {},
          "execution_count": 101
        }
      ]
    },
    {
      "cell_type": "markdown",
      "source": [
        "> Code di atas merupakan code untuk melihat modus dari data, yang mana dari hasil di atas di peroleh modus dari keseluruhan data yaitu pada nilai 5500.0"
      ],
      "metadata": {
        "id": "mTKtmXifVp1H"
      }
    },
    {
      "cell_type": "code",
      "source": [
        "df1[\n",
        "    (df1['load_weight'] == 5500)\n",
        "]"
      ],
      "metadata": {
        "colab": {
          "base_uri": "https://localhost:8080/",
          "height": 424
        },
        "id": "g15c2ZY87Tyl",
        "outputId": "d1486bdd-f6c4-4b90-91cb-343eab2a633e"
      },
      "execution_count": 102,
      "outputs": [
        {
          "output_type": "execute_result",
          "data": {
            "text/plain": [
              "       dropoff_site  load_weight\n",
              "574    HORNSBY BEND       5500.0\n",
              "759    HORNSBY BEND       5500.0\n",
              "760    HORNSBY BEND       5500.0\n",
              "761    HORNSBY BEND       5500.0\n",
              "2091   HORNSBY BEND       5500.0\n",
              "...             ...          ...\n",
              "26144  HORNSBY BEND       5500.0\n",
              "26148  HORNSBY BEND       5500.0\n",
              "26149  HORNSBY BEND       5500.0\n",
              "26150  HORNSBY BEND       5500.0\n",
              "26151  HORNSBY BEND       5500.0\n",
              "\n",
              "[65 rows x 2 columns]"
            ],
            "text/html": [
              "\n",
              "  <div id=\"df-8586d794-e79b-4592-a7c5-70cb84455dde\">\n",
              "    <div class=\"colab-df-container\">\n",
              "      <div>\n",
              "<style scoped>\n",
              "    .dataframe tbody tr th:only-of-type {\n",
              "        vertical-align: middle;\n",
              "    }\n",
              "\n",
              "    .dataframe tbody tr th {\n",
              "        vertical-align: top;\n",
              "    }\n",
              "\n",
              "    .dataframe thead th {\n",
              "        text-align: right;\n",
              "    }\n",
              "</style>\n",
              "<table border=\"1\" class=\"dataframe\">\n",
              "  <thead>\n",
              "    <tr style=\"text-align: right;\">\n",
              "      <th></th>\n",
              "      <th>dropoff_site</th>\n",
              "      <th>load_weight</th>\n",
              "    </tr>\n",
              "  </thead>\n",
              "  <tbody>\n",
              "    <tr>\n",
              "      <th>574</th>\n",
              "      <td>HORNSBY BEND</td>\n",
              "      <td>5500.0</td>\n",
              "    </tr>\n",
              "    <tr>\n",
              "      <th>759</th>\n",
              "      <td>HORNSBY BEND</td>\n",
              "      <td>5500.0</td>\n",
              "    </tr>\n",
              "    <tr>\n",
              "      <th>760</th>\n",
              "      <td>HORNSBY BEND</td>\n",
              "      <td>5500.0</td>\n",
              "    </tr>\n",
              "    <tr>\n",
              "      <th>761</th>\n",
              "      <td>HORNSBY BEND</td>\n",
              "      <td>5500.0</td>\n",
              "    </tr>\n",
              "    <tr>\n",
              "      <th>2091</th>\n",
              "      <td>HORNSBY BEND</td>\n",
              "      <td>5500.0</td>\n",
              "    </tr>\n",
              "    <tr>\n",
              "      <th>...</th>\n",
              "      <td>...</td>\n",
              "      <td>...</td>\n",
              "    </tr>\n",
              "    <tr>\n",
              "      <th>26144</th>\n",
              "      <td>HORNSBY BEND</td>\n",
              "      <td>5500.0</td>\n",
              "    </tr>\n",
              "    <tr>\n",
              "      <th>26148</th>\n",
              "      <td>HORNSBY BEND</td>\n",
              "      <td>5500.0</td>\n",
              "    </tr>\n",
              "    <tr>\n",
              "      <th>26149</th>\n",
              "      <td>HORNSBY BEND</td>\n",
              "      <td>5500.0</td>\n",
              "    </tr>\n",
              "    <tr>\n",
              "      <th>26150</th>\n",
              "      <td>HORNSBY BEND</td>\n",
              "      <td>5500.0</td>\n",
              "    </tr>\n",
              "    <tr>\n",
              "      <th>26151</th>\n",
              "      <td>HORNSBY BEND</td>\n",
              "      <td>5500.0</td>\n",
              "    </tr>\n",
              "  </tbody>\n",
              "</table>\n",
              "<p>65 rows × 2 columns</p>\n",
              "</div>\n",
              "      <button class=\"colab-df-convert\" onclick=\"convertToInteractive('df-8586d794-e79b-4592-a7c5-70cb84455dde')\"\n",
              "              title=\"Convert this dataframe to an interactive table.\"\n",
              "              style=\"display:none;\">\n",
              "        \n",
              "  <svg xmlns=\"http://www.w3.org/2000/svg\" height=\"24px\"viewBox=\"0 0 24 24\"\n",
              "       width=\"24px\">\n",
              "    <path d=\"M0 0h24v24H0V0z\" fill=\"none\"/>\n",
              "    <path d=\"M18.56 5.44l.94 2.06.94-2.06 2.06-.94-2.06-.94-.94-2.06-.94 2.06-2.06.94zm-11 1L8.5 8.5l.94-2.06 2.06-.94-2.06-.94L8.5 2.5l-.94 2.06-2.06.94zm10 10l.94 2.06.94-2.06 2.06-.94-2.06-.94-.94-2.06-.94 2.06-2.06.94z\"/><path d=\"M17.41 7.96l-1.37-1.37c-.4-.4-.92-.59-1.43-.59-.52 0-1.04.2-1.43.59L10.3 9.45l-7.72 7.72c-.78.78-.78 2.05 0 2.83L4 21.41c.39.39.9.59 1.41.59.51 0 1.02-.2 1.41-.59l7.78-7.78 2.81-2.81c.8-.78.8-2.07 0-2.86zM5.41 20L4 18.59l7.72-7.72 1.47 1.35L5.41 20z\"/>\n",
              "  </svg>\n",
              "      </button>\n",
              "      \n",
              "  <style>\n",
              "    .colab-df-container {\n",
              "      display:flex;\n",
              "      flex-wrap:wrap;\n",
              "      gap: 12px;\n",
              "    }\n",
              "\n",
              "    .colab-df-convert {\n",
              "      background-color: #E8F0FE;\n",
              "      border: none;\n",
              "      border-radius: 50%;\n",
              "      cursor: pointer;\n",
              "      display: none;\n",
              "      fill: #1967D2;\n",
              "      height: 32px;\n",
              "      padding: 0 0 0 0;\n",
              "      width: 32px;\n",
              "    }\n",
              "\n",
              "    .colab-df-convert:hover {\n",
              "      background-color: #E2EBFA;\n",
              "      box-shadow: 0px 1px 2px rgba(60, 64, 67, 0.3), 0px 1px 3px 1px rgba(60, 64, 67, 0.15);\n",
              "      fill: #174EA6;\n",
              "    }\n",
              "\n",
              "    [theme=dark] .colab-df-convert {\n",
              "      background-color: #3B4455;\n",
              "      fill: #D2E3FC;\n",
              "    }\n",
              "\n",
              "    [theme=dark] .colab-df-convert:hover {\n",
              "      background-color: #434B5C;\n",
              "      box-shadow: 0px 1px 3px 1px rgba(0, 0, 0, 0.15);\n",
              "      filter: drop-shadow(0px 1px 2px rgba(0, 0, 0, 0.3));\n",
              "      fill: #FFFFFF;\n",
              "    }\n",
              "  </style>\n",
              "\n",
              "      <script>\n",
              "        const buttonEl =\n",
              "          document.querySelector('#df-8586d794-e79b-4592-a7c5-70cb84455dde button.colab-df-convert');\n",
              "        buttonEl.style.display =\n",
              "          google.colab.kernel.accessAllowed ? 'block' : 'none';\n",
              "\n",
              "        async function convertToInteractive(key) {\n",
              "          const element = document.querySelector('#df-8586d794-e79b-4592-a7c5-70cb84455dde');\n",
              "          const dataTable =\n",
              "            await google.colab.kernel.invokeFunction('convertToInteractive',\n",
              "                                                     [key], {});\n",
              "          if (!dataTable) return;\n",
              "\n",
              "          const docLinkHtml = 'Like what you see? Visit the ' +\n",
              "            '<a target=\"_blank\" href=https://colab.research.google.com/notebooks/data_table.ipynb>data table notebook</a>'\n",
              "            + ' to learn more about interactive tables.';\n",
              "          element.innerHTML = '';\n",
              "          dataTable['output_type'] = 'display_data';\n",
              "          await google.colab.output.renderOutput(dataTable, element);\n",
              "          const docLink = document.createElement('div');\n",
              "          docLink.innerHTML = docLinkHtml;\n",
              "          element.appendChild(docLink);\n",
              "        }\n",
              "      </script>\n",
              "    </div>\n",
              "  </div>\n",
              "  "
            ]
          },
          "metadata": {},
          "execution_count": 102
        }
      ]
    },
    {
      "cell_type": "markdown",
      "source": [
        "> Dengan code diatas kita juga bisa melihat seberapa banyak nilai modus itu keluar pada data, yang mana dari hasil di atas kita mengetahui bahwa nilai 5500.0 muncul sebanyak 65 kali pada data"
      ],
      "metadata": {
        "id": "uMfa2csNV2sU"
      }
    },
    {
      "cell_type": "code",
      "source": [
        "numcols = ['TDS LANDFILL','ORGANICS BY GOSH','BALCONES RECYCLING','TDS - MRF','HORNSBY BEND','MRF','AUSTIN IRON AND METAL','ON ROUTE HIGH DUMP','GREAT NORTHERN','PARK BEND','AUSTIN WOOD RECYCLING','BALCONES WOODS','STEINER LANDFILL','WESTFIELD']\n",
        "\n",
        "for col in numcols:\n",
        "  df_mode = df1[(df1['dropoff_site']== col)]\n",
        "  mode = df_mode['load_weight'].mode()\n",
        "  print(col)\n",
        "  print(mode)"
      ],
      "metadata": {
        "colab": {
          "base_uri": "https://localhost:8080/"
        },
        "id": "RnWsyLsi1-mF",
        "outputId": "ca0a81a1-7f9f-4828-e2e8-d2a471767b1f"
      },
      "execution_count": 103,
      "outputs": [
        {
          "output_type": "stream",
          "name": "stdout",
          "text": [
            "TDS LANDFILL\n",
            "0       20.0\n",
            "1       60.0\n",
            "2    12020.0\n",
            "dtype: float64\n",
            "ORGANICS BY GOSH\n",
            "0    14580.0\n",
            "dtype: float64\n",
            "BALCONES RECYCLING\n",
            "0    11880.0\n",
            "dtype: float64\n",
            "TDS - MRF\n",
            "0    10360.0\n",
            "dtype: float64\n",
            "HORNSBY BEND\n",
            "0    5500.0\n",
            "dtype: float64\n",
            "MRF\n",
            "0    960.0\n",
            "dtype: float64\n",
            "AUSTIN IRON AND METAL\n",
            "0    260.0\n",
            "1    320.0\n",
            "2    520.0\n",
            "dtype: float64\n",
            "ON ROUTE HIGH DUMP\n",
            "0     4060.0\n",
            "1     7480.0\n",
            "2    12500.0\n",
            "3    14940.0\n",
            "4    15040.0\n",
            "5    15200.0\n",
            "6    18460.0\n",
            "dtype: float64\n",
            "GREAT NORTHERN\n",
            "0     8700.0\n",
            "1    17160.0\n",
            "2    20900.0\n",
            "3    21320.0\n",
            "4    21960.0\n",
            "5    24880.0\n",
            "dtype: float64\n",
            "PARK BEND\n",
            "0     8480.0\n",
            "1     8960.0\n",
            "2    15700.0\n",
            "3    20400.0\n",
            "dtype: float64\n",
            "AUSTIN WOOD RECYCLING\n",
            "0    2340.0\n",
            "1    5760.0\n",
            "dtype: float64\n",
            "BALCONES WOODS\n",
            "0    8460.0\n",
            "dtype: float64\n",
            "STEINER LANDFILL\n",
            "0    780.0\n",
            "dtype: float64\n",
            "WESTFIELD\n",
            "0    16020.0\n",
            "dtype: float64\n"
          ]
        }
      ]
    },
    {
      "cell_type": "markdown",
      "source": [
        "> Code di atas merupakan code untuk melihat modus dari data di setiap tempat pembuangan sampah, yang mana dari hasil di atas di peroleh modus pada masing - masing tempat pembuangan sampah. Dan dan dari hasil di atas di peroleh informasi bahwa ada beberapa tempat pembuangan sampah yang memiliki modus lebih dari satu"
      ],
      "metadata": {
        "id": "pEvgngZGX_TG"
      }
    },
    {
      "cell_type": "markdown",
      "source": [
        "> Di bawah ini merupakan central tendency load_weight pada dropoff_site TDS LANDFILL "
      ],
      "metadata": {
        "id": "EcffEnaOMF5X"
      }
    },
    {
      "cell_type": "code",
      "source": [
        "df[\n",
        "    (df['dropoff_site']=='TDS LANDFILL') \n",
        "].groupby('dropoff_site')['load_weight'].mean().sort_values(ascending=False).reset_index()"
      ],
      "metadata": {
        "colab": {
          "base_uri": "https://localhost:8080/",
          "height": 81
        },
        "id": "f_S8Myc3MeGu",
        "outputId": "cf3d7fd9-0b71-4668-b9f5-30126f6bd393"
      },
      "execution_count": 104,
      "outputs": [
        {
          "output_type": "execute_result",
          "data": {
            "text/plain": [
              "   dropoff_site  load_weight\n",
              "0  TDS LANDFILL     15169.41"
            ],
            "text/html": [
              "\n",
              "  <div id=\"df-871cf1e2-e4cb-4f86-8a77-f1c4dbd4774e\">\n",
              "    <div class=\"colab-df-container\">\n",
              "      <div>\n",
              "<style scoped>\n",
              "    .dataframe tbody tr th:only-of-type {\n",
              "        vertical-align: middle;\n",
              "    }\n",
              "\n",
              "    .dataframe tbody tr th {\n",
              "        vertical-align: top;\n",
              "    }\n",
              "\n",
              "    .dataframe thead th {\n",
              "        text-align: right;\n",
              "    }\n",
              "</style>\n",
              "<table border=\"1\" class=\"dataframe\">\n",
              "  <thead>\n",
              "    <tr style=\"text-align: right;\">\n",
              "      <th></th>\n",
              "      <th>dropoff_site</th>\n",
              "      <th>load_weight</th>\n",
              "    </tr>\n",
              "  </thead>\n",
              "  <tbody>\n",
              "    <tr>\n",
              "      <th>0</th>\n",
              "      <td>TDS LANDFILL</td>\n",
              "      <td>15169.41</td>\n",
              "    </tr>\n",
              "  </tbody>\n",
              "</table>\n",
              "</div>\n",
              "      <button class=\"colab-df-convert\" onclick=\"convertToInteractive('df-871cf1e2-e4cb-4f86-8a77-f1c4dbd4774e')\"\n",
              "              title=\"Convert this dataframe to an interactive table.\"\n",
              "              style=\"display:none;\">\n",
              "        \n",
              "  <svg xmlns=\"http://www.w3.org/2000/svg\" height=\"24px\"viewBox=\"0 0 24 24\"\n",
              "       width=\"24px\">\n",
              "    <path d=\"M0 0h24v24H0V0z\" fill=\"none\"/>\n",
              "    <path d=\"M18.56 5.44l.94 2.06.94-2.06 2.06-.94-2.06-.94-.94-2.06-.94 2.06-2.06.94zm-11 1L8.5 8.5l.94-2.06 2.06-.94-2.06-.94L8.5 2.5l-.94 2.06-2.06.94zm10 10l.94 2.06.94-2.06 2.06-.94-2.06-.94-.94-2.06-.94 2.06-2.06.94z\"/><path d=\"M17.41 7.96l-1.37-1.37c-.4-.4-.92-.59-1.43-.59-.52 0-1.04.2-1.43.59L10.3 9.45l-7.72 7.72c-.78.78-.78 2.05 0 2.83L4 21.41c.39.39.9.59 1.41.59.51 0 1.02-.2 1.41-.59l7.78-7.78 2.81-2.81c.8-.78.8-2.07 0-2.86zM5.41 20L4 18.59l7.72-7.72 1.47 1.35L5.41 20z\"/>\n",
              "  </svg>\n",
              "      </button>\n",
              "      \n",
              "  <style>\n",
              "    .colab-df-container {\n",
              "      display:flex;\n",
              "      flex-wrap:wrap;\n",
              "      gap: 12px;\n",
              "    }\n",
              "\n",
              "    .colab-df-convert {\n",
              "      background-color: #E8F0FE;\n",
              "      border: none;\n",
              "      border-radius: 50%;\n",
              "      cursor: pointer;\n",
              "      display: none;\n",
              "      fill: #1967D2;\n",
              "      height: 32px;\n",
              "      padding: 0 0 0 0;\n",
              "      width: 32px;\n",
              "    }\n",
              "\n",
              "    .colab-df-convert:hover {\n",
              "      background-color: #E2EBFA;\n",
              "      box-shadow: 0px 1px 2px rgba(60, 64, 67, 0.3), 0px 1px 3px 1px rgba(60, 64, 67, 0.15);\n",
              "      fill: #174EA6;\n",
              "    }\n",
              "\n",
              "    [theme=dark] .colab-df-convert {\n",
              "      background-color: #3B4455;\n",
              "      fill: #D2E3FC;\n",
              "    }\n",
              "\n",
              "    [theme=dark] .colab-df-convert:hover {\n",
              "      background-color: #434B5C;\n",
              "      box-shadow: 0px 1px 3px 1px rgba(0, 0, 0, 0.15);\n",
              "      filter: drop-shadow(0px 1px 2px rgba(0, 0, 0, 0.3));\n",
              "      fill: #FFFFFF;\n",
              "    }\n",
              "  </style>\n",
              "\n",
              "      <script>\n",
              "        const buttonEl =\n",
              "          document.querySelector('#df-871cf1e2-e4cb-4f86-8a77-f1c4dbd4774e button.colab-df-convert');\n",
              "        buttonEl.style.display =\n",
              "          google.colab.kernel.accessAllowed ? 'block' : 'none';\n",
              "\n",
              "        async function convertToInteractive(key) {\n",
              "          const element = document.querySelector('#df-871cf1e2-e4cb-4f86-8a77-f1c4dbd4774e');\n",
              "          const dataTable =\n",
              "            await google.colab.kernel.invokeFunction('convertToInteractive',\n",
              "                                                     [key], {});\n",
              "          if (!dataTable) return;\n",
              "\n",
              "          const docLinkHtml = 'Like what you see? Visit the ' +\n",
              "            '<a target=\"_blank\" href=https://colab.research.google.com/notebooks/data_table.ipynb>data table notebook</a>'\n",
              "            + ' to learn more about interactive tables.';\n",
              "          element.innerHTML = '';\n",
              "          dataTable['output_type'] = 'display_data';\n",
              "          await google.colab.output.renderOutput(dataTable, element);\n",
              "          const docLink = document.createElement('div');\n",
              "          docLink.innerHTML = docLinkHtml;\n",
              "          element.appendChild(docLink);\n",
              "        }\n",
              "      </script>\n",
              "    </div>\n",
              "  </div>\n",
              "  "
            ]
          },
          "metadata": {},
          "execution_count": 104
        }
      ]
    },
    {
      "cell_type": "code",
      "source": [
        "df[\n",
        "    (df['dropoff_site']=='TDS LANDFILL') \n",
        "].groupby('dropoff_site')['load_weight'].median().sort_values(ascending=False).reset_index()"
      ],
      "metadata": {
        "colab": {
          "base_uri": "https://localhost:8080/",
          "height": 81
        },
        "id": "ETmNmwbKN9u-",
        "outputId": "d967ac21-9fb0-4af6-85f6-bdc7dc6ca42e"
      },
      "execution_count": 105,
      "outputs": [
        {
          "output_type": "execute_result",
          "data": {
            "text/plain": [
              "   dropoff_site  load_weight\n",
              "0  TDS LANDFILL      14920.0"
            ],
            "text/html": [
              "\n",
              "  <div id=\"df-f53640c9-96ad-43b7-9f25-e3d1dd5df8ef\">\n",
              "    <div class=\"colab-df-container\">\n",
              "      <div>\n",
              "<style scoped>\n",
              "    .dataframe tbody tr th:only-of-type {\n",
              "        vertical-align: middle;\n",
              "    }\n",
              "\n",
              "    .dataframe tbody tr th {\n",
              "        vertical-align: top;\n",
              "    }\n",
              "\n",
              "    .dataframe thead th {\n",
              "        text-align: right;\n",
              "    }\n",
              "</style>\n",
              "<table border=\"1\" class=\"dataframe\">\n",
              "  <thead>\n",
              "    <tr style=\"text-align: right;\">\n",
              "      <th></th>\n",
              "      <th>dropoff_site</th>\n",
              "      <th>load_weight</th>\n",
              "    </tr>\n",
              "  </thead>\n",
              "  <tbody>\n",
              "    <tr>\n",
              "      <th>0</th>\n",
              "      <td>TDS LANDFILL</td>\n",
              "      <td>14920.0</td>\n",
              "    </tr>\n",
              "  </tbody>\n",
              "</table>\n",
              "</div>\n",
              "      <button class=\"colab-df-convert\" onclick=\"convertToInteractive('df-f53640c9-96ad-43b7-9f25-e3d1dd5df8ef')\"\n",
              "              title=\"Convert this dataframe to an interactive table.\"\n",
              "              style=\"display:none;\">\n",
              "        \n",
              "  <svg xmlns=\"http://www.w3.org/2000/svg\" height=\"24px\"viewBox=\"0 0 24 24\"\n",
              "       width=\"24px\">\n",
              "    <path d=\"M0 0h24v24H0V0z\" fill=\"none\"/>\n",
              "    <path d=\"M18.56 5.44l.94 2.06.94-2.06 2.06-.94-2.06-.94-.94-2.06-.94 2.06-2.06.94zm-11 1L8.5 8.5l.94-2.06 2.06-.94-2.06-.94L8.5 2.5l-.94 2.06-2.06.94zm10 10l.94 2.06.94-2.06 2.06-.94-2.06-.94-.94-2.06-.94 2.06-2.06.94z\"/><path d=\"M17.41 7.96l-1.37-1.37c-.4-.4-.92-.59-1.43-.59-.52 0-1.04.2-1.43.59L10.3 9.45l-7.72 7.72c-.78.78-.78 2.05 0 2.83L4 21.41c.39.39.9.59 1.41.59.51 0 1.02-.2 1.41-.59l7.78-7.78 2.81-2.81c.8-.78.8-2.07 0-2.86zM5.41 20L4 18.59l7.72-7.72 1.47 1.35L5.41 20z\"/>\n",
              "  </svg>\n",
              "      </button>\n",
              "      \n",
              "  <style>\n",
              "    .colab-df-container {\n",
              "      display:flex;\n",
              "      flex-wrap:wrap;\n",
              "      gap: 12px;\n",
              "    }\n",
              "\n",
              "    .colab-df-convert {\n",
              "      background-color: #E8F0FE;\n",
              "      border: none;\n",
              "      border-radius: 50%;\n",
              "      cursor: pointer;\n",
              "      display: none;\n",
              "      fill: #1967D2;\n",
              "      height: 32px;\n",
              "      padding: 0 0 0 0;\n",
              "      width: 32px;\n",
              "    }\n",
              "\n",
              "    .colab-df-convert:hover {\n",
              "      background-color: #E2EBFA;\n",
              "      box-shadow: 0px 1px 2px rgba(60, 64, 67, 0.3), 0px 1px 3px 1px rgba(60, 64, 67, 0.15);\n",
              "      fill: #174EA6;\n",
              "    }\n",
              "\n",
              "    [theme=dark] .colab-df-convert {\n",
              "      background-color: #3B4455;\n",
              "      fill: #D2E3FC;\n",
              "    }\n",
              "\n",
              "    [theme=dark] .colab-df-convert:hover {\n",
              "      background-color: #434B5C;\n",
              "      box-shadow: 0px 1px 3px 1px rgba(0, 0, 0, 0.15);\n",
              "      filter: drop-shadow(0px 1px 2px rgba(0, 0, 0, 0.3));\n",
              "      fill: #FFFFFF;\n",
              "    }\n",
              "  </style>\n",
              "\n",
              "      <script>\n",
              "        const buttonEl =\n",
              "          document.querySelector('#df-f53640c9-96ad-43b7-9f25-e3d1dd5df8ef button.colab-df-convert');\n",
              "        buttonEl.style.display =\n",
              "          google.colab.kernel.accessAllowed ? 'block' : 'none';\n",
              "\n",
              "        async function convertToInteractive(key) {\n",
              "          const element = document.querySelector('#df-f53640c9-96ad-43b7-9f25-e3d1dd5df8ef');\n",
              "          const dataTable =\n",
              "            await google.colab.kernel.invokeFunction('convertToInteractive',\n",
              "                                                     [key], {});\n",
              "          if (!dataTable) return;\n",
              "\n",
              "          const docLinkHtml = 'Like what you see? Visit the ' +\n",
              "            '<a target=\"_blank\" href=https://colab.research.google.com/notebooks/data_table.ipynb>data table notebook</a>'\n",
              "            + ' to learn more about interactive tables.';\n",
              "          element.innerHTML = '';\n",
              "          dataTable['output_type'] = 'display_data';\n",
              "          await google.colab.output.renderOutput(dataTable, element);\n",
              "          const docLink = document.createElement('div');\n",
              "          docLink.innerHTML = docLinkHtml;\n",
              "          element.appendChild(docLink);\n",
              "        }\n",
              "      </script>\n",
              "    </div>\n",
              "  </div>\n",
              "  "
            ]
          },
          "metadata": {},
          "execution_count": 105
        }
      ]
    },
    {
      "cell_type": "code",
      "source": [
        "df2 = pd.DataFrame({'dropoff_site':df['dropoff_site'],\n",
        "                    'load_weight': df['load_weight']})\n",
        "df2"
      ],
      "metadata": {
        "colab": {
          "base_uri": "https://localhost:8080/",
          "height": 424
        },
        "id": "-ZjxNRNHOWeW",
        "outputId": "8cb1d04f-15df-4e85-ed55-8e6eb543ba50"
      },
      "execution_count": 106,
      "outputs": [
        {
          "output_type": "execute_result",
          "data": {
            "text/plain": [
              "       dropoff_site  load_weight\n",
              "4               MRF       1640.0\n",
              "5               MRF        940.0\n",
              "6         TDS - MRF        320.0\n",
              "7         TDS - MRF        520.0\n",
              "11     HORNSBY BEND      17660.0\n",
              "...             ...          ...\n",
              "26152  HORNSBY BEND       8240.0\n",
              "26153  HORNSBY BEND       4160.0\n",
              "26154  HORNSBY BEND       4340.0\n",
              "26155  TDS LANDFILL       1900.0\n",
              "26156  TDS LANDFILL       3040.0\n",
              "\n",
              "[25109 rows x 2 columns]"
            ],
            "text/html": [
              "\n",
              "  <div id=\"df-ebcaac5c-9b1e-40f4-b4bb-e23f86c55a1e\">\n",
              "    <div class=\"colab-df-container\">\n",
              "      <div>\n",
              "<style scoped>\n",
              "    .dataframe tbody tr th:only-of-type {\n",
              "        vertical-align: middle;\n",
              "    }\n",
              "\n",
              "    .dataframe tbody tr th {\n",
              "        vertical-align: top;\n",
              "    }\n",
              "\n",
              "    .dataframe thead th {\n",
              "        text-align: right;\n",
              "    }\n",
              "</style>\n",
              "<table border=\"1\" class=\"dataframe\">\n",
              "  <thead>\n",
              "    <tr style=\"text-align: right;\">\n",
              "      <th></th>\n",
              "      <th>dropoff_site</th>\n",
              "      <th>load_weight</th>\n",
              "    </tr>\n",
              "  </thead>\n",
              "  <tbody>\n",
              "    <tr>\n",
              "      <th>4</th>\n",
              "      <td>MRF</td>\n",
              "      <td>1640.0</td>\n",
              "    </tr>\n",
              "    <tr>\n",
              "      <th>5</th>\n",
              "      <td>MRF</td>\n",
              "      <td>940.0</td>\n",
              "    </tr>\n",
              "    <tr>\n",
              "      <th>6</th>\n",
              "      <td>TDS - MRF</td>\n",
              "      <td>320.0</td>\n",
              "    </tr>\n",
              "    <tr>\n",
              "      <th>7</th>\n",
              "      <td>TDS - MRF</td>\n",
              "      <td>520.0</td>\n",
              "    </tr>\n",
              "    <tr>\n",
              "      <th>11</th>\n",
              "      <td>HORNSBY BEND</td>\n",
              "      <td>17660.0</td>\n",
              "    </tr>\n",
              "    <tr>\n",
              "      <th>...</th>\n",
              "      <td>...</td>\n",
              "      <td>...</td>\n",
              "    </tr>\n",
              "    <tr>\n",
              "      <th>26152</th>\n",
              "      <td>HORNSBY BEND</td>\n",
              "      <td>8240.0</td>\n",
              "    </tr>\n",
              "    <tr>\n",
              "      <th>26153</th>\n",
              "      <td>HORNSBY BEND</td>\n",
              "      <td>4160.0</td>\n",
              "    </tr>\n",
              "    <tr>\n",
              "      <th>26154</th>\n",
              "      <td>HORNSBY BEND</td>\n",
              "      <td>4340.0</td>\n",
              "    </tr>\n",
              "    <tr>\n",
              "      <th>26155</th>\n",
              "      <td>TDS LANDFILL</td>\n",
              "      <td>1900.0</td>\n",
              "    </tr>\n",
              "    <tr>\n",
              "      <th>26156</th>\n",
              "      <td>TDS LANDFILL</td>\n",
              "      <td>3040.0</td>\n",
              "    </tr>\n",
              "  </tbody>\n",
              "</table>\n",
              "<p>25109 rows × 2 columns</p>\n",
              "</div>\n",
              "      <button class=\"colab-df-convert\" onclick=\"convertToInteractive('df-ebcaac5c-9b1e-40f4-b4bb-e23f86c55a1e')\"\n",
              "              title=\"Convert this dataframe to an interactive table.\"\n",
              "              style=\"display:none;\">\n",
              "        \n",
              "  <svg xmlns=\"http://www.w3.org/2000/svg\" height=\"24px\"viewBox=\"0 0 24 24\"\n",
              "       width=\"24px\">\n",
              "    <path d=\"M0 0h24v24H0V0z\" fill=\"none\"/>\n",
              "    <path d=\"M18.56 5.44l.94 2.06.94-2.06 2.06-.94-2.06-.94-.94-2.06-.94 2.06-2.06.94zm-11 1L8.5 8.5l.94-2.06 2.06-.94-2.06-.94L8.5 2.5l-.94 2.06-2.06.94zm10 10l.94 2.06.94-2.06 2.06-.94-2.06-.94-.94-2.06-.94 2.06-2.06.94z\"/><path d=\"M17.41 7.96l-1.37-1.37c-.4-.4-.92-.59-1.43-.59-.52 0-1.04.2-1.43.59L10.3 9.45l-7.72 7.72c-.78.78-.78 2.05 0 2.83L4 21.41c.39.39.9.59 1.41.59.51 0 1.02-.2 1.41-.59l7.78-7.78 2.81-2.81c.8-.78.8-2.07 0-2.86zM5.41 20L4 18.59l7.72-7.72 1.47 1.35L5.41 20z\"/>\n",
              "  </svg>\n",
              "      </button>\n",
              "      \n",
              "  <style>\n",
              "    .colab-df-container {\n",
              "      display:flex;\n",
              "      flex-wrap:wrap;\n",
              "      gap: 12px;\n",
              "    }\n",
              "\n",
              "    .colab-df-convert {\n",
              "      background-color: #E8F0FE;\n",
              "      border: none;\n",
              "      border-radius: 50%;\n",
              "      cursor: pointer;\n",
              "      display: none;\n",
              "      fill: #1967D2;\n",
              "      height: 32px;\n",
              "      padding: 0 0 0 0;\n",
              "      width: 32px;\n",
              "    }\n",
              "\n",
              "    .colab-df-convert:hover {\n",
              "      background-color: #E2EBFA;\n",
              "      box-shadow: 0px 1px 2px rgba(60, 64, 67, 0.3), 0px 1px 3px 1px rgba(60, 64, 67, 0.15);\n",
              "      fill: #174EA6;\n",
              "    }\n",
              "\n",
              "    [theme=dark] .colab-df-convert {\n",
              "      background-color: #3B4455;\n",
              "      fill: #D2E3FC;\n",
              "    }\n",
              "\n",
              "    [theme=dark] .colab-df-convert:hover {\n",
              "      background-color: #434B5C;\n",
              "      box-shadow: 0px 1px 3px 1px rgba(0, 0, 0, 0.15);\n",
              "      filter: drop-shadow(0px 1px 2px rgba(0, 0, 0, 0.3));\n",
              "      fill: #FFFFFF;\n",
              "    }\n",
              "  </style>\n",
              "\n",
              "      <script>\n",
              "        const buttonEl =\n",
              "          document.querySelector('#df-ebcaac5c-9b1e-40f4-b4bb-e23f86c55a1e button.colab-df-convert');\n",
              "        buttonEl.style.display =\n",
              "          google.colab.kernel.accessAllowed ? 'block' : 'none';\n",
              "\n",
              "        async function convertToInteractive(key) {\n",
              "          const element = document.querySelector('#df-ebcaac5c-9b1e-40f4-b4bb-e23f86c55a1e');\n",
              "          const dataTable =\n",
              "            await google.colab.kernel.invokeFunction('convertToInteractive',\n",
              "                                                     [key], {});\n",
              "          if (!dataTable) return;\n",
              "\n",
              "          const docLinkHtml = 'Like what you see? Visit the ' +\n",
              "            '<a target=\"_blank\" href=https://colab.research.google.com/notebooks/data_table.ipynb>data table notebook</a>'\n",
              "            + ' to learn more about interactive tables.';\n",
              "          element.innerHTML = '';\n",
              "          dataTable['output_type'] = 'display_data';\n",
              "          await google.colab.output.renderOutput(dataTable, element);\n",
              "          const docLink = document.createElement('div');\n",
              "          docLink.innerHTML = docLinkHtml;\n",
              "          element.appendChild(docLink);\n",
              "        }\n",
              "      </script>\n",
              "    </div>\n",
              "  </div>\n",
              "  "
            ]
          },
          "metadata": {},
          "execution_count": 106
        }
      ]
    },
    {
      "cell_type": "code",
      "source": [
        "df3 = df2[(df['dropoff_site']=='TDS LANDFILL')]\n",
        "df3"
      ],
      "metadata": {
        "colab": {
          "base_uri": "https://localhost:8080/",
          "height": 424
        },
        "id": "fsUdL66wQmL1",
        "outputId": "4ceab124-2911-4367-8688-e72014c57f4e"
      },
      "execution_count": 107,
      "outputs": [
        {
          "output_type": "execute_result",
          "data": {
            "text/plain": [
              "       dropoff_site  load_weight\n",
              "16     TDS LANDFILL      12480.0\n",
              "17     TDS LANDFILL      10200.0\n",
              "18     TDS LANDFILL       5440.0\n",
              "19     TDS LANDFILL        140.0\n",
              "20     TDS LANDFILL      24580.0\n",
              "...             ...          ...\n",
              "26097  TDS LANDFILL       8380.0\n",
              "26098  TDS LANDFILL       2100.0\n",
              "26099  TDS LANDFILL       3500.0\n",
              "26155  TDS LANDFILL       1900.0\n",
              "26156  TDS LANDFILL       3040.0\n",
              "\n",
              "[10691 rows x 2 columns]"
            ],
            "text/html": [
              "\n",
              "  <div id=\"df-c3ffe86c-3571-44e4-83ec-884aab9a4cad\">\n",
              "    <div class=\"colab-df-container\">\n",
              "      <div>\n",
              "<style scoped>\n",
              "    .dataframe tbody tr th:only-of-type {\n",
              "        vertical-align: middle;\n",
              "    }\n",
              "\n",
              "    .dataframe tbody tr th {\n",
              "        vertical-align: top;\n",
              "    }\n",
              "\n",
              "    .dataframe thead th {\n",
              "        text-align: right;\n",
              "    }\n",
              "</style>\n",
              "<table border=\"1\" class=\"dataframe\">\n",
              "  <thead>\n",
              "    <tr style=\"text-align: right;\">\n",
              "      <th></th>\n",
              "      <th>dropoff_site</th>\n",
              "      <th>load_weight</th>\n",
              "    </tr>\n",
              "  </thead>\n",
              "  <tbody>\n",
              "    <tr>\n",
              "      <th>16</th>\n",
              "      <td>TDS LANDFILL</td>\n",
              "      <td>12480.0</td>\n",
              "    </tr>\n",
              "    <tr>\n",
              "      <th>17</th>\n",
              "      <td>TDS LANDFILL</td>\n",
              "      <td>10200.0</td>\n",
              "    </tr>\n",
              "    <tr>\n",
              "      <th>18</th>\n",
              "      <td>TDS LANDFILL</td>\n",
              "      <td>5440.0</td>\n",
              "    </tr>\n",
              "    <tr>\n",
              "      <th>19</th>\n",
              "      <td>TDS LANDFILL</td>\n",
              "      <td>140.0</td>\n",
              "    </tr>\n",
              "    <tr>\n",
              "      <th>20</th>\n",
              "      <td>TDS LANDFILL</td>\n",
              "      <td>24580.0</td>\n",
              "    </tr>\n",
              "    <tr>\n",
              "      <th>...</th>\n",
              "      <td>...</td>\n",
              "      <td>...</td>\n",
              "    </tr>\n",
              "    <tr>\n",
              "      <th>26097</th>\n",
              "      <td>TDS LANDFILL</td>\n",
              "      <td>8380.0</td>\n",
              "    </tr>\n",
              "    <tr>\n",
              "      <th>26098</th>\n",
              "      <td>TDS LANDFILL</td>\n",
              "      <td>2100.0</td>\n",
              "    </tr>\n",
              "    <tr>\n",
              "      <th>26099</th>\n",
              "      <td>TDS LANDFILL</td>\n",
              "      <td>3500.0</td>\n",
              "    </tr>\n",
              "    <tr>\n",
              "      <th>26155</th>\n",
              "      <td>TDS LANDFILL</td>\n",
              "      <td>1900.0</td>\n",
              "    </tr>\n",
              "    <tr>\n",
              "      <th>26156</th>\n",
              "      <td>TDS LANDFILL</td>\n",
              "      <td>3040.0</td>\n",
              "    </tr>\n",
              "  </tbody>\n",
              "</table>\n",
              "<p>10691 rows × 2 columns</p>\n",
              "</div>\n",
              "      <button class=\"colab-df-convert\" onclick=\"convertToInteractive('df-c3ffe86c-3571-44e4-83ec-884aab9a4cad')\"\n",
              "              title=\"Convert this dataframe to an interactive table.\"\n",
              "              style=\"display:none;\">\n",
              "        \n",
              "  <svg xmlns=\"http://www.w3.org/2000/svg\" height=\"24px\"viewBox=\"0 0 24 24\"\n",
              "       width=\"24px\">\n",
              "    <path d=\"M0 0h24v24H0V0z\" fill=\"none\"/>\n",
              "    <path d=\"M18.56 5.44l.94 2.06.94-2.06 2.06-.94-2.06-.94-.94-2.06-.94 2.06-2.06.94zm-11 1L8.5 8.5l.94-2.06 2.06-.94-2.06-.94L8.5 2.5l-.94 2.06-2.06.94zm10 10l.94 2.06.94-2.06 2.06-.94-2.06-.94-.94-2.06-.94 2.06-2.06.94z\"/><path d=\"M17.41 7.96l-1.37-1.37c-.4-.4-.92-.59-1.43-.59-.52 0-1.04.2-1.43.59L10.3 9.45l-7.72 7.72c-.78.78-.78 2.05 0 2.83L4 21.41c.39.39.9.59 1.41.59.51 0 1.02-.2 1.41-.59l7.78-7.78 2.81-2.81c.8-.78.8-2.07 0-2.86zM5.41 20L4 18.59l7.72-7.72 1.47 1.35L5.41 20z\"/>\n",
              "  </svg>\n",
              "      </button>\n",
              "      \n",
              "  <style>\n",
              "    .colab-df-container {\n",
              "      display:flex;\n",
              "      flex-wrap:wrap;\n",
              "      gap: 12px;\n",
              "    }\n",
              "\n",
              "    .colab-df-convert {\n",
              "      background-color: #E8F0FE;\n",
              "      border: none;\n",
              "      border-radius: 50%;\n",
              "      cursor: pointer;\n",
              "      display: none;\n",
              "      fill: #1967D2;\n",
              "      height: 32px;\n",
              "      padding: 0 0 0 0;\n",
              "      width: 32px;\n",
              "    }\n",
              "\n",
              "    .colab-df-convert:hover {\n",
              "      background-color: #E2EBFA;\n",
              "      box-shadow: 0px 1px 2px rgba(60, 64, 67, 0.3), 0px 1px 3px 1px rgba(60, 64, 67, 0.15);\n",
              "      fill: #174EA6;\n",
              "    }\n",
              "\n",
              "    [theme=dark] .colab-df-convert {\n",
              "      background-color: #3B4455;\n",
              "      fill: #D2E3FC;\n",
              "    }\n",
              "\n",
              "    [theme=dark] .colab-df-convert:hover {\n",
              "      background-color: #434B5C;\n",
              "      box-shadow: 0px 1px 3px 1px rgba(0, 0, 0, 0.15);\n",
              "      filter: drop-shadow(0px 1px 2px rgba(0, 0, 0, 0.3));\n",
              "      fill: #FFFFFF;\n",
              "    }\n",
              "  </style>\n",
              "\n",
              "      <script>\n",
              "        const buttonEl =\n",
              "          document.querySelector('#df-c3ffe86c-3571-44e4-83ec-884aab9a4cad button.colab-df-convert');\n",
              "        buttonEl.style.display =\n",
              "          google.colab.kernel.accessAllowed ? 'block' : 'none';\n",
              "\n",
              "        async function convertToInteractive(key) {\n",
              "          const element = document.querySelector('#df-c3ffe86c-3571-44e4-83ec-884aab9a4cad');\n",
              "          const dataTable =\n",
              "            await google.colab.kernel.invokeFunction('convertToInteractive',\n",
              "                                                     [key], {});\n",
              "          if (!dataTable) return;\n",
              "\n",
              "          const docLinkHtml = 'Like what you see? Visit the ' +\n",
              "            '<a target=\"_blank\" href=https://colab.research.google.com/notebooks/data_table.ipynb>data table notebook</a>'\n",
              "            + ' to learn more about interactive tables.';\n",
              "          element.innerHTML = '';\n",
              "          dataTable['output_type'] = 'display_data';\n",
              "          await google.colab.output.renderOutput(dataTable, element);\n",
              "          const docLink = document.createElement('div');\n",
              "          docLink.innerHTML = docLinkHtml;\n",
              "          element.appendChild(docLink);\n",
              "        }\n",
              "      </script>\n",
              "    </div>\n",
              "  </div>\n",
              "  "
            ]
          },
          "metadata": {},
          "execution_count": 107
        }
      ]
    },
    {
      "cell_type": "code",
      "source": [
        "df3['load_weight'].mode()"
      ],
      "metadata": {
        "colab": {
          "base_uri": "https://localhost:8080/"
        },
        "id": "F5X_WEvqRp9n",
        "outputId": "f8989ccf-d8d7-4336-9dba-6bd8348c78b4"
      },
      "execution_count": 108,
      "outputs": [
        {
          "output_type": "execute_result",
          "data": {
            "text/plain": [
              "0       20.0\n",
              "1       60.0\n",
              "2    12020.0\n",
              "dtype: float64"
            ]
          },
          "metadata": {},
          "execution_count": 108
        }
      ]
    },
    {
      "cell_type": "markdown",
      "source": [
        "### 4. Pilih site yang paling menarik perhatian kamu, dan berikan alasannya"
      ],
      "metadata": {
        "id": "5JbG_DvmHmyr"
      }
    },
    {
      "cell_type": "markdown",
      "source": [
        "> Site yang digunakan untuk analisa selanjutnya yaitu site TDS LANDFILL, dikarnakan tempat pembuangan sampah TDS LANDFILL memiliki count terbanyak dari pada tempat pembuangan sampah lainnya, yang arti di tempat pembuangan sampah TDS LANDFILL sering kali menerima pembuangan sampah. Dan pada tempat pembuangan sampah TDS LANDFILL juga memiliki paling banyak tipe load sampah dari pada tempat pembuangan sampah yang lainnya\n",
        "\n",
        "> Hal ini menarik perhatian saya untuk menganalisa site atau tempat pembuangan sampah TDS LANDFILL\n"
      ],
      "metadata": {
        "id": "GaDyETdYYGaX"
      }
    },
    {
      "cell_type": "markdown",
      "source": [
        "### 5. Gunakan site yang kamu pilih untuk dicek apakah data load_weight ada outlier atau tidak. Gunakan teknik yang tepat sesuai dengan distribusi dari datanya!. Jika iya, berapa persen jumlah outliernya? dan bandingkan central tendency data yang telah dikeluarkan outliernya dengan yang belum (hasil dari perhitungan nomor 3)."
      ],
      "metadata": {
        "id": "mgojodMn-agU"
      }
    },
    {
      "cell_type": "code",
      "source": [
        "New_df = df.copy()\n",
        "New_df"
      ],
      "metadata": {
        "colab": {
          "base_uri": "https://localhost:8080/",
          "height": 424
        },
        "id": "ehydDQ7FDTSp",
        "outputId": "ce7d51be-1051-46ab-e9a2-0d4a29735a07"
      },
      "execution_count": 109,
      "outputs": [
        {
          "output_type": "execute_result",
          "data": {
            "text/plain": [
              "      report_date                load_time                  load_type  \\\n",
              "4      2021-01-02  2021-01-02 09:24:00 UTC                      TIRES   \n",
              "5      2021-01-02  2021-01-02 11:47:00 UTC                      TIRES   \n",
              "6      2021-01-02  2021-01-02 12:00:00 UTC  RECYCLING - SINGLE STREAM   \n",
              "7      2021-01-02  2021-01-02 09:02:00 UTC  RECYCLING - SINGLE STREAM   \n",
              "11     2021-01-02  2021-01-02 05:44:00 UTC              YARD TRIMMING   \n",
              "...           ...                      ...                        ...   \n",
              "26152  2021-07-09  2021-07-09 09:48:00 UTC                      BRUSH   \n",
              "26153  2021-07-09  2021-07-09 12:02:00 UTC                      BRUSH   \n",
              "26154  2021-07-09  2021-07-09 11:55:00 UTC                      BRUSH   \n",
              "26155  2021-07-09  2021-07-09 12:00:00 UTC                     LITTER   \n",
              "26156  2021-07-09  2021-07-09 12:00:00 UTC                     LITTER   \n",
              "\n",
              "       load_weight  dropoff_site  \n",
              "4           1640.0           MRF  \n",
              "5            940.0           MRF  \n",
              "6            320.0     TDS - MRF  \n",
              "7            520.0     TDS - MRF  \n",
              "11         17660.0  HORNSBY BEND  \n",
              "...            ...           ...  \n",
              "26152       8240.0  HORNSBY BEND  \n",
              "26153       4160.0  HORNSBY BEND  \n",
              "26154       4340.0  HORNSBY BEND  \n",
              "26155       1900.0  TDS LANDFILL  \n",
              "26156       3040.0  TDS LANDFILL  \n",
              "\n",
              "[25109 rows x 5 columns]"
            ],
            "text/html": [
              "\n",
              "  <div id=\"df-a19b3a3a-6e0f-4c3b-8aff-cea27ecc483a\">\n",
              "    <div class=\"colab-df-container\">\n",
              "      <div>\n",
              "<style scoped>\n",
              "    .dataframe tbody tr th:only-of-type {\n",
              "        vertical-align: middle;\n",
              "    }\n",
              "\n",
              "    .dataframe tbody tr th {\n",
              "        vertical-align: top;\n",
              "    }\n",
              "\n",
              "    .dataframe thead th {\n",
              "        text-align: right;\n",
              "    }\n",
              "</style>\n",
              "<table border=\"1\" class=\"dataframe\">\n",
              "  <thead>\n",
              "    <tr style=\"text-align: right;\">\n",
              "      <th></th>\n",
              "      <th>report_date</th>\n",
              "      <th>load_time</th>\n",
              "      <th>load_type</th>\n",
              "      <th>load_weight</th>\n",
              "      <th>dropoff_site</th>\n",
              "    </tr>\n",
              "  </thead>\n",
              "  <tbody>\n",
              "    <tr>\n",
              "      <th>4</th>\n",
              "      <td>2021-01-02</td>\n",
              "      <td>2021-01-02 09:24:00 UTC</td>\n",
              "      <td>TIRES</td>\n",
              "      <td>1640.0</td>\n",
              "      <td>MRF</td>\n",
              "    </tr>\n",
              "    <tr>\n",
              "      <th>5</th>\n",
              "      <td>2021-01-02</td>\n",
              "      <td>2021-01-02 11:47:00 UTC</td>\n",
              "      <td>TIRES</td>\n",
              "      <td>940.0</td>\n",
              "      <td>MRF</td>\n",
              "    </tr>\n",
              "    <tr>\n",
              "      <th>6</th>\n",
              "      <td>2021-01-02</td>\n",
              "      <td>2021-01-02 12:00:00 UTC</td>\n",
              "      <td>RECYCLING - SINGLE STREAM</td>\n",
              "      <td>320.0</td>\n",
              "      <td>TDS - MRF</td>\n",
              "    </tr>\n",
              "    <tr>\n",
              "      <th>7</th>\n",
              "      <td>2021-01-02</td>\n",
              "      <td>2021-01-02 09:02:00 UTC</td>\n",
              "      <td>RECYCLING - SINGLE STREAM</td>\n",
              "      <td>520.0</td>\n",
              "      <td>TDS - MRF</td>\n",
              "    </tr>\n",
              "    <tr>\n",
              "      <th>11</th>\n",
              "      <td>2021-01-02</td>\n",
              "      <td>2021-01-02 05:44:00 UTC</td>\n",
              "      <td>YARD TRIMMING</td>\n",
              "      <td>17660.0</td>\n",
              "      <td>HORNSBY BEND</td>\n",
              "    </tr>\n",
              "    <tr>\n",
              "      <th>...</th>\n",
              "      <td>...</td>\n",
              "      <td>...</td>\n",
              "      <td>...</td>\n",
              "      <td>...</td>\n",
              "      <td>...</td>\n",
              "    </tr>\n",
              "    <tr>\n",
              "      <th>26152</th>\n",
              "      <td>2021-07-09</td>\n",
              "      <td>2021-07-09 09:48:00 UTC</td>\n",
              "      <td>BRUSH</td>\n",
              "      <td>8240.0</td>\n",
              "      <td>HORNSBY BEND</td>\n",
              "    </tr>\n",
              "    <tr>\n",
              "      <th>26153</th>\n",
              "      <td>2021-07-09</td>\n",
              "      <td>2021-07-09 12:02:00 UTC</td>\n",
              "      <td>BRUSH</td>\n",
              "      <td>4160.0</td>\n",
              "      <td>HORNSBY BEND</td>\n",
              "    </tr>\n",
              "    <tr>\n",
              "      <th>26154</th>\n",
              "      <td>2021-07-09</td>\n",
              "      <td>2021-07-09 11:55:00 UTC</td>\n",
              "      <td>BRUSH</td>\n",
              "      <td>4340.0</td>\n",
              "      <td>HORNSBY BEND</td>\n",
              "    </tr>\n",
              "    <tr>\n",
              "      <th>26155</th>\n",
              "      <td>2021-07-09</td>\n",
              "      <td>2021-07-09 12:00:00 UTC</td>\n",
              "      <td>LITTER</td>\n",
              "      <td>1900.0</td>\n",
              "      <td>TDS LANDFILL</td>\n",
              "    </tr>\n",
              "    <tr>\n",
              "      <th>26156</th>\n",
              "      <td>2021-07-09</td>\n",
              "      <td>2021-07-09 12:00:00 UTC</td>\n",
              "      <td>LITTER</td>\n",
              "      <td>3040.0</td>\n",
              "      <td>TDS LANDFILL</td>\n",
              "    </tr>\n",
              "  </tbody>\n",
              "</table>\n",
              "<p>25109 rows × 5 columns</p>\n",
              "</div>\n",
              "      <button class=\"colab-df-convert\" onclick=\"convertToInteractive('df-a19b3a3a-6e0f-4c3b-8aff-cea27ecc483a')\"\n",
              "              title=\"Convert this dataframe to an interactive table.\"\n",
              "              style=\"display:none;\">\n",
              "        \n",
              "  <svg xmlns=\"http://www.w3.org/2000/svg\" height=\"24px\"viewBox=\"0 0 24 24\"\n",
              "       width=\"24px\">\n",
              "    <path d=\"M0 0h24v24H0V0z\" fill=\"none\"/>\n",
              "    <path d=\"M18.56 5.44l.94 2.06.94-2.06 2.06-.94-2.06-.94-.94-2.06-.94 2.06-2.06.94zm-11 1L8.5 8.5l.94-2.06 2.06-.94-2.06-.94L8.5 2.5l-.94 2.06-2.06.94zm10 10l.94 2.06.94-2.06 2.06-.94-2.06-.94-.94-2.06-.94 2.06-2.06.94z\"/><path d=\"M17.41 7.96l-1.37-1.37c-.4-.4-.92-.59-1.43-.59-.52 0-1.04.2-1.43.59L10.3 9.45l-7.72 7.72c-.78.78-.78 2.05 0 2.83L4 21.41c.39.39.9.59 1.41.59.51 0 1.02-.2 1.41-.59l7.78-7.78 2.81-2.81c.8-.78.8-2.07 0-2.86zM5.41 20L4 18.59l7.72-7.72 1.47 1.35L5.41 20z\"/>\n",
              "  </svg>\n",
              "      </button>\n",
              "      \n",
              "  <style>\n",
              "    .colab-df-container {\n",
              "      display:flex;\n",
              "      flex-wrap:wrap;\n",
              "      gap: 12px;\n",
              "    }\n",
              "\n",
              "    .colab-df-convert {\n",
              "      background-color: #E8F0FE;\n",
              "      border: none;\n",
              "      border-radius: 50%;\n",
              "      cursor: pointer;\n",
              "      display: none;\n",
              "      fill: #1967D2;\n",
              "      height: 32px;\n",
              "      padding: 0 0 0 0;\n",
              "      width: 32px;\n",
              "    }\n",
              "\n",
              "    .colab-df-convert:hover {\n",
              "      background-color: #E2EBFA;\n",
              "      box-shadow: 0px 1px 2px rgba(60, 64, 67, 0.3), 0px 1px 3px 1px rgba(60, 64, 67, 0.15);\n",
              "      fill: #174EA6;\n",
              "    }\n",
              "\n",
              "    [theme=dark] .colab-df-convert {\n",
              "      background-color: #3B4455;\n",
              "      fill: #D2E3FC;\n",
              "    }\n",
              "\n",
              "    [theme=dark] .colab-df-convert:hover {\n",
              "      background-color: #434B5C;\n",
              "      box-shadow: 0px 1px 3px 1px rgba(0, 0, 0, 0.15);\n",
              "      filter: drop-shadow(0px 1px 2px rgba(0, 0, 0, 0.3));\n",
              "      fill: #FFFFFF;\n",
              "    }\n",
              "  </style>\n",
              "\n",
              "      <script>\n",
              "        const buttonEl =\n",
              "          document.querySelector('#df-a19b3a3a-6e0f-4c3b-8aff-cea27ecc483a button.colab-df-convert');\n",
              "        buttonEl.style.display =\n",
              "          google.colab.kernel.accessAllowed ? 'block' : 'none';\n",
              "\n",
              "        async function convertToInteractive(key) {\n",
              "          const element = document.querySelector('#df-a19b3a3a-6e0f-4c3b-8aff-cea27ecc483a');\n",
              "          const dataTable =\n",
              "            await google.colab.kernel.invokeFunction('convertToInteractive',\n",
              "                                                     [key], {});\n",
              "          if (!dataTable) return;\n",
              "\n",
              "          const docLinkHtml = 'Like what you see? Visit the ' +\n",
              "            '<a target=\"_blank\" href=https://colab.research.google.com/notebooks/data_table.ipynb>data table notebook</a>'\n",
              "            + ' to learn more about interactive tables.';\n",
              "          element.innerHTML = '';\n",
              "          dataTable['output_type'] = 'display_data';\n",
              "          await google.colab.output.renderOutput(dataTable, element);\n",
              "          const docLink = document.createElement('div');\n",
              "          docLink.innerHTML = docLinkHtml;\n",
              "          element.appendChild(docLink);\n",
              "        }\n",
              "      </script>\n",
              "    </div>\n",
              "  </div>\n",
              "  "
            ]
          },
          "metadata": {},
          "execution_count": 109
        }
      ]
    },
    {
      "cell_type": "markdown",
      "source": [
        "> Code df.copy() merupakan code untuk mengcopy data menjadi data baru, supaya apabila melakukan manipulasi terhadap data baru tidak akan berpengaruh terhadap data lama"
      ],
      "metadata": {
        "id": "9m7Ku-Wgb2GA"
      }
    },
    {
      "cell_type": "code",
      "source": [
        "New1_df = New_df[\n",
        "    (New_df['dropoff_site'] == 'TDS LANDFILL')\n",
        "    ].sort_values('report_date', ascending = True).reset_index()\n",
        "New1_df"
      ],
      "metadata": {
        "colab": {
          "base_uri": "https://localhost:8080/",
          "height": 424
        },
        "id": "D-LkcXB5kACq",
        "outputId": "1701bbc2-db81-4d2c-8e6e-70404f1dc958"
      },
      "execution_count": 110,
      "outputs": [
        {
          "output_type": "execute_result",
          "data": {
            "text/plain": [
              "       index report_date                load_time            load_type  \\\n",
              "0         16  2021-01-02  2021-01-02 02:16:00 UTC                 BULK   \n",
              "1         48  2021-01-02  2021-01-02 03:04:00 UTC  GARBAGE COLLECTIONS   \n",
              "2         49  2021-01-02  2021-01-02 03:41:00 UTC  GARBAGE COLLECTIONS   \n",
              "3         50  2021-01-02  2021-01-02 03:31:00 UTC  GARBAGE COLLECTIONS   \n",
              "4         51  2021-01-02  2021-01-02 03:52:00 UTC  GARBAGE COLLECTIONS   \n",
              "...      ...         ...                      ...                  ...   \n",
              "10686  26054  2021-07-08  2021-07-09 12:00:00 UTC  GARBAGE COLLECTIONS   \n",
              "10687  26053  2021-07-08  2021-07-08 12:47:00 UTC  GARBAGE COLLECTIONS   \n",
              "10688  26059  2021-07-08  2021-07-08 12:51:00 UTC  GARBAGE COLLECTIONS   \n",
              "10689  26155  2021-07-09  2021-07-09 12:00:00 UTC               LITTER   \n",
              "10690  26156  2021-07-09  2021-07-09 12:00:00 UTC               LITTER   \n",
              "\n",
              "       load_weight  dropoff_site  \n",
              "0          12480.0  TDS LANDFILL  \n",
              "1          26540.0  TDS LANDFILL  \n",
              "2          24600.0  TDS LANDFILL  \n",
              "3          31620.0  TDS LANDFILL  \n",
              "4          21720.0  TDS LANDFILL  \n",
              "...            ...           ...  \n",
              "10686      23060.0  TDS LANDFILL  \n",
              "10687      18320.0  TDS LANDFILL  \n",
              "10688      22480.0  TDS LANDFILL  \n",
              "10689       1900.0  TDS LANDFILL  \n",
              "10690       3040.0  TDS LANDFILL  \n",
              "\n",
              "[10691 rows x 6 columns]"
            ],
            "text/html": [
              "\n",
              "  <div id=\"df-d84c5151-396f-4c77-b8bb-68d3a201dcb9\">\n",
              "    <div class=\"colab-df-container\">\n",
              "      <div>\n",
              "<style scoped>\n",
              "    .dataframe tbody tr th:only-of-type {\n",
              "        vertical-align: middle;\n",
              "    }\n",
              "\n",
              "    .dataframe tbody tr th {\n",
              "        vertical-align: top;\n",
              "    }\n",
              "\n",
              "    .dataframe thead th {\n",
              "        text-align: right;\n",
              "    }\n",
              "</style>\n",
              "<table border=\"1\" class=\"dataframe\">\n",
              "  <thead>\n",
              "    <tr style=\"text-align: right;\">\n",
              "      <th></th>\n",
              "      <th>index</th>\n",
              "      <th>report_date</th>\n",
              "      <th>load_time</th>\n",
              "      <th>load_type</th>\n",
              "      <th>load_weight</th>\n",
              "      <th>dropoff_site</th>\n",
              "    </tr>\n",
              "  </thead>\n",
              "  <tbody>\n",
              "    <tr>\n",
              "      <th>0</th>\n",
              "      <td>16</td>\n",
              "      <td>2021-01-02</td>\n",
              "      <td>2021-01-02 02:16:00 UTC</td>\n",
              "      <td>BULK</td>\n",
              "      <td>12480.0</td>\n",
              "      <td>TDS LANDFILL</td>\n",
              "    </tr>\n",
              "    <tr>\n",
              "      <th>1</th>\n",
              "      <td>48</td>\n",
              "      <td>2021-01-02</td>\n",
              "      <td>2021-01-02 03:04:00 UTC</td>\n",
              "      <td>GARBAGE COLLECTIONS</td>\n",
              "      <td>26540.0</td>\n",
              "      <td>TDS LANDFILL</td>\n",
              "    </tr>\n",
              "    <tr>\n",
              "      <th>2</th>\n",
              "      <td>49</td>\n",
              "      <td>2021-01-02</td>\n",
              "      <td>2021-01-02 03:41:00 UTC</td>\n",
              "      <td>GARBAGE COLLECTIONS</td>\n",
              "      <td>24600.0</td>\n",
              "      <td>TDS LANDFILL</td>\n",
              "    </tr>\n",
              "    <tr>\n",
              "      <th>3</th>\n",
              "      <td>50</td>\n",
              "      <td>2021-01-02</td>\n",
              "      <td>2021-01-02 03:31:00 UTC</td>\n",
              "      <td>GARBAGE COLLECTIONS</td>\n",
              "      <td>31620.0</td>\n",
              "      <td>TDS LANDFILL</td>\n",
              "    </tr>\n",
              "    <tr>\n",
              "      <th>4</th>\n",
              "      <td>51</td>\n",
              "      <td>2021-01-02</td>\n",
              "      <td>2021-01-02 03:52:00 UTC</td>\n",
              "      <td>GARBAGE COLLECTIONS</td>\n",
              "      <td>21720.0</td>\n",
              "      <td>TDS LANDFILL</td>\n",
              "    </tr>\n",
              "    <tr>\n",
              "      <th>...</th>\n",
              "      <td>...</td>\n",
              "      <td>...</td>\n",
              "      <td>...</td>\n",
              "      <td>...</td>\n",
              "      <td>...</td>\n",
              "      <td>...</td>\n",
              "    </tr>\n",
              "    <tr>\n",
              "      <th>10686</th>\n",
              "      <td>26054</td>\n",
              "      <td>2021-07-08</td>\n",
              "      <td>2021-07-09 12:00:00 UTC</td>\n",
              "      <td>GARBAGE COLLECTIONS</td>\n",
              "      <td>23060.0</td>\n",
              "      <td>TDS LANDFILL</td>\n",
              "    </tr>\n",
              "    <tr>\n",
              "      <th>10687</th>\n",
              "      <td>26053</td>\n",
              "      <td>2021-07-08</td>\n",
              "      <td>2021-07-08 12:47:00 UTC</td>\n",
              "      <td>GARBAGE COLLECTIONS</td>\n",
              "      <td>18320.0</td>\n",
              "      <td>TDS LANDFILL</td>\n",
              "    </tr>\n",
              "    <tr>\n",
              "      <th>10688</th>\n",
              "      <td>26059</td>\n",
              "      <td>2021-07-08</td>\n",
              "      <td>2021-07-08 12:51:00 UTC</td>\n",
              "      <td>GARBAGE COLLECTIONS</td>\n",
              "      <td>22480.0</td>\n",
              "      <td>TDS LANDFILL</td>\n",
              "    </tr>\n",
              "    <tr>\n",
              "      <th>10689</th>\n",
              "      <td>26155</td>\n",
              "      <td>2021-07-09</td>\n",
              "      <td>2021-07-09 12:00:00 UTC</td>\n",
              "      <td>LITTER</td>\n",
              "      <td>1900.0</td>\n",
              "      <td>TDS LANDFILL</td>\n",
              "    </tr>\n",
              "    <tr>\n",
              "      <th>10690</th>\n",
              "      <td>26156</td>\n",
              "      <td>2021-07-09</td>\n",
              "      <td>2021-07-09 12:00:00 UTC</td>\n",
              "      <td>LITTER</td>\n",
              "      <td>3040.0</td>\n",
              "      <td>TDS LANDFILL</td>\n",
              "    </tr>\n",
              "  </tbody>\n",
              "</table>\n",
              "<p>10691 rows × 6 columns</p>\n",
              "</div>\n",
              "      <button class=\"colab-df-convert\" onclick=\"convertToInteractive('df-d84c5151-396f-4c77-b8bb-68d3a201dcb9')\"\n",
              "              title=\"Convert this dataframe to an interactive table.\"\n",
              "              style=\"display:none;\">\n",
              "        \n",
              "  <svg xmlns=\"http://www.w3.org/2000/svg\" height=\"24px\"viewBox=\"0 0 24 24\"\n",
              "       width=\"24px\">\n",
              "    <path d=\"M0 0h24v24H0V0z\" fill=\"none\"/>\n",
              "    <path d=\"M18.56 5.44l.94 2.06.94-2.06 2.06-.94-2.06-.94-.94-2.06-.94 2.06-2.06.94zm-11 1L8.5 8.5l.94-2.06 2.06-.94-2.06-.94L8.5 2.5l-.94 2.06-2.06.94zm10 10l.94 2.06.94-2.06 2.06-.94-2.06-.94-.94-2.06-.94 2.06-2.06.94z\"/><path d=\"M17.41 7.96l-1.37-1.37c-.4-.4-.92-.59-1.43-.59-.52 0-1.04.2-1.43.59L10.3 9.45l-7.72 7.72c-.78.78-.78 2.05 0 2.83L4 21.41c.39.39.9.59 1.41.59.51 0 1.02-.2 1.41-.59l7.78-7.78 2.81-2.81c.8-.78.8-2.07 0-2.86zM5.41 20L4 18.59l7.72-7.72 1.47 1.35L5.41 20z\"/>\n",
              "  </svg>\n",
              "      </button>\n",
              "      \n",
              "  <style>\n",
              "    .colab-df-container {\n",
              "      display:flex;\n",
              "      flex-wrap:wrap;\n",
              "      gap: 12px;\n",
              "    }\n",
              "\n",
              "    .colab-df-convert {\n",
              "      background-color: #E8F0FE;\n",
              "      border: none;\n",
              "      border-radius: 50%;\n",
              "      cursor: pointer;\n",
              "      display: none;\n",
              "      fill: #1967D2;\n",
              "      height: 32px;\n",
              "      padding: 0 0 0 0;\n",
              "      width: 32px;\n",
              "    }\n",
              "\n",
              "    .colab-df-convert:hover {\n",
              "      background-color: #E2EBFA;\n",
              "      box-shadow: 0px 1px 2px rgba(60, 64, 67, 0.3), 0px 1px 3px 1px rgba(60, 64, 67, 0.15);\n",
              "      fill: #174EA6;\n",
              "    }\n",
              "\n",
              "    [theme=dark] .colab-df-convert {\n",
              "      background-color: #3B4455;\n",
              "      fill: #D2E3FC;\n",
              "    }\n",
              "\n",
              "    [theme=dark] .colab-df-convert:hover {\n",
              "      background-color: #434B5C;\n",
              "      box-shadow: 0px 1px 3px 1px rgba(0, 0, 0, 0.15);\n",
              "      filter: drop-shadow(0px 1px 2px rgba(0, 0, 0, 0.3));\n",
              "      fill: #FFFFFF;\n",
              "    }\n",
              "  </style>\n",
              "\n",
              "      <script>\n",
              "        const buttonEl =\n",
              "          document.querySelector('#df-d84c5151-396f-4c77-b8bb-68d3a201dcb9 button.colab-df-convert');\n",
              "        buttonEl.style.display =\n",
              "          google.colab.kernel.accessAllowed ? 'block' : 'none';\n",
              "\n",
              "        async function convertToInteractive(key) {\n",
              "          const element = document.querySelector('#df-d84c5151-396f-4c77-b8bb-68d3a201dcb9');\n",
              "          const dataTable =\n",
              "            await google.colab.kernel.invokeFunction('convertToInteractive',\n",
              "                                                     [key], {});\n",
              "          if (!dataTable) return;\n",
              "\n",
              "          const docLinkHtml = 'Like what you see? Visit the ' +\n",
              "            '<a target=\"_blank\" href=https://colab.research.google.com/notebooks/data_table.ipynb>data table notebook</a>'\n",
              "            + ' to learn more about interactive tables.';\n",
              "          element.innerHTML = '';\n",
              "          dataTable['output_type'] = 'display_data';\n",
              "          await google.colab.output.renderOutput(dataTable, element);\n",
              "          const docLink = document.createElement('div');\n",
              "          docLink.innerHTML = docLinkHtml;\n",
              "          element.appendChild(docLink);\n",
              "        }\n",
              "      </script>\n",
              "    </div>\n",
              "  </div>\n",
              "  "
            ]
          },
          "metadata": {},
          "execution_count": 110
        }
      ]
    },
    {
      "cell_type": "markdown",
      "source": [
        "> Code di atas merupakan code untuk mengquery data yang mana data yang mau kita gunakan adalah data pada dropoff_site TDS LANDFILL. Sehingga di peroleh data baru berupa data pembuangan sampah pada tempat pembuangan sampah TDS LANDFILL"
      ],
      "metadata": {
        "id": "Sjq2kD-xcLfL"
      }
    },
    {
      "cell_type": "code",
      "source": [
        "New1_df['load_weight'].plot(kind='box', title='load_weight Distribution', figsize=(10,8))\n",
        "plt.show()"
      ],
      "metadata": {
        "colab": {
          "base_uri": "https://localhost:8080/",
          "height": 500
        },
        "id": "UWpqB4rVlPIC",
        "outputId": "99645c52-ba3f-4b2c-ac7e-93fc860df0e5"
      },
      "execution_count": 111,
      "outputs": [
        {
          "output_type": "display_data",
          "data": {
            "text/plain": [
              "<Figure size 720x576 with 1 Axes>"
            ],
            "image/png": "[encoded data removed]"
          },
          "metadata": {
            "needs_background": "light"
          }
        }
      ]
    },
    {
      "cell_type": "markdown",
      "source": [
        "> Code di atas merupakan code untuk membuat grafik berupa boxplot. Dari boxplot kita bisa melihat apakah pada data terdapat outlier atau tidak. Berdasarkan hasil boxplot di atas terdapat outlier pada data yaitu data yang menjauh dari penyebaran data, sehingga perlu di lakukan handling outlier"
      ],
      "metadata": {
        "id": "wf8_O6tfcucP"
      }
    },
    {
      "cell_type": "code",
      "source": [
        "load_weight = New1_df['load_weight']\n",
        "density = stats.gaussian_kde(load_weight)\n",
        "n, x, _ = plt.hist(load_weight, histtype='step', bins=50)  \n",
        "plt.plot(x, density(x)*10**7.7)\n",
        "plt.axvline(load_weight.mean(), color='magenta', linestyle='dashed', linewidth=2)\n",
        "plt.axvline(load_weight.median(), color='green', linestyle='dashed', linewidth=2)\n",
        "plt.show()"
      ],
      "metadata": {
        "colab": {
          "base_uri": "https://localhost:8080/",
          "height": 265
        },
        "id": "sbuLSJY6la0X",
        "outputId": "513eb297-5e79-41b9-98df-59e9cbe08a29"
      },
      "execution_count": 112,
      "outputs": [
        {
          "output_type": "display_data",
          "data": {
            "text/plain": [
              "<Figure size 432x288 with 1 Axes>"
            ],
            "image/png": "[encoded data removed]"
          },
          "metadata": {
            "needs_background": "light"
          }
        }
      ]
    },
    {
      "cell_type": "markdown",
      "source": [
        "> Code di atas merupakan code untuk melihat grafik distribusi dari data, yang nantinya akan menentukan handling outlier yang di gunakan. Sebelum melakukan handling outlier kita harus mengetahui terlebih dahulu distibusi dari data.\n",
        "\n",
        "> Jika data **berdistribusi normal**, handling outlier yang digunakan adalah **Z score** dan apabila data **berdistribusi berbentuk skew** baik kekiri maupun kekanan, handling outlier yang digunakan adalah **Tukey**\n",
        "\n",
        "> Dari hasil di atas, diketahui bahwa data yang kita punya miliki distribusi berbentuk skew ke kanan, sehingga handling outlier yang digunakan adalah **Tukey**"
      ],
      "metadata": {
        "id": "G5vSfXA-l5yJ"
      }
    },
    {
      "cell_type": "code",
      "source": [
        "New1_df['load_weight'].quantile([0.25, 0.5, 0.75])"
      ],
      "metadata": {
        "colab": {
          "base_uri": "https://localhost:8080/"
        },
        "id": "N8tUUEiW4Cir",
        "outputId": "c28100c7-283c-4bc9-d4e9-0e7621eca4d4"
      },
      "execution_count": 113,
      "outputs": [
        {
          "output_type": "execute_result",
          "data": {
            "text/plain": [
              "0.25     8820.0\n",
              "0.50    14920.0\n",
              "0.75    21660.0\n",
              "Name: load_weight, dtype: float64"
            ]
          },
          "metadata": {},
          "execution_count": 113
        }
      ]
    },
    {
      "cell_type": "code",
      "source": [
        "quartiles = np.percentile(New1_df['load_weight'], [25, 50, 75])\n",
        "\n",
        "print('Q1: %.3f' % quartiles[0])\n",
        "print('Median: %.3f' % quartiles[1])\n",
        "print('Q3: %.3f' % quartiles[2])"
      ],
      "metadata": {
        "colab": {
          "base_uri": "https://localhost:8080/"
        },
        "id": "EgxZIOJ55d-Q",
        "outputId": "155247f0-62f3-4c8b-c7e5-0d116ca9d7dc"
      },
      "execution_count": 114,
      "outputs": [
        {
          "output_type": "stream",
          "name": "stdout",
          "text": [
            "Q1: 8820.000\n",
            "Median: 14920.000\n",
            "Q3: 21660.000\n"
          ]
        }
      ]
    },
    {
      "cell_type": "code",
      "source": [
        "Q1 = quartiles[0]\n",
        "Q3 = quartiles[2]\n",
        "IQR = quartiles[2] - quartiles[0]"
      ],
      "metadata": {
        "id": "3a5vyRpuGeLt"
      },
      "execution_count": 115,
      "outputs": []
    },
    {
      "cell_type": "markdown",
      "source": [
        "> Untuk menggunakan Tukey pada handling outlier, kita harus menentukan terlebih dahulu quartil pada data supaya bisa mencari batas atas dan batas bawah pada aturan Tukey, yang mana pada Tukey memiliki rumus untuk mendeteksi adanya outlier sebagai berikut:\n",
        "\n",
        "> ${Q_{3}+1.5*IQR}$ => sebagai batas atas\n",
        "\n",
        "> ${Q_{1}-1.5*IQR}$ => sebagai batas bawah\n",
        "\n",
        "> Pada aturan Tukey, jika terdapat data yang berada di luar batas bawah dan batas atas, maka data tersebut dudeteksi sebagai data outlier"
      ],
      "metadata": {
        "id": "PZX2ptPKoiGB"
      }
    },
    {
      "cell_type": "markdown",
      "source": [
        "> Dari code di atas, diperolah Q1, Q3 dan IQR yang nanti di gunakan untuk mencari nilai batas bawah dan batas atas"
      ],
      "metadata": {
        "id": "MlqbFb5_rW1u"
      }
    },
    {
      "cell_type": "code",
      "source": [
        "Q1 - (1.5*IQR)"
      ],
      "metadata": {
        "colab": {
          "base_uri": "https://localhost:8080/"
        },
        "id": "Y_sjlfd8G5qi",
        "outputId": "41f06e7e-85d2-414f-abd0-0b1d57cf2a80"
      },
      "execution_count": 116,
      "outputs": [
        {
          "output_type": "execute_result",
          "data": {
            "text/plain": [
              "-10440.0"
            ]
          },
          "metadata": {},
          "execution_count": 116
        }
      ]
    },
    {
      "cell_type": "markdown",
      "source": [
        "> Code di atas merupakan code untuk menghitung batas bawah pada aturan Tukey, dari hasil code di atas diperoleh nilai batas bawah adalah -10440.0"
      ],
      "metadata": {
        "id": "Hx-MrK21rwZL"
      }
    },
    {
      "cell_type": "code",
      "source": [
        "Q3 + (1.5*IQR)"
      ],
      "metadata": {
        "colab": {
          "base_uri": "https://localhost:8080/"
        },
        "id": "6Cjyf69rHdwh",
        "outputId": "50098586-47c5-45f4-96bf-7b4001765f9a"
      },
      "execution_count": 117,
      "outputs": [
        {
          "output_type": "execute_result",
          "data": {
            "text/plain": [
              "40920.0"
            ]
          },
          "metadata": {},
          "execution_count": 117
        }
      ]
    },
    {
      "cell_type": "markdown",
      "source": [
        "> Code di atas merupakan code untuk menghitung batas atas pada aturan Tukey, dari hasil code di atas diperoleh nilai batas atas adalah 40920.0"
      ],
      "metadata": {
        "id": "BdabpNQ3sE6C"
      }
    },
    {
      "cell_type": "code",
      "source": [
        "New1_df[\n",
        "    (New1_df['load_weight'] > 40920.0)\n",
        "    ].sort_values('report_date', ascending = True)"
      ],
      "metadata": {
        "colab": {
          "base_uri": "https://localhost:8080/",
          "height": 269
        },
        "id": "TY52L6Kg7UTk",
        "outputId": "2158d93d-da33-48a0-f489-93858ed11473"
      },
      "execution_count": 118,
      "outputs": [
        {
          "output_type": "execute_result",
          "data": {
            "text/plain": [
              "      index report_date                load_time            load_type  \\\n",
              "368     836  2021-01-07  2021-01-07 02:45:00 UTC  GARBAGE COLLECTIONS   \n",
              "2244   5176  2021-02-09  2021-02-09 01:08:00 UTC  GARBAGE COLLECTIONS   \n",
              "3722   8680  2021-03-09  2021-03-09 01:30:00 UTC  GARBAGE COLLECTIONS   \n",
              "4762  12021  2021-03-29  2021-03-29 05:08:00 UTC  GARBAGE COLLECTIONS   \n",
              "8112  20368  2021-05-26  2021-05-26 11:40:00 UTC  GARBAGE COLLECTIONS   \n",
              "8168  20553  2021-05-27  2021-05-27 11:33:00 UTC  GARBAGE COLLECTIONS   \n",
              "9589  23798  2021-06-21  2021-06-21 01:05:00 UTC  GARBAGE COLLECTIONS   \n",
              "\n",
              "      load_weight  dropoff_site  \n",
              "368       44980.0  TDS LANDFILL  \n",
              "2244     102680.0  TDS LANDFILL  \n",
              "3722     145160.0  TDS LANDFILL  \n",
              "4762      58600.0  TDS LANDFILL  \n",
              "8112      80697.0  TDS LANDFILL  \n",
              "8168     245540.0  TDS LANDFILL  \n",
              "9589     227780.0  TDS LANDFILL  "
            ],
            "text/html": [
              "\n",
              "  <div id=\"df-d243f0af-1f15-4986-91c2-c9fd4448a506\">\n",
              "    <div class=\"colab-df-container\">\n",
              "      <div>\n",
              "<style scoped>\n",
              "    .dataframe tbody tr th:only-of-type {\n",
              "        vertical-align: middle;\n",
              "    }\n",
              "\n",
              "    .dataframe tbody tr th {\n",
              "        vertical-align: top;\n",
              "    }\n",
              "\n",
              "    .dataframe thead th {\n",
              "        text-align: right;\n",
              "    }\n",
              "</style>\n",
              "<table border=\"1\" class=\"dataframe\">\n",
              "  <thead>\n",
              "    <tr style=\"text-align: right;\">\n",
              "      <th></th>\n",
              "      <th>index</th>\n",
              "      <th>report_date</th>\n",
              "      <th>load_time</th>\n",
              "      <th>load_type</th>\n",
              "      <th>load_weight</th>\n",
              "      <th>dropoff_site</th>\n",
              "    </tr>\n",
              "  </thead>\n",
              "  <tbody>\n",
              "    <tr>\n",
              "      <th>368</th>\n",
              "      <td>836</td>\n",
              "      <td>2021-01-07</td>\n",
              "      <td>2021-01-07 02:45:00 UTC</td>\n",
              "      <td>GARBAGE COLLECTIONS</td>\n",
              "      <td>44980.0</td>\n",
              "      <td>TDS LANDFILL</td>\n",
              "    </tr>\n",
              "    <tr>\n",
              "      <th>2244</th>\n",
              "      <td>5176</td>\n",
              "      <td>2021-02-09</td>\n",
              "      <td>2021-02-09 01:08:00 UTC</td>\n",
              "      <td>GARBAGE COLLECTIONS</td>\n",
              "      <td>102680.0</td>\n",
              "      <td>TDS LANDFILL</td>\n",
              "    </tr>\n",
              "    <tr>\n",
              "      <th>3722</th>\n",
              "      <td>8680</td>\n",
              "      <td>2021-03-09</td>\n",
              "      <td>2021-03-09 01:30:00 UTC</td>\n",
              "      <td>GARBAGE COLLECTIONS</td>\n",
              "      <td>145160.0</td>\n",
              "      <td>TDS LANDFILL</td>\n",
              "    </tr>\n",
              "    <tr>\n",
              "      <th>4762</th>\n",
              "      <td>12021</td>\n",
              "      <td>2021-03-29</td>\n",
              "      <td>2021-03-29 05:08:00 UTC</td>\n",
              "      <td>GARBAGE COLLECTIONS</td>\n",
              "      <td>58600.0</td>\n",
              "      <td>TDS LANDFILL</td>\n",
              "    </tr>\n",
              "    <tr>\n",
              "      <th>8112</th>\n",
              "      <td>20368</td>\n",
              "      <td>2021-05-26</td>\n",
              "      <td>2021-05-26 11:40:00 UTC</td>\n",
              "      <td>GARBAGE COLLECTIONS</td>\n",
              "      <td>80697.0</td>\n",
              "      <td>TDS LANDFILL</td>\n",
              "    </tr>\n",
              "    <tr>\n",
              "      <th>8168</th>\n",
              "      <td>20553</td>\n",
              "      <td>2021-05-27</td>\n",
              "      <td>2021-05-27 11:33:00 UTC</td>\n",
              "      <td>GARBAGE COLLECTIONS</td>\n",
              "      <td>245540.0</td>\n",
              "      <td>TDS LANDFILL</td>\n",
              "    </tr>\n",
              "    <tr>\n",
              "      <th>9589</th>\n",
              "      <td>23798</td>\n",
              "      <td>2021-06-21</td>\n",
              "      <td>2021-06-21 01:05:00 UTC</td>\n",
              "      <td>GARBAGE COLLECTIONS</td>\n",
              "      <td>227780.0</td>\n",
              "      <td>TDS LANDFILL</td>\n",
              "    </tr>\n",
              "  </tbody>\n",
              "</table>\n",
              "</div>\n",
              "      <button class=\"colab-df-convert\" onclick=\"convertToInteractive('df-d243f0af-1f15-4986-91c2-c9fd4448a506')\"\n",
              "              title=\"Convert this dataframe to an interactive table.\"\n",
              "              style=\"display:none;\">\n",
              "        \n",
              "  <svg xmlns=\"http://www.w3.org/2000/svg\" height=\"24px\"viewBox=\"0 0 24 24\"\n",
              "       width=\"24px\">\n",
              "    <path d=\"M0 0h24v24H0V0z\" fill=\"none\"/>\n",
              "    <path d=\"M18.56 5.44l.94 2.06.94-2.06 2.06-.94-2.06-.94-.94-2.06-.94 2.06-2.06.94zm-11 1L8.5 8.5l.94-2.06 2.06-.94-2.06-.94L8.5 2.5l-.94 2.06-2.06.94zm10 10l.94 2.06.94-2.06 2.06-.94-2.06-.94-.94-2.06-.94 2.06-2.06.94z\"/><path d=\"M17.41 7.96l-1.37-1.37c-.4-.4-.92-.59-1.43-.59-.52 0-1.04.2-1.43.59L10.3 9.45l-7.72 7.72c-.78.78-.78 2.05 0 2.83L4 21.41c.39.39.9.59 1.41.59.51 0 1.02-.2 1.41-.59l7.78-7.78 2.81-2.81c.8-.78.8-2.07 0-2.86zM5.41 20L4 18.59l7.72-7.72 1.47 1.35L5.41 20z\"/>\n",
              "  </svg>\n",
              "      </button>\n",
              "      \n",
              "  <style>\n",
              "    .colab-df-container {\n",
              "      display:flex;\n",
              "      flex-wrap:wrap;\n",
              "      gap: 12px;\n",
              "    }\n",
              "\n",
              "    .colab-df-convert {\n",
              "      background-color: #E8F0FE;\n",
              "      border: none;\n",
              "      border-radius: 50%;\n",
              "      cursor: pointer;\n",
              "      display: none;\n",
              "      fill: #1967D2;\n",
              "      height: 32px;\n",
              "      padding: 0 0 0 0;\n",
              "      width: 32px;\n",
              "    }\n",
              "\n",
              "    .colab-df-convert:hover {\n",
              "      background-color: #E2EBFA;\n",
              "      box-shadow: 0px 1px 2px rgba(60, 64, 67, 0.3), 0px 1px 3px 1px rgba(60, 64, 67, 0.15);\n",
              "      fill: #174EA6;\n",
              "    }\n",
              "\n",
              "    [theme=dark] .colab-df-convert {\n",
              "      background-color: #3B4455;\n",
              "      fill: #D2E3FC;\n",
              "    }\n",
              "\n",
              "    [theme=dark] .colab-df-convert:hover {\n",
              "      background-color: #434B5C;\n",
              "      box-shadow: 0px 1px 3px 1px rgba(0, 0, 0, 0.15);\n",
              "      filter: drop-shadow(0px 1px 2px rgba(0, 0, 0, 0.3));\n",
              "      fill: #FFFFFF;\n",
              "    }\n",
              "  </style>\n",
              "\n",
              "      <script>\n",
              "        const buttonEl =\n",
              "          document.querySelector('#df-d243f0af-1f15-4986-91c2-c9fd4448a506 button.colab-df-convert');\n",
              "        buttonEl.style.display =\n",
              "          google.colab.kernel.accessAllowed ? 'block' : 'none';\n",
              "\n",
              "        async function convertToInteractive(key) {\n",
              "          const element = document.querySelector('#df-d243f0af-1f15-4986-91c2-c9fd4448a506');\n",
              "          const dataTable =\n",
              "            await google.colab.kernel.invokeFunction('convertToInteractive',\n",
              "                                                     [key], {});\n",
              "          if (!dataTable) return;\n",
              "\n",
              "          const docLinkHtml = 'Like what you see? Visit the ' +\n",
              "            '<a target=\"_blank\" href=https://colab.research.google.com/notebooks/data_table.ipynb>data table notebook</a>'\n",
              "            + ' to learn more about interactive tables.';\n",
              "          element.innerHTML = '';\n",
              "          dataTable['output_type'] = 'display_data';\n",
              "          await google.colab.output.renderOutput(dataTable, element);\n",
              "          const docLink = document.createElement('div');\n",
              "          docLink.innerHTML = docLinkHtml;\n",
              "          element.appendChild(docLink);\n",
              "        }\n",
              "      </script>\n",
              "    </div>\n",
              "  </div>\n",
              "  "
            ]
          },
          "metadata": {},
          "execution_count": 118
        }
      ]
    },
    {
      "cell_type": "code",
      "source": [
        "New1_df[\n",
        "    (New1_df['load_weight'] < -10440.0)\n",
        "    ].sort_values('report_date', ascending = True)"
      ],
      "metadata": {
        "colab": {
          "base_uri": "https://localhost:8080/",
          "height": 49
        },
        "id": "Y6QyHeHt8S9T",
        "outputId": "c9361d28-5041-47f1-bfbb-29712cd2e5e6"
      },
      "execution_count": 119,
      "outputs": [
        {
          "output_type": "execute_result",
          "data": {
            "text/plain": [
              "Empty DataFrame\n",
              "Columns: [index, report_date, load_time, load_type, load_weight, dropoff_site]\n",
              "Index: []"
            ],
            "text/html": [
              "\n",
              "  <div id=\"df-26680817-639f-4526-bb11-7ca5709df89d\">\n",
              "    <div class=\"colab-df-container\">\n",
              "      <div>\n",
              "<style scoped>\n",
              "    .dataframe tbody tr th:only-of-type {\n",
              "        vertical-align: middle;\n",
              "    }\n",
              "\n",
              "    .dataframe tbody tr th {\n",
              "        vertical-align: top;\n",
              "    }\n",
              "\n",
              "    .dataframe thead th {\n",
              "        text-align: right;\n",
              "    }\n",
              "</style>\n",
              "<table border=\"1\" class=\"dataframe\">\n",
              "  <thead>\n",
              "    <tr style=\"text-align: right;\">\n",
              "      <th></th>\n",
              "      <th>index</th>\n",
              "      <th>report_date</th>\n",
              "      <th>load_time</th>\n",
              "      <th>load_type</th>\n",
              "      <th>load_weight</th>\n",
              "      <th>dropoff_site</th>\n",
              "    </tr>\n",
              "  </thead>\n",
              "  <tbody>\n",
              "  </tbody>\n",
              "</table>\n",
              "</div>\n",
              "      <button class=\"colab-df-convert\" onclick=\"convertToInteractive('df-26680817-639f-4526-bb11-7ca5709df89d')\"\n",
              "              title=\"Convert this dataframe to an interactive table.\"\n",
              "              style=\"display:none;\">\n",
              "        \n",
              "  <svg xmlns=\"http://www.w3.org/2000/svg\" height=\"24px\"viewBox=\"0 0 24 24\"\n",
              "       width=\"24px\">\n",
              "    <path d=\"M0 0h24v24H0V0z\" fill=\"none\"/>\n",
              "    <path d=\"M18.56 5.44l.94 2.06.94-2.06 2.06-.94-2.06-.94-.94-2.06-.94 2.06-2.06.94zm-11 1L8.5 8.5l.94-2.06 2.06-.94-2.06-.94L8.5 2.5l-.94 2.06-2.06.94zm10 10l.94 2.06.94-2.06 2.06-.94-2.06-.94-.94-2.06-.94 2.06-2.06.94z\"/><path d=\"M17.41 7.96l-1.37-1.37c-.4-.4-.92-.59-1.43-.59-.52 0-1.04.2-1.43.59L10.3 9.45l-7.72 7.72c-.78.78-.78 2.05 0 2.83L4 21.41c.39.39.9.59 1.41.59.51 0 1.02-.2 1.41-.59l7.78-7.78 2.81-2.81c.8-.78.8-2.07 0-2.86zM5.41 20L4 18.59l7.72-7.72 1.47 1.35L5.41 20z\"/>\n",
              "  </svg>\n",
              "      </button>\n",
              "      \n",
              "  <style>\n",
              "    .colab-df-container {\n",
              "      display:flex;\n",
              "      flex-wrap:wrap;\n",
              "      gap: 12px;\n",
              "    }\n",
              "\n",
              "    .colab-df-convert {\n",
              "      background-color: #E8F0FE;\n",
              "      border: none;\n",
              "      border-radius: 50%;\n",
              "      cursor: pointer;\n",
              "      display: none;\n",
              "      fill: #1967D2;\n",
              "      height: 32px;\n",
              "      padding: 0 0 0 0;\n",
              "      width: 32px;\n",
              "    }\n",
              "\n",
              "    .colab-df-convert:hover {\n",
              "      background-color: #E2EBFA;\n",
              "      box-shadow: 0px 1px 2px rgba(60, 64, 67, 0.3), 0px 1px 3px 1px rgba(60, 64, 67, 0.15);\n",
              "      fill: #174EA6;\n",
              "    }\n",
              "\n",
              "    [theme=dark] .colab-df-convert {\n",
              "      background-color: #3B4455;\n",
              "      fill: #D2E3FC;\n",
              "    }\n",
              "\n",
              "    [theme=dark] .colab-df-convert:hover {\n",
              "      background-color: #434B5C;\n",
              "      box-shadow: 0px 1px 3px 1px rgba(0, 0, 0, 0.15);\n",
              "      filter: drop-shadow(0px 1px 2px rgba(0, 0, 0, 0.3));\n",
              "      fill: #FFFFFF;\n",
              "    }\n",
              "  </style>\n",
              "\n",
              "      <script>\n",
              "        const buttonEl =\n",
              "          document.querySelector('#df-26680817-639f-4526-bb11-7ca5709df89d button.colab-df-convert');\n",
              "        buttonEl.style.display =\n",
              "          google.colab.kernel.accessAllowed ? 'block' : 'none';\n",
              "\n",
              "        async function convertToInteractive(key) {\n",
              "          const element = document.querySelector('#df-26680817-639f-4526-bb11-7ca5709df89d');\n",
              "          const dataTable =\n",
              "            await google.colab.kernel.invokeFunction('convertToInteractive',\n",
              "                                                     [key], {});\n",
              "          if (!dataTable) return;\n",
              "\n",
              "          const docLinkHtml = 'Like what you see? Visit the ' +\n",
              "            '<a target=\"_blank\" href=https://colab.research.google.com/notebooks/data_table.ipynb>data table notebook</a>'\n",
              "            + ' to learn more about interactive tables.';\n",
              "          element.innerHTML = '';\n",
              "          dataTable['output_type'] = 'display_data';\n",
              "          await google.colab.output.renderOutput(dataTable, element);\n",
              "          const docLink = document.createElement('div');\n",
              "          docLink.innerHTML = docLinkHtml;\n",
              "          element.appendChild(docLink);\n",
              "        }\n",
              "      </script>\n",
              "    </div>\n",
              "  </div>\n",
              "  "
            ]
          },
          "metadata": {},
          "execution_count": 119
        }
      ]
    },
    {
      "cell_type": "markdown",
      "source": [
        "> Setelah kita mengetahui batas atas dan batas bawah, selanjutnya kita melihat apakah ada data yang berada di luar batas atas dan batas bawah. Dari hasil code di atas, diketahui bahwa terdapat data yang berada di luar batas atas, yaitu sebanyak 7 data. Sehingga dapat disimpulkan bahwa pada data pembuangan sampah di tempat pembuangan sampah TDS LANDFILL terdapat data outlier sebanyak 7 data"
      ],
      "metadata": {
        "id": "3Lhz83SDsZrI"
      }
    },
    {
      "cell_type": "code",
      "source": [
        "New2_df = New1_df.drop(New1_df[New1_df.load_weight > 40920.0].index)\n",
        "New2_df"
      ],
      "metadata": {
        "colab": {
          "base_uri": "https://localhost:8080/",
          "height": 424
        },
        "id": "V6eSDUVJ950x",
        "outputId": "436a3118-4a98-4a81-eb38-37ca2df8e6dc"
      },
      "execution_count": 120,
      "outputs": [
        {
          "output_type": "execute_result",
          "data": {
            "text/plain": [
              "       index report_date                load_time            load_type  \\\n",
              "0         16  2021-01-02  2021-01-02 02:16:00 UTC                 BULK   \n",
              "1         48  2021-01-02  2021-01-02 03:04:00 UTC  GARBAGE COLLECTIONS   \n",
              "2         49  2021-01-02  2021-01-02 03:41:00 UTC  GARBAGE COLLECTIONS   \n",
              "3         50  2021-01-02  2021-01-02 03:31:00 UTC  GARBAGE COLLECTIONS   \n",
              "4         51  2021-01-02  2021-01-02 03:52:00 UTC  GARBAGE COLLECTIONS   \n",
              "...      ...         ...                      ...                  ...   \n",
              "10686  26054  2021-07-08  2021-07-09 12:00:00 UTC  GARBAGE COLLECTIONS   \n",
              "10687  26053  2021-07-08  2021-07-08 12:47:00 UTC  GARBAGE COLLECTIONS   \n",
              "10688  26059  2021-07-08  2021-07-08 12:51:00 UTC  GARBAGE COLLECTIONS   \n",
              "10689  26155  2021-07-09  2021-07-09 12:00:00 UTC               LITTER   \n",
              "10690  26156  2021-07-09  2021-07-09 12:00:00 UTC               LITTER   \n",
              "\n",
              "       load_weight  dropoff_site  \n",
              "0          12480.0  TDS LANDFILL  \n",
              "1          26540.0  TDS LANDFILL  \n",
              "2          24600.0  TDS LANDFILL  \n",
              "3          31620.0  TDS LANDFILL  \n",
              "4          21720.0  TDS LANDFILL  \n",
              "...            ...           ...  \n",
              "10686      23060.0  TDS LANDFILL  \n",
              "10687      18320.0  TDS LANDFILL  \n",
              "10688      22480.0  TDS LANDFILL  \n",
              "10689       1900.0  TDS LANDFILL  \n",
              "10690       3040.0  TDS LANDFILL  \n",
              "\n",
              "[10684 rows x 6 columns]"
            ],
            "text/html": [
              "\n",
              "  <div id=\"df-6d17af98-ad8a-4aa8-aeb1-bad19579d880\">\n",
              "    <div class=\"colab-df-container\">\n",
              "      <div>\n",
              "<style scoped>\n",
              "    .dataframe tbody tr th:only-of-type {\n",
              "        vertical-align: middle;\n",
              "    }\n",
              "\n",
              "    .dataframe tbody tr th {\n",
              "        vertical-align: top;\n",
              "    }\n",
              "\n",
              "    .dataframe thead th {\n",
              "        text-align: right;\n",
              "    }\n",
              "</style>\n",
              "<table border=\"1\" class=\"dataframe\">\n",
              "  <thead>\n",
              "    <tr style=\"text-align: right;\">\n",
              "      <th></th>\n",
              "      <th>index</th>\n",
              "      <th>report_date</th>\n",
              "      <th>load_time</th>\n",
              "      <th>load_type</th>\n",
              "      <th>load_weight</th>\n",
              "      <th>dropoff_site</th>\n",
              "    </tr>\n",
              "  </thead>\n",
              "  <tbody>\n",
              "    <tr>\n",
              "      <th>0</th>\n",
              "      <td>16</td>\n",
              "      <td>2021-01-02</td>\n",
              "      <td>2021-01-02 02:16:00 UTC</td>\n",
              "      <td>BULK</td>\n",
              "      <td>12480.0</td>\n",
              "      <td>TDS LANDFILL</td>\n",
              "    </tr>\n",
              "    <tr>\n",
              "      <th>1</th>\n",
              "      <td>48</td>\n",
              "      <td>2021-01-02</td>\n",
              "      <td>2021-01-02 03:04:00 UTC</td>\n",
              "      <td>GARBAGE COLLECTIONS</td>\n",
              "      <td>26540.0</td>\n",
              "      <td>TDS LANDFILL</td>\n",
              "    </tr>\n",
              "    <tr>\n",
              "      <th>2</th>\n",
              "      <td>49</td>\n",
              "      <td>2021-01-02</td>\n",
              "      <td>2021-01-02 03:41:00 UTC</td>\n",
              "      <td>GARBAGE COLLECTIONS</td>\n",
              "      <td>24600.0</td>\n",
              "      <td>TDS LANDFILL</td>\n",
              "    </tr>\n",
              "    <tr>\n",
              "      <th>3</th>\n",
              "      <td>50</td>\n",
              "      <td>2021-01-02</td>\n",
              "      <td>2021-01-02 03:31:00 UTC</td>\n",
              "      <td>GARBAGE COLLECTIONS</td>\n",
              "      <td>31620.0</td>\n",
              "      <td>TDS LANDFILL</td>\n",
              "    </tr>\n",
              "    <tr>\n",
              "      <th>4</th>\n",
              "      <td>51</td>\n",
              "      <td>2021-01-02</td>\n",
              "      <td>2021-01-02 03:52:00 UTC</td>\n",
              "      <td>GARBAGE COLLECTIONS</td>\n",
              "      <td>21720.0</td>\n",
              "      <td>TDS LANDFILL</td>\n",
              "    </tr>\n",
              "    <tr>\n",
              "      <th>...</th>\n",
              "      <td>...</td>\n",
              "      <td>...</td>\n",
              "      <td>...</td>\n",
              "      <td>...</td>\n",
              "      <td>...</td>\n",
              "      <td>...</td>\n",
              "    </tr>\n",
              "    <tr>\n",
              "      <th>10686</th>\n",
              "      <td>26054</td>\n",
              "      <td>2021-07-08</td>\n",
              "      <td>2021-07-09 12:00:00 UTC</td>\n",
              "      <td>GARBAGE COLLECTIONS</td>\n",
              "      <td>23060.0</td>\n",
              "      <td>TDS LANDFILL</td>\n",
              "    </tr>\n",
              "    <tr>\n",
              "      <th>10687</th>\n",
              "      <td>26053</td>\n",
              "      <td>2021-07-08</td>\n",
              "      <td>2021-07-08 12:47:00 UTC</td>\n",
              "      <td>GARBAGE COLLECTIONS</td>\n",
              "      <td>18320.0</td>\n",
              "      <td>TDS LANDFILL</td>\n",
              "    </tr>\n",
              "    <tr>\n",
              "      <th>10688</th>\n",
              "      <td>26059</td>\n",
              "      <td>2021-07-08</td>\n",
              "      <td>2021-07-08 12:51:00 UTC</td>\n",
              "      <td>GARBAGE COLLECTIONS</td>\n",
              "      <td>22480.0</td>\n",
              "      <td>TDS LANDFILL</td>\n",
              "    </tr>\n",
              "    <tr>\n",
              "      <th>10689</th>\n",
              "      <td>26155</td>\n",
              "      <td>2021-07-09</td>\n",
              "      <td>2021-07-09 12:00:00 UTC</td>\n",
              "      <td>LITTER</td>\n",
              "      <td>1900.0</td>\n",
              "      <td>TDS LANDFILL</td>\n",
              "    </tr>\n",
              "    <tr>\n",
              "      <th>10690</th>\n",
              "      <td>26156</td>\n",
              "      <td>2021-07-09</td>\n",
              "      <td>2021-07-09 12:00:00 UTC</td>\n",
              "      <td>LITTER</td>\n",
              "      <td>3040.0</td>\n",
              "      <td>TDS LANDFILL</td>\n",
              "    </tr>\n",
              "  </tbody>\n",
              "</table>\n",
              "<p>10684 rows × 6 columns</p>\n",
              "</div>\n",
              "      <button class=\"colab-df-convert\" onclick=\"convertToInteractive('df-6d17af98-ad8a-4aa8-aeb1-bad19579d880')\"\n",
              "              title=\"Convert this dataframe to an interactive table.\"\n",
              "              style=\"display:none;\">\n",
              "        \n",
              "  <svg xmlns=\"http://www.w3.org/2000/svg\" height=\"24px\"viewBox=\"0 0 24 24\"\n",
              "       width=\"24px\">\n",
              "    <path d=\"M0 0h24v24H0V0z\" fill=\"none\"/>\n",
              "    <path d=\"M18.56 5.44l.94 2.06.94-2.06 2.06-.94-2.06-.94-.94-2.06-.94 2.06-2.06.94zm-11 1L8.5 8.5l.94-2.06 2.06-.94-2.06-.94L8.5 2.5l-.94 2.06-2.06.94zm10 10l.94 2.06.94-2.06 2.06-.94-2.06-.94-.94-2.06-.94 2.06-2.06.94z\"/><path d=\"M17.41 7.96l-1.37-1.37c-.4-.4-.92-.59-1.43-.59-.52 0-1.04.2-1.43.59L10.3 9.45l-7.72 7.72c-.78.78-.78 2.05 0 2.83L4 21.41c.39.39.9.59 1.41.59.51 0 1.02-.2 1.41-.59l7.78-7.78 2.81-2.81c.8-.78.8-2.07 0-2.86zM5.41 20L4 18.59l7.72-7.72 1.47 1.35L5.41 20z\"/>\n",
              "  </svg>\n",
              "      </button>\n",
              "      \n",
              "  <style>\n",
              "    .colab-df-container {\n",
              "      display:flex;\n",
              "      flex-wrap:wrap;\n",
              "      gap: 12px;\n",
              "    }\n",
              "\n",
              "    .colab-df-convert {\n",
              "      background-color: #E8F0FE;\n",
              "      border: none;\n",
              "      border-radius: 50%;\n",
              "      cursor: pointer;\n",
              "      display: none;\n",
              "      fill: #1967D2;\n",
              "      height: 32px;\n",
              "      padding: 0 0 0 0;\n",
              "      width: 32px;\n",
              "    }\n",
              "\n",
              "    .colab-df-convert:hover {\n",
              "      background-color: #E2EBFA;\n",
              "      box-shadow: 0px 1px 2px rgba(60, 64, 67, 0.3), 0px 1px 3px 1px rgba(60, 64, 67, 0.15);\n",
              "      fill: #174EA6;\n",
              "    }\n",
              "\n",
              "    [theme=dark] .colab-df-convert {\n",
              "      background-color: #3B4455;\n",
              "      fill: #D2E3FC;\n",
              "    }\n",
              "\n",
              "    [theme=dark] .colab-df-convert:hover {\n",
              "      background-color: #434B5C;\n",
              "      box-shadow: 0px 1px 3px 1px rgba(0, 0, 0, 0.15);\n",
              "      filter: drop-shadow(0px 1px 2px rgba(0, 0, 0, 0.3));\n",
              "      fill: #FFFFFF;\n",
              "    }\n",
              "  </style>\n",
              "\n",
              "      <script>\n",
              "        const buttonEl =\n",
              "          document.querySelector('#df-6d17af98-ad8a-4aa8-aeb1-bad19579d880 button.colab-df-convert');\n",
              "        buttonEl.style.display =\n",
              "          google.colab.kernel.accessAllowed ? 'block' : 'none';\n",
              "\n",
              "        async function convertToInteractive(key) {\n",
              "          const element = document.querySelector('#df-6d17af98-ad8a-4aa8-aeb1-bad19579d880');\n",
              "          const dataTable =\n",
              "            await google.colab.kernel.invokeFunction('convertToInteractive',\n",
              "                                                     [key], {});\n",
              "          if (!dataTable) return;\n",
              "\n",
              "          const docLinkHtml = 'Like what you see? Visit the ' +\n",
              "            '<a target=\"_blank\" href=https://colab.research.google.com/notebooks/data_table.ipynb>data table notebook</a>'\n",
              "            + ' to learn more about interactive tables.';\n",
              "          element.innerHTML = '';\n",
              "          dataTable['output_type'] = 'display_data';\n",
              "          await google.colab.output.renderOutput(dataTable, element);\n",
              "          const docLink = document.createElement('div');\n",
              "          docLink.innerHTML = docLinkHtml;\n",
              "          element.appendChild(docLink);\n",
              "        }\n",
              "      </script>\n",
              "    </div>\n",
              "  </div>\n",
              "  "
            ]
          },
          "metadata": {},
          "execution_count": 120
        }
      ]
    },
    {
      "cell_type": "markdown",
      "source": [
        "> Code di atas merupakan code untuk menghapus atau drop data outlier yang berada pada data pembuangan sampah di tempat pembuangan sampah TDS LANDFILL. Sehingga diperoleh data baru yang sudah dihapus outliernya"
      ],
      "metadata": {
        "id": "dQfACsAEtwC1"
      }
    },
    {
      "cell_type": "code",
      "source": [
        "New2_df[\n",
        "    (New2_df['load_weight'] > 40920.0)\n",
        "    ].sort_values('report_date', ascending = True)"
      ],
      "metadata": {
        "colab": {
          "base_uri": "https://localhost:8080/",
          "height": 49
        },
        "id": "AKMFElGyLN0Z",
        "outputId": "b4eb68a7-7e2d-4760-ad47-258cbb8e98d4"
      },
      "execution_count": 121,
      "outputs": [
        {
          "output_type": "execute_result",
          "data": {
            "text/plain": [
              "Empty DataFrame\n",
              "Columns: [index, report_date, load_time, load_type, load_weight, dropoff_site]\n",
              "Index: []"
            ],
            "text/html": [
              "\n",
              "  <div id=\"df-d3da60e4-7455-45fa-912c-4289c1c25f60\">\n",
              "    <div class=\"colab-df-container\">\n",
              "      <div>\n",
              "<style scoped>\n",
              "    .dataframe tbody tr th:only-of-type {\n",
              "        vertical-align: middle;\n",
              "    }\n",
              "\n",
              "    .dataframe tbody tr th {\n",
              "        vertical-align: top;\n",
              "    }\n",
              "\n",
              "    .dataframe thead th {\n",
              "        text-align: right;\n",
              "    }\n",
              "</style>\n",
              "<table border=\"1\" class=\"dataframe\">\n",
              "  <thead>\n",
              "    <tr style=\"text-align: right;\">\n",
              "      <th></th>\n",
              "      <th>index</th>\n",
              "      <th>report_date</th>\n",
              "      <th>load_time</th>\n",
              "      <th>load_type</th>\n",
              "      <th>load_weight</th>\n",
              "      <th>dropoff_site</th>\n",
              "    </tr>\n",
              "  </thead>\n",
              "  <tbody>\n",
              "  </tbody>\n",
              "</table>\n",
              "</div>\n",
              "      <button class=\"colab-df-convert\" onclick=\"convertToInteractive('df-d3da60e4-7455-45fa-912c-4289c1c25f60')\"\n",
              "              title=\"Convert this dataframe to an interactive table.\"\n",
              "              style=\"display:none;\">\n",
              "        \n",
              "  <svg xmlns=\"http://www.w3.org/2000/svg\" height=\"24px\"viewBox=\"0 0 24 24\"\n",
              "       width=\"24px\">\n",
              "    <path d=\"M0 0h24v24H0V0z\" fill=\"none\"/>\n",
              "    <path d=\"M18.56 5.44l.94 2.06.94-2.06 2.06-.94-2.06-.94-.94-2.06-.94 2.06-2.06.94zm-11 1L8.5 8.5l.94-2.06 2.06-.94-2.06-.94L8.5 2.5l-.94 2.06-2.06.94zm10 10l.94 2.06.94-2.06 2.06-.94-2.06-.94-.94-2.06-.94 2.06-2.06.94z\"/><path d=\"M17.41 7.96l-1.37-1.37c-.4-.4-.92-.59-1.43-.59-.52 0-1.04.2-1.43.59L10.3 9.45l-7.72 7.72c-.78.78-.78 2.05 0 2.83L4 21.41c.39.39.9.59 1.41.59.51 0 1.02-.2 1.41-.59l7.78-7.78 2.81-2.81c.8-.78.8-2.07 0-2.86zM5.41 20L4 18.59l7.72-7.72 1.47 1.35L5.41 20z\"/>\n",
              "  </svg>\n",
              "      </button>\n",
              "      \n",
              "  <style>\n",
              "    .colab-df-container {\n",
              "      display:flex;\n",
              "      flex-wrap:wrap;\n",
              "      gap: 12px;\n",
              "    }\n",
              "\n",
              "    .colab-df-convert {\n",
              "      background-color: #E8F0FE;\n",
              "      border: none;\n",
              "      border-radius: 50%;\n",
              "      cursor: pointer;\n",
              "      display: none;\n",
              "      fill: #1967D2;\n",
              "      height: 32px;\n",
              "      padding: 0 0 0 0;\n",
              "      width: 32px;\n",
              "    }\n",
              "\n",
              "    .colab-df-convert:hover {\n",
              "      background-color: #E2EBFA;\n",
              "      box-shadow: 0px 1px 2px rgba(60, 64, 67, 0.3), 0px 1px 3px 1px rgba(60, 64, 67, 0.15);\n",
              "      fill: #174EA6;\n",
              "    }\n",
              "\n",
              "    [theme=dark] .colab-df-convert {\n",
              "      background-color: #3B4455;\n",
              "      fill: #D2E3FC;\n",
              "    }\n",
              "\n",
              "    [theme=dark] .colab-df-convert:hover {\n",
              "      background-color: #434B5C;\n",
              "      box-shadow: 0px 1px 3px 1px rgba(0, 0, 0, 0.15);\n",
              "      filter: drop-shadow(0px 1px 2px rgba(0, 0, 0, 0.3));\n",
              "      fill: #FFFFFF;\n",
              "    }\n",
              "  </style>\n",
              "\n",
              "      <script>\n",
              "        const buttonEl =\n",
              "          document.querySelector('#df-d3da60e4-7455-45fa-912c-4289c1c25f60 button.colab-df-convert');\n",
              "        buttonEl.style.display =\n",
              "          google.colab.kernel.accessAllowed ? 'block' : 'none';\n",
              "\n",
              "        async function convertToInteractive(key) {\n",
              "          const element = document.querySelector('#df-d3da60e4-7455-45fa-912c-4289c1c25f60');\n",
              "          const dataTable =\n",
              "            await google.colab.kernel.invokeFunction('convertToInteractive',\n",
              "                                                     [key], {});\n",
              "          if (!dataTable) return;\n",
              "\n",
              "          const docLinkHtml = 'Like what you see? Visit the ' +\n",
              "            '<a target=\"_blank\" href=https://colab.research.google.com/notebooks/data_table.ipynb>data table notebook</a>'\n",
              "            + ' to learn more about interactive tables.';\n",
              "          element.innerHTML = '';\n",
              "          dataTable['output_type'] = 'display_data';\n",
              "          await google.colab.output.renderOutput(dataTable, element);\n",
              "          const docLink = document.createElement('div');\n",
              "          docLink.innerHTML = docLinkHtml;\n",
              "          element.appendChild(docLink);\n",
              "        }\n",
              "      </script>\n",
              "    </div>\n",
              "  </div>\n",
              "  "
            ]
          },
          "metadata": {},
          "execution_count": 121
        }
      ]
    },
    {
      "cell_type": "code",
      "source": [
        "New2_df['load_weight'].plot(kind='box', title='load_weight Distribution', figsize=(10,8))\n",
        "plt.show()"
      ],
      "metadata": {
        "colab": {
          "base_uri": "https://localhost:8080/",
          "height": 500
        },
        "id": "T8fDyrfzYM2N",
        "outputId": "933ed8de-52d4-4c1b-fe44-d29bb702f944"
      },
      "execution_count": 122,
      "outputs": [
        {
          "output_type": "display_data",
          "data": {
            "text/plain": [
              "<Figure size 720x576 with 1 Axes>"
            ],
            "image/png": "[encoded data removed]"
          },
          "metadata": {
            "needs_background": "light"
          }
        }
      ]
    },
    {
      "cell_type": "code",
      "source": [
        "load_weight = New2_df['load_weight']\n",
        "density = stats.gaussian_kde(load_weight)\n",
        "n, x, _ = plt.hist(load_weight, histtype='step', bins=50)  \n",
        "plt.plot(x, density(x)*10**6.9)\n",
        "plt.axvline(load_weight.mean(), color='magenta', linestyle='dashed', linewidth=2)\n",
        "plt.axvline(load_weight.median(), color='green', linestyle='dashed', linewidth=2)\n",
        "plt.show()"
      ],
      "metadata": {
        "colab": {
          "base_uri": "https://localhost:8080/",
          "height": 265
        },
        "id": "j6xKWJK6YUEt",
        "outputId": "6891f173-b4ea-4874-a7e0-12c4c14ebfa6"
      },
      "execution_count": 123,
      "outputs": [
        {
          "output_type": "display_data",
          "data": {
            "text/plain": [
              "<Figure size 432x288 with 1 Axes>"
            ],
            "image/png": "[encoded data removed]"
          },
          "metadata": {
            "needs_background": "light"
          }
        }
      ]
    },
    {
      "cell_type": "markdown",
      "source": [
        "> Code di atas merupakan code untuk melihat apakah data outlier sudah terhapus atau belum. Berdasarkan hasil code di atas diketahui bahwa sudah tidak terdapat data outlier pada data pembuangan sampah di tempat pembuangan sampah TDS LANDFILL yang diliat dari screening data dan dari grafik boxplot serta distribusi data"
      ],
      "metadata": {
        "id": "nUFln21QuZFz"
      }
    },
    {
      "cell_type": "code",
      "source": [
        "persen = (7/len(New1_df))*100\n",
        "persen"
      ],
      "metadata": {
        "colab": {
          "base_uri": "https://localhost:8080/"
        },
        "id": "rx8a18QItgog",
        "outputId": "48a7db21-ad84-4d57-9208-a5ff38932ed1"
      },
      "execution_count": 124,
      "outputs": [
        {
          "output_type": "execute_result",
          "data": {
            "text/plain": [
              "0.0654756337105977"
            ]
          },
          "metadata": {},
          "execution_count": 124
        }
      ]
    },
    {
      "cell_type": "markdown",
      "source": [
        "> Kita juga bisa melihat persentase outlier dari data pembuangan sampah di tempat pembuangan sampah TDS LANDFILL dengan menggunakan code di atas. Dari hasil code di atas diperoleh persentase outlier yaitu sebesar 0.065%"
      ],
      "metadata": {
        "id": "tiar57S0vYJX"
      }
    },
    {
      "cell_type": "code",
      "source": [
        "New2_df.groupby(['dropoff_site'])['load_weight'].mean().sort_values(ascending=False).reset_index()"
      ],
      "metadata": {
        "colab": {
          "base_uri": "https://localhost:8080/",
          "height": 81
        },
        "id": "_skWINg9Sxic",
        "outputId": "823c5d2f-d5c6-4812-d192-6803ab744ceb"
      },
      "execution_count": 125,
      "outputs": [
        {
          "output_type": "execute_result",
          "data": {
            "text/plain": [
              "   dropoff_site  load_weight\n",
              "0  TDS LANDFILL      15094.6"
            ],
            "text/html": [
              "\n",
              "  <div id=\"df-f83d603c-2cbe-40a1-b950-93fdc739d85a\">\n",
              "    <div class=\"colab-df-container\">\n",
              "      <div>\n",
              "<style scoped>\n",
              "    .dataframe tbody tr th:only-of-type {\n",
              "        vertical-align: middle;\n",
              "    }\n",
              "\n",
              "    .dataframe tbody tr th {\n",
              "        vertical-align: top;\n",
              "    }\n",
              "\n",
              "    .dataframe thead th {\n",
              "        text-align: right;\n",
              "    }\n",
              "</style>\n",
              "<table border=\"1\" class=\"dataframe\">\n",
              "  <thead>\n",
              "    <tr style=\"text-align: right;\">\n",
              "      <th></th>\n",
              "      <th>dropoff_site</th>\n",
              "      <th>load_weight</th>\n",
              "    </tr>\n",
              "  </thead>\n",
              "  <tbody>\n",
              "    <tr>\n",
              "      <th>0</th>\n",
              "      <td>TDS LANDFILL</td>\n",
              "      <td>15094.6</td>\n",
              "    </tr>\n",
              "  </tbody>\n",
              "</table>\n",
              "</div>\n",
              "      <button class=\"colab-df-convert\" onclick=\"convertToInteractive('df-f83d603c-2cbe-40a1-b950-93fdc739d85a')\"\n",
              "              title=\"Convert this dataframe to an interactive table.\"\n",
              "              style=\"display:none;\">\n",
              "        \n",
              "  <svg xmlns=\"http://www.w3.org/2000/svg\" height=\"24px\"viewBox=\"0 0 24 24\"\n",
              "       width=\"24px\">\n",
              "    <path d=\"M0 0h24v24H0V0z\" fill=\"none\"/>\n",
              "    <path d=\"M18.56 5.44l.94 2.06.94-2.06 2.06-.94-2.06-.94-.94-2.06-.94 2.06-2.06.94zm-11 1L8.5 8.5l.94-2.06 2.06-.94-2.06-.94L8.5 2.5l-.94 2.06-2.06.94zm10 10l.94 2.06.94-2.06 2.06-.94-2.06-.94-.94-2.06-.94 2.06-2.06.94z\"/><path d=\"M17.41 7.96l-1.37-1.37c-.4-.4-.92-.59-1.43-.59-.52 0-1.04.2-1.43.59L10.3 9.45l-7.72 7.72c-.78.78-.78 2.05 0 2.83L4 21.41c.39.39.9.59 1.41.59.51 0 1.02-.2 1.41-.59l7.78-7.78 2.81-2.81c.8-.78.8-2.07 0-2.86zM5.41 20L4 18.59l7.72-7.72 1.47 1.35L5.41 20z\"/>\n",
              "  </svg>\n",
              "      </button>\n",
              "      \n",
              "  <style>\n",
              "    .colab-df-container {\n",
              "      display:flex;\n",
              "      flex-wrap:wrap;\n",
              "      gap: 12px;\n",
              "    }\n",
              "\n",
              "    .colab-df-convert {\n",
              "      background-color: #E8F0FE;\n",
              "      border: none;\n",
              "      border-radius: 50%;\n",
              "      cursor: pointer;\n",
              "      display: none;\n",
              "      fill: #1967D2;\n",
              "      height: 32px;\n",
              "      padding: 0 0 0 0;\n",
              "      width: 32px;\n",
              "    }\n",
              "\n",
              "    .colab-df-convert:hover {\n",
              "      background-color: #E2EBFA;\n",
              "      box-shadow: 0px 1px 2px rgba(60, 64, 67, 0.3), 0px 1px 3px 1px rgba(60, 64, 67, 0.15);\n",
              "      fill: #174EA6;\n",
              "    }\n",
              "\n",
              "    [theme=dark] .colab-df-convert {\n",
              "      background-color: #3B4455;\n",
              "      fill: #D2E3FC;\n",
              "    }\n",
              "\n",
              "    [theme=dark] .colab-df-convert:hover {\n",
              "      background-color: #434B5C;\n",
              "      box-shadow: 0px 1px 3px 1px rgba(0, 0, 0, 0.15);\n",
              "      filter: drop-shadow(0px 1px 2px rgba(0, 0, 0, 0.3));\n",
              "      fill: #FFFFFF;\n",
              "    }\n",
              "  </style>\n",
              "\n",
              "      <script>\n",
              "        const buttonEl =\n",
              "          document.querySelector('#df-f83d603c-2cbe-40a1-b950-93fdc739d85a button.colab-df-convert');\n",
              "        buttonEl.style.display =\n",
              "          google.colab.kernel.accessAllowed ? 'block' : 'none';\n",
              "\n",
              "        async function convertToInteractive(key) {\n",
              "          const element = document.querySelector('#df-f83d603c-2cbe-40a1-b950-93fdc739d85a');\n",
              "          const dataTable =\n",
              "            await google.colab.kernel.invokeFunction('convertToInteractive',\n",
              "                                                     [key], {});\n",
              "          if (!dataTable) return;\n",
              "\n",
              "          const docLinkHtml = 'Like what you see? Visit the ' +\n",
              "            '<a target=\"_blank\" href=https://colab.research.google.com/notebooks/data_table.ipynb>data table notebook</a>'\n",
              "            + ' to learn more about interactive tables.';\n",
              "          element.innerHTML = '';\n",
              "          dataTable['output_type'] = 'display_data';\n",
              "          await google.colab.output.renderOutput(dataTable, element);\n",
              "          const docLink = document.createElement('div');\n",
              "          docLink.innerHTML = docLinkHtml;\n",
              "          element.appendChild(docLink);\n",
              "        }\n",
              "      </script>\n",
              "    </div>\n",
              "  </div>\n",
              "  "
            ]
          },
          "metadata": {},
          "execution_count": 125
        }
      ]
    },
    {
      "cell_type": "code",
      "source": [
        "New2_df.groupby(['dropoff_site'])['load_weight'].median().sort_values(ascending=False).reset_index()"
      ],
      "metadata": {
        "colab": {
          "base_uri": "https://localhost:8080/",
          "height": 81
        },
        "id": "M-dgHp_JTdkj",
        "outputId": "d99a1902-da28-42e5-dd25-97fa80957595"
      },
      "execution_count": 126,
      "outputs": [
        {
          "output_type": "execute_result",
          "data": {
            "text/plain": [
              "   dropoff_site  load_weight\n",
              "0  TDS LANDFILL      14920.0"
            ],
            "text/html": [
              "\n",
              "  <div id=\"df-7fe5c02b-68c8-4641-870a-45e64370d0ec\">\n",
              "    <div class=\"colab-df-container\">\n",
              "      <div>\n",
              "<style scoped>\n",
              "    .dataframe tbody tr th:only-of-type {\n",
              "        vertical-align: middle;\n",
              "    }\n",
              "\n",
              "    .dataframe tbody tr th {\n",
              "        vertical-align: top;\n",
              "    }\n",
              "\n",
              "    .dataframe thead th {\n",
              "        text-align: right;\n",
              "    }\n",
              "</style>\n",
              "<table border=\"1\" class=\"dataframe\">\n",
              "  <thead>\n",
              "    <tr style=\"text-align: right;\">\n",
              "      <th></th>\n",
              "      <th>dropoff_site</th>\n",
              "      <th>load_weight</th>\n",
              "    </tr>\n",
              "  </thead>\n",
              "  <tbody>\n",
              "    <tr>\n",
              "      <th>0</th>\n",
              "      <td>TDS LANDFILL</td>\n",
              "      <td>14920.0</td>\n",
              "    </tr>\n",
              "  </tbody>\n",
              "</table>\n",
              "</div>\n",
              "      <button class=\"colab-df-convert\" onclick=\"convertToInteractive('df-7fe5c02b-68c8-4641-870a-45e64370d0ec')\"\n",
              "              title=\"Convert this dataframe to an interactive table.\"\n",
              "              style=\"display:none;\">\n",
              "        \n",
              "  <svg xmlns=\"http://www.w3.org/2000/svg\" height=\"24px\"viewBox=\"0 0 24 24\"\n",
              "       width=\"24px\">\n",
              "    <path d=\"M0 0h24v24H0V0z\" fill=\"none\"/>\n",
              "    <path d=\"M18.56 5.44l.94 2.06.94-2.06 2.06-.94-2.06-.94-.94-2.06-.94 2.06-2.06.94zm-11 1L8.5 8.5l.94-2.06 2.06-.94-2.06-.94L8.5 2.5l-.94 2.06-2.06.94zm10 10l.94 2.06.94-2.06 2.06-.94-2.06-.94-.94-2.06-.94 2.06-2.06.94z\"/><path d=\"M17.41 7.96l-1.37-1.37c-.4-.4-.92-.59-1.43-.59-.52 0-1.04.2-1.43.59L10.3 9.45l-7.72 7.72c-.78.78-.78 2.05 0 2.83L4 21.41c.39.39.9.59 1.41.59.51 0 1.02-.2 1.41-.59l7.78-7.78 2.81-2.81c.8-.78.8-2.07 0-2.86zM5.41 20L4 18.59l7.72-7.72 1.47 1.35L5.41 20z\"/>\n",
              "  </svg>\n",
              "      </button>\n",
              "      \n",
              "  <style>\n",
              "    .colab-df-container {\n",
              "      display:flex;\n",
              "      flex-wrap:wrap;\n",
              "      gap: 12px;\n",
              "    }\n",
              "\n",
              "    .colab-df-convert {\n",
              "      background-color: #E8F0FE;\n",
              "      border: none;\n",
              "      border-radius: 50%;\n",
              "      cursor: pointer;\n",
              "      display: none;\n",
              "      fill: #1967D2;\n",
              "      height: 32px;\n",
              "      padding: 0 0 0 0;\n",
              "      width: 32px;\n",
              "    }\n",
              "\n",
              "    .colab-df-convert:hover {\n",
              "      background-color: #E2EBFA;\n",
              "      box-shadow: 0px 1px 2px rgba(60, 64, 67, 0.3), 0px 1px 3px 1px rgba(60, 64, 67, 0.15);\n",
              "      fill: #174EA6;\n",
              "    }\n",
              "\n",
              "    [theme=dark] .colab-df-convert {\n",
              "      background-color: #3B4455;\n",
              "      fill: #D2E3FC;\n",
              "    }\n",
              "\n",
              "    [theme=dark] .colab-df-convert:hover {\n",
              "      background-color: #434B5C;\n",
              "      box-shadow: 0px 1px 3px 1px rgba(0, 0, 0, 0.15);\n",
              "      filter: drop-shadow(0px 1px 2px rgba(0, 0, 0, 0.3));\n",
              "      fill: #FFFFFF;\n",
              "    }\n",
              "  </style>\n",
              "\n",
              "      <script>\n",
              "        const buttonEl =\n",
              "          document.querySelector('#df-7fe5c02b-68c8-4641-870a-45e64370d0ec button.colab-df-convert');\n",
              "        buttonEl.style.display =\n",
              "          google.colab.kernel.accessAllowed ? 'block' : 'none';\n",
              "\n",
              "        async function convertToInteractive(key) {\n",
              "          const element = document.querySelector('#df-7fe5c02b-68c8-4641-870a-45e64370d0ec');\n",
              "          const dataTable =\n",
              "            await google.colab.kernel.invokeFunction('convertToInteractive',\n",
              "                                                     [key], {});\n",
              "          if (!dataTable) return;\n",
              "\n",
              "          const docLinkHtml = 'Like what you see? Visit the ' +\n",
              "            '<a target=\"_blank\" href=https://colab.research.google.com/notebooks/data_table.ipynb>data table notebook</a>'\n",
              "            + ' to learn more about interactive tables.';\n",
              "          element.innerHTML = '';\n",
              "          dataTable['output_type'] = 'display_data';\n",
              "          await google.colab.output.renderOutput(dataTable, element);\n",
              "          const docLink = document.createElement('div');\n",
              "          docLink.innerHTML = docLinkHtml;\n",
              "          element.appendChild(docLink);\n",
              "        }\n",
              "      </script>\n",
              "    </div>\n",
              "  </div>\n",
              "  "
            ]
          },
          "metadata": {},
          "execution_count": 126
        }
      ]
    },
    {
      "cell_type": "code",
      "source": [
        "New2_df1 = pd.DataFrame({'dropoff_site':New2_df['dropoff_site'],\n",
        "                    'load_weight': New2_df['load_weight']})\n",
        "\n",
        "New2_df1"
      ],
      "metadata": {
        "colab": {
          "base_uri": "https://localhost:8080/",
          "height": 424
        },
        "id": "xnqj3g7mTs3c",
        "outputId": "3349398b-7dd9-4f78-eea5-d4bf7c2dcbcd"
      },
      "execution_count": 127,
      "outputs": [
        {
          "output_type": "execute_result",
          "data": {
            "text/plain": [
              "       dropoff_site  load_weight\n",
              "0      TDS LANDFILL      12480.0\n",
              "1      TDS LANDFILL      26540.0\n",
              "2      TDS LANDFILL      24600.0\n",
              "3      TDS LANDFILL      31620.0\n",
              "4      TDS LANDFILL      21720.0\n",
              "...             ...          ...\n",
              "10686  TDS LANDFILL      23060.0\n",
              "10687  TDS LANDFILL      18320.0\n",
              "10688  TDS LANDFILL      22480.0\n",
              "10689  TDS LANDFILL       1900.0\n",
              "10690  TDS LANDFILL       3040.0\n",
              "\n",
              "[10684 rows x 2 columns]"
            ],
            "text/html": [
              "\n",
              "  <div id=\"df-070dfe1f-9fdd-4fd7-908c-36ffceb3fead\">\n",
              "    <div class=\"colab-df-container\">\n",
              "      <div>\n",
              "<style scoped>\n",
              "    .dataframe tbody tr th:only-of-type {\n",
              "        vertical-align: middle;\n",
              "    }\n",
              "\n",
              "    .dataframe tbody tr th {\n",
              "        vertical-align: top;\n",
              "    }\n",
              "\n",
              "    .dataframe thead th {\n",
              "        text-align: right;\n",
              "    }\n",
              "</style>\n",
              "<table border=\"1\" class=\"dataframe\">\n",
              "  <thead>\n",
              "    <tr style=\"text-align: right;\">\n",
              "      <th></th>\n",
              "      <th>dropoff_site</th>\n",
              "      <th>load_weight</th>\n",
              "    </tr>\n",
              "  </thead>\n",
              "  <tbody>\n",
              "    <tr>\n",
              "      <th>0</th>\n",
              "      <td>TDS LANDFILL</td>\n",
              "      <td>12480.0</td>\n",
              "    </tr>\n",
              "    <tr>\n",
              "      <th>1</th>\n",
              "      <td>TDS LANDFILL</td>\n",
              "      <td>26540.0</td>\n",
              "    </tr>\n",
              "    <tr>\n",
              "      <th>2</th>\n",
              "      <td>TDS LANDFILL</td>\n",
              "      <td>24600.0</td>\n",
              "    </tr>\n",
              "    <tr>\n",
              "      <th>3</th>\n",
              "      <td>TDS LANDFILL</td>\n",
              "      <td>31620.0</td>\n",
              "    </tr>\n",
              "    <tr>\n",
              "      <th>4</th>\n",
              "      <td>TDS LANDFILL</td>\n",
              "      <td>21720.0</td>\n",
              "    </tr>\n",
              "    <tr>\n",
              "      <th>...</th>\n",
              "      <td>...</td>\n",
              "      <td>...</td>\n",
              "    </tr>\n",
              "    <tr>\n",
              "      <th>10686</th>\n",
              "      <td>TDS LANDFILL</td>\n",
              "      <td>23060.0</td>\n",
              "    </tr>\n",
              "    <tr>\n",
              "      <th>10687</th>\n",
              "      <td>TDS LANDFILL</td>\n",
              "      <td>18320.0</td>\n",
              "    </tr>\n",
              "    <tr>\n",
              "      <th>10688</th>\n",
              "      <td>TDS LANDFILL</td>\n",
              "      <td>22480.0</td>\n",
              "    </tr>\n",
              "    <tr>\n",
              "      <th>10689</th>\n",
              "      <td>TDS LANDFILL</td>\n",
              "      <td>1900.0</td>\n",
              "    </tr>\n",
              "    <tr>\n",
              "      <th>10690</th>\n",
              "      <td>TDS LANDFILL</td>\n",
              "      <td>3040.0</td>\n",
              "    </tr>\n",
              "  </tbody>\n",
              "</table>\n",
              "<p>10684 rows × 2 columns</p>\n",
              "</div>\n",
              "      <button class=\"colab-df-convert\" onclick=\"convertToInteractive('df-070dfe1f-9fdd-4fd7-908c-36ffceb3fead')\"\n",
              "              title=\"Convert this dataframe to an interactive table.\"\n",
              "              style=\"display:none;\">\n",
              "        \n",
              "  <svg xmlns=\"http://www.w3.org/2000/svg\" height=\"24px\"viewBox=\"0 0 24 24\"\n",
              "       width=\"24px\">\n",
              "    <path d=\"M0 0h24v24H0V0z\" fill=\"none\"/>\n",
              "    <path d=\"M18.56 5.44l.94 2.06.94-2.06 2.06-.94-2.06-.94-.94-2.06-.94 2.06-2.06.94zm-11 1L8.5 8.5l.94-2.06 2.06-.94-2.06-.94L8.5 2.5l-.94 2.06-2.06.94zm10 10l.94 2.06.94-2.06 2.06-.94-2.06-.94-.94-2.06-.94 2.06-2.06.94z\"/><path d=\"M17.41 7.96l-1.37-1.37c-.4-.4-.92-.59-1.43-.59-.52 0-1.04.2-1.43.59L10.3 9.45l-7.72 7.72c-.78.78-.78 2.05 0 2.83L4 21.41c.39.39.9.59 1.41.59.51 0 1.02-.2 1.41-.59l7.78-7.78 2.81-2.81c.8-.78.8-2.07 0-2.86zM5.41 20L4 18.59l7.72-7.72 1.47 1.35L5.41 20z\"/>\n",
              "  </svg>\n",
              "      </button>\n",
              "      \n",
              "  <style>\n",
              "    .colab-df-container {\n",
              "      display:flex;\n",
              "      flex-wrap:wrap;\n",
              "      gap: 12px;\n",
              "    }\n",
              "\n",
              "    .colab-df-convert {\n",
              "      background-color: #E8F0FE;\n",
              "      border: none;\n",
              "      border-radius: 50%;\n",
              "      cursor: pointer;\n",
              "      display: none;\n",
              "      fill: #1967D2;\n",
              "      height: 32px;\n",
              "      padding: 0 0 0 0;\n",
              "      width: 32px;\n",
              "    }\n",
              "\n",
              "    .colab-df-convert:hover {\n",
              "      background-color: #E2EBFA;\n",
              "      box-shadow: 0px 1px 2px rgba(60, 64, 67, 0.3), 0px 1px 3px 1px rgba(60, 64, 67, 0.15);\n",
              "      fill: #174EA6;\n",
              "    }\n",
              "\n",
              "    [theme=dark] .colab-df-convert {\n",
              "      background-color: #3B4455;\n",
              "      fill: #D2E3FC;\n",
              "    }\n",
              "\n",
              "    [theme=dark] .colab-df-convert:hover {\n",
              "      background-color: #434B5C;\n",
              "      box-shadow: 0px 1px 3px 1px rgba(0, 0, 0, 0.15);\n",
              "      filter: drop-shadow(0px 1px 2px rgba(0, 0, 0, 0.3));\n",
              "      fill: #FFFFFF;\n",
              "    }\n",
              "  </style>\n",
              "\n",
              "      <script>\n",
              "        const buttonEl =\n",
              "          document.querySelector('#df-070dfe1f-9fdd-4fd7-908c-36ffceb3fead button.colab-df-convert');\n",
              "        buttonEl.style.display =\n",
              "          google.colab.kernel.accessAllowed ? 'block' : 'none';\n",
              "\n",
              "        async function convertToInteractive(key) {\n",
              "          const element = document.querySelector('#df-070dfe1f-9fdd-4fd7-908c-36ffceb3fead');\n",
              "          const dataTable =\n",
              "            await google.colab.kernel.invokeFunction('convertToInteractive',\n",
              "                                                     [key], {});\n",
              "          if (!dataTable) return;\n",
              "\n",
              "          const docLinkHtml = 'Like what you see? Visit the ' +\n",
              "            '<a target=\"_blank\" href=https://colab.research.google.com/notebooks/data_table.ipynb>data table notebook</a>'\n",
              "            + ' to learn more about interactive tables.';\n",
              "          element.innerHTML = '';\n",
              "          dataTable['output_type'] = 'display_data';\n",
              "          await google.colab.output.renderOutput(dataTable, element);\n",
              "          const docLink = document.createElement('div');\n",
              "          docLink.innerHTML = docLinkHtml;\n",
              "          element.appendChild(docLink);\n",
              "        }\n",
              "      </script>\n",
              "    </div>\n",
              "  </div>\n",
              "  "
            ]
          },
          "metadata": {},
          "execution_count": 127
        }
      ]
    },
    {
      "cell_type": "code",
      "source": [
        "New2_df1['load_weight'].mode()"
      ],
      "metadata": {
        "colab": {
          "base_uri": "https://localhost:8080/"
        },
        "id": "VvkVmVdAUCeU",
        "outputId": "a78b42ed-54d6-49fb-a844-b4245eb9a004"
      },
      "execution_count": 128,
      "outputs": [
        {
          "output_type": "execute_result",
          "data": {
            "text/plain": [
              "0       20.0\n",
              "1       60.0\n",
              "2    12020.0\n",
              "dtype: float64"
            ]
          },
          "metadata": {},
          "execution_count": 128
        }
      ]
    },
    {
      "cell_type": "markdown",
      "source": [
        "> Code di atas merupakan code untuk melihat central tendency dari data pembuangan sampah di tempat pembuangan sampah TDS LANDFILL yang telah dikeluarkan atau didrop outliernya. Sehingga dari hasil di atas dapat di bandingkan central tendency data pembuangan sampah di tempat pembuangan sampah TDS LANDFILL sebelum dan sesudah dikeluarkan outliernya. Berikut perbandingannya:\n",
        "\n",
        "> **Sebelum dikeluarkan outliernya**\n",
        "\n",
        "> Mean : 15169.41\n",
        "\n",
        "> Median : 14920.0\n",
        "\n",
        "> Modus : \n",
        "- 20.0\n",
        "- 60.0\n",
        "- 12020.0\n",
        "\n",
        "> **Setelah dikeluarkan outliernya**\n",
        "\n",
        "> Mean : 15094.6\n",
        "\n",
        "> Median : 14920.0\n",
        "\n",
        "> Modus :  \n",
        "- 20.0\n",
        "- 60.0\n",
        "- 12020.0"
      ],
      "metadata": {
        "id": "h-iF3zEQ3f2C"
      }
    },
    {
      "cell_type": "markdown",
      "source": [
        "> Dari hasil perbandingan central tendency di atas, diketahui bahwa terdapat perbedaan nilai rata - rata data pembuangan sampah di tempat pembuangan sampah TDS LANDFILL sebelum dan sesudah dikeluarkan outliernya, hal ini di sebabkan karena terjadinya pengurangan data pada data pembuangan sampah di tempat pembuangan sampah TDS LANDFILL yang telah dikeluarkan outliernya"
      ],
      "metadata": {
        "id": "hT-CU5LELgir"
      }
    },
    {
      "cell_type": "markdown",
      "source": [
        "### 6. Gunakan site yang telah kamu pilih untuk dihitung range, variance, dan standar deviasi untuk data load_weight. Berikan insight dari hasil perhitunganmu kepada pemerintah kota (Pastikan data yang digunakan adalah data yang sudah dibersihkan dari outlier)."
      ],
      "metadata": {
        "id": "a2VuTaPTLRm0"
      }
    },
    {
      "cell_type": "code",
      "source": [
        "New2_df"
      ],
      "metadata": {
        "colab": {
          "base_uri": "https://localhost:8080/",
          "height": 424
        },
        "id": "32AFMiF5X3Op",
        "outputId": "4848a4b8-cc60-43e4-c2bf-aafb13779a58"
      },
      "execution_count": 129,
      "outputs": [
        {
          "output_type": "execute_result",
          "data": {
            "text/plain": [
              "       index report_date                load_time            load_type  \\\n",
              "0         16  2021-01-02  2021-01-02 02:16:00 UTC                 BULK   \n",
              "1         48  2021-01-02  2021-01-02 03:04:00 UTC  GARBAGE COLLECTIONS   \n",
              "2         49  2021-01-02  2021-01-02 03:41:00 UTC  GARBAGE COLLECTIONS   \n",
              "3         50  2021-01-02  2021-01-02 03:31:00 UTC  GARBAGE COLLECTIONS   \n",
              "4         51  2021-01-02  2021-01-02 03:52:00 UTC  GARBAGE COLLECTIONS   \n",
              "...      ...         ...                      ...                  ...   \n",
              "10686  26054  2021-07-08  2021-07-09 12:00:00 UTC  GARBAGE COLLECTIONS   \n",
              "10687  26053  2021-07-08  2021-07-08 12:47:00 UTC  GARBAGE COLLECTIONS   \n",
              "10688  26059  2021-07-08  2021-07-08 12:51:00 UTC  GARBAGE COLLECTIONS   \n",
              "10689  26155  2021-07-09  2021-07-09 12:00:00 UTC               LITTER   \n",
              "10690  26156  2021-07-09  2021-07-09 12:00:00 UTC               LITTER   \n",
              "\n",
              "       load_weight  dropoff_site  \n",
              "0          12480.0  TDS LANDFILL  \n",
              "1          26540.0  TDS LANDFILL  \n",
              "2          24600.0  TDS LANDFILL  \n",
              "3          31620.0  TDS LANDFILL  \n",
              "4          21720.0  TDS LANDFILL  \n",
              "...            ...           ...  \n",
              "10686      23060.0  TDS LANDFILL  \n",
              "10687      18320.0  TDS LANDFILL  \n",
              "10688      22480.0  TDS LANDFILL  \n",
              "10689       1900.0  TDS LANDFILL  \n",
              "10690       3040.0  TDS LANDFILL  \n",
              "\n",
              "[10684 rows x 6 columns]"
            ],
            "text/html": [
              "\n",
              "  <div id=\"df-44fd2491-2a12-4f65-8127-10ee3944e2ab\">\n",
              "    <div class=\"colab-df-container\">\n",
              "      <div>\n",
              "<style scoped>\n",
              "    .dataframe tbody tr th:only-of-type {\n",
              "        vertical-align: middle;\n",
              "    }\n",
              "\n",
              "    .dataframe tbody tr th {\n",
              "        vertical-align: top;\n",
              "    }\n",
              "\n",
              "    .dataframe thead th {\n",
              "        text-align: right;\n",
              "    }\n",
              "</style>\n",
              "<table border=\"1\" class=\"dataframe\">\n",
              "  <thead>\n",
              "    <tr style=\"text-align: right;\">\n",
              "      <th></th>\n",
              "      <th>index</th>\n",
              "      <th>report_date</th>\n",
              "      <th>load_time</th>\n",
              "      <th>load_type</th>\n",
              "      <th>load_weight</th>\n",
              "      <th>dropoff_site</th>\n",
              "    </tr>\n",
              "  </thead>\n",
              "  <tbody>\n",
              "    <tr>\n",
              "      <th>0</th>\n",
              "      <td>16</td>\n",
              "      <td>2021-01-02</td>\n",
              "      <td>2021-01-02 02:16:00 UTC</td>\n",
              "      <td>BULK</td>\n",
              "      <td>12480.0</td>\n",
              "      <td>TDS LANDFILL</td>\n",
              "    </tr>\n",
              "    <tr>\n",
              "      <th>1</th>\n",
              "      <td>48</td>\n",
              "      <td>2021-01-02</td>\n",
              "      <td>2021-01-02 03:04:00 UTC</td>\n",
              "      <td>GARBAGE COLLECTIONS</td>\n",
              "      <td>26540.0</td>\n",
              "      <td>TDS LANDFILL</td>\n",
              "    </tr>\n",
              "    <tr>\n",
              "      <th>2</th>\n",
              "      <td>49</td>\n",
              "      <td>2021-01-02</td>\n",
              "      <td>2021-01-02 03:41:00 UTC</td>\n",
              "      <td>GARBAGE COLLECTIONS</td>\n",
              "      <td>24600.0</td>\n",
              "      <td>TDS LANDFILL</td>\n",
              "    </tr>\n",
              "    <tr>\n",
              "      <th>3</th>\n",
              "      <td>50</td>\n",
              "      <td>2021-01-02</td>\n",
              "      <td>2021-01-02 03:31:00 UTC</td>\n",
              "      <td>GARBAGE COLLECTIONS</td>\n",
              "      <td>31620.0</td>\n",
              "      <td>TDS LANDFILL</td>\n",
              "    </tr>\n",
              "    <tr>\n",
              "      <th>4</th>\n",
              "      <td>51</td>\n",
              "      <td>2021-01-02</td>\n",
              "      <td>2021-01-02 03:52:00 UTC</td>\n",
              "      <td>GARBAGE COLLECTIONS</td>\n",
              "      <td>21720.0</td>\n",
              "      <td>TDS LANDFILL</td>\n",
              "    </tr>\n",
              "    <tr>\n",
              "      <th>...</th>\n",
              "      <td>...</td>\n",
              "      <td>...</td>\n",
              "      <td>...</td>\n",
              "      <td>...</td>\n",
              "      <td>...</td>\n",
              "      <td>...</td>\n",
              "    </tr>\n",
              "    <tr>\n",
              "      <th>10686</th>\n",
              "      <td>26054</td>\n",
              "      <td>2021-07-08</td>\n",
              "      <td>2021-07-09 12:00:00 UTC</td>\n",
              "      <td>GARBAGE COLLECTIONS</td>\n",
              "      <td>23060.0</td>\n",
              "      <td>TDS LANDFILL</td>\n",
              "    </tr>\n",
              "    <tr>\n",
              "      <th>10687</th>\n",
              "      <td>26053</td>\n",
              "      <td>2021-07-08</td>\n",
              "      <td>2021-07-08 12:47:00 UTC</td>\n",
              "      <td>GARBAGE COLLECTIONS</td>\n",
              "      <td>18320.0</td>\n",
              "      <td>TDS LANDFILL</td>\n",
              "    </tr>\n",
              "    <tr>\n",
              "      <th>10688</th>\n",
              "      <td>26059</td>\n",
              "      <td>2021-07-08</td>\n",
              "      <td>2021-07-08 12:51:00 UTC</td>\n",
              "      <td>GARBAGE COLLECTIONS</td>\n",
              "      <td>22480.0</td>\n",
              "      <td>TDS LANDFILL</td>\n",
              "    </tr>\n",
              "    <tr>\n",
              "      <th>10689</th>\n",
              "      <td>26155</td>\n",
              "      <td>2021-07-09</td>\n",
              "      <td>2021-07-09 12:00:00 UTC</td>\n",
              "      <td>LITTER</td>\n",
              "      <td>1900.0</td>\n",
              "      <td>TDS LANDFILL</td>\n",
              "    </tr>\n",
              "    <tr>\n",
              "      <th>10690</th>\n",
              "      <td>26156</td>\n",
              "      <td>2021-07-09</td>\n",
              "      <td>2021-07-09 12:00:00 UTC</td>\n",
              "      <td>LITTER</td>\n",
              "      <td>3040.0</td>\n",
              "      <td>TDS LANDFILL</td>\n",
              "    </tr>\n",
              "  </tbody>\n",
              "</table>\n",
              "<p>10684 rows × 6 columns</p>\n",
              "</div>\n",
              "      <button class=\"colab-df-convert\" onclick=\"convertToInteractive('df-44fd2491-2a12-4f65-8127-10ee3944e2ab')\"\n",
              "              title=\"Convert this dataframe to an interactive table.\"\n",
              "              style=\"display:none;\">\n",
              "        \n",
              "  <svg xmlns=\"http://www.w3.org/2000/svg\" height=\"24px\"viewBox=\"0 0 24 24\"\n",
              "       width=\"24px\">\n",
              "    <path d=\"M0 0h24v24H0V0z\" fill=\"none\"/>\n",
              "    <path d=\"M18.56 5.44l.94 2.06.94-2.06 2.06-.94-2.06-.94-.94-2.06-.94 2.06-2.06.94zm-11 1L8.5 8.5l.94-2.06 2.06-.94-2.06-.94L8.5 2.5l-.94 2.06-2.06.94zm10 10l.94 2.06.94-2.06 2.06-.94-2.06-.94-.94-2.06-.94 2.06-2.06.94z\"/><path d=\"M17.41 7.96l-1.37-1.37c-.4-.4-.92-.59-1.43-.59-.52 0-1.04.2-1.43.59L10.3 9.45l-7.72 7.72c-.78.78-.78 2.05 0 2.83L4 21.41c.39.39.9.59 1.41.59.51 0 1.02-.2 1.41-.59l7.78-7.78 2.81-2.81c.8-.78.8-2.07 0-2.86zM5.41 20L4 18.59l7.72-7.72 1.47 1.35L5.41 20z\"/>\n",
              "  </svg>\n",
              "      </button>\n",
              "      \n",
              "  <style>\n",
              "    .colab-df-container {\n",
              "      display:flex;\n",
              "      flex-wrap:wrap;\n",
              "      gap: 12px;\n",
              "    }\n",
              "\n",
              "    .colab-df-convert {\n",
              "      background-color: #E8F0FE;\n",
              "      border: none;\n",
              "      border-radius: 50%;\n",
              "      cursor: pointer;\n",
              "      display: none;\n",
              "      fill: #1967D2;\n",
              "      height: 32px;\n",
              "      padding: 0 0 0 0;\n",
              "      width: 32px;\n",
              "    }\n",
              "\n",
              "    .colab-df-convert:hover {\n",
              "      background-color: #E2EBFA;\n",
              "      box-shadow: 0px 1px 2px rgba(60, 64, 67, 0.3), 0px 1px 3px 1px rgba(60, 64, 67, 0.15);\n",
              "      fill: #174EA6;\n",
              "    }\n",
              "\n",
              "    [theme=dark] .colab-df-convert {\n",
              "      background-color: #3B4455;\n",
              "      fill: #D2E3FC;\n",
              "    }\n",
              "\n",
              "    [theme=dark] .colab-df-convert:hover {\n",
              "      background-color: #434B5C;\n",
              "      box-shadow: 0px 1px 3px 1px rgba(0, 0, 0, 0.15);\n",
              "      filter: drop-shadow(0px 1px 2px rgba(0, 0, 0, 0.3));\n",
              "      fill: #FFFFFF;\n",
              "    }\n",
              "  </style>\n",
              "\n",
              "      <script>\n",
              "        const buttonEl =\n",
              "          document.querySelector('#df-44fd2491-2a12-4f65-8127-10ee3944e2ab button.colab-df-convert');\n",
              "        buttonEl.style.display =\n",
              "          google.colab.kernel.accessAllowed ? 'block' : 'none';\n",
              "\n",
              "        async function convertToInteractive(key) {\n",
              "          const element = document.querySelector('#df-44fd2491-2a12-4f65-8127-10ee3944e2ab');\n",
              "          const dataTable =\n",
              "            await google.colab.kernel.invokeFunction('convertToInteractive',\n",
              "                                                     [key], {});\n",
              "          if (!dataTable) return;\n",
              "\n",
              "          const docLinkHtml = 'Like what you see? Visit the ' +\n",
              "            '<a target=\"_blank\" href=https://colab.research.google.com/notebooks/data_table.ipynb>data table notebook</a>'\n",
              "            + ' to learn more about interactive tables.';\n",
              "          element.innerHTML = '';\n",
              "          dataTable['output_type'] = 'display_data';\n",
              "          await google.colab.output.renderOutput(dataTable, element);\n",
              "          const docLink = document.createElement('div');\n",
              "          docLink.innerHTML = docLinkHtml;\n",
              "          element.appendChild(docLink);\n",
              "        }\n",
              "      </script>\n",
              "    </div>\n",
              "  </div>\n",
              "  "
            ]
          },
          "metadata": {},
          "execution_count": 129
        }
      ]
    },
    {
      "cell_type": "code",
      "source": [
        "New2_df['load_weight'].min()"
      ],
      "metadata": {
        "colab": {
          "base_uri": "https://localhost:8080/"
        },
        "id": "z3HJLm46lnYL",
        "outputId": "aae503e7-39ac-4dc0-e94f-c1847a508a7e"
      },
      "execution_count": 130,
      "outputs": [
        {
          "output_type": "execute_result",
          "data": {
            "text/plain": [
              "0.0"
            ]
          },
          "metadata": {},
          "execution_count": 130
        }
      ]
    },
    {
      "cell_type": "code",
      "source": [
        "New2_df['load_weight'].max()"
      ],
      "metadata": {
        "colab": {
          "base_uri": "https://localhost:8080/"
        },
        "id": "VNaH2u86lhWT",
        "outputId": "608ae9fe-50ee-45d3-ed90-e34fab58ee7a"
      },
      "execution_count": 131,
      "outputs": [
        {
          "output_type": "execute_result",
          "data": {
            "text/plain": [
              "35900.0"
            ]
          },
          "metadata": {},
          "execution_count": 131
        }
      ]
    },
    {
      "cell_type": "code",
      "source": [
        "range = New2_df['load_weight'].max() - New2_df['load_weight'].min()\n",
        "range"
      ],
      "metadata": {
        "colab": {
          "base_uri": "https://localhost:8080/"
        },
        "id": "WEllyeuLYlxK",
        "outputId": "0eb75338-229c-48ff-85e9-b38e96327ba5"
      },
      "execution_count": 132,
      "outputs": [
        {
          "output_type": "execute_result",
          "data": {
            "text/plain": [
              "35900.0"
            ]
          },
          "metadata": {},
          "execution_count": 132
        }
      ]
    },
    {
      "cell_type": "markdown",
      "source": [
        "> Code di atas merupakan code untuk mencari nilai range pada data pembuangan sampah di tempat pembuangan sampah TDS LANDFILL yang telah dikeluarkan outliernya. Dari hasil di atas peroleh nilai range sebesar 35900.0, yang di peroleh dari perbedaan antara nilai terbesar dan terkecil pada data pembuangan sampah di tempat pembuangan sampah TDS LANDFILL yang telah dikeluarkan outliernya.\n",
        "\n",
        "> Sehingga dapat disimpulkan bahwa pada data pembuangan sampah di tempat pembuangan sampah TDS LANDFILL yang telah dikeluarkan outliernya memiliki nilai range yang sangat besar yang berartikan fluktuasi penyebaran data sangat besar "
      ],
      "metadata": {
        "id": "TkHj2Gj0R2qY"
      }
    },
    {
      "cell_type": "code",
      "source": [
        "variance = New2_df['load_weight'].var()\n",
        "variance"
      ],
      "metadata": {
        "colab": {
          "base_uri": "https://localhost:8080/"
        },
        "id": "9A8GmcPuf-0h",
        "outputId": "d2ef185a-d857-436f-cce8-e14726488cc9"
      },
      "execution_count": 133,
      "outputs": [
        {
          "output_type": "execute_result",
          "data": {
            "text/plain": [
              "61689203.067723714"
            ]
          },
          "metadata": {},
          "execution_count": 133
        }
      ]
    },
    {
      "cell_type": "markdown",
      "source": [
        "> Code di atas merupakan code untuk mencari nilai varian pada data pembuangan sampah di tempat pembuangan sampah TDS LANDFILL yang telah dikeluarkan outliernya. Dari hasil di atas peroleh nilai varian sebesar 61689203.06\n",
        "\n",
        "> Varians adalah ukuran dari seberapa jauh penyebaran data dari nilai rata-ratanya. Semakin besar nilai varians, semakin jauh data yang kita gunakan tersebar dari nilai rata-ratanya.\n",
        "\n",
        "> Sehingga dapat disimpulkan bahwa pada data pembuangan sampah di tempat pembuangan sampah TDS LANDFILL yang telah dikeluarkan outliernya memiliki nilai varians yang sangat besar yang berartikan penyebaran data menjauh dari rata - ratanya"
      ],
      "metadata": {
        "id": "7nr2onChW-TH"
      }
    },
    {
      "cell_type": "code",
      "source": [
        "standar_deviasi = New2_df['load_weight'].std()\n",
        "standar_deviasi"
      ],
      "metadata": {
        "colab": {
          "base_uri": "https://localhost:8080/"
        },
        "id": "jSZ3TwzyhAkU",
        "outputId": "6beb3625-87f8-4676-90a2-6f15d9a6b6b1"
      },
      "execution_count": 134,
      "outputs": [
        {
          "output_type": "execute_result",
          "data": {
            "text/plain": [
              "7854.247453940047"
            ]
          },
          "metadata": {},
          "execution_count": 134
        }
      ]
    },
    {
      "cell_type": "markdown",
      "source": [
        "> Code di atas merupakan code untuk mencari nilai standar deviasi pada data pembuangan sampah di tempat pembuangan sampah TDS LANDFILL yang telah dikeluarkan outliernya. Dari hasil di atas peroleh nilai standar deviasi sebesar 7854.24 yang mana standar deviasi adalah akar dari nilai varians.\n",
        "\n",
        "> Varians bertujuan untuk menunjukkan seberapa jauh data-data yang kita miliki tersebar dari nilai rata-ratanya. Sedangkan, standar deviasi bertujuan untuk mengukur data yang menyebar di sekitar mean.\n",
        "\n",
        "> Sehingga dapat disimpulkan bahwa pada data pembuangan sampah di tempat pembuangan sampah TDS LANDFILL yang telah dikeluarkan outliernya memiliki nilai standar deviasi sebesar 7854.24 yang berarti terdapat sebanyak 7854.24 data  yang menyebar di sekitar mean."
      ],
      "metadata": {
        "id": "mVEi-GgmbCnJ"
      }
    },
    {
      "cell_type": "markdown",
      "source": [
        "### 7. Pemerintah kota berencana menambah site baru. Berikan analisa dan saran terkait berapa kapasitas penampungan di site baru berdasarkan perhitungan confidence interval. Data apa yang kamu gunakan, apakah hanya dari satu site saja atau dari keseluruhan site?"
      ],
      "metadata": {
        "id": "q5DLajSbkT5v"
      }
    },
    {
      "cell_type": "code",
      "source": [
        "New3_df = df.groupby(['dropoff_site','report_date'])['load_weight'].sum().reset_index()\n",
        "New3_df"
      ],
      "metadata": {
        "colab": {
          "base_uri": "https://localhost:8080/",
          "height": 424
        },
        "id": "UicLGGRrLlt_",
        "outputId": "a4a47438-6d97-4217-cd4e-3399387b24bd"
      },
      "execution_count": 135,
      "outputs": [
        {
          "output_type": "execute_result",
          "data": {
            "text/plain": [
              "              dropoff_site report_date  load_weight\n",
              "0    AUSTIN IRON AND METAL  2021-01-05     2.60e+02\n",
              "1    AUSTIN IRON AND METAL  2021-01-06     2.20e+02\n",
              "2    AUSTIN IRON AND METAL  2021-01-13     6.40e+02\n",
              "3    AUSTIN IRON AND METAL  2021-01-19     8.30e+02\n",
              "4    AUSTIN IRON AND METAL  2021-02-04     1.40e+02\n",
              "..                     ...         ...          ...\n",
              "813           TDS LANDFILL  2021-07-06     1.19e+06\n",
              "814           TDS LANDFILL  2021-07-07     1.04e+06\n",
              "815           TDS LANDFILL  2021-07-08     1.03e+06\n",
              "816           TDS LANDFILL  2021-07-09     4.94e+03\n",
              "817              WESTFIELD  2021-05-20     1.60e+04\n",
              "\n",
              "[818 rows x 3 columns]"
            ],
            "text/html": [
              "\n",
              "  <div id=\"df-6cbbb9c9-86be-4a37-acbc-91dfcbf6b3a3\">\n",
              "    <div class=\"colab-df-container\">\n",
              "      <div>\n",
              "<style scoped>\n",
              "    .dataframe tbody tr th:only-of-type {\n",
              "        vertical-align: middle;\n",
              "    }\n",
              "\n",
              "    .dataframe tbody tr th {\n",
              "        vertical-align: top;\n",
              "    }\n",
              "\n",
              "    .dataframe thead th {\n",
              "        text-align: right;\n",
              "    }\n",
              "</style>\n",
              "<table border=\"1\" class=\"dataframe\">\n",
              "  <thead>\n",
              "    <tr style=\"text-align: right;\">\n",
              "      <th></th>\n",
              "      <th>dropoff_site</th>\n",
              "      <th>report_date</th>\n",
              "      <th>load_weight</th>\n",
              "    </tr>\n",
              "  </thead>\n",
              "  <tbody>\n",
              "    <tr>\n",
              "      <th>0</th>\n",
              "      <td>AUSTIN IRON AND METAL</td>\n",
              "      <td>2021-01-05</td>\n",
              "      <td>2.60e+02</td>\n",
              "    </tr>\n",
              "    <tr>\n",
              "      <th>1</th>\n",
              "      <td>AUSTIN IRON AND METAL</td>\n",
              "      <td>2021-01-06</td>\n",
              "      <td>2.20e+02</td>\n",
              "    </tr>\n",
              "    <tr>\n",
              "      <th>2</th>\n",
              "      <td>AUSTIN IRON AND METAL</td>\n",
              "      <td>2021-01-13</td>\n",
              "      <td>6.40e+02</td>\n",
              "    </tr>\n",
              "    <tr>\n",
              "      <th>3</th>\n",
              "      <td>AUSTIN IRON AND METAL</td>\n",
              "      <td>2021-01-19</td>\n",
              "      <td>8.30e+02</td>\n",
              "    </tr>\n",
              "    <tr>\n",
              "      <th>4</th>\n",
              "      <td>AUSTIN IRON AND METAL</td>\n",
              "      <td>2021-02-04</td>\n",
              "      <td>1.40e+02</td>\n",
              "    </tr>\n",
              "    <tr>\n",
              "      <th>...</th>\n",
              "      <td>...</td>\n",
              "      <td>...</td>\n",
              "      <td>...</td>\n",
              "    </tr>\n",
              "    <tr>\n",
              "      <th>813</th>\n",
              "      <td>TDS LANDFILL</td>\n",
              "      <td>2021-07-06</td>\n",
              "      <td>1.19e+06</td>\n",
              "    </tr>\n",
              "    <tr>\n",
              "      <th>814</th>\n",
              "      <td>TDS LANDFILL</td>\n",
              "      <td>2021-07-07</td>\n",
              "      <td>1.04e+06</td>\n",
              "    </tr>\n",
              "    <tr>\n",
              "      <th>815</th>\n",
              "      <td>TDS LANDFILL</td>\n",
              "      <td>2021-07-08</td>\n",
              "      <td>1.03e+06</td>\n",
              "    </tr>\n",
              "    <tr>\n",
              "      <th>816</th>\n",
              "      <td>TDS LANDFILL</td>\n",
              "      <td>2021-07-09</td>\n",
              "      <td>4.94e+03</td>\n",
              "    </tr>\n",
              "    <tr>\n",
              "      <th>817</th>\n",
              "      <td>WESTFIELD</td>\n",
              "      <td>2021-05-20</td>\n",
              "      <td>1.60e+04</td>\n",
              "    </tr>\n",
              "  </tbody>\n",
              "</table>\n",
              "<p>818 rows × 3 columns</p>\n",
              "</div>\n",
              "      <button class=\"colab-df-convert\" onclick=\"convertToInteractive('df-6cbbb9c9-86be-4a37-acbc-91dfcbf6b3a3')\"\n",
              "              title=\"Convert this dataframe to an interactive table.\"\n",
              "              style=\"display:none;\">\n",
              "        \n",
              "  <svg xmlns=\"http://www.w3.org/2000/svg\" height=\"24px\"viewBox=\"0 0 24 24\"\n",
              "       width=\"24px\">\n",
              "    <path d=\"M0 0h24v24H0V0z\" fill=\"none\"/>\n",
              "    <path d=\"M18.56 5.44l.94 2.06.94-2.06 2.06-.94-2.06-.94-.94-2.06-.94 2.06-2.06.94zm-11 1L8.5 8.5l.94-2.06 2.06-.94-2.06-.94L8.5 2.5l-.94 2.06-2.06.94zm10 10l.94 2.06.94-2.06 2.06-.94-2.06-.94-.94-2.06-.94 2.06-2.06.94z\"/><path d=\"M17.41 7.96l-1.37-1.37c-.4-.4-.92-.59-1.43-.59-.52 0-1.04.2-1.43.59L10.3 9.45l-7.72 7.72c-.78.78-.78 2.05 0 2.83L4 21.41c.39.39.9.59 1.41.59.51 0 1.02-.2 1.41-.59l7.78-7.78 2.81-2.81c.8-.78.8-2.07 0-2.86zM5.41 20L4 18.59l7.72-7.72 1.47 1.35L5.41 20z\"/>\n",
              "  </svg>\n",
              "      </button>\n",
              "      \n",
              "  <style>\n",
              "    .colab-df-container {\n",
              "      display:flex;\n",
              "      flex-wrap:wrap;\n",
              "      gap: 12px;\n",
              "    }\n",
              "\n",
              "    .colab-df-convert {\n",
              "      background-color: #E8F0FE;\n",
              "      border: none;\n",
              "      border-radius: 50%;\n",
              "      cursor: pointer;\n",
              "      display: none;\n",
              "      fill: #1967D2;\n",
              "      height: 32px;\n",
              "      padding: 0 0 0 0;\n",
              "      width: 32px;\n",
              "    }\n",
              "\n",
              "    .colab-df-convert:hover {\n",
              "      background-color: #E2EBFA;\n",
              "      box-shadow: 0px 1px 2px rgba(60, 64, 67, 0.3), 0px 1px 3px 1px rgba(60, 64, 67, 0.15);\n",
              "      fill: #174EA6;\n",
              "    }\n",
              "\n",
              "    [theme=dark] .colab-df-convert {\n",
              "      background-color: #3B4455;\n",
              "      fill: #D2E3FC;\n",
              "    }\n",
              "\n",
              "    [theme=dark] .colab-df-convert:hover {\n",
              "      background-color: #434B5C;\n",
              "      box-shadow: 0px 1px 3px 1px rgba(0, 0, 0, 0.15);\n",
              "      filter: drop-shadow(0px 1px 2px rgba(0, 0, 0, 0.3));\n",
              "      fill: #FFFFFF;\n",
              "    }\n",
              "  </style>\n",
              "\n",
              "      <script>\n",
              "        const buttonEl =\n",
              "          document.querySelector('#df-6cbbb9c9-86be-4a37-acbc-91dfcbf6b3a3 button.colab-df-convert');\n",
              "        buttonEl.style.display =\n",
              "          google.colab.kernel.accessAllowed ? 'block' : 'none';\n",
              "\n",
              "        async function convertToInteractive(key) {\n",
              "          const element = document.querySelector('#df-6cbbb9c9-86be-4a37-acbc-91dfcbf6b3a3');\n",
              "          const dataTable =\n",
              "            await google.colab.kernel.invokeFunction('convertToInteractive',\n",
              "                                                     [key], {});\n",
              "          if (!dataTable) return;\n",
              "\n",
              "          const docLinkHtml = 'Like what you see? Visit the ' +\n",
              "            '<a target=\"_blank\" href=https://colab.research.google.com/notebooks/data_table.ipynb>data table notebook</a>'\n",
              "            + ' to learn more about interactive tables.';\n",
              "          element.innerHTML = '';\n",
              "          dataTable['output_type'] = 'display_data';\n",
              "          await google.colab.output.renderOutput(dataTable, element);\n",
              "          const docLink = document.createElement('div');\n",
              "          docLink.innerHTML = docLinkHtml;\n",
              "          element.appendChild(docLink);\n",
              "        }\n",
              "      </script>\n",
              "    </div>\n",
              "  </div>\n",
              "  "
            ]
          },
          "metadata": {},
          "execution_count": 135
        }
      ]
    },
    {
      "cell_type": "code",
      "source": [
        "confidence_interval = stats.norm.interval(0.95, New3_df.load_weight.mean(), New3_df.load_weight.std())\n",
        "confidence_interval"
      ],
      "metadata": {
        "colab": {
          "base_uri": "https://localhost:8080/"
        },
        "id": "lvQHl0X9kaHF",
        "outputId": "e94a82d8-6108-479d-e855-ee5edba2ab7c"
      },
      "execution_count": 136,
      "outputs": [
        {
          "output_type": "execute_result",
          "data": {
            "text/plain": [
              "(-508621.64367672184, 1259260.190227822)"
            ]
          },
          "metadata": {},
          "execution_count": 136
        }
      ]
    },
    {
      "cell_type": "markdown",
      "source": [
        "> Code di atas merupakan code untuk melihat confidence interval dari data pembuangan sampah setiap harinya. Confidence interval di atas diperoleh dari data pembuangan sampah di setiap site pada setiap harinya, yang mana dari hasil di atas diperoleh nilai lower bound dan upper bound sebesar -508621.64 dan 1259260.19 dengan confidence level sebesar 95% yang berarti rata -rata berat sampah di setiap site setiap harinya berkisaran pada -508621.64 sampai 1259260.19\n",
        "\n",
        "> Sehingga berdasarkan hasil analisa di atas, kita dapat memberikan masukan atau saran kepada pemerintah, apabila ingin menambah site baru, harus memiliki kapasitas lebih dari 1259260.19 kg untuk tiap harinya\n",
        "\n",
        "> Data yang saya gunakan adalah data keseluruhan site, yang sudah di grouping menjadi perhari di setiap sitenya"
      ],
      "metadata": {
        "id": "phBrq8MpkSt2"
      }
    },
    {
      "cell_type": "markdown",
      "source": [
        "### 8. Buatlah analisa uji hipotesis dari data tersebut dari data yang tersedia (kasusnya dibebaskan). Definisikan H0 dan H1 nya serta lakukan perhitungan menggunakan t-test yang sesuai dengan hipotesis kamu. Tulis kesimpulan dari hasil perhitunganmu kepada pemerintah kota (Ingat! pemerintah kota tidak mengerti p-value, hipotesis diterima/tidak diterima, jadi gunakan bahasa yang lebih manusiawi!)."
      ],
      "metadata": {
        "id": "Bnwuf9iO8axp"
      }
    },
    {
      "cell_type": "markdown",
      "source": [
        "> Kasus yang saya ambil adalah, melihat apakah rata - rata berat sampah di dua tempat pembuangan sampah berbeda memiliki nilai yang signifikan atau tidak signifikan. Tempat pembuangan sampah yang digunakan yaitu TDS LANDFILL dan ORGANICS BY GOSH. Serta uji yang digunakan adalah uji t-test dua sampel independent dua arah. "
      ],
      "metadata": {
        "id": "f5VLA44Mo5TG"
      }
    },
    {
      "cell_type": "markdown",
      "source": [
        "**Hipotesis**\n",
        "\n",
        "**H0: μ_TDS_LANDFILL = μ_ORGANICS_BY_GOSH**\n",
        "\n",
        "**H1: μ_TDS_LANDFILL != μ_ORGANICS_BY_GOSH**"
      ],
      "metadata": {
        "id": "O4L8W9RwAkpg"
      }
    },
    {
      "cell_type": "code",
      "source": [
        "df_TDS_LANDFILL = df[df['dropoff_site']=='TDS LANDFILL'][['report_date','load_weight']].groupby('report_date').sum()\n",
        "df_ORGANICS_BY_GOSH = df[df['dropoff_site']=='ORGANICS BY GOSH'][['report_date','load_weight']].groupby('report_date').sum()\n",
        "\n",
        "print('Average load weight of TDS LANDFILL a day: ${}'.format(np.round(df_TDS_LANDFILL.load_weight.mean())))\n",
        "print('Average load weight of ORGANICS BY GOSH a day: ${}'.format(np.round(df_ORGANICS_BY_GOSH.load_weight.mean())))"
      ],
      "metadata": {
        "colab": {
          "base_uri": "https://localhost:8080/"
        },
        "id": "bQwQW6sZ8h4E",
        "outputId": "4e4ac0d0-b70a-42e5-abce-05f1468011dd"
      },
      "execution_count": 137,
      "outputs": [
        {
          "output_type": "stream",
          "name": "stdout",
          "text": [
            "Average load weight of TDS LANDFILL a day: $1007305.0\n",
            "Average load weight of ORGANICS BY GOSH a day: $455368.0\n"
          ]
        }
      ]
    },
    {
      "cell_type": "code",
      "source": [
        "t_stat, p_val = stats.ttest_ind(df_TDS_LANDFILL,df_ORGANICS_BY_GOSH)\n",
        "print('P-value:',p_val[0])\n",
        "print('t-statistics:',t_stat[0])"
      ],
      "metadata": {
        "colab": {
          "base_uri": "https://localhost:8080/"
        },
        "id": "W2AuUuszN48w",
        "outputId": "2b70e150-c82c-4088-92bc-cdc91fd0d284"
      },
      "execution_count": 138,
      "outputs": [
        {
          "output_type": "stream",
          "name": "stdout",
          "text": [
            "P-value: 1.6663852274235998e-26\n",
            "t-statistics: 11.726600268402185\n"
          ]
        }
      ]
    },
    {
      "cell_type": "code",
      "source": [
        "TDS_LANDFILL_pop = np.random.normal(df_TDS_LANDFILL.load_weight.mean(),df_TDS_LANDFILL.load_weight.std(),10000)\n",
        "ORGANICS_BY_GOSH_pop = np.random.normal(df_ORGANICS_BY_GOSH.load_weight.mean(),df_ORGANICS_BY_GOSH.load_weight.std(),10000)\n",
        "\n",
        "ci = stats.norm.interval(0.90, df_TDS_LANDFILL.load_weight.mean(), df_TDS_LANDFILL.load_weight.std())\n",
        "plt.figure(figsize=(16,5))\n",
        "sns.distplot(TDS_LANDFILL_pop, label='TDS LANDFILL Average load weight a Day *Pop',color='green')\n",
        "sns.distplot(ORGANICS_BY_GOSH_pop, label='ORGANICS BY GOSH Average load weight a Day *Pop',color='yellow')\n",
        "\n",
        "plt.axvline(df_TDS_LANDFILL.load_weight.mean(), color='green', linewidth=2, label='TDS LANDFILL mean')\n",
        "plt.axvline(df_ORGANICS_BY_GOSH.load_weight.mean(), color='yellow',  linewidth=2, label='ORGANICS BY GOSH mean')\n",
        "\n",
        "plt.axvline(ci[1], color='red', linestyle='dashed', linewidth=2, label='confidence threshold of 90%')\n",
        "plt.axvline(ci[0], color='red', linestyle='dashed', linewidth=2)\n",
        "\n",
        "plt.axvline(TDS_LANDFILL_pop.mean()+t_stat[0]*TDS_LANDFILL_pop.std(), color='black', linestyle='dashed', linewidth=2, label = 'Alternative Hypothesis')\n",
        "plt.axvline(TDS_LANDFILL_pop.mean()-t_stat[0]*TDS_LANDFILL_pop.std(), color='black', linestyle='dashed', linewidth=2)\n",
        "\n",
        "plt.legend()"
      ],
      "metadata": {
        "colab": {
          "base_uri": "https://localhost:8080/",
          "height": 451
        },
        "id": "K5FfjBp5PINI",
        "outputId": "044a9c2f-2d49-4110-93e5-d79049f69ad9"
      },
      "execution_count": 139,
      "outputs": [
        {
          "output_type": "stream",
          "name": "stderr",
          "text": [
            "/usr/local/lib/python3.7/dist-packages/seaborn/distributions.py:2619: FutureWarning: `distplot` is a deprecated function and will be removed in a future version. Please adapt your code to use either `displot` (a figure-level function with similar flexibility) or `histplot` (an axes-level function for histograms).\n",
            "  warnings.warn(msg, FutureWarning)\n",
            "/usr/local/lib/python3.7/dist-packages/seaborn/distributions.py:2619: FutureWarning: `distplot` is a deprecated function and will be removed in a future version. Please adapt your code to use either `displot` (a figure-level function with similar flexibility) or `histplot` (an axes-level function for histograms).\n",
            "  warnings.warn(msg, FutureWarning)\n"
          ]
        },
        {
          "output_type": "execute_result",
          "data": {
            "text/plain": [
              "<matplotlib.legend.Legend at 0x7ff6654a7490>"
            ]
          },
          "metadata": {},
          "execution_count": 139
        },
        {
          "output_type": "display_data",
          "data": {
            "text/plain": [
              "<Figure size 1152x360 with 1 Axes>"
            ],
            "image/png": "[encoded data removed]"
          },
          "metadata": {
            "needs_background": "light"
          }
        }
      ]
    },
    {
      "cell_type": "markdown",
      "source": [
        "> Dari hasil code di atas, didapatkan nilai p-value atau nilai probability sampel rata - rata yang diperoleh bukan secara kebetulan yaitu sebesar 1.6663852274235998e-26. Pada code di atas juga saya menggunakan confidence level sebesar 95% atau alpa sebesar 5%\n",
        "\n",
        "> Berdasarka hasil di atas diketahui bahwa p-value < alpa, yang berarti tolak H0. Sehingga dapat kesimpulan bahwa ada perbedaan signifikan antara rata - rata berat sampah di tempat pembuangan sampah TDS LANDFILL dengan tempat pembuangan sampah ORGANICS BY GOSH."
      ],
      "metadata": {
        "id": "pdvjob9EsPdp"
      }
    },
    {
      "cell_type": "markdown",
      "source": [
        "### **Question**"
      ],
      "metadata": {
        "id": "dKZb4qVh5_mo"
      }
    },
    {
      "cell_type": "markdown",
      "source": [
        "#### 1.Teknik apa yang kamu pilih untuk handling outlier? jelaskan alasannya!"
      ],
      "metadata": {
        "id": "wYF9tgJu6gyw"
      }
    },
    {
      "cell_type": "markdown",
      "source": [
        "> Teknik yang saya pilih adalah Tukey, karna data yang saya miliki berdistribusi skew ke kanan, sehingga untuk handling outlier menggunkan tukey"
      ],
      "metadata": {
        "id": "U4RLHt3Z6pqs"
      }
    },
    {
      "cell_type": "markdown",
      "source": [
        "#### 2. Apa konsep dibalik confidence interval sehingga kita dapat menggunakannya untuk menyelesaikan langkah pada nomor 7?"
      ],
      "metadata": {
        "id": "4g7_1JFx6qap"
      }
    },
    {
      "cell_type": "markdown",
      "source": [
        "> Confidence interval di peroleh dari menentukan confidence level sehingga didapatkan nilai lower bound dan upper bound yang merupakan nilai confidence interval, nilai lower bound dan upper bound merupakan nilai interval rata - rata yang diperoleh."
      ],
      "metadata": {
        "id": "tVcMIeM760g7"
      }
    },
    {
      "cell_type": "markdown",
      "source": [
        "#### 3. Jelaskan jenis uji hipotesis apa yang kamu terapkan dan mengapa?"
      ],
      "metadata": {
        "id": "A8Azgx-962bJ"
      }
    },
    {
      "cell_type": "markdown",
      "source": [
        "> Jenis uji hipotesis yang saya gunakan adalah uji t-test dua sampel independent dua arah, karna saya menggunakan dua data sampel yang saling bebas dan dua arah. "
      ],
      "metadata": {
        "id": "nGE3ml5u7H9k"
      }
    },
    {
      "cell_type": "markdown",
      "source": [
        "## **Problem 2 (Math/Calculus)**"
      ],
      "metadata": {
        "id": "_y72njJWmPXc"
      }
    },
    {
      "cell_type": "code",
      "source": [
        "df"
      ],
      "metadata": {
        "colab": {
          "base_uri": "https://localhost:8080/",
          "height": 424
        },
        "id": "mpfnENbvmSsN",
        "outputId": "490699ac-2789-4d73-fa23-7ca411980d40"
      },
      "execution_count": 140,
      "outputs": [
        {
          "output_type": "execute_result",
          "data": {
            "text/plain": [
              "      report_date                load_time                  load_type  \\\n",
              "4      2021-01-02  2021-01-02 09:24:00 UTC                      TIRES   \n",
              "5      2021-01-02  2021-01-02 11:47:00 UTC                      TIRES   \n",
              "6      2021-01-02  2021-01-02 12:00:00 UTC  RECYCLING - SINGLE STREAM   \n",
              "7      2021-01-02  2021-01-02 09:02:00 UTC  RECYCLING - SINGLE STREAM   \n",
              "11     2021-01-02  2021-01-02 05:44:00 UTC              YARD TRIMMING   \n",
              "...           ...                      ...                        ...   \n",
              "26152  2021-07-09  2021-07-09 09:48:00 UTC                      BRUSH   \n",
              "26153  2021-07-09  2021-07-09 12:02:00 UTC                      BRUSH   \n",
              "26154  2021-07-09  2021-07-09 11:55:00 UTC                      BRUSH   \n",
              "26155  2021-07-09  2021-07-09 12:00:00 UTC                     LITTER   \n",
              "26156  2021-07-09  2021-07-09 12:00:00 UTC                     LITTER   \n",
              "\n",
              "       load_weight  dropoff_site  \n",
              "4           1640.0           MRF  \n",
              "5            940.0           MRF  \n",
              "6            320.0     TDS - MRF  \n",
              "7            520.0     TDS - MRF  \n",
              "11         17660.0  HORNSBY BEND  \n",
              "...            ...           ...  \n",
              "26152       8240.0  HORNSBY BEND  \n",
              "26153       4160.0  HORNSBY BEND  \n",
              "26154       4340.0  HORNSBY BEND  \n",
              "26155       1900.0  TDS LANDFILL  \n",
              "26156       3040.0  TDS LANDFILL  \n",
              "\n",
              "[25109 rows x 5 columns]"
            ],
            "text/html": [
              "\n",
              "  <div id=\"df-dc858f01-a533-4c01-9c06-8879d78115cc\">\n",
              "    <div class=\"colab-df-container\">\n",
              "      <div>\n",
              "<style scoped>\n",
              "    .dataframe tbody tr th:only-of-type {\n",
              "        vertical-align: middle;\n",
              "    }\n",
              "\n",
              "    .dataframe tbody tr th {\n",
              "        vertical-align: top;\n",
              "    }\n",
              "\n",
              "    .dataframe thead th {\n",
              "        text-align: right;\n",
              "    }\n",
              "</style>\n",
              "<table border=\"1\" class=\"dataframe\">\n",
              "  <thead>\n",
              "    <tr style=\"text-align: right;\">\n",
              "      <th></th>\n",
              "      <th>report_date</th>\n",
              "      <th>load_time</th>\n",
              "      <th>load_type</th>\n",
              "      <th>load_weight</th>\n",
              "      <th>dropoff_site</th>\n",
              "    </tr>\n",
              "  </thead>\n",
              "  <tbody>\n",
              "    <tr>\n",
              "      <th>4</th>\n",
              "      <td>2021-01-02</td>\n",
              "      <td>2021-01-02 09:24:00 UTC</td>\n",
              "      <td>TIRES</td>\n",
              "      <td>1640.0</td>\n",
              "      <td>MRF</td>\n",
              "    </tr>\n",
              "    <tr>\n",
              "      <th>5</th>\n",
              "      <td>2021-01-02</td>\n",
              "      <td>2021-01-02 11:47:00 UTC</td>\n",
              "      <td>TIRES</td>\n",
              "      <td>940.0</td>\n",
              "      <td>MRF</td>\n",
              "    </tr>\n",
              "    <tr>\n",
              "      <th>6</th>\n",
              "      <td>2021-01-02</td>\n",
              "      <td>2021-01-02 12:00:00 UTC</td>\n",
              "      <td>RECYCLING - SINGLE STREAM</td>\n",
              "      <td>320.0</td>\n",
              "      <td>TDS - MRF</td>\n",
              "    </tr>\n",
              "    <tr>\n",
              "      <th>7</th>\n",
              "      <td>2021-01-02</td>\n",
              "      <td>2021-01-02 09:02:00 UTC</td>\n",
              "      <td>RECYCLING - SINGLE STREAM</td>\n",
              "      <td>520.0</td>\n",
              "      <td>TDS - MRF</td>\n",
              "    </tr>\n",
              "    <tr>\n",
              "      <th>11</th>\n",
              "      <td>2021-01-02</td>\n",
              "      <td>2021-01-02 05:44:00 UTC</td>\n",
              "      <td>YARD TRIMMING</td>\n",
              "      <td>17660.0</td>\n",
              "      <td>HORNSBY BEND</td>\n",
              "    </tr>\n",
              "    <tr>\n",
              "      <th>...</th>\n",
              "      <td>...</td>\n",
              "      <td>...</td>\n",
              "      <td>...</td>\n",
              "      <td>...</td>\n",
              "      <td>...</td>\n",
              "    </tr>\n",
              "    <tr>\n",
              "      <th>26152</th>\n",
              "      <td>2021-07-09</td>\n",
              "      <td>2021-07-09 09:48:00 UTC</td>\n",
              "      <td>BRUSH</td>\n",
              "      <td>8240.0</td>\n",
              "      <td>HORNSBY BEND</td>\n",
              "    </tr>\n",
              "    <tr>\n",
              "      <th>26153</th>\n",
              "      <td>2021-07-09</td>\n",
              "      <td>2021-07-09 12:02:00 UTC</td>\n",
              "      <td>BRUSH</td>\n",
              "      <td>4160.0</td>\n",
              "      <td>HORNSBY BEND</td>\n",
              "    </tr>\n",
              "    <tr>\n",
              "      <th>26154</th>\n",
              "      <td>2021-07-09</td>\n",
              "      <td>2021-07-09 11:55:00 UTC</td>\n",
              "      <td>BRUSH</td>\n",
              "      <td>4340.0</td>\n",
              "      <td>HORNSBY BEND</td>\n",
              "    </tr>\n",
              "    <tr>\n",
              "      <th>26155</th>\n",
              "      <td>2021-07-09</td>\n",
              "      <td>2021-07-09 12:00:00 UTC</td>\n",
              "      <td>LITTER</td>\n",
              "      <td>1900.0</td>\n",
              "      <td>TDS LANDFILL</td>\n",
              "    </tr>\n",
              "    <tr>\n",
              "      <th>26156</th>\n",
              "      <td>2021-07-09</td>\n",
              "      <td>2021-07-09 12:00:00 UTC</td>\n",
              "      <td>LITTER</td>\n",
              "      <td>3040.0</td>\n",
              "      <td>TDS LANDFILL</td>\n",
              "    </tr>\n",
              "  </tbody>\n",
              "</table>\n",
              "<p>25109 rows × 5 columns</p>\n",
              "</div>\n",
              "      <button class=\"colab-df-convert\" onclick=\"convertToInteractive('df-dc858f01-a533-4c01-9c06-8879d78115cc')\"\n",
              "              title=\"Convert this dataframe to an interactive table.\"\n",
              "              style=\"display:none;\">\n",
              "        \n",
              "  <svg xmlns=\"http://www.w3.org/2000/svg\" height=\"24px\"viewBox=\"0 0 24 24\"\n",
              "       width=\"24px\">\n",
              "    <path d=\"M0 0h24v24H0V0z\" fill=\"none\"/>\n",
              "    <path d=\"M18.56 5.44l.94 2.06.94-2.06 2.06-.94-2.06-.94-.94-2.06-.94 2.06-2.06.94zm-11 1L8.5 8.5l.94-2.06 2.06-.94-2.06-.94L8.5 2.5l-.94 2.06-2.06.94zm10 10l.94 2.06.94-2.06 2.06-.94-2.06-.94-.94-2.06-.94 2.06-2.06.94z\"/><path d=\"M17.41 7.96l-1.37-1.37c-.4-.4-.92-.59-1.43-.59-.52 0-1.04.2-1.43.59L10.3 9.45l-7.72 7.72c-.78.78-.78 2.05 0 2.83L4 21.41c.39.39.9.59 1.41.59.51 0 1.02-.2 1.41-.59l7.78-7.78 2.81-2.81c.8-.78.8-2.07 0-2.86zM5.41 20L4 18.59l7.72-7.72 1.47 1.35L5.41 20z\"/>\n",
              "  </svg>\n",
              "      </button>\n",
              "      \n",
              "  <style>\n",
              "    .colab-df-container {\n",
              "      display:flex;\n",
              "      flex-wrap:wrap;\n",
              "      gap: 12px;\n",
              "    }\n",
              "\n",
              "    .colab-df-convert {\n",
              "      background-color: #E8F0FE;\n",
              "      border: none;\n",
              "      border-radius: 50%;\n",
              "      cursor: pointer;\n",
              "      display: none;\n",
              "      fill: #1967D2;\n",
              "      height: 32px;\n",
              "      padding: 0 0 0 0;\n",
              "      width: 32px;\n",
              "    }\n",
              "\n",
              "    .colab-df-convert:hover {\n",
              "      background-color: #E2EBFA;\n",
              "      box-shadow: 0px 1px 2px rgba(60, 64, 67, 0.3), 0px 1px 3px 1px rgba(60, 64, 67, 0.15);\n",
              "      fill: #174EA6;\n",
              "    }\n",
              "\n",
              "    [theme=dark] .colab-df-convert {\n",
              "      background-color: #3B4455;\n",
              "      fill: #D2E3FC;\n",
              "    }\n",
              "\n",
              "    [theme=dark] .colab-df-convert:hover {\n",
              "      background-color: #434B5C;\n",
              "      box-shadow: 0px 1px 3px 1px rgba(0, 0, 0, 0.15);\n",
              "      filter: drop-shadow(0px 1px 2px rgba(0, 0, 0, 0.3));\n",
              "      fill: #FFFFFF;\n",
              "    }\n",
              "  </style>\n",
              "\n",
              "      <script>\n",
              "        const buttonEl =\n",
              "          document.querySelector('#df-dc858f01-a533-4c01-9c06-8879d78115cc button.colab-df-convert');\n",
              "        buttonEl.style.display =\n",
              "          google.colab.kernel.accessAllowed ? 'block' : 'none';\n",
              "\n",
              "        async function convertToInteractive(key) {\n",
              "          const element = document.querySelector('#df-dc858f01-a533-4c01-9c06-8879d78115cc');\n",
              "          const dataTable =\n",
              "            await google.colab.kernel.invokeFunction('convertToInteractive',\n",
              "                                                     [key], {});\n",
              "          if (!dataTable) return;\n",
              "\n",
              "          const docLinkHtml = 'Like what you see? Visit the ' +\n",
              "            '<a target=\"_blank\" href=https://colab.research.google.com/notebooks/data_table.ipynb>data table notebook</a>'\n",
              "            + ' to learn more about interactive tables.';\n",
              "          element.innerHTML = '';\n",
              "          dataTable['output_type'] = 'display_data';\n",
              "          await google.colab.output.renderOutput(dataTable, element);\n",
              "          const docLink = document.createElement('div');\n",
              "          docLink.innerHTML = docLinkHtml;\n",
              "          element.appendChild(docLink);\n",
              "        }\n",
              "      </script>\n",
              "    </div>\n",
              "  </div>\n",
              "  "
            ]
          },
          "metadata": {},
          "execution_count": 140
        }
      ]
    },
    {
      "cell_type": "markdown",
      "source": [
        "> menampilkan kembali data frame untuk mereview data"
      ],
      "metadata": {
        "id": "t2bs2c1x6WrJ"
      }
    },
    {
      "cell_type": "code",
      "source": [
        "df_group = df.groupby(['report_date'])['load_weight'].sum().reset_index()\n",
        "df_group"
      ],
      "metadata": {
        "colab": {
          "base_uri": "https://localhost:8080/",
          "height": 424
        },
        "id": "q7Y9wCCpnLC5",
        "outputId": "e3fb6ffa-14be-415c-f54d-c9042b03c02e"
      },
      "execution_count": 141,
      "outputs": [
        {
          "output_type": "execute_result",
          "data": {
            "text/plain": [
              "    report_date  load_weight\n",
              "0    2021-01-02     2.17e+06\n",
              "1    2021-01-04     2.92e+06\n",
              "2    2021-01-05     2.39e+06\n",
              "3    2021-01-06     2.40e+06\n",
              "4    2021-01-07     2.44e+06\n",
              "..          ...          ...\n",
              "160  2021-07-05     1.90e+06\n",
              "161  2021-07-06     1.92e+06\n",
              "162  2021-07-07     1.55e+06\n",
              "163  2021-07-08     1.42e+06\n",
              "164  2021-07-09     1.20e+05\n",
              "\n",
              "[165 rows x 2 columns]"
            ],
            "text/html": [
              "\n",
              "  <div id=\"df-a499943b-7416-40fd-9a71-13b5b1773f36\">\n",
              "    <div class=\"colab-df-container\">\n",
              "      <div>\n",
              "<style scoped>\n",
              "    .dataframe tbody tr th:only-of-type {\n",
              "        vertical-align: middle;\n",
              "    }\n",
              "\n",
              "    .dataframe tbody tr th {\n",
              "        vertical-align: top;\n",
              "    }\n",
              "\n",
              "    .dataframe thead th {\n",
              "        text-align: right;\n",
              "    }\n",
              "</style>\n",
              "<table border=\"1\" class=\"dataframe\">\n",
              "  <thead>\n",
              "    <tr style=\"text-align: right;\">\n",
              "      <th></th>\n",
              "      <th>report_date</th>\n",
              "      <th>load_weight</th>\n",
              "    </tr>\n",
              "  </thead>\n",
              "  <tbody>\n",
              "    <tr>\n",
              "      <th>0</th>\n",
              "      <td>2021-01-02</td>\n",
              "      <td>2.17e+06</td>\n",
              "    </tr>\n",
              "    <tr>\n",
              "      <th>1</th>\n",
              "      <td>2021-01-04</td>\n",
              "      <td>2.92e+06</td>\n",
              "    </tr>\n",
              "    <tr>\n",
              "      <th>2</th>\n",
              "      <td>2021-01-05</td>\n",
              "      <td>2.39e+06</td>\n",
              "    </tr>\n",
              "    <tr>\n",
              "      <th>3</th>\n",
              "      <td>2021-01-06</td>\n",
              "      <td>2.40e+06</td>\n",
              "    </tr>\n",
              "    <tr>\n",
              "      <th>4</th>\n",
              "      <td>2021-01-07</td>\n",
              "      <td>2.44e+06</td>\n",
              "    </tr>\n",
              "    <tr>\n",
              "      <th>...</th>\n",
              "      <td>...</td>\n",
              "      <td>...</td>\n",
              "    </tr>\n",
              "    <tr>\n",
              "      <th>160</th>\n",
              "      <td>2021-07-05</td>\n",
              "      <td>1.90e+06</td>\n",
              "    </tr>\n",
              "    <tr>\n",
              "      <th>161</th>\n",
              "      <td>2021-07-06</td>\n",
              "      <td>1.92e+06</td>\n",
              "    </tr>\n",
              "    <tr>\n",
              "      <th>162</th>\n",
              "      <td>2021-07-07</td>\n",
              "      <td>1.55e+06</td>\n",
              "    </tr>\n",
              "    <tr>\n",
              "      <th>163</th>\n",
              "      <td>2021-07-08</td>\n",
              "      <td>1.42e+06</td>\n",
              "    </tr>\n",
              "    <tr>\n",
              "      <th>164</th>\n",
              "      <td>2021-07-09</td>\n",
              "      <td>1.20e+05</td>\n",
              "    </tr>\n",
              "  </tbody>\n",
              "</table>\n",
              "<p>165 rows × 2 columns</p>\n",
              "</div>\n",
              "      <button class=\"colab-df-convert\" onclick=\"convertToInteractive('df-a499943b-7416-40fd-9a71-13b5b1773f36')\"\n",
              "              title=\"Convert this dataframe to an interactive table.\"\n",
              "              style=\"display:none;\">\n",
              "        \n",
              "  <svg xmlns=\"http://www.w3.org/2000/svg\" height=\"24px\"viewBox=\"0 0 24 24\"\n",
              "       width=\"24px\">\n",
              "    <path d=\"M0 0h24v24H0V0z\" fill=\"none\"/>\n",
              "    <path d=\"M18.56 5.44l.94 2.06.94-2.06 2.06-.94-2.06-.94-.94-2.06-.94 2.06-2.06.94zm-11 1L8.5 8.5l.94-2.06 2.06-.94-2.06-.94L8.5 2.5l-.94 2.06-2.06.94zm10 10l.94 2.06.94-2.06 2.06-.94-2.06-.94-.94-2.06-.94 2.06-2.06.94z\"/><path d=\"M17.41 7.96l-1.37-1.37c-.4-.4-.92-.59-1.43-.59-.52 0-1.04.2-1.43.59L10.3 9.45l-7.72 7.72c-.78.78-.78 2.05 0 2.83L4 21.41c.39.39.9.59 1.41.59.51 0 1.02-.2 1.41-.59l7.78-7.78 2.81-2.81c.8-.78.8-2.07 0-2.86zM5.41 20L4 18.59l7.72-7.72 1.47 1.35L5.41 20z\"/>\n",
              "  </svg>\n",
              "      </button>\n",
              "      \n",
              "  <style>\n",
              "    .colab-df-container {\n",
              "      display:flex;\n",
              "      flex-wrap:wrap;\n",
              "      gap: 12px;\n",
              "    }\n",
              "\n",
              "    .colab-df-convert {\n",
              "      background-color: #E8F0FE;\n",
              "      border: none;\n",
              "      border-radius: 50%;\n",
              "      cursor: pointer;\n",
              "      display: none;\n",
              "      fill: #1967D2;\n",
              "      height: 32px;\n",
              "      padding: 0 0 0 0;\n",
              "      width: 32px;\n",
              "    }\n",
              "\n",
              "    .colab-df-convert:hover {\n",
              "      background-color: #E2EBFA;\n",
              "      box-shadow: 0px 1px 2px rgba(60, 64, 67, 0.3), 0px 1px 3px 1px rgba(60, 64, 67, 0.15);\n",
              "      fill: #174EA6;\n",
              "    }\n",
              "\n",
              "    [theme=dark] .colab-df-convert {\n",
              "      background-color: #3B4455;\n",
              "      fill: #D2E3FC;\n",
              "    }\n",
              "\n",
              "    [theme=dark] .colab-df-convert:hover {\n",
              "      background-color: #434B5C;\n",
              "      box-shadow: 0px 1px 3px 1px rgba(0, 0, 0, 0.15);\n",
              "      filter: drop-shadow(0px 1px 2px rgba(0, 0, 0, 0.3));\n",
              "      fill: #FFFFFF;\n",
              "    }\n",
              "  </style>\n",
              "\n",
              "      <script>\n",
              "        const buttonEl =\n",
              "          document.querySelector('#df-a499943b-7416-40fd-9a71-13b5b1773f36 button.colab-df-convert');\n",
              "        buttonEl.style.display =\n",
              "          google.colab.kernel.accessAllowed ? 'block' : 'none';\n",
              "\n",
              "        async function convertToInteractive(key) {\n",
              "          const element = document.querySelector('#df-a499943b-7416-40fd-9a71-13b5b1773f36');\n",
              "          const dataTable =\n",
              "            await google.colab.kernel.invokeFunction('convertToInteractive',\n",
              "                                                     [key], {});\n",
              "          if (!dataTable) return;\n",
              "\n",
              "          const docLinkHtml = 'Like what you see? Visit the ' +\n",
              "            '<a target=\"_blank\" href=https://colab.research.google.com/notebooks/data_table.ipynb>data table notebook</a>'\n",
              "            + ' to learn more about interactive tables.';\n",
              "          element.innerHTML = '';\n",
              "          dataTable['output_type'] = 'display_data';\n",
              "          await google.colab.output.renderOutput(dataTable, element);\n",
              "          const docLink = document.createElement('div');\n",
              "          docLink.innerHTML = docLinkHtml;\n",
              "          element.appendChild(docLink);\n",
              "        }\n",
              "      </script>\n",
              "    </div>\n",
              "  </div>\n",
              "  "
            ]
          },
          "metadata": {},
          "execution_count": 141
        }
      ]
    },
    {
      "cell_type": "markdown",
      "source": [
        "> Code di atas merupakan code untuk mengquery data berdasarkan report_date jumlah load_weight setiap harinya"
      ],
      "metadata": {
        "id": "QRvZDKPR6iji"
      }
    },
    {
      "cell_type": "code",
      "source": [
        "X = df_group.index\n",
        "X"
      ],
      "metadata": {
        "colab": {
          "base_uri": "https://localhost:8080/"
        },
        "id": "EzBtwPQMoScr",
        "outputId": "a9e9b767-d68c-4245-a815-5261a6ced5c1"
      },
      "execution_count": 142,
      "outputs": [
        {
          "output_type": "execute_result",
          "data": {
            "text/plain": [
              "RangeIndex(start=0, stop=165, step=1)"
            ]
          },
          "metadata": {},
          "execution_count": 142
        }
      ]
    },
    {
      "cell_type": "markdown",
      "source": [
        "> Code di atas merupakan code untuk mendefinisikan variabel X sebagai index dataframe hasil groupby"
      ],
      "metadata": {
        "id": "LUCJ40Jg7EZm"
      }
    },
    {
      "cell_type": "code",
      "source": [
        "X.shape"
      ],
      "metadata": {
        "colab": {
          "base_uri": "https://localhost:8080/"
        },
        "id": "wl-6FujKpkFt",
        "outputId": "5f69b439-183c-4d18-e149-887e25bcd2f3"
      },
      "execution_count": 143,
      "outputs": [
        {
          "output_type": "execute_result",
          "data": {
            "text/plain": [
              "(165,)"
            ]
          },
          "metadata": {},
          "execution_count": 143
        }
      ]
    },
    {
      "cell_type": "code",
      "source": [
        "Y = df_group['load_weight']\n",
        "Y"
      ],
      "metadata": {
        "colab": {
          "base_uri": "https://localhost:8080/"
        },
        "id": "zmHzfb8npSj3",
        "outputId": "4a77d3b0-be63-49b1-8379-7b2ad3b9e435"
      },
      "execution_count": 144,
      "outputs": [
        {
          "output_type": "execute_result",
          "data": {
            "text/plain": [
              "0      2.17e+06\n",
              "1      2.92e+06\n",
              "2      2.39e+06\n",
              "3      2.40e+06\n",
              "4      2.44e+06\n",
              "         ...   \n",
              "160    1.90e+06\n",
              "161    1.92e+06\n",
              "162    1.55e+06\n",
              "163    1.42e+06\n",
              "164    1.20e+05\n",
              "Name: load_weight, Length: 165, dtype: float64"
            ]
          },
          "metadata": {},
          "execution_count": 144
        }
      ]
    },
    {
      "cell_type": "markdown",
      "source": [
        "> Code di atas merupakan code untuk mendefinisikan variabel Y sebagai load_weight yang di groupby berdasarkan report_date"
      ],
      "metadata": {
        "id": "3lcC2A9W7TPN"
      }
    },
    {
      "cell_type": "code",
      "source": [
        "w_hari_ini = Y[164]\n",
        "w_hari_ini"
      ],
      "metadata": {
        "colab": {
          "base_uri": "https://localhost:8080/"
        },
        "id": "XEpc_l3otXm8",
        "outputId": "ba5817d9-1260-4f78-a4b1-f58bbde3adf7"
      },
      "execution_count": 145,
      "outputs": [
        {
          "output_type": "execute_result",
          "data": {
            "text/plain": [
              "120340.0"
            ]
          },
          "metadata": {},
          "execution_count": 145
        }
      ]
    },
    {
      "cell_type": "code",
      "source": [
        "Y.shape"
      ],
      "metadata": {
        "colab": {
          "base_uri": "https://localhost:8080/"
        },
        "id": "MMi4N1tkpnXF",
        "outputId": "79d42f5e-33bd-4e4d-c6c9-45c940fdbaf3"
      },
      "execution_count": 146,
      "outputs": [
        {
          "output_type": "execute_result",
          "data": {
            "text/plain": [
              "(165,)"
            ]
          },
          "metadata": {},
          "execution_count": 146
        }
      ]
    },
    {
      "cell_type": "code",
      "source": [
        "plt.plot(X,Y)"
      ],
      "metadata": {
        "colab": {
          "base_uri": "https://localhost:8080/",
          "height": 293
        },
        "id": "j8IabUjQpuwY",
        "outputId": "30b9fe39-c479-4b53-cd39-1aeea0ac0810"
      },
      "execution_count": 147,
      "outputs": [
        {
          "output_type": "execute_result",
          "data": {
            "text/plain": [
              "[<matplotlib.lines.Line2D at 0x7ff66543f710>]"
            ]
          },
          "metadata": {},
          "execution_count": 147
        },
        {
          "output_type": "display_data",
          "data": {
            "text/plain": [
              "<Figure size 432x288 with 1 Axes>"
            ],
            "image/png": "[encoded data removed]"
          },
          "metadata": {
            "needs_background": "light"
          }
        }
      ]
    },
    {
      "cell_type": "markdown",
      "source": [
        "> Code di atas merupakan code untuk membuat grafik berupa plot dari variabel X dan variabel Y"
      ],
      "metadata": {
        "id": "KlmdEUTh73AN"
      }
    },
    {
      "cell_type": "code",
      "source": [
        "diff1 = abs(np.diff(Y)/np.diff(X))\n",
        "diff1"
      ],
      "metadata": {
        "colab": {
          "base_uri": "https://localhost:8080/"
        },
        "id": "KYB-ZpaQp6CG",
        "outputId": "11286e5e-9e0d-4d05-f959-7f51934eca28"
      },
      "execution_count": 148,
      "outputs": [
        {
          "output_type": "execute_result",
          "data": {
            "text/plain": [
              "array([7.50130000e+05, 5.31720000e+05, 8.01000000e+03, 4.17800000e+04,\n",
              "       5.93380000e+05, 1.81681000e+06, 2.46847000e+06, 4.22690000e+05,\n",
              "       5.34000000e+03, 3.57300000e+04, 3.15860000e+05, 1.68213000e+06,\n",
              "       2.40679000e+06, 2.67390000e+05, 7.91300000e+04, 2.97600000e+04,\n",
              "       2.86770000e+05, 1.59572000e+06, 2.31477000e+06, 4.40200000e+05,\n",
              "       3.03900000e+04, 3.62200000e+04, 3.88890000e+05, 1.73503000e+06,\n",
              "       2.43934000e+06, 3.60620000e+05, 8.69800000e+04, 1.16700000e+05,\n",
              "       3.72670000e+05, 1.73345000e+06, 1.17200000e+04, 2.60815000e+06,\n",
              "       4.94950000e+05, 3.38800000e+04, 1.31158000e+06, 1.08996000e+06,\n",
              "       1.83900000e+06, 1.05132000e+06, 2.66098000e+06, 5.04400000e+05,\n",
              "       7.47900000e+04, 6.37300000e+04, 9.73200000e+05, 2.16812000e+06,\n",
              "       1.59200000e+04, 2.95084000e+06, 2.95220000e+05, 1.06440000e+05,\n",
              "       3.87200000e+04, 3.54825000e+05, 2.17421500e+06, 5.08200000e+04,\n",
              "       3.08313000e+06, 2.78730000e+05, 1.98670000e+05, 1.69280000e+05,\n",
              "       2.62150000e+05, 2.10616000e+06, 3.72080000e+05, 2.20590000e+06,\n",
              "       1.49780000e+05, 2.20640000e+05, 6.34900000e+04, 4.19990000e+05,\n",
              "       1.92788000e+06, 1.61740000e+05, 2.63209012e+06, 3.11330009e+05,\n",
              "       5.48198836e+04, 1.36000000e+03, 3.80160000e+05, 1.78233200e+06,\n",
              "       2.99468000e+05, 2.72874000e+06, 1.69620000e+05, 4.44240000e+05,\n",
              "       1.67560000e+05, 6.81950000e+05, 1.84285000e+06, 2.07841000e+06,\n",
              "       3.40730000e+05, 2.77000000e+05, 4.95480000e+04, 2.45628000e+05,\n",
              "       1.84880000e+06, 2.56385000e+06, 2.65700000e+04, 1.59580000e+05,\n",
              "       1.34550000e+05, 3.93670000e+05, 1.73158000e+06, 2.76060000e+05,\n",
              "       2.70263000e+06, 3.44430000e+05, 1.30000000e+04, 1.42960000e+05,\n",
              "       3.44820000e+05, 1.55664000e+06, 2.21223800e+06, 2.21558000e+05,\n",
              "       1.02540000e+05, 2.69040000e+05, 2.88940000e+05, 1.68574000e+06,\n",
              "       2.44275000e+06, 3.18670000e+05, 1.12570000e+05, 1.42750000e+05,\n",
              "       2.08950000e+05, 1.76581000e+06, 2.31266000e+06, 2.78750000e+05,\n",
              "       1.21300000e+04, 2.16300000e+04, 4.28030000e+05, 1.77570000e+06,\n",
              "       2.55128000e+06, 4.17620000e+05, 3.30000000e+03, 1.91250000e+05,\n",
              "       2.90640000e+05, 1.75635000e+06, 2.32110900e+06, 1.31819000e+05,\n",
              "       6.99070000e+04, 4.96730000e+04, 5.73040000e+05, 1.72889000e+06,\n",
              "       8.54000000e+03, 2.60093000e+06, 2.29730000e+05, 7.28100000e+04,\n",
              "       1.39500000e+04, 4.33340000e+05, 1.74630000e+06, 2.53482000e+06,\n",
              "       3.35650000e+05, 1.11159702e+05, 2.02980000e+01, 4.82900000e+05,\n",
              "       1.65831000e+06, 2.44171000e+06, 4.95450000e+05, 3.66400000e+04,\n",
              "       3.47500000e+04, 4.03210000e+05, 1.69620000e+06, 2.53511000e+06,\n",
              "       4.67400000e+05, 2.48500000e+04, 9.73500000e+04, 5.45780000e+05,\n",
              "       1.49161000e+06, 2.49019000e+06, 4.96800000e+05, 3.38700000e+04,\n",
              "       8.50000000e+02, 3.39450000e+05, 1.41848000e+06, 1.68905000e+06,\n",
              "       2.43500000e+04, 3.68560000e+05, 1.35430000e+05, 1.29731000e+06])"
            ]
          },
          "metadata": {},
          "execution_count": 148
        }
      ]
    },
    {
      "cell_type": "markdown",
      "source": [
        "> Code di atas merupakan code untuk menlihat turunan pertama dari data load weight yang di groupby berdasarkan report_date, atau yang di definisikan sebagai v"
      ],
      "metadata": {
        "id": "tYxUVp3n8CoP"
      }
    },
    {
      "cell_type": "code",
      "source": [
        "diff1.shape"
      ],
      "metadata": {
        "colab": {
          "base_uri": "https://localhost:8080/"
        },
        "id": "AzeqU-KIx5Fo",
        "outputId": "c814db5c-69a8-4967-bb0f-4e7e58b67942"
      },
      "execution_count": 149,
      "outputs": [
        {
          "output_type": "execute_result",
          "data": {
            "text/plain": [
              "(164,)"
            ]
          },
          "metadata": {},
          "execution_count": 149
        }
      ]
    },
    {
      "cell_type": "code",
      "source": [
        "v_baris_terahir = diff1[-1]\n",
        "v_baris_terahir "
      ],
      "metadata": {
        "colab": {
          "base_uri": "https://localhost:8080/"
        },
        "id": "UoTCDYEqw8hG",
        "outputId": "ce014553-d03e-4fd5-d028-e9a5177fad79"
      },
      "execution_count": 150,
      "outputs": [
        {
          "output_type": "execute_result",
          "data": {
            "text/plain": [
              "1297310.0"
            ]
          },
          "metadata": {},
          "execution_count": 150
        }
      ]
    },
    {
      "cell_type": "code",
      "source": [
        "w_besok = w_hari_ini + (v_baris_terahir*1) \n",
        "w_besok"
      ],
      "metadata": {
        "colab": {
          "base_uri": "https://localhost:8080/"
        },
        "id": "tPIY-8OTxZBz",
        "outputId": "8d187b9a-7b92-4697-b0ed-f418e93333a9"
      },
      "execution_count": 151,
      "outputs": [
        {
          "output_type": "execute_result",
          "data": {
            "text/plain": [
              "1417650.0"
            ]
          },
          "metadata": {},
          "execution_count": 151
        }
      ]
    },
    {
      "cell_type": "markdown",
      "source": [
        "> Code di atas merupakan code untuk melakukan forecasting banyaknya load sampah pada hari besok. Sehingga dari hasil di atas diperoleh prediksi banyaknya load sampah pada hari besok atau pada tanggai 10 Juli 2021 adalah sebesar 1417650.0 kg"
      ],
      "metadata": {
        "id": "8Fb-AhN08lC2"
      }
    },
    {
      "cell_type": "markdown",
      "source": [
        "### **Question**"
      ],
      "metadata": {
        "id": "2O-5NFIb7Y3T"
      }
    },
    {
      "cell_type": "markdown",
      "source": [
        "#### 1. Untuk menghitung turunan pertama dapat digunakan metode simbolik dan numerik, untuk kasus ini, teknik apa yang kamu gunakan?"
      ],
      "metadata": {
        "id": "BST4VHGf7dZ6"
      }
    },
    {
      "cell_type": "markdown",
      "source": [
        "> Teknik yang saya gunakan untuk melakukan turunan pertama adalah teknik numerik, dikarnakan dari kasus soal di atas tidak terdapat suatu fungsi "
      ],
      "metadata": {
        "id": "BwD6Klw87pq4"
      }
    },
    {
      "cell_type": "markdown",
      "source": [
        "#### 2. Apakah kamu membutuhkan fungsi matematis untuk menghitung turunannya? (ya/tidak) berikan alasanmu!"
      ],
      "metadata": {
        "id": "KLO8aUv-7uRf"
      }
    },
    {
      "cell_type": "markdown",
      "source": [
        "> Iya, karena pada kasus di atas saya menggunakan rumus matematis untuk menghitung turunan pertama pada v, yaitu v = delta w / delta t. Dimana v merupakan turunan pertama, delta w merupakan turunan dari data load weight yang di groupby berdasarkan report_date dan delta t merupakan turunan dari index dataframe hasil groupby"
      ],
      "metadata": {
        "id": "1xQZonk27yky"
      }
    },
    {
      "cell_type": "markdown",
      "source": [
        "#### 3. Berapa load weight yang kamu perkirakan di hari esok (10 Juli 2021)?"
      ],
      "metadata": {
        "id": "aTySLJhH70ye"
      }
    },
    {
      "cell_type": "markdown",
      "source": [
        "> Berdasarkan hasil perhitungan di atas diperoleh load weight untuk hari esok adalah sebesar 1417650.0 kg"
      ],
      "metadata": {
        "id": "RifGnzzQ75EQ"
      }
    },
    {
      "cell_type": "markdown",
      "source": [
        "# **Conclusions**"
      ],
      "metadata": {
        "id": "b9qlR3Efmo3w"
      }
    },
    {
      "cell_type": "markdown",
      "source": [
        "> Dari hasil analisa di atas, dapat disimpulkan sebagai berikut:\n",
        "\n",
        "> - Pada **Problem 1 (Stats)** di peroleh informasi bahwa pada data pembuangan sampah terdapat tipe load sampah sebanyak 14 tipe dan terdapat tempat pembuangan sampah sebanyak 14 tempat di kota Austin \n",
        "\n",
        "> - Dari hasil analisa di peroleh nilai central tendency disetiap masing - masing tempat pembuangan sampah serta pada data pembuang sampah di tempat pembuangan sampah TDS LANDFILL memiliki data outlier dan melakukan handling outlier menggunakan Tukey karna data pada tempat pembuangan sampah TDS LANDFILL memiliki distribusi berbentuk skew\n",
        "\n",
        "> - Dan pada Problem 1 (Stats) juga, saya melakukan analisa uji hipotesis pada kasus rata - rata data tempat pembuangan sampah TDS LANDFILL dengan tempat pembuangan sampah ORGANICS BY GOSH dengan menggunakan uji t-test dua sampel independent dua arah, yang memiliki hasil H0 ditolak, sehingga dapat disimpulkan bahwa ada perbedaan signifikan antara rata - rata berat sampah di tempat pembuangan sampah TDS LANDFILL dengan tempat pembuangan sampah ORGANICS BY GOSH.\n",
        "\n",
        "> - Pada **Problem 2 (Math/Calculus)** di peroleh kesimpulan hasil prediksi banyaknya load sampah pada hari besok atau pada tanggai 10 Juli 2021 adalah sebesar 1417650.0 kg"
      ],
      "metadata": {
        "id": "HfhDDaCP77LW"
      }
    }
  ]
}